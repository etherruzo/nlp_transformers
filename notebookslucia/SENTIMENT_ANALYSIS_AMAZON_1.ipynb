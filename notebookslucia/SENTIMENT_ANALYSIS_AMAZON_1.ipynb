{
  "nbformat": 4,
  "nbformat_minor": 0,
  "metadata": {
    "colab": {
      "name": "SENTIMENT ANALYSIS AMAZON.ipynb",
      "provenance": [],
      "collapsed_sections": [
        "5bjE90By5I5R"
      ]
    },
    "kernelspec": {
      "name": "python3",
      "display_name": "Python 3"
    },
    "accelerator": "GPU"
  },
  "cells": [
    {
      "cell_type": "code",
      "metadata": {
        "colab": {
          "base_uri": "https://localhost:8080/"
        },
        "id": "1619oXnIU5EU",
        "outputId": "a955f324-c191-4ac9-a84a-28a915fb29f1"
      },
      "source": [
        "#hide\n",
        "!pip install -Uqq fastbook\n",
        "import fastbook\n",
        "fastbook.setup_book()"
      ],
      "execution_count": 1,
      "outputs": [
        {
          "output_type": "stream",
          "text": [
            "\u001b[K     |████████████████████████████████| 727kB 10.8MB/s \n",
            "\u001b[K     |████████████████████████████████| 194kB 21.1MB/s \n",
            "\u001b[K     |████████████████████████████████| 51kB 6.8MB/s \n",
            "\u001b[K     |████████████████████████████████| 1.1MB 23.2MB/s \n",
            "\u001b[K     |████████████████████████████████| 61kB 7.8MB/s \n",
            "\u001b[?25hMounted at /content/gdrive\n"
          ],
          "name": "stdout"
        }
      ]
    },
    {
      "cell_type": "code",
      "metadata": {
        "id": "TD4FkwOZWpuu"
      },
      "source": [
        "#hide\n",
        "from fastbook import *\n",
        "from IPython.display import display,HTML"
      ],
      "execution_count": 2,
      "outputs": []
    },
    {
      "cell_type": "code",
      "metadata": {
        "id": "upiuuOCy77QW",
        "colab": {
          "base_uri": "https://localhost:8080/"
        },
        "outputId": "7c2736ec-e0df-4081-abfb-a4053c5ce399"
      },
      "source": [
        "import numpy as py\n",
        "import pandas as pd\n",
        "import warnings\n",
        "import matplotlib.pyplot as plt\n",
        "import statsmodels.api as sm\n",
        "import seaborn as sns\n"
      ],
      "execution_count": 3,
      "outputs": [
        {
          "output_type": "stream",
          "text": [
            "/usr/local/lib/python3.6/dist-packages/statsmodels/tools/_testing.py:19: FutureWarning: pandas.util.testing is deprecated. Use the functions in the public API at pandas.testing instead.\n",
            "  import pandas.util.testing as tm\n"
          ],
          "name": "stderr"
        }
      ]
    },
    {
      "cell_type": "markdown",
      "metadata": {
        "id": "H-Kj_-2WBM1N"
      },
      "source": [
        "<img alt=\"Diagram of the ULMFiT process\" width=\"450\" src=\"https://github.com/fastai/fastbook/blob/master/images/att_00027.png?raw=1\">"
      ]
    },
    {
      "cell_type": "markdown",
      "metadata": {
        "id": "i2VlD0_QbuH4"
      },
      "source": [
        "# Preprocessing"
      ]
    },
    {
      "cell_type": "code",
      "metadata": {
        "id": "A1q6IBp95BGy"
      },
      "source": [
        "from fastai.text.all import *"
      ],
      "execution_count": 69,
      "outputs": []
    },
    {
      "cell_type": "code",
      "metadata": {
        "id": "Y7smKxYc5FDB"
      },
      "source": [
        "path = \"/content/amazon_reviews_us_Camera_v1_00.tsv\""
      ],
      "execution_count": 70,
      "outputs": []
    },
    {
      "cell_type": "code",
      "metadata": {
        "colab": {
          "base_uri": "https://localhost:8080/"
        },
        "id": "rvgtVqsV5Ktd",
        "outputId": "dc021a24-d508-42fc-92bb-82d34357a461"
      },
      "source": [
        "df = pd.read_csv(path,delimiter='\\t',error_bad_lines=False)\n"
      ],
      "execution_count": 71,
      "outputs": [
        {
          "output_type": "stream",
          "text": [
            "b'Skipping line 85458: expected 15 fields, saw 22\\nSkipping line 91161: expected 15 fields, saw 22\\n'\n",
            "b'Skipping line 166123: expected 15 fields, saw 22\\n'\n",
            "b'Skipping line 225458: expected 15 fields, saw 22\\nSkipping line 229936: expected 15 fields, saw 22\\nSkipping line 259297: expected 15 fields, saw 22\\n'\n",
            "b'Skipping line 284728: expected 15 fields, saw 22\\nSkipping line 286334: expected 15 fields, saw 22\\nSkipping line 293400: expected 15 fields, saw 22\\nSkipping line 294415: expected 15 fields, saw 22\\nSkipping line 308150: expected 15 fields, saw 22\\nSkipping line 315022: expected 15 fields, saw 22\\nSkipping line 315730: expected 15 fields, saw 22\\nSkipping line 316071: expected 15 fields, saw 22\\nSkipping line 326729: expected 15 fields, saw 22\\n'\n",
            "b'Skipping line 329101: expected 15 fields, saw 22\\nSkipping line 333077: expected 15 fields, saw 22\\nSkipping line 377031: expected 15 fields, saw 22\\nSkipping line 389496: expected 15 fields, saw 22\\nSkipping line 390486: expected 15 fields, saw 22\\n'\n",
            "b'Skipping line 418308: expected 15 fields, saw 22\\nSkipping line 454332: expected 15 fields, saw 22\\nSkipping line 458342: expected 15 fields, saw 22\\n'\n",
            "b'Skipping line 460704: expected 15 fields, saw 22\\nSkipping line 466250: expected 15 fields, saw 22\\nSkipping line 486023: expected 15 fields, saw 22\\nSkipping line 492819: expected 15 fields, saw 22\\nSkipping line 517468: expected 15 fields, saw 22\\nSkipping line 520963: expected 15 fields, saw 22\\n'\n",
            "b'Skipping line 528810: expected 15 fields, saw 22\\nSkipping line 554419: expected 15 fields, saw 22\\nSkipping line 565266: expected 15 fields, saw 22\\n'\n",
            "b'Skipping line 613248: expected 15 fields, saw 22\\nSkipping line 613988: expected 15 fields, saw 22\\nSkipping line 620134: expected 15 fields, saw 22\\nSkipping line 642170: expected 15 fields, saw 22\\n'\n",
            "b'Skipping line 670152: expected 15 fields, saw 22\\nSkipping line 681751: expected 15 fields, saw 22\\n'\n",
            "b'Skipping line 811638: expected 15 fields, saw 22\\n'\n",
            "b'Skipping line 913254: expected 15 fields, saw 22\\n'\n",
            "b'Skipping line 1168305: expected 15 fields, saw 22\\n'\n"
          ],
          "name": "stderr"
        }
      ]
    },
    {
      "cell_type": "code",
      "metadata": {
        "id": "Tcm81DgM5ODq"
      },
      "source": [
        "%%capture\n",
        "df = df.head(180000)\n",
        "df.head()"
      ],
      "execution_count": 72,
      "outputs": []
    },
    {
      "cell_type": "code",
      "metadata": {
        "colab": {
          "base_uri": "https://localhost:8080/"
        },
        "id": "ehSD9UK8ylQY",
        "outputId": "efcb6446-b667-48eb-c0c5-d11faddd65ca"
      },
      "source": [
        "df.shape"
      ],
      "execution_count": 73,
      "outputs": [
        {
          "output_type": "execute_result",
          "data": {
            "text/plain": [
              "(180000, 15)"
            ]
          },
          "metadata": {
            "tags": []
          },
          "execution_count": 73
        }
      ]
    },
    {
      "cell_type": "code",
      "metadata": {
        "colab": {
          "base_uri": "https://localhost:8080/",
          "height": 289
        },
        "id": "xGkNZ87mBCNM",
        "outputId": "73d3e8e4-417d-48f6-d01f-76e99e43b245"
      },
      "source": [
        "df = df[['star_rating','review_body']]\n",
        "df.head()"
      ],
      "execution_count": 74,
      "outputs": [
        {
          "output_type": "execute_result",
          "data": {
            "text/html": [
              "<div>\n",
              "<style scoped>\n",
              "    .dataframe tbody tr th:only-of-type {\n",
              "        vertical-align: middle;\n",
              "    }\n",
              "\n",
              "    .dataframe tbody tr th {\n",
              "        vertical-align: top;\n",
              "    }\n",
              "\n",
              "    .dataframe thead th {\n",
              "        text-align: right;\n",
              "    }\n",
              "</style>\n",
              "<table border=\"1\" class=\"dataframe\">\n",
              "  <thead>\n",
              "    <tr style=\"text-align: right;\">\n",
              "      <th></th>\n",
              "      <th>star_rating</th>\n",
              "      <th>review_body</th>\n",
              "    </tr>\n",
              "  </thead>\n",
              "  <tbody>\n",
              "    <tr>\n",
              "      <th>0</th>\n",
              "      <td>5</td>\n",
              "      <td>ok</td>\n",
              "    </tr>\n",
              "    <tr>\n",
              "      <th>1</th>\n",
              "      <td>5</td>\n",
              "      <td>Perfect, even sturdier than the original!</td>\n",
              "    </tr>\n",
              "    <tr>\n",
              "      <th>2</th>\n",
              "      <td>2</td>\n",
              "      <td>If the words, &amp;#34;Cheap Chinese Junk&amp;#34; come to your mind when you see this, then congratulate yourself.  You're pretty close.  One of the most important features of a 'security camera&amp;#34; is the ability to detect motion and record, especially when running on battery and limited storage space.  I tested the motion detect on this camera in a few different environments so far (i.e. low light, indoors, outdoors, etc..) and all I got was a SD card full of video triggers.  All the testing was done with the low motion sensitivity setting.  I can't even imagine what the high one would be.&lt;br ...</td>\n",
              "    </tr>\n",
              "    <tr>\n",
              "      <th>3</th>\n",
              "      <td>5</td>\n",
              "      <td>Exactly what I wanted and expected. Perfect for hiking or carrying when you are going someplace you MAY need a quick closeup. I bought it to leave in my glovebox so I always have it with me. I've used it a few times already and couldn't be happier with it. For the price, it's definitely worth picking up if you are looking for a good monocular.</td>\n",
              "    </tr>\n",
              "    <tr>\n",
              "      <th>4</th>\n",
              "      <td>5</td>\n",
              "      <td>I will look past the fact that they tricked me into believing this is a Canon product. It's not by Canon. It's some generic brand that i've never heard of. HOWEVER, it works surprisingly well! The sound quality is actually really good. The wire is actually super long and is perfect for indoor shooting.</td>\n",
              "    </tr>\n",
              "  </tbody>\n",
              "</table>\n",
              "</div>"
            ],
            "text/plain": [
              "   star_rating  \\\n",
              "0            5   \n",
              "1            5   \n",
              "2            2   \n",
              "3            5   \n",
              "4            5   \n",
              "\n",
              "                                                                                                                                                                                                                                                                                                                                                                                                                                                                                                                                                                                                               review_body  \n",
              "0                                                                                                                                                                                                                                                                                                                                                                                                                                                                                                                                                                                                                       ok  \n",
              "1                                                                                                                                                                                                                                                                                                                                                                                                                                                                                                                                                                                Perfect, even sturdier than the original!  \n",
              "2  If the words, &#34;Cheap Chinese Junk&#34; come to your mind when you see this, then congratulate yourself.  You're pretty close.  One of the most important features of a 'security camera&#34; is the ability to detect motion and record, especially when running on battery and limited storage space.  I tested the motion detect on this camera in a few different environments so far (i.e. low light, indoors, outdoors, etc..) and all I got was a SD card full of video triggers.  All the testing was done with the low motion sensitivity setting.  I can't even imagine what the high one would be.<br ...  \n",
              "3                                                                                                                                                                                                                                                                Exactly what I wanted and expected. Perfect for hiking or carrying when you are going someplace you MAY need a quick closeup. I bought it to leave in my glovebox so I always have it with me. I've used it a few times already and couldn't be happier with it. For the price, it's definitely worth picking up if you are looking for a good monocular.  \n",
              "4                                                                                                                                                                                                                                                                                                          I will look past the fact that they tricked me into believing this is a Canon product. It's not by Canon. It's some generic brand that i've never heard of. HOWEVER, it works surprisingly well! The sound quality is actually really good. The wire is actually super long and is perfect for indoor shooting.  "
            ]
          },
          "metadata": {
            "tags": []
          },
          "execution_count": 74
        }
      ]
    },
    {
      "cell_type": "code",
      "metadata": {
        "id": "J0ZGOL9oOHxU"
      },
      "source": [
        "df = df.dropna()"
      ],
      "execution_count": 75,
      "outputs": []
    },
    {
      "cell_type": "code",
      "metadata": {
        "id": "x6WPfgM5Ol4D"
      },
      "source": [
        "df['star_rating'] = df['star_rating'].astype(int)"
      ],
      "execution_count": 76,
      "outputs": []
    },
    {
      "cell_type": "code",
      "metadata": {
        "colab": {
          "base_uri": "https://localhost:8080/"
        },
        "id": "2qgyS4A4xAh0",
        "outputId": "08e00052-b01c-4ddd-81a3-7189040ed4a7"
      },
      "source": [
        "print ((df['star_rating'] == 5).sum())\n",
        "print ((df['star_rating'] == 4).sum())\n",
        "print ((df['star_rating'] == 3).sum())\n",
        "print ((df['star_rating'] == 2).sum())\n",
        "print ((df['star_rating'] == 1).sum())"
      ],
      "execution_count": 77,
      "outputs": [
        {
          "output_type": "stream",
          "text": [
            "112489\n",
            "28207\n",
            "13202\n",
            "8584\n",
            "17484\n"
          ],
          "name": "stdout"
        }
      ]
    },
    {
      "cell_type": "code",
      "metadata": {
        "colab": {
          "base_uri": "https://localhost:8080/",
          "height": 289
        },
        "id": "0Z3Uu4WEBPpk",
        "outputId": "67043785-110a-4d4b-ff0a-21de457aeb5d"
      },
      "source": [
        "df['star_rating']= py.where(df['star_rating']>=4,1,0) ##asi un poco mas balanceado \n",
        "df.head()"
      ],
      "execution_count": 78,
      "outputs": [
        {
          "output_type": "execute_result",
          "data": {
            "text/html": [
              "<div>\n",
              "<style scoped>\n",
              "    .dataframe tbody tr th:only-of-type {\n",
              "        vertical-align: middle;\n",
              "    }\n",
              "\n",
              "    .dataframe tbody tr th {\n",
              "        vertical-align: top;\n",
              "    }\n",
              "\n",
              "    .dataframe thead th {\n",
              "        text-align: right;\n",
              "    }\n",
              "</style>\n",
              "<table border=\"1\" class=\"dataframe\">\n",
              "  <thead>\n",
              "    <tr style=\"text-align: right;\">\n",
              "      <th></th>\n",
              "      <th>star_rating</th>\n",
              "      <th>review_body</th>\n",
              "    </tr>\n",
              "  </thead>\n",
              "  <tbody>\n",
              "    <tr>\n",
              "      <th>0</th>\n",
              "      <td>1</td>\n",
              "      <td>ok</td>\n",
              "    </tr>\n",
              "    <tr>\n",
              "      <th>1</th>\n",
              "      <td>1</td>\n",
              "      <td>Perfect, even sturdier than the original!</td>\n",
              "    </tr>\n",
              "    <tr>\n",
              "      <th>2</th>\n",
              "      <td>0</td>\n",
              "      <td>If the words, &amp;#34;Cheap Chinese Junk&amp;#34; come to your mind when you see this, then congratulate yourself.  You're pretty close.  One of the most important features of a 'security camera&amp;#34; is the ability to detect motion and record, especially when running on battery and limited storage space.  I tested the motion detect on this camera in a few different environments so far (i.e. low light, indoors, outdoors, etc..) and all I got was a SD card full of video triggers.  All the testing was done with the low motion sensitivity setting.  I can't even imagine what the high one would be.&lt;br ...</td>\n",
              "    </tr>\n",
              "    <tr>\n",
              "      <th>3</th>\n",
              "      <td>1</td>\n",
              "      <td>Exactly what I wanted and expected. Perfect for hiking or carrying when you are going someplace you MAY need a quick closeup. I bought it to leave in my glovebox so I always have it with me. I've used it a few times already and couldn't be happier with it. For the price, it's definitely worth picking up if you are looking for a good monocular.</td>\n",
              "    </tr>\n",
              "    <tr>\n",
              "      <th>4</th>\n",
              "      <td>1</td>\n",
              "      <td>I will look past the fact that they tricked me into believing this is a Canon product. It's not by Canon. It's some generic brand that i've never heard of. HOWEVER, it works surprisingly well! The sound quality is actually really good. The wire is actually super long and is perfect for indoor shooting.</td>\n",
              "    </tr>\n",
              "  </tbody>\n",
              "</table>\n",
              "</div>"
            ],
            "text/plain": [
              "   star_rating  \\\n",
              "0            1   \n",
              "1            1   \n",
              "2            0   \n",
              "3            1   \n",
              "4            1   \n",
              "\n",
              "                                                                                                                                                                                                                                                                                                                                                                                                                                                                                                                                                                                                               review_body  \n",
              "0                                                                                                                                                                                                                                                                                                                                                                                                                                                                                                                                                                                                                       ok  \n",
              "1                                                                                                                                                                                                                                                                                                                                                                                                                                                                                                                                                                                Perfect, even sturdier than the original!  \n",
              "2  If the words, &#34;Cheap Chinese Junk&#34; come to your mind when you see this, then congratulate yourself.  You're pretty close.  One of the most important features of a 'security camera&#34; is the ability to detect motion and record, especially when running on battery and limited storage space.  I tested the motion detect on this camera in a few different environments so far (i.e. low light, indoors, outdoors, etc..) and all I got was a SD card full of video triggers.  All the testing was done with the low motion sensitivity setting.  I can't even imagine what the high one would be.<br ...  \n",
              "3                                                                                                                                                                                                                                                                Exactly what I wanted and expected. Perfect for hiking or carrying when you are going someplace you MAY need a quick closeup. I bought it to leave in my glovebox so I always have it with me. I've used it a few times already and couldn't be happier with it. For the price, it's definitely worth picking up if you are looking for a good monocular.  \n",
              "4                                                                                                                                                                                                                                                                                                          I will look past the fact that they tricked me into believing this is a Canon product. It's not by Canon. It's some generic brand that i've never heard of. HOWEVER, it works surprisingly well! The sound quality is actually really good. The wire is actually super long and is perfect for indoor shooting.  "
            ]
          },
          "metadata": {
            "tags": []
          },
          "execution_count": 78
        }
      ]
    },
    {
      "cell_type": "code",
      "metadata": {
        "colab": {
          "base_uri": "https://localhost:8080/"
        },
        "id": "p1o1DSOV02_u",
        "outputId": "81be3edc-ffa7-40b2-b094-cff148e12371"
      },
      "source": [
        "print ((df['star_rating'] == 1).sum())\n",
        "print ((df['star_rating'] == 0).sum())"
      ],
      "execution_count": 79,
      "outputs": [
        {
          "output_type": "stream",
          "text": [
            "140696\n",
            "39270\n"
          ],
          "name": "stdout"
        }
      ]
    },
    {
      "cell_type": "code",
      "metadata": {
        "colab": {
          "base_uri": "https://localhost:8080/"
        },
        "id": "2pRDBrvcBTQt",
        "outputId": "6826aefb-15e0-41a5-a1ba-e8050c1b4970"
      },
      "source": [
        "final_true= df[df['star_rating']==1][:45000]\n",
        "final_false = df[df['star_rating']==0][:39000]\n",
        "df = final_true.append(final_false)\n",
        "df = df.sample(frac = 1, random_state = 1)\n",
        "df = df.reset_index(drop=True)\n",
        "len(df)"
      ],
      "execution_count": 80,
      "outputs": [
        {
          "output_type": "execute_result",
          "data": {
            "text/plain": [
              "84000"
            ]
          },
          "metadata": {
            "tags": []
          },
          "execution_count": 80
        }
      ]
    },
    {
      "cell_type": "code",
      "metadata": {
        "colab": {
          "base_uri": "https://localhost:8080/",
          "height": 351
        },
        "id": "rd7ewLvlVLD0",
        "outputId": "b9805be3-ebc2-4d32-a162-5196b3215256"
      },
      "source": [
        "sns.countplot(df['star_rating'])"
      ],
      "execution_count": 81,
      "outputs": [
        {
          "output_type": "stream",
          "text": [
            "/usr/local/lib/python3.6/dist-packages/seaborn/_decorators.py:43: FutureWarning: Pass the following variable as a keyword arg: x. From version 0.12, the only valid positional argument will be `data`, and passing other arguments without an explicit keyword will result in an error or misinterpretation.\n",
            "  FutureWarning\n"
          ],
          "name": "stderr"
        },
        {
          "output_type": "execute_result",
          "data": {
            "text/plain": [
              "<matplotlib.axes._subplots.AxesSubplot at 0x7fbb40f31828>"
            ]
          },
          "metadata": {
            "tags": []
          },
          "execution_count": 81
        },
        {
          "output_type": "display_data",
          "data": {
            "image/png": "[encoded data removed]",
            "text/plain": [
              "<Figure size 432x288 with 1 Axes>"
            ]
          },
          "metadata": {
            "tags": [],
            "needs_background": "light"
          }
        }
      ]
    },
    {
      "cell_type": "code",
      "metadata": {
        "colab": {
          "base_uri": "https://localhost:8080/",
          "height": 238
        },
        "id": "vMbo052mZfbz",
        "outputId": "50874622-5987-4426-8fa8-1fd0cf1830df"
      },
      "source": [
        "#df = df[0:200]\n",
        "df['index'] = df.index\n",
        "df.head()"
      ],
      "execution_count": 82,
      "outputs": [
        {
          "output_type": "execute_result",
          "data": {
            "text/html": [
              "<div>\n",
              "<style scoped>\n",
              "    .dataframe tbody tr th:only-of-type {\n",
              "        vertical-align: middle;\n",
              "    }\n",
              "\n",
              "    .dataframe tbody tr th {\n",
              "        vertical-align: top;\n",
              "    }\n",
              "\n",
              "    .dataframe thead th {\n",
              "        text-align: right;\n",
              "    }\n",
              "</style>\n",
              "<table border=\"1\" class=\"dataframe\">\n",
              "  <thead>\n",
              "    <tr style=\"text-align: right;\">\n",
              "      <th></th>\n",
              "      <th>star_rating</th>\n",
              "      <th>review_body</th>\n",
              "      <th>index</th>\n",
              "    </tr>\n",
              "  </thead>\n",
              "  <tbody>\n",
              "    <tr>\n",
              "      <th>0</th>\n",
              "      <td>1</td>\n",
              "      <td>very good camera, installed and work better than the others, have purchsed more.</td>\n",
              "      <td>0</td>\n",
              "    </tr>\n",
              "    <tr>\n",
              "      <th>1</th>\n",
              "      <td>1</td>\n",
              "      <td>The AR-X100 is a solid product and sturdier than what I thought...I assumed it was going to be a cheaply made,flimsy easy to break Adapter but was pleasantly surprised when I received it... Purchased this because I eventually want to add filter(s) to my new camera...No problems or issues with this so far...Very useful item!</td>\n",
              "      <td>1</td>\n",
              "    </tr>\n",
              "    <tr>\n",
              "      <th>2</th>\n",
              "      <td>0</td>\n",
              "      <td>Cable connection  was loose so I had to buy a replacement</td>\n",
              "      <td>2</td>\n",
              "    </tr>\n",
              "    <tr>\n",
              "      <th>3</th>\n",
              "      <td>1</td>\n",
              "      <td>Works great. Item is exactly as stated.</td>\n",
              "      <td>3</td>\n",
              "    </tr>\n",
              "    <tr>\n",
              "      <th>4</th>\n",
              "      <td>0</td>\n",
              "      <td>Ordered one R-Tech bullet and one dome, both outdoor.  This bullet's night vision didn't work, so I ordered another for replacement.  The new camera ordered has no image other than a slow flash of red or green, completely DOA.  These are the last R-Tech's, and I'm just hoping the dome continues to work.</td>\n",
              "      <td>4</td>\n",
              "    </tr>\n",
              "  </tbody>\n",
              "</table>\n",
              "</div>"
            ],
            "text/plain": [
              "   star_rating  \\\n",
              "0            1   \n",
              "1            1   \n",
              "2            0   \n",
              "3            1   \n",
              "4            0   \n",
              "\n",
              "                                                                                                                                                                                                                                                                                                                             review_body  \\\n",
              "0                                                                                                                                                                                                                                                       very good camera, installed and work better than the others, have purchsed more.   \n",
              "1  The AR-X100 is a solid product and sturdier than what I thought...I assumed it was going to be a cheaply made,flimsy easy to break Adapter but was pleasantly surprised when I received it... Purchased this because I eventually want to add filter(s) to my new camera...No problems or issues with this so far...Very useful item!   \n",
              "2                                                                                                                                                                                                                                                                              Cable connection  was loose so I had to buy a replacement   \n",
              "3                                                                                                                                                                                                                                                                                                Works great. Item is exactly as stated.   \n",
              "4                       Ordered one R-Tech bullet and one dome, both outdoor.  This bullet's night vision didn't work, so I ordered another for replacement.  The new camera ordered has no image other than a slow flash of red or green, completely DOA.  These are the last R-Tech's, and I'm just hoping the dome continues to work.   \n",
              "\n",
              "   index  \n",
              "0      0  \n",
              "1      1  \n",
              "2      2  \n",
              "3      3  \n",
              "4      4  "
            ]
          },
          "metadata": {
            "tags": []
          },
          "execution_count": 82
        }
      ]
    },
    {
      "cell_type": "code",
      "metadata": {
        "colab": {
          "base_uri": "https://localhost:8080/"
        },
        "id": "9BZzGsDtdtWW",
        "outputId": "423e1caf-b5af-42d5-a4d4-2d8ad6e45122"
      },
      "source": [
        "df['is_valid']= py.where(df['index'] < 60500 ,'False','True') #divido en train valid pero a ojo \n",
        "d = {'True': True, 'False': False}\n",
        "df['is_valid']= df['is_valid'].map(d)\n",
        "df.dtypes"
      ],
      "execution_count": 83,
      "outputs": [
        {
          "output_type": "execute_result",
          "data": {
            "text/plain": [
              "star_rating     int64\n",
              "review_body    object\n",
              "index           int64\n",
              "is_valid         bool\n",
              "dtype: object"
            ]
          },
          "metadata": {
            "tags": []
          },
          "execution_count": 83
        }
      ]
    },
    {
      "cell_type": "code",
      "metadata": {
        "colab": {
          "base_uri": "https://localhost:8080/",
          "height": 538
        },
        "id": "bY6kyCWucfq1",
        "outputId": "fca1c577-6209-42ea-bfb1-e392007d5e69"
      },
      "source": [
        "df"
      ],
      "execution_count": 84,
      "outputs": [
        {
          "output_type": "execute_result",
          "data": {
            "text/html": [
              "<div>\n",
              "<style scoped>\n",
              "    .dataframe tbody tr th:only-of-type {\n",
              "        vertical-align: middle;\n",
              "    }\n",
              "\n",
              "    .dataframe tbody tr th {\n",
              "        vertical-align: top;\n",
              "    }\n",
              "\n",
              "    .dataframe thead th {\n",
              "        text-align: right;\n",
              "    }\n",
              "</style>\n",
              "<table border=\"1\" class=\"dataframe\">\n",
              "  <thead>\n",
              "    <tr style=\"text-align: right;\">\n",
              "      <th></th>\n",
              "      <th>star_rating</th>\n",
              "      <th>review_body</th>\n",
              "      <th>index</th>\n",
              "      <th>is_valid</th>\n",
              "    </tr>\n",
              "  </thead>\n",
              "  <tbody>\n",
              "    <tr>\n",
              "      <th>0</th>\n",
              "      <td>1</td>\n",
              "      <td>very good camera, installed and work better than the others, have purchsed more.</td>\n",
              "      <td>0</td>\n",
              "      <td>False</td>\n",
              "    </tr>\n",
              "    <tr>\n",
              "      <th>1</th>\n",
              "      <td>1</td>\n",
              "      <td>The AR-X100 is a solid product and sturdier than what I thought...I assumed it was going to be a cheaply made,flimsy easy to break Adapter but was pleasantly surprised when I received it... Purchased this because I eventually want to add filter(s) to my new camera...No problems or issues with this so far...Very useful item!</td>\n",
              "      <td>1</td>\n",
              "      <td>False</td>\n",
              "    </tr>\n",
              "    <tr>\n",
              "      <th>2</th>\n",
              "      <td>0</td>\n",
              "      <td>Cable connection  was loose so I had to buy a replacement</td>\n",
              "      <td>2</td>\n",
              "      <td>False</td>\n",
              "    </tr>\n",
              "    <tr>\n",
              "      <th>3</th>\n",
              "      <td>1</td>\n",
              "      <td>Works great. Item is exactly as stated.</td>\n",
              "      <td>3</td>\n",
              "      <td>False</td>\n",
              "    </tr>\n",
              "    <tr>\n",
              "      <th>4</th>\n",
              "      <td>0</td>\n",
              "      <td>Ordered one R-Tech bullet and one dome, both outdoor.  This bullet's night vision didn't work, so I ordered another for replacement.  The new camera ordered has no image other than a slow flash of red or green, completely DOA.  These are the last R-Tech's, and I'm just hoping the dome continues to work.</td>\n",
              "      <td>4</td>\n",
              "      <td>False</td>\n",
              "    </tr>\n",
              "    <tr>\n",
              "      <th>...</th>\n",
              "      <td>...</td>\n",
              "      <td>...</td>\n",
              "      <td>...</td>\n",
              "      <td>...</td>\n",
              "    </tr>\n",
              "    <tr>\n",
              "      <th>83995</th>\n",
              "      <td>1</td>\n",
              "      <td>Has been a great pack for my SLR!  It has kept it safe on hikes and during travel!</td>\n",
              "      <td>83995</td>\n",
              "      <td>True</td>\n",
              "    </tr>\n",
              "    <tr>\n",
              "      <th>83996</th>\n",
              "      <td>0</td>\n",
              "      <td>Made pretty nice! It was missing the screw to tighten the block onto the rails, contacted seller and never heard back from them, would give 4 stars if I didn't have to buy a screw that doesn't look as nice.</td>\n",
              "      <td>83996</td>\n",
              "      <td>True</td>\n",
              "    </tr>\n",
              "    <tr>\n",
              "      <th>83997</th>\n",
              "      <td>0</td>\n",
              "      <td>No good</td>\n",
              "      <td>83997</td>\n",
              "      <td>True</td>\n",
              "    </tr>\n",
              "    <tr>\n",
              "      <th>83998</th>\n",
              "      <td>1</td>\n",
              "      <td>GoPro adaptor for aux mic. I have a ton of these. All good.</td>\n",
              "      <td>83998</td>\n",
              "      <td>True</td>\n",
              "    </tr>\n",
              "    <tr>\n",
              "      <th>83999</th>\n",
              "      <td>0</td>\n",
              "      <td>Not a bad product for the price. The snapshot feature's quality is nowhere near 720p however. It looks like an old flip phone took the photo. The video quality isn't too bad. I don't believe it's 720p either though. But like I said for the price it's a good product to practice taking videos, different angles, or to practice editing videos. If you are looking for a more serious action cam or for better quality I would look elsewhere.&lt;br /&gt;It looks like the accessories share the same dimensions as a go pro which will be nice if you upgrade to one (But not 100% sure!)&lt;br /&gt;NOTE: if the camera...</td>\n",
              "      <td>83999</td>\n",
              "      <td>True</td>\n",
              "    </tr>\n",
              "  </tbody>\n",
              "</table>\n",
              "<p>84000 rows × 4 columns</p>\n",
              "</div>"
            ],
            "text/plain": [
              "       star_rating  \\\n",
              "0                1   \n",
              "1                1   \n",
              "2                0   \n",
              "3                1   \n",
              "4                0   \n",
              "...            ...   \n",
              "83995            1   \n",
              "83996            0   \n",
              "83997            0   \n",
              "83998            1   \n",
              "83999            0   \n",
              "\n",
              "                                                                                                                                                                                                                                                                                                                                                                                                                                                                                                                                                                                                                   review_body  \\\n",
              "0                                                                                                                                                                                                                                                                                                                                                                                                                                                                                                                                             very good camera, installed and work better than the others, have purchsed more.   \n",
              "1                                                                                                                                                                                                                                                                                        The AR-X100 is a solid product and sturdier than what I thought...I assumed it was going to be a cheaply made,flimsy easy to break Adapter but was pleasantly surprised when I received it... Purchased this because I eventually want to add filter(s) to my new camera...No problems or issues with this so far...Very useful item!   \n",
              "2                                                                                                                                                                                                                                                                                                                                                                                                                                                                                                                                                                    Cable connection  was loose so I had to buy a replacement   \n",
              "3                                                                                                                                                                                                                                                                                                                                                                                                                                                                                                                                                                                      Works great. Item is exactly as stated.   \n",
              "4                                                                                                                                                                                                                                                                                                             Ordered one R-Tech bullet and one dome, both outdoor.  This bullet's night vision didn't work, so I ordered another for replacement.  The new camera ordered has no image other than a slow flash of red or green, completely DOA.  These are the last R-Tech's, and I'm just hoping the dome continues to work.   \n",
              "...                                                                                                                                                                                                                                                                                                                                                                                                                                                                                                                                                                                                                        ...   \n",
              "83995                                                                                                                                                                                                                                                                                                                                                                                                                                                                                                                                       Has been a great pack for my SLR!  It has kept it safe on hikes and during travel!   \n",
              "83996                                                                                                                                                                                                                                                                                                                                                                                                           Made pretty nice! It was missing the screw to tighten the block onto the rails, contacted seller and never heard back from them, would give 4 stars if I didn't have to buy a screw that doesn't look as nice.   \n",
              "83997                                                                                                                                                                                                                                                                                                                                                                                                                                                                                                                                                                                                                  No good   \n",
              "83998                                                                                                                                                                                                                                                                                                                                                                                                                                                                                                                                                              GoPro adaptor for aux mic. I have a ton of these. All good.   \n",
              "83999  Not a bad product for the price. The snapshot feature's quality is nowhere near 720p however. It looks like an old flip phone took the photo. The video quality isn't too bad. I don't believe it's 720p either though. But like I said for the price it's a good product to practice taking videos, different angles, or to practice editing videos. If you are looking for a more serious action cam or for better quality I would look elsewhere.<br />It looks like the accessories share the same dimensions as a go pro which will be nice if you upgrade to one (But not 100% sure!)<br />NOTE: if the camera...   \n",
              "\n",
              "       index  is_valid  \n",
              "0          0     False  \n",
              "1          1     False  \n",
              "2          2     False  \n",
              "3          3     False  \n",
              "4          4     False  \n",
              "...      ...       ...  \n",
              "83995  83995      True  \n",
              "83996  83996      True  \n",
              "83997  83997      True  \n",
              "83998  83998      True  \n",
              "83999  83999      True  \n",
              "\n",
              "[84000 rows x 4 columns]"
            ]
          },
          "metadata": {
            "tags": []
          },
          "execution_count": 84
        }
      ]
    },
    {
      "cell_type": "markdown",
      "metadata": {
        "id": "5bjE90By5I5R"
      },
      "source": [
        "# Tokenization and numericalization (solo para ver como funciona) "
      ]
    },
    {
      "cell_type": "markdown",
      "metadata": {
        "id": "QkV4ceHhBvBY"
      },
      "source": [
        "WORD TOKENIZATION with fastai"
      ]
    },
    {
      "cell_type": "code",
      "metadata": {
        "colab": {
          "base_uri": "https://localhost:8080/",
          "height": 35
        },
        "id": "Nym4FP1HBYo2",
        "outputId": "eff79e0b-2645-4708-ac2a-01e422adbbd0"
      },
      "source": [
        "# Let's take the first review:\n",
        "txt = df['review_body'].iloc[0]\n",
        "txt"
      ],
      "execution_count": 42,
      "outputs": [
        {
          "output_type": "execute_result",
          "data": {
            "application/vnd.google.colaboratory.intrinsic+json": {
              "type": "string"
            },
            "text/plain": [
              "'It is kinda expensive for only 10 but it came really fast'"
            ]
          },
          "metadata": {
            "tags": []
          },
          "execution_count": 42
        }
      ]
    },
    {
      "cell_type": "code",
      "metadata": {
        "colab": {
          "base_uri": "https://localhost:8080/"
        },
        "id": "3wJzFWvXPLjg",
        "outputId": "e653816d-9dc0-448f-ebe5-c8b4ef26fe0f"
      },
      "source": [
        "spacy = WordTokenizer()\n",
        "toks = first(spacy([txt]))\n",
        "print(coll_repr(toks, 30))"
      ],
      "execution_count": 43,
      "outputs": [
        {
          "output_type": "stream",
          "text": [
            "(#12) ['It','is','kinda','expensive','for','only','10','but','it','came','really','fast']\n"
          ],
          "name": "stdout"
        }
      ]
    },
    {
      "cell_type": "code",
      "metadata": {
        "colab": {
          "base_uri": "https://localhost:8080/"
        },
        "id": "ZiUn-46HQ_xe",
        "outputId": "55b55ef6-a659-4814-af41-dc248c38de39"
      },
      "source": [
        "tkn = Tokenizer(spacy)\n",
        "print(coll_repr(tkn(txt), 31))"
      ],
      "execution_count": 44,
      "outputs": [
        {
          "output_type": "stream",
          "text": [
            "(#14) ['xxbos','xxmaj','it','is','kinda','expensive','for','only','10','but','it','came','really','fast']\n"
          ],
          "name": "stdout"
        }
      ]
    },
    {
      "cell_type": "code",
      "metadata": {
        "colab": {
          "base_uri": "https://localhost:8080/"
        },
        "id": "2b4lKShbRlKb",
        "outputId": "a6afcfe3-c623-45bd-d663-c8f1c17d67a9"
      },
      "source": [
        "txts = df['review_body'].iloc[0:200]\n",
        "txts"
      ],
      "execution_count": 45,
      "outputs": [
        {
          "output_type": "execute_result",
          "data": {
            "text/plain": [
              "0                                                                                                                                                                                                                                                                                                                                   It is kinda expensive for only 10 but it came really fast\n",
              "1                                                                                                                                                                                   Just got one and it works as advertised. Easy to use. Easy to set up. Very helpful as we travel a lot and will be able to keep an eye on our home. Might add a way you can also connect through a laptop.\n",
              "2                                                                                                                                                                                                                                                                               It's really great, but after some work in events I'm not using because it's heavy without the chest acessory.\n",
              "3                                                                                                                                                                                                                                                                                                                                                   We already had three and needed one more.\n",
              "4                                             The clamp itself seems solid enough, but the spring that allows the jaws to open as you loosen the clamp does not look like it will hold up for long.  Wish now I had spent a few bucks extra and bought a genuine Manfrotto.  For the price this clamp is ok but in the long run I expect it will be a case of &#34;buy cheap, buy twice&#34;.\n",
              "                                                                                                                                                                                                ...                                                                                                                                                                                          \n",
              "195    Not great quality. The first one I bought had issues with screen clarity so we sent it back and got a replacement. The second one had the same problem so we sent it back and got a replacement. The third one worked for a few months and now it won't even turn on and they won't cover it because the warranty period on the FIRST unit has passed.<br />DO NOT BUY FROM VIEWSONIC.\n",
              "196                                                                                                                                                                                       We needed to replace a broken light source and these worked well for us in the laboratory. I used one in our biohazard lab and the other in receiving. My people liked the adjustable light source.\n",
              "197                                                                                                                                                                                                                                                                                    Use it twice never damaged it but it started shutting off by itself I guess the product had it defects\n",
              "198                                                                                                                                                                                                                                                                                                                                     resolution is not adjustable. remote didnot work OTB.\n",
              "199                                                                                                                                                                                                                                                                               This does not work at all with the Panasonic LUMIX DMC-FZ70 I bought at the same time. I want to return it.\n",
              "Name: review_body, Length: 200, dtype: object"
            ]
          },
          "metadata": {
            "tags": []
          },
          "execution_count": 45
        }
      ]
    },
    {
      "cell_type": "code",
      "metadata": {
        "colab": {
          "base_uri": "https://localhost:8080/"
        },
        "id": "NW_Sf-jnRHwr",
        "outputId": "a6de8677-399c-4afa-9e3b-973aa937007f"
      },
      "source": [
        "toks200 = txts[:200].map(tkn)\n",
        "toks200.head()"
      ],
      "execution_count": 46,
      "outputs": [
        {
          "output_type": "execute_result",
          "data": {
            "text/plain": [
              "0                                                                                                                                                                                                                                                                                                                                                                           [xxbos, xxmaj, it, is, kinda, expensive, for, only, 10, but, it, came, really, fast]\n",
              "1                                                                                                                                                     [xxbos, xxmaj, just, got, one, and, it, works, as, advertised, ., xxmaj, easy, to, use, ., xxmaj, easy, to, set, up, ., xxmaj, very, helpful, as, we, travel, a, lot, and, will, be, able, to, keep, an, eye, on, our, home, ., xxmaj, might, add, a, way, you, can, also, connect, through, a, laptop, .]\n",
              "2                                                                                                                                                                                                                                                                                               [xxbos, xxmaj, it, 's, really, great, ,, but, after, some, work, in, events, xxmaj, i, 'm, not, using, because, it, 's, heavy, without, the, chest, acessory, .]\n",
              "3                                                                                                                                                                                                                                                                                                                                                                                             [xxbos, xxmaj, we, already, had, three, and, needed, one, more, .]\n",
              "4    [xxbos, xxmaj, the, clamp, itself, seems, solid, enough, ,, but, the, spring, that, allows, the, jaws, to, open, as, you, loosen, the, clamp, does, not, look, like, it, will, hold, up, for, long, ., xxmaj, wish, now, i, had, spent, a, few, bucks, extra, and, bought, a, genuine, xxmaj, manfrotto, ., xxmaj, for, the, price, this, clamp, is, ok, but, in, the, long, run, i, expect, it, will, be, a, case, of, \", buy, cheap, ,, buy, twice, \", .]\n",
              "Name: review_body, dtype: object"
            ]
          },
          "metadata": {
            "tags": []
          },
          "execution_count": 46
        }
      ]
    },
    {
      "cell_type": "markdown",
      "metadata": {
        "id": "fWg2oSLZSXC9"
      },
      "source": [
        "Numericalize le tenemos que pasar nuestro texto tokenizado"
      ]
    },
    {
      "cell_type": "code",
      "metadata": {
        "colab": {
          "base_uri": "https://localhost:8080/",
          "height": 52
        },
        "id": "vGLwaHLYRr24",
        "outputId": "611cfd50-5df0-4632-b76b-5e97839e40f8"
      },
      "source": [
        "num = Numericalize()\n",
        "num.setup(toks200)\n",
        "coll_repr(num.vocab,20)"
      ],
      "execution_count": 47,
      "outputs": [
        {
          "output_type": "execute_result",
          "data": {
            "application/vnd.google.colaboratory.intrinsic+json": {
              "type": "string"
            },
            "text/plain": [
              "\"(#560) ['xxunk','xxpad','xxbos','xxeos','xxfld','xxrep','xxwrep','xxup','xxmaj','.','the','i',',','and','it','to','a','for','is','this'...]\""
            ]
          },
          "metadata": {
            "tags": []
          },
          "execution_count": 47
        }
      ]
    },
    {
      "cell_type": "code",
      "metadata": {
        "colab": {
          "base_uri": "https://localhost:8080/"
        },
        "id": "yHlowj8ISbK5",
        "outputId": "988a5241-dc08-4e8a-a264-868995549777"
      },
      "source": [
        "nums = num(toks)[:20]; nums"
      ],
      "execution_count": 48,
      "outputs": [
        {
          "output_type": "execute_result",
          "data": {
            "text/plain": [
              "TensorText([  0,  18,   0, 332,  17,  77,   0,  25,  14, 211, 103, 212])"
            ]
          },
          "metadata": {
            "tags": []
          },
          "execution_count": 48
        }
      ]
    },
    {
      "cell_type": "code",
      "metadata": {
        "colab": {
          "base_uri": "https://localhost:8080/",
          "height": 35
        },
        "id": "BwCOkfaYSgEM",
        "outputId": "c00a2d91-9b9a-49cc-8a8d-05514f7da547"
      },
      "source": [
        "' '.join(num.vocab[o] for o in nums) ## para reconstruir"
      ],
      "execution_count": 49,
      "outputs": [
        {
          "output_type": "execute_result",
          "data": {
            "application/vnd.google.colaboratory.intrinsic+json": {
              "type": "string"
            },
            "text/plain": [
              "'xxunk is xxunk expensive for only xxunk but it came really fast'"
            ]
          },
          "metadata": {
            "tags": []
          },
          "execution_count": 49
        }
      ]
    },
    {
      "cell_type": "code",
      "metadata": {
        "id": "rA9rW87BTHXa"
      },
      "source": [
        "nums200 = toks200.map(num)"
      ],
      "execution_count": 50,
      "outputs": []
    },
    {
      "cell_type": "code",
      "metadata": {
        "id": "JE8XOWJfSlEj"
      },
      "source": [
        "dl = LMDataLoader(nums200)"
      ],
      "execution_count": 51,
      "outputs": []
    },
    {
      "cell_type": "code",
      "metadata": {
        "colab": {
          "base_uri": "https://localhost:8080/"
        },
        "id": "TnBU-0tzTLiR",
        "outputId": "90781c73-5e59-4087-8cee-f6ab2f90c3b6"
      },
      "source": [
        "x,y = first(dl)\n",
        "x.shape,y.shape"
      ],
      "execution_count": 52,
      "outputs": [
        {
          "output_type": "execute_result",
          "data": {
            "text/plain": [
              "((64, 72), (64, 72))"
            ]
          },
          "metadata": {
            "tags": []
          },
          "execution_count": 52
        }
      ]
    },
    {
      "cell_type": "markdown",
      "metadata": {
        "id": "CeKjhxJITTlF"
      },
      "source": [
        "Dependent variable"
      ]
    },
    {
      "cell_type": "code",
      "metadata": {
        "colab": {
          "base_uri": "https://localhost:8080/",
          "height": 35
        },
        "id": "p4HksJGITPbD",
        "outputId": "75240dcc-290a-4bac-a0db-9f365d1cbbd3"
      },
      "source": [
        "' '.join(num.vocab[o] for o in x[0][:20])"
      ],
      "execution_count": 53,
      "outputs": [
        {
          "output_type": "execute_result",
          "data": {
            "application/vnd.google.colaboratory.intrinsic+json": {
              "type": "string"
            },
            "text/plain": [
              "'xxbos xxmaj it is xxunk expensive for only xxunk but it came really fast xxbos xxmaj just got one and'"
            ]
          },
          "metadata": {
            "tags": []
          },
          "execution_count": 53
        }
      ]
    },
    {
      "cell_type": "markdown",
      "metadata": {
        "id": "ypXzlF5yTW3G"
      },
      "source": [
        "Independent variable ( shifted one word to the right , following word)"
      ]
    },
    {
      "cell_type": "code",
      "metadata": {
        "colab": {
          "base_uri": "https://localhost:8080/",
          "height": 35
        },
        "id": "tfWOQoUDTVSK",
        "outputId": "bc7810e5-5fc0-495c-d25c-e6f330aada81"
      },
      "source": [
        "' '.join(num.vocab[o] for o in y[0][:20])"
      ],
      "execution_count": 54,
      "outputs": [
        {
          "output_type": "execute_result",
          "data": {
            "application/vnd.google.colaboratory.intrinsic+json": {
              "type": "string"
            },
            "text/plain": [
              "'xxmaj it is xxunk expensive for only xxunk but it came really fast xxbos xxmaj just got one and it'"
            ]
          },
          "metadata": {
            "tags": []
          },
          "execution_count": 54
        }
      ]
    },
    {
      "cell_type": "markdown",
      "metadata": {
        "id": "cktKnskC5L8-"
      },
      "source": [
        "# Train language model of amazon reviews (to put on top of wikipedia lenguage model)"
      ]
    },
    {
      "cell_type": "markdown",
      "metadata": {
        "id": "n8vT4W2U0Uu8"
      },
      "source": [
        "Fastai handles tokenization and numericalization cuando pasamos TextBlock to DataBlock "
      ]
    },
    {
      "cell_type": "code",
      "metadata": {
        "colab": {
          "base_uri": "https://localhost:8080/",
          "height": 71
        },
        "id": "WwoNe9aVTZ-S",
        "outputId": "bb7dca61-bbf3-40df-dc4b-9c9c19cbbf0b"
      },
      "source": [
        "#DATA BLOCKS\n",
        "\n",
        "amazon = DataBlock(blocks=TextBlock.from_df('review_body', is_lm=True),\n",
        "                    get_x=ColReader('text'),\n",
        "                    splitter=ColSplitter())\n",
        "\n",
        "dls_lm = amazon.dataloaders(df, bs=128, seq_len=80)\n"
      ],
      "execution_count": 85,
      "outputs": [
        {
          "output_type": "display_data",
          "data": {
            "text/html": [
              ""
            ],
            "text/plain": [
              "<IPython.core.display.HTML object>"
            ]
          },
          "metadata": {
            "tags": []
          }
        },
        {
          "output_type": "stream",
          "text": [
            "/usr/local/lib/python3.6/dist-packages/numpy/core/_asarray.py:83: VisibleDeprecationWarning: Creating an ndarray from ragged nested sequences (which is a list-or-tuple of lists-or-tuples-or ndarrays with different lengths or shapes) is deprecated. If you meant to do this, you must specify 'dtype=object' when creating the ndarray\n",
            "  return array(a, dtype, copy=False, order=order)\n"
          ],
          "name": "stderr"
        }
      ]
    },
    {
      "cell_type": "code",
      "metadata": {
        "colab": {
          "base_uri": "https://localhost:8080/",
          "height": 609
        },
        "id": "7WVfzKGJkybN",
        "outputId": "43f900e1-2f29-4eba-ada0-0c7c93be49ce"
      },
      "source": [
        "dls_lm.show_batch(max_n=6)"
      ],
      "execution_count": 86,
      "outputs": [
        {
          "output_type": "display_data",
          "data": {
            "text/html": [
              "<table border=\"1\" class=\"dataframe\">\n",
              "  <thead>\n",
              "    <tr style=\"text-align: right;\">\n",
              "      <th></th>\n",
              "      <th>text</th>\n",
              "      <th>text_</th>\n",
              "    </tr>\n",
              "  </thead>\n",
              "  <tbody>\n",
              "    <tr>\n",
              "      <th>0</th>\n",
              "      <td>xxbos xxmaj literally bs , pay so much for so little and such bad quality . xxmaj it 's like there 's a horrible filter on every picture . xxmaj do n't waste your time haha xxbos xxmaj exact xxunk the camera ! xxbos xxmaj an excellent pouch to hold filters . xxmaj instead of 4 plastic filter holders you can condense them into one convenient holder . xxbos xxmaj had an xxup xxunk \\n xxmaj this is a great</td>\n",
              "      <td>xxmaj literally bs , pay so much for so little and such bad quality . xxmaj it 's like there 's a horrible filter on every picture . xxmaj do n't waste your time haha xxbos xxmaj exact xxunk the camera ! xxbos xxmaj an excellent pouch to hold filters . xxmaj instead of 4 plastic filter holders you can condense them into one convenient holder . xxbos xxmaj had an xxup xxunk \\n xxmaj this is a great camera</td>\n",
              "    </tr>\n",
              "    <tr>\n",
              "      <th>1</th>\n",
              "      <td>. xxmaj after messing around with the numerous mounting devices i headed out for a ride . xxmaj though i did not realize that i had it set to record 3 minute sequences the entire trip was nicely recorded . xxmaj watching it was like watching a roller coaster ride . xxmaj stunning ! xxbos these work great on my husbands camera lenses . very compact ! xxbos i have xxmaj pelican cases for a lot of valuable equipment .</td>\n",
              "      <td>xxmaj after messing around with the numerous mounting devices i headed out for a ride . xxmaj though i did not realize that i had it set to record 3 minute sequences the entire trip was nicely recorded . xxmaj watching it was like watching a roller coaster ride . xxmaj stunning ! xxbos these work great on my husbands camera lenses . very compact ! xxbos i have xxmaj pelican cases for a lot of valuable equipment . xxmaj</td>\n",
              "    </tr>\n",
              "    <tr>\n",
              "      <th>2</th>\n",
              "      <td>have not yet used the car charger but the home wall charger does what it needs to do and i am totally satisfied . xxmaj price was right , it charges the xxmaj nikon coolpix camera i picked up on the cheap . xxmaj now i just need a proper xxup usb cable . xxbos xxmaj works very well . i do n't think i would need anything larger . xxbos xxmaj junk xxbos xxmaj this camera is pretty great</td>\n",
              "      <td>not yet used the car charger but the home wall charger does what it needs to do and i am totally satisfied . xxmaj price was right , it charges the xxmaj nikon coolpix camera i picked up on the cheap . xxmaj now i just need a proper xxup usb cable . xxbos xxmaj works very well . i do n't think i would need anything larger . xxbos xxmaj junk xxbos xxmaj this camera is pretty great and</td>\n",
              "    </tr>\n",
              "    <tr>\n",
              "      <th>3</th>\n",
              "      <td>xxbos xxmaj great product and xxmaj service . \\n xxmaj walter in support was very helpful in setting up my remote access xxbos xxmaj mic quality is the exact same as stock .. xxmaj non direction does n't really even work . xxbos xxmaj it did not work . xxbos xxmaj the backdoor floaty door i had from my original gopro housing does not fit the same on this . xxmaj let 's a xxunk xxrep 5 l amount of</td>\n",
              "      <td>xxmaj great product and xxmaj service . \\n xxmaj walter in support was very helpful in setting up my remote access xxbos xxmaj mic quality is the exact same as stock .. xxmaj non direction does n't really even work . xxbos xxmaj it did not work . xxbos xxmaj the backdoor floaty door i had from my original gopro housing does not fit the same on this . xxmaj let 's a xxunk xxrep 5 l amount of water</td>\n",
              "    </tr>\n",
              "    <tr>\n",
              "      <th>4</th>\n",
              "      <td>as xxmaj gorilla xxmaj glass ( found on the iphone ) . xxmaj for that reason , i bought this xxup x113 as my lightweight travel camera . xxmaj while the t had much better color and white balance , it just did not seem durable enough for extended trips in my backpack . \\n\\n i feel this little xxup x113 is durable enough for the backpack . \\n\\n i have owned a number of similar products from xxmaj nikon</td>\n",
              "      <td>xxmaj gorilla xxmaj glass ( found on the iphone ) . xxmaj for that reason , i bought this xxup x113 as my lightweight travel camera . xxmaj while the t had much better color and white balance , it just did not seem durable enough for extended trips in my backpack . \\n\\n i feel this little xxup x113 is durable enough for the backpack . \\n\\n i have owned a number of similar products from xxmaj nikon and</td>\n",
              "    </tr>\n",
              "    <tr>\n",
              "      <th>5</th>\n",
              "      <td>peaking which xxunk a bright outline around your subject when brought into focus . xxmaj the other is a zoom on the xxup evf that aids in manual focusing . xxmaj the xxmaj fotasy is a great little item that allows me to use all of my old xxmaj nikon lenses and now i do n't have to spend a fortune again to supplement my lens collection . xxmaj the amount of money this adaptor saves is many times the</td>\n",
              "      <td>which xxunk a bright outline around your subject when brought into focus . xxmaj the other is a zoom on the xxup evf that aids in manual focusing . xxmaj the xxmaj fotasy is a great little item that allows me to use all of my old xxmaj nikon lenses and now i do n't have to spend a fortune again to supplement my lens collection . xxmaj the amount of money this adaptor saves is many times the small</td>\n",
              "    </tr>\n",
              "  </tbody>\n",
              "</table>"
            ],
            "text/plain": [
              "<IPython.core.display.HTML object>"
            ]
          },
          "metadata": {
            "tags": []
          }
        }
      ]
    },
    {
      "cell_type": "code",
      "metadata": {
        "id": "1K0Gse_hlMHr"
      },
      "source": [
        "learn = language_model_learner(\n",
        "    dls_lm, AWD_LSTM, drop_mult=0.3,            ### awd_lstm rnn que ya introduce dropout y mas (regularizacion)\n",
        "    metrics=[accuracy, Perplexity()]).to_fp16()"
      ],
      "execution_count": 87,
      "outputs": []
    },
    {
      "cell_type": "code",
      "metadata": {
        "colab": {
          "base_uri": "https://localhost:8080/",
          "height": 80
        },
        "id": "XL-88mGk9Y6y",
        "outputId": "0696a4c7-4f81-41f3-c49b-27f305e6a350"
      },
      "source": [
        "learn.fit_one_cycle(1, 2e-2)"
      ],
      "execution_count": 88,
      "outputs": [
        {
          "output_type": "display_data",
          "data": {
            "text/html": [
              "<table border=\"1\" class=\"dataframe\">\n",
              "  <thead>\n",
              "    <tr style=\"text-align: left;\">\n",
              "      <th>epoch</th>\n",
              "      <th>train_loss</th>\n",
              "      <th>valid_loss</th>\n",
              "      <th>accuracy</th>\n",
              "      <th>perplexity</th>\n",
              "      <th>time</th>\n",
              "    </tr>\n",
              "  </thead>\n",
              "  <tbody>\n",
              "    <tr>\n",
              "      <td>0</td>\n",
              "      <td>3.970117</td>\n",
              "      <td>3.774528</td>\n",
              "      <td>0.286847</td>\n",
              "      <td>43.576927</td>\n",
              "      <td>10:58</td>\n",
              "    </tr>\n",
              "  </tbody>\n",
              "</table>"
            ],
            "text/plain": [
              "<IPython.core.display.HTML object>"
            ]
          },
          "metadata": {
            "tags": []
          }
        }
      ]
    },
    {
      "cell_type": "code",
      "metadata": {
        "colab": {
          "base_uri": "https://localhost:8080/"
        },
        "id": "qi1qpHf7GrZN",
        "outputId": "d530e394-7519-46ed-83c6-2c96e3f1aef2"
      },
      "source": [
        "learn.save('1epoch')"
      ],
      "execution_count": 89,
      "outputs": [
        {
          "output_type": "execute_result",
          "data": {
            "text/plain": [
              "Path('models/1epoch.pth')"
            ]
          },
          "metadata": {
            "tags": []
          },
          "execution_count": 89
        }
      ]
    },
    {
      "cell_type": "code",
      "metadata": {
        "id": "odzMnQlsGy89"
      },
      "source": [
        "learn = learn.load('1epoch')"
      ],
      "execution_count": 90,
      "outputs": []
    },
    {
      "cell_type": "code",
      "metadata": {
        "colab": {
          "base_uri": "https://localhost:8080/",
          "height": 359
        },
        "id": "BCigiluXG1Ny",
        "outputId": "7fc8f6f1-1a62-4329-f474-c5c67e91f034"
      },
      "source": [
        "learn.unfreeze()\n",
        "learn.fit_one_cycle(10, 2e-3)"
      ],
      "execution_count": 91,
      "outputs": [
        {
          "output_type": "display_data",
          "data": {
            "text/html": [
              "<table border=\"1\" class=\"dataframe\">\n",
              "  <thead>\n",
              "    <tr style=\"text-align: left;\">\n",
              "      <th>epoch</th>\n",
              "      <th>train_loss</th>\n",
              "      <th>valid_loss</th>\n",
              "      <th>accuracy</th>\n",
              "      <th>perplexity</th>\n",
              "      <th>time</th>\n",
              "    </tr>\n",
              "  </thead>\n",
              "  <tbody>\n",
              "    <tr>\n",
              "      <td>0</td>\n",
              "      <td>3.741557</td>\n",
              "      <td>3.657372</td>\n",
              "      <td>0.301171</td>\n",
              "      <td>38.759331</td>\n",
              "      <td>12:52</td>\n",
              "    </tr>\n",
              "    <tr>\n",
              "      <td>1</td>\n",
              "      <td>3.650637</td>\n",
              "      <td>3.577344</td>\n",
              "      <td>0.311169</td>\n",
              "      <td>35.778400</td>\n",
              "      <td>12:45</td>\n",
              "    </tr>\n",
              "    <tr>\n",
              "      <td>2</td>\n",
              "      <td>3.529994</td>\n",
              "      <td>3.523911</td>\n",
              "      <td>0.317399</td>\n",
              "      <td>33.916809</td>\n",
              "      <td>12:55</td>\n",
              "    </tr>\n",
              "    <tr>\n",
              "      <td>3</td>\n",
              "      <td>3.388268</td>\n",
              "      <td>3.489221</td>\n",
              "      <td>0.321978</td>\n",
              "      <td>32.760429</td>\n",
              "      <td>12:54</td>\n",
              "    </tr>\n",
              "    <tr>\n",
              "      <td>4</td>\n",
              "      <td>3.288152</td>\n",
              "      <td>3.482124</td>\n",
              "      <td>0.324350</td>\n",
              "      <td>32.528751</td>\n",
              "      <td>12:46</td>\n",
              "    </tr>\n",
              "    <tr>\n",
              "      <td>5</td>\n",
              "      <td>3.177183</td>\n",
              "      <td>3.489088</td>\n",
              "      <td>0.324898</td>\n",
              "      <td>32.756069</td>\n",
              "      <td>12:47</td>\n",
              "    </tr>\n",
              "    <tr>\n",
              "      <td>6</td>\n",
              "      <td>3.062344</td>\n",
              "      <td>3.509408</td>\n",
              "      <td>0.324273</td>\n",
              "      <td>33.428463</td>\n",
              "      <td>12:48</td>\n",
              "    </tr>\n",
              "    <tr>\n",
              "      <td>7</td>\n",
              "      <td>2.948074</td>\n",
              "      <td>3.527866</td>\n",
              "      <td>0.323853</td>\n",
              "      <td>34.051220</td>\n",
              "      <td>12:54</td>\n",
              "    </tr>\n",
              "    <tr>\n",
              "      <td>8</td>\n",
              "      <td>2.910212</td>\n",
              "      <td>3.541364</td>\n",
              "      <td>0.322554</td>\n",
              "      <td>34.513969</td>\n",
              "      <td>12:47</td>\n",
              "    </tr>\n",
              "    <tr>\n",
              "      <td>9</td>\n",
              "      <td>2.869443</td>\n",
              "      <td>3.551282</td>\n",
              "      <td>0.322099</td>\n",
              "      <td>34.857967</td>\n",
              "      <td>12:56</td>\n",
              "    </tr>\n",
              "  </tbody>\n",
              "</table>"
            ],
            "text/plain": [
              "<IPython.core.display.HTML object>"
            ]
          },
          "metadata": {
            "tags": []
          }
        }
      ]
    },
    {
      "cell_type": "code",
      "metadata": {
        "id": "x4MwN5qYG3E_"
      },
      "source": [
        "learn.save_encoder('finetuned')"
      ],
      "execution_count": 92,
      "outputs": []
    },
    {
      "cell_type": "markdown",
      "metadata": {
        "id": "EP7-h77MHaMP"
      },
      "source": [
        "# Creating classifier DataLoaders, training complete classifier"
      ]
    },
    {
      "cell_type": "code",
      "metadata": {
        "colab": {
          "base_uri": "https://localhost:8080/",
          "height": 71
        },
        "id": "GVWDazJJHeyW",
        "outputId": "5a01bec6-0586-4b44-9f10-aa63f9aa1c94"
      },
      "source": [
        "dls_clas = DataBlock(blocks=(TextBlock.from_df('review_body', seq_len=72, vocab=dls_lm.vocab), CategoryBlock),\n",
        "                      get_x=ColReader('text'),\n",
        "                      get_y=ColReader('star_rating'),\n",
        "                      splitter=ColSplitter()).dataloaders(df, bs=128, seq_len=72)"
      ],
      "execution_count": 93,
      "outputs": [
        {
          "output_type": "display_data",
          "data": {
            "text/html": [
              ""
            ],
            "text/plain": [
              "<IPython.core.display.HTML object>"
            ]
          },
          "metadata": {
            "tags": []
          }
        },
        {
          "output_type": "stream",
          "text": [
            "/usr/local/lib/python3.6/dist-packages/numpy/core/_asarray.py:83: VisibleDeprecationWarning: Creating an ndarray from ragged nested sequences (which is a list-or-tuple of lists-or-tuples-or ndarrays with different lengths or shapes) is deprecated. If you meant to do this, you must specify 'dtype=object' when creating the ndarray\n",
            "  return array(a, dtype, copy=False, order=order)\n"
          ],
          "name": "stderr"
        }
      ]
    },
    {
      "cell_type": "code",
      "metadata": {
        "colab": {
          "base_uri": "https://localhost:8080/",
          "height": 493
        },
        "id": "A8Y4fLcAIUoc",
        "outputId": "a740bdc9-9e74-4ebb-80ae-110ca11c7444"
      },
      "source": [
        "dls_clas.show_batch(max_n=5)"
      ],
      "execution_count": 94,
      "outputs": [
        {
          "output_type": "display_data",
          "data": {
            "text/html": [
              "<table border=\"1\" class=\"dataframe\">\n",
              "  <thead>\n",
              "    <tr style=\"text-align: right;\">\n",
              "      <th></th>\n",
              "      <th>text</th>\n",
              "      <th>category</th>\n",
              "    </tr>\n",
              "  </thead>\n",
              "  <tbody>\n",
              "    <tr>\n",
              "      <th>0</th>\n",
              "      <td>xxbos xxmaj hi , \\n\\n xxmaj this is my review of the product listed on xxmaj amazon as : \\n\\n easyacc xxmaj selfie xxmaj stick xxunk xxmaj pro 3-in-1 xxmaj self - portrait xxmaj monopod xxmaj extendable xxmaj wireless xxmaj bluetooth xxmaj selfie xxmaj stick with built - in xxmaj bluetooth xxmaj remote xxmaj shutter xxmaj with xxmaj adjustable xxmaj phone xxmaj holder for iphone 6 , iphone 6 xxmaj plus , iphone 5 5s 5c , xxmaj android \\n\\n i received this product today and have evaluated it for an hour to give a detailed review . xxmaj included are a set of photos that i captured showing the product up close in case anyone is interested . \\n\\n xxup unboxing xxup and xxup observation : \\n\\n xxmaj when i first received this sample , i found the box had taken a beating during shipment from xxmaj amazon .</td>\n",
              "      <td>1</td>\n",
              "    </tr>\n",
              "    <tr>\n",
              "      <th>1</th>\n",
              "      <td>xxbos xxmaj although with hundreds of other reviews , mine will go un noticed , but i still give good reviews any ways . i bought the camera 9 months ago , struggled to understand how to get from one option to another . xxmaj the very very small xxup lcd screen in the front is not easy to read , as it tells you what mode you are in . xxmaj if in the water proof case , using the back display is out of the question as it is un - useable . xxmaj after using it on / off for over 5 months , i had enough , sat down and spend a few hours just playing with all the options , making changes and learning . xxmaj even being a tech person it was a trick . xxmaj now i flew through it flawlessly . xxmaj</td>\n",
              "      <td>1</td>\n",
              "    </tr>\n",
              "    <tr>\n",
              "      <th>2</th>\n",
              "      <td>xxbos xxup dji has done it . xxmaj i 've been eyeballing quadcopters since the early phantoms and finally took the plunge with the xxup dji xxmaj phantom 3 xxmaj pro . xxmaj it 's easy to fly , and doing so has become a favorite activity for my son ( age 10 ) and xxup i. xxmaj he flies it like a pro , with marked improvement each time he pilots it . i created a playlist on youtube with instructional and review videos , and we watched them before our first flight ( * * see xxmaj below ) . xxmaj we are having a lot of fun spending time together , learning and looking at the world from such unique perspectives . \\n\\n xxmaj the aircraft itself is extremely well built , though it is evident upon inspection that the weak part of this setup ( and</td>\n",
              "      <td>1</td>\n",
              "    </tr>\n",
              "    <tr>\n",
              "      <th>3</th>\n",
              "      <td>xxbos i wanted to love this spotting scope ( the xxmaj celestron xxunk 100 mm xxmaj ultima xxmaj zoom xxmaj spotting xxmaj scope with 45-degree - angle viewer ) . i tried using it three times in different environments and situations , but i ultimately decided to return it . xxmaj here 's why : \\n\\n xxmaj my first complaint really has nothing to do with the scope itself but with the variation in viewfinders . xxmaj i 'll throw this out there for anyone looking for an actual spotting scope to use target shooting : xxmaj decide whether you truly want the 45-degree angled viewer or if you should get the straight viewer . i should have got the straight viewer , and did n't realize this until i was at the xxunk and having to stand up every few shots to get above the scope . xxmaj again</td>\n",
              "      <td>0</td>\n",
              "    </tr>\n",
              "    <tr>\n",
              "      <th>4</th>\n",
              "      <td>xxbos xxup update 10 / 21 / 2015 : xxmaj i 've had the xxmaj canary about four months now . xxmaj during this time period , it has crashed twice and xxmaj i 've had to go through the entire process of setting everything up again . xxmaj this would not be such a large problem , but i was n't notified that it went out and where 's its located , i ca n't see the color changes on the bottom of the device . \\n xxmaj canary has also changed my plan . xxmaj since xxmaj i 've had this , all my videos had been stored for a week- it has now changed to only 12 hours for the free plan . xxmaj this xxunk me greatly . i loved having multiple days on my timeline because it 's convenient for me . xxmaj now the</td>\n",
              "      <td>0</td>\n",
              "    </tr>\n",
              "  </tbody>\n",
              "</table>"
            ],
            "text/plain": [
              "<IPython.core.display.HTML object>"
            ]
          },
          "metadata": {
            "tags": []
          }
        }
      ]
    },
    {
      "cell_type": "code",
      "metadata": {
        "id": "lpMu_ddwJ6Nh"
      },
      "source": [
        "learn = text_classifier_learner(dls_clas, AWD_LSTM, drop_mult=0.5, \n",
        "                                metrics=accuracy).to_fp16()"
      ],
      "execution_count": 95,
      "outputs": []
    },
    {
      "cell_type": "code",
      "metadata": {
        "id": "K7u-DT2kJ-JC"
      },
      "source": [
        "learn = learn.load_encoder('finetuned')"
      ],
      "execution_count": 96,
      "outputs": []
    },
    {
      "cell_type": "code",
      "metadata": {
        "colab": {
          "base_uri": "https://localhost:8080/",
          "height": 80
        },
        "id": "da2PRuHbKANm",
        "outputId": "bf0d23d6-68a4-40dd-b3f8-8c60205eee69"
      },
      "source": [
        "learn.fit_one_cycle(1, 2e-2)  ## start training at a low learning rate, gradually increase it for the first section of training, and then grad‐ ually decrease it again for the last section of training:"
      ],
      "execution_count": 97,
      "outputs": [
        {
          "output_type": "display_data",
          "data": {
            "text/html": [
              "<table border=\"1\" class=\"dataframe\">\n",
              "  <thead>\n",
              "    <tr style=\"text-align: left;\">\n",
              "      <th>epoch</th>\n",
              "      <th>train_loss</th>\n",
              "      <th>valid_loss</th>\n",
              "      <th>accuracy</th>\n",
              "      <th>time</th>\n",
              "    </tr>\n",
              "  </thead>\n",
              "  <tbody>\n",
              "    <tr>\n",
              "      <td>0</td>\n",
              "      <td>0.442367</td>\n",
              "      <td>0.286324</td>\n",
              "      <td>0.881447</td>\n",
              "      <td>04:05</td>\n",
              "    </tr>\n",
              "  </tbody>\n",
              "</table>"
            ],
            "text/plain": [
              "<IPython.core.display.HTML object>"
            ]
          },
          "metadata": {
            "tags": []
          }
        }
      ]
    },
    {
      "cell_type": "code",
      "metadata": {
        "id": "bFNy5zIvKCaA"
      },
      "source": [
        "learn.freeze_to(-2)"
      ],
      "execution_count": 98,
      "outputs": []
    },
    {
      "cell_type": "code",
      "metadata": {
        "colab": {
          "base_uri": "https://localhost:8080/",
          "height": 80
        },
        "id": "msn4omCp9JlX",
        "outputId": "d0d46233-0b20-46bd-df4e-bf420bb33ff6"
      },
      "source": [
        "learn.fit_one_cycle(1, slice(1e-2/(2.6**4),1e-2))"
      ],
      "execution_count": 99,
      "outputs": [
        {
          "output_type": "display_data",
          "data": {
            "text/html": [
              "<table border=\"1\" class=\"dataframe\">\n",
              "  <thead>\n",
              "    <tr style=\"text-align: left;\">\n",
              "      <th>epoch</th>\n",
              "      <th>train_loss</th>\n",
              "      <th>valid_loss</th>\n",
              "      <th>accuracy</th>\n",
              "      <th>time</th>\n",
              "    </tr>\n",
              "  </thead>\n",
              "  <tbody>\n",
              "    <tr>\n",
              "      <td>0</td>\n",
              "      <td>0.289274</td>\n",
              "      <td>0.250421</td>\n",
              "      <td>0.898000</td>\n",
              "      <td>04:41</td>\n",
              "    </tr>\n",
              "  </tbody>\n",
              "</table>"
            ],
            "text/plain": [
              "<IPython.core.display.HTML object>"
            ]
          },
          "metadata": {
            "tags": []
          }
        }
      ]
    },
    {
      "cell_type": "code",
      "metadata": {
        "colab": {
          "base_uri": "https://localhost:8080/",
          "height": 80
        },
        "id": "Rm9MTFlSKGWi",
        "outputId": "01768732-7316-4bac-d9a2-a038f3edc25d"
      },
      "source": [
        "learn.freeze_to(-3)\n",
        "learn.fit_one_cycle(1, slice(5e-3/(2.6**4),5e-3))"
      ],
      "execution_count": 100,
      "outputs": [
        {
          "output_type": "display_data",
          "data": {
            "text/html": [
              "<table border=\"1\" class=\"dataframe\">\n",
              "  <thead>\n",
              "    <tr style=\"text-align: left;\">\n",
              "      <th>epoch</th>\n",
              "      <th>train_loss</th>\n",
              "      <th>valid_loss</th>\n",
              "      <th>accuracy</th>\n",
              "      <th>time</th>\n",
              "    </tr>\n",
              "  </thead>\n",
              "  <tbody>\n",
              "    <tr>\n",
              "      <td>0</td>\n",
              "      <td>0.261187</td>\n",
              "      <td>0.239647</td>\n",
              "      <td>0.909362</td>\n",
              "      <td>07:03</td>\n",
              "    </tr>\n",
              "  </tbody>\n",
              "</table>"
            ],
            "text/plain": [
              "<IPython.core.display.HTML object>"
            ]
          },
          "metadata": {
            "tags": []
          }
        }
      ]
    },
    {
      "cell_type": "code",
      "metadata": {
        "colab": {
          "base_uri": "https://localhost:8080/",
          "height": 111
        },
        "id": "6Ja_cWXtKJqj",
        "outputId": "706bfbdc-e169-4c19-c986-1521e46926b1"
      },
      "source": [
        "learn.unfreeze()\n",
        "learn.fit_one_cycle(2, slice(1e-3/(2.6**4),1e-3)) "
      ],
      "execution_count": 101,
      "outputs": [
        {
          "output_type": "display_data",
          "data": {
            "text/html": [
              "<table border=\"1\" class=\"dataframe\">\n",
              "  <thead>\n",
              "    <tr style=\"text-align: left;\">\n",
              "      <th>epoch</th>\n",
              "      <th>train_loss</th>\n",
              "      <th>valid_loss</th>\n",
              "      <th>accuracy</th>\n",
              "      <th>time</th>\n",
              "    </tr>\n",
              "  </thead>\n",
              "  <tbody>\n",
              "    <tr>\n",
              "      <td>0</td>\n",
              "      <td>0.222685</td>\n",
              "      <td>0.241755</td>\n",
              "      <td>0.910340</td>\n",
              "      <td>08:38</td>\n",
              "    </tr>\n",
              "    <tr>\n",
              "      <td>1</td>\n",
              "      <td>0.209392</td>\n",
              "      <td>0.246604</td>\n",
              "      <td>0.911319</td>\n",
              "      <td>08:38</td>\n",
              "    </tr>\n",
              "  </tbody>\n",
              "</table>"
            ],
            "text/plain": [
              "<IPython.core.display.HTML object>"
            ]
          },
          "metadata": {
            "tags": []
          }
        }
      ]
    },
    {
      "cell_type": "markdown",
      "metadata": {
        "id": "iOWreVkhTbwv"
      },
      "source": [
        "Conseguimos casi un 92% de accuracy"
      ]
    },
    {
      "cell_type": "code",
      "metadata": {
        "id": "zSScagVPKM7Y"
      },
      "source": [
        ""
      ],
      "execution_count": null,
      "outputs": []
    }
  ]
}