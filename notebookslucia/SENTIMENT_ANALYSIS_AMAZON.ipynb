{
  "nbformat": 4,
  "nbformat_minor": 0,
  "metadata": {
    "colab": {
      "name": "SENTIMENT ANALYSIS AMAZON.ipynb",
      "provenance": [],
      "collapsed_sections": []
    },
    "kernelspec": {
      "name": "python3",
      "display_name": "Python 3"
    },
    "accelerator": "GPU"
  },
  "cells": [
    {
      "cell_type": "code",
      "metadata": {
        "colab": {
          "base_uri": "https://localhost:8080/"
        },
        "id": "1619oXnIU5EU",
        "outputId": "619d8662-a30f-4bdc-e1ff-3b69731c6eb1"
      },
      "source": [
        "#hide\n",
        "!pip install -Uqq fastbook\n",
        "import fastbook\n",
        "fastbook.setup_book()"
      ],
      "execution_count": 3,
      "outputs": [
        {
          "output_type": "stream",
          "text": [
            "\u001b[K     |████████████████████████████████| 727kB 10.7MB/s \n",
            "\u001b[K     |████████████████████████████████| 1.1MB 53.1MB/s \n",
            "\u001b[K     |████████████████████████████████| 194kB 51.6MB/s \n",
            "\u001b[K     |████████████████████████████████| 51kB 8.3MB/s \n",
            "\u001b[K     |████████████████████████████████| 61kB 9.4MB/s \n",
            "\u001b[?25hMounted at /content/gdrive\n"
          ],
          "name": "stdout"
        }
      ]
    },
    {
      "cell_type": "code",
      "metadata": {
        "id": "TD4FkwOZWpuu"
      },
      "source": [
        "#hide\n",
        "from fastbook import *\n",
        "from IPython.display import display,HTML"
      ],
      "execution_count": 4,
      "outputs": []
    },
    {
      "cell_type": "code",
      "metadata": {
        "id": "upiuuOCy77QW"
      },
      "source": [
        "import numpy as py\n",
        "import pandas as pd\n",
        "import warnings\n",
        "import matplotlib.pyplot as plt\n",
        "import statsmodels.api as sm\n",
        "import seaborn as sns\n"
      ],
      "execution_count": 5,
      "outputs": []
    },
    {
      "cell_type": "markdown",
      "metadata": {
        "id": "H-Kj_-2WBM1N"
      },
      "source": [
        "<img alt=\"Diagram of the ULMFiT process\" width=\"450\" src=\"https://github.com/fastai/fastbook/blob/master/images/att_00027.png?raw=1\">"
      ]
    },
    {
      "cell_type": "markdown",
      "metadata": {
        "id": "i2VlD0_QbuH4"
      },
      "source": [
        "# Preprocessing"
      ]
    },
    {
      "cell_type": "code",
      "metadata": {
        "id": "A1q6IBp95BGy"
      },
      "source": [
        "from fastai.text.all import *"
      ],
      "execution_count": 15,
      "outputs": []
    },
    {
      "cell_type": "code",
      "metadata": {
        "id": "Y7smKxYc5FDB"
      },
      "source": [
        "path = \"/content/amazon_reviews_us_Camera_v1_00.tsv\""
      ],
      "execution_count": 16,
      "outputs": []
    },
    {
      "cell_type": "code",
      "metadata": {
        "colab": {
          "base_uri": "https://localhost:8080/"
        },
        "id": "rvgtVqsV5Ktd",
        "outputId": "d5074860-aa6c-4772-f6ce-c60547e760ec"
      },
      "source": [
        "df = pd.read_csv(path,delimiter='\\t',error_bad_lines=False)\n"
      ],
      "execution_count": 17,
      "outputs": [
        {
          "output_type": "stream",
          "text": [
            "b'Skipping line 85458: expected 15 fields, saw 22\\nSkipping line 91161: expected 15 fields, saw 22\\n'\n"
          ],
          "name": "stderr"
        }
      ]
    },
    {
      "cell_type": "code",
      "metadata": {
        "id": "Tcm81DgM5ODq"
      },
      "source": [
        "%%capture\n",
        "df = df.head(100000)\n",
        "df.head()"
      ],
      "execution_count": 18,
      "outputs": []
    },
    {
      "cell_type": "code",
      "metadata": {
        "colab": {
          "base_uri": "https://localhost:8080/"
        },
        "id": "ehSD9UK8ylQY",
        "outputId": "0a54e01e-9650-4a58-cb22-bf0f803a6e50"
      },
      "source": [
        "df.shape"
      ],
      "execution_count": 19,
      "outputs": [
        {
          "output_type": "execute_result",
          "data": {
            "text/plain": [
              "(100000, 15)"
            ]
          },
          "metadata": {
            "tags": []
          },
          "execution_count": 19
        }
      ]
    },
    {
      "cell_type": "code",
      "metadata": {
        "colab": {
          "base_uri": "https://localhost:8080/",
          "height": 340
        },
        "id": "xGkNZ87mBCNM",
        "outputId": "5401f45c-a9e2-4a26-f1f8-1fa7d83fcd22"
      },
      "source": [
        "df = df[['star_rating','review_body']]\n",
        "df.head()"
      ],
      "execution_count": 20,
      "outputs": [
        {
          "output_type": "execute_result",
          "data": {
            "text/html": [
              "<div>\n",
              "<style scoped>\n",
              "    .dataframe tbody tr th:only-of-type {\n",
              "        vertical-align: middle;\n",
              "    }\n",
              "\n",
              "    .dataframe tbody tr th {\n",
              "        vertical-align: top;\n",
              "    }\n",
              "\n",
              "    .dataframe thead th {\n",
              "        text-align: right;\n",
              "    }\n",
              "</style>\n",
              "<table border=\"1\" class=\"dataframe\">\n",
              "  <thead>\n",
              "    <tr style=\"text-align: right;\">\n",
              "      <th></th>\n",
              "      <th>star_rating</th>\n",
              "      <th>review_body</th>\n",
              "    </tr>\n",
              "  </thead>\n",
              "  <tbody>\n",
              "    <tr>\n",
              "      <th>0</th>\n",
              "      <td>5.0</td>\n",
              "      <td>ok</td>\n",
              "    </tr>\n",
              "    <tr>\n",
              "      <th>1</th>\n",
              "      <td>5.0</td>\n",
              "      <td>Perfect, even sturdier than the original!</td>\n",
              "    </tr>\n",
              "    <tr>\n",
              "      <th>2</th>\n",
              "      <td>2.0</td>\n",
              "      <td>If the words, &amp;#34;Cheap Chinese Junk&amp;#34; come to your mind when you see this, then congratulate yourself.  You're pretty close.  One of the most important features of a 'security camera&amp;#34; is the ability to detect motion and record, especially when running on battery and limited storage space.  I tested the motion detect on this camera in a few different environments so far (i.e. low light, indoors, outdoors, etc..) and all I got was a SD card full of video triggers.  All the testing was done with the low motion sensitivity setting.  I can't even imagine what the high one would be.&lt;br ...</td>\n",
              "    </tr>\n",
              "    <tr>\n",
              "      <th>3</th>\n",
              "      <td>5.0</td>\n",
              "      <td>Exactly what I wanted and expected. Perfect for hiking or carrying when you are going someplace you MAY need a quick closeup. I bought it to leave in my glovebox so I always have it with me. I've used it a few times already and couldn't be happier with it. For the price, it's definitely worth picking up if you are looking for a good monocular.</td>\n",
              "    </tr>\n",
              "    <tr>\n",
              "      <th>4</th>\n",
              "      <td>5.0</td>\n",
              "      <td>I will look past the fact that they tricked me into believing this is a Canon product. It's not by Canon. It's some generic brand that i've never heard of. HOWEVER, it works surprisingly well! The sound quality is actually really good. The wire is actually super long and is perfect for indoor shooting.</td>\n",
              "    </tr>\n",
              "  </tbody>\n",
              "</table>\n",
              "</div>"
            ],
            "text/plain": [
              "   star_rating  \\\n",
              "0          5.0   \n",
              "1          5.0   \n",
              "2          2.0   \n",
              "3          5.0   \n",
              "4          5.0   \n",
              "\n",
              "                                                                                                                                                                                                                                                                                                                                                                                                                                                                                                                                                                                                               review_body  \n",
              "0                                                                                                                                                                                                                                                                                                                                                                                                                                                                                                                                                                                                                       ok  \n",
              "1                                                                                                                                                                                                                                                                                                                                                                                                                                                                                                                                                                                Perfect, even sturdier than the original!  \n",
              "2  If the words, &#34;Cheap Chinese Junk&#34; come to your mind when you see this, then congratulate yourself.  You're pretty close.  One of the most important features of a 'security camera&#34; is the ability to detect motion and record, especially when running on battery and limited storage space.  I tested the motion detect on this camera in a few different environments so far (i.e. low light, indoors, outdoors, etc..) and all I got was a SD card full of video triggers.  All the testing was done with the low motion sensitivity setting.  I can't even imagine what the high one would be.<br ...  \n",
              "3                                                                                                                                                                                                                                                                Exactly what I wanted and expected. Perfect for hiking or carrying when you are going someplace you MAY need a quick closeup. I bought it to leave in my glovebox so I always have it with me. I've used it a few times already and couldn't be happier with it. For the price, it's definitely worth picking up if you are looking for a good monocular.  \n",
              "4                                                                                                                                                                                                                                                                                                          I will look past the fact that they tricked me into believing this is a Canon product. It's not by Canon. It's some generic brand that i've never heard of. HOWEVER, it works surprisingly well! The sound quality is actually really good. The wire is actually super long and is perfect for indoor shooting.  "
            ]
          },
          "metadata": {
            "tags": []
          },
          "execution_count": 20
        }
      ]
    },
    {
      "cell_type": "code",
      "metadata": {
        "id": "J0ZGOL9oOHxU"
      },
      "source": [
        "df = df.dropna()"
      ],
      "execution_count": 21,
      "outputs": []
    },
    {
      "cell_type": "code",
      "metadata": {
        "id": "x6WPfgM5Ol4D"
      },
      "source": [
        "df['star_rating'] = df['star_rating'].astype(int)"
      ],
      "execution_count": 22,
      "outputs": []
    },
    {
      "cell_type": "code",
      "metadata": {
        "colab": {
          "base_uri": "https://localhost:8080/",
          "height": 340
        },
        "id": "0Z3Uu4WEBPpk",
        "outputId": "c764ef5c-ff77-4148-bdae-f7e5e9da18e0"
      },
      "source": [
        "df['star_rating']= py.where(df['star_rating']>=3,1,0) ##asi un poco mas balanceado \n",
        "df.head()"
      ],
      "execution_count": 23,
      "outputs": [
        {
          "output_type": "execute_result",
          "data": {
            "text/html": [
              "<div>\n",
              "<style scoped>\n",
              "    .dataframe tbody tr th:only-of-type {\n",
              "        vertical-align: middle;\n",
              "    }\n",
              "\n",
              "    .dataframe tbody tr th {\n",
              "        vertical-align: top;\n",
              "    }\n",
              "\n",
              "    .dataframe thead th {\n",
              "        text-align: right;\n",
              "    }\n",
              "</style>\n",
              "<table border=\"1\" class=\"dataframe\">\n",
              "  <thead>\n",
              "    <tr style=\"text-align: right;\">\n",
              "      <th></th>\n",
              "      <th>star_rating</th>\n",
              "      <th>review_body</th>\n",
              "    </tr>\n",
              "  </thead>\n",
              "  <tbody>\n",
              "    <tr>\n",
              "      <th>0</th>\n",
              "      <td>1</td>\n",
              "      <td>ok</td>\n",
              "    </tr>\n",
              "    <tr>\n",
              "      <th>1</th>\n",
              "      <td>1</td>\n",
              "      <td>Perfect, even sturdier than the original!</td>\n",
              "    </tr>\n",
              "    <tr>\n",
              "      <th>2</th>\n",
              "      <td>0</td>\n",
              "      <td>If the words, &amp;#34;Cheap Chinese Junk&amp;#34; come to your mind when you see this, then congratulate yourself.  You're pretty close.  One of the most important features of a 'security camera&amp;#34; is the ability to detect motion and record, especially when running on battery and limited storage space.  I tested the motion detect on this camera in a few different environments so far (i.e. low light, indoors, outdoors, etc..) and all I got was a SD card full of video triggers.  All the testing was done with the low motion sensitivity setting.  I can't even imagine what the high one would be.&lt;br ...</td>\n",
              "    </tr>\n",
              "    <tr>\n",
              "      <th>3</th>\n",
              "      <td>1</td>\n",
              "      <td>Exactly what I wanted and expected. Perfect for hiking or carrying when you are going someplace you MAY need a quick closeup. I bought it to leave in my glovebox so I always have it with me. I've used it a few times already and couldn't be happier with it. For the price, it's definitely worth picking up if you are looking for a good monocular.</td>\n",
              "    </tr>\n",
              "    <tr>\n",
              "      <th>4</th>\n",
              "      <td>1</td>\n",
              "      <td>I will look past the fact that they tricked me into believing this is a Canon product. It's not by Canon. It's some generic brand that i've never heard of. HOWEVER, it works surprisingly well! The sound quality is actually really good. The wire is actually super long and is perfect for indoor shooting.</td>\n",
              "    </tr>\n",
              "  </tbody>\n",
              "</table>\n",
              "</div>"
            ],
            "text/plain": [
              "   star_rating  \\\n",
              "0            1   \n",
              "1            1   \n",
              "2            0   \n",
              "3            1   \n",
              "4            1   \n",
              "\n",
              "                                                                                                                                                                                                                                                                                                                                                                                                                                                                                                                                                                                                               review_body  \n",
              "0                                                                                                                                                                                                                                                                                                                                                                                                                                                                                                                                                                                                                       ok  \n",
              "1                                                                                                                                                                                                                                                                                                                                                                                                                                                                                                                                                                                Perfect, even sturdier than the original!  \n",
              "2  If the words, &#34;Cheap Chinese Junk&#34; come to your mind when you see this, then congratulate yourself.  You're pretty close.  One of the most important features of a 'security camera&#34; is the ability to detect motion and record, especially when running on battery and limited storage space.  I tested the motion detect on this camera in a few different environments so far (i.e. low light, indoors, outdoors, etc..) and all I got was a SD card full of video triggers.  All the testing was done with the low motion sensitivity setting.  I can't even imagine what the high one would be.<br ...  \n",
              "3                                                                                                                                                                                                                                                                Exactly what I wanted and expected. Perfect for hiking or carrying when you are going someplace you MAY need a quick closeup. I bought it to leave in my glovebox so I always have it with me. I've used it a few times already and couldn't be happier with it. For the price, it's definitely worth picking up if you are looking for a good monocular.  \n",
              "4                                                                                                                                                                                                                                                                                                          I will look past the fact that they tricked me into believing this is a Canon product. It's not by Canon. It's some generic brand that i've never heard of. HOWEVER, it works surprisingly well! The sound quality is actually really good. The wire is actually super long and is perfect for indoor shooting.  "
            ]
          },
          "metadata": {
            "tags": []
          },
          "execution_count": 23
        }
      ]
    },
    {
      "cell_type": "code",
      "metadata": {
        "colab": {
          "base_uri": "https://localhost:8080/"
        },
        "id": "2pRDBrvcBTQt",
        "outputId": "2d1ab025-d7e8-466b-884b-7626f50db491"
      },
      "source": [
        "final_true= df[df['star_rating']==1][:15500]\n",
        "final_false = df[df['star_rating']==0][:14000]\n",
        "df = final_true.append(final_false)\n",
        "df = df.sample(frac = 1, random_state = 1)\n",
        "df = df.reset_index(drop=True)\n",
        "len(df)"
      ],
      "execution_count": 24,
      "outputs": [
        {
          "output_type": "execute_result",
          "data": {
            "text/plain": [
              "29500"
            ]
          },
          "metadata": {
            "tags": []
          },
          "execution_count": 24
        }
      ]
    },
    {
      "cell_type": "code",
      "metadata": {
        "colab": {
          "base_uri": "https://localhost:8080/",
          "height": 358
        },
        "id": "rd7ewLvlVLD0",
        "outputId": "1935f57d-f6d2-4783-8108-bf0d7a7f85ea"
      },
      "source": [
        "sns.countplot(df['star_rating'])"
      ],
      "execution_count": 25,
      "outputs": [
        {
          "output_type": "stream",
          "text": [
            "/usr/local/lib/python3.6/dist-packages/seaborn/_decorators.py:43: FutureWarning: Pass the following variable as a keyword arg: x. From version 0.12, the only valid positional argument will be `data`, and passing other arguments without an explicit keyword will result in an error or misinterpretation.\n",
            "  FutureWarning\n"
          ],
          "name": "stderr"
        },
        {
          "output_type": "execute_result",
          "data": {
            "text/plain": [
              "<matplotlib.axes._subplots.AxesSubplot at 0x7eff8070c860>"
            ]
          },
          "metadata": {
            "tags": []
          },
          "execution_count": 25
        },
        {
          "output_type": "display_data",
          "data": {
            "image/png": "[encoded data removed]",
            "text/plain": [
              "<Figure size 432x288 with 1 Axes>"
            ]
          },
          "metadata": {
            "tags": [],
            "needs_background": "light"
          }
        }
      ]
    },
    {
      "cell_type": "code",
      "metadata": {
        "colab": {
          "base_uri": "https://localhost:8080/",
          "height": 255
        },
        "id": "vMbo052mZfbz",
        "outputId": "45d5045d-f16f-40a6-9a97-cea2e338cbe0"
      },
      "source": [
        "#df = df[0:200]\n",
        "df['index'] = df.index\n",
        "df.head()"
      ],
      "execution_count": 26,
      "outputs": [
        {
          "output_type": "execute_result",
          "data": {
            "text/html": [
              "<div>\n",
              "<style scoped>\n",
              "    .dataframe tbody tr th:only-of-type {\n",
              "        vertical-align: middle;\n",
              "    }\n",
              "\n",
              "    .dataframe tbody tr th {\n",
              "        vertical-align: top;\n",
              "    }\n",
              "\n",
              "    .dataframe thead th {\n",
              "        text-align: right;\n",
              "    }\n",
              "</style>\n",
              "<table border=\"1\" class=\"dataframe\">\n",
              "  <thead>\n",
              "    <tr style=\"text-align: right;\">\n",
              "      <th></th>\n",
              "      <th>star_rating</th>\n",
              "      <th>review_body</th>\n",
              "      <th>index</th>\n",
              "    </tr>\n",
              "  </thead>\n",
              "  <tbody>\n",
              "    <tr>\n",
              "      <th>0</th>\n",
              "      <td>0</td>\n",
              "      <td>It is kinda expensive for only 10 but it came really fast</td>\n",
              "      <td>0</td>\n",
              "    </tr>\n",
              "    <tr>\n",
              "      <th>1</th>\n",
              "      <td>1</td>\n",
              "      <td>Just got one and it works as advertised. Easy to use. Easy to set up. Very helpful as we travel a lot and will be able to keep an eye on our home. Might add a way you can also connect through a laptop.</td>\n",
              "      <td>1</td>\n",
              "    </tr>\n",
              "    <tr>\n",
              "      <th>2</th>\n",
              "      <td>1</td>\n",
              "      <td>It's really great, but after some work in events I'm not using because it's heavy without the chest acessory.</td>\n",
              "      <td>2</td>\n",
              "    </tr>\n",
              "    <tr>\n",
              "      <th>3</th>\n",
              "      <td>0</td>\n",
              "      <td>We already had three and needed one more.</td>\n",
              "      <td>3</td>\n",
              "    </tr>\n",
              "    <tr>\n",
              "      <th>4</th>\n",
              "      <td>0</td>\n",
              "      <td>The clamp itself seems solid enough, but the spring that allows the jaws to open as you loosen the clamp does not look like it will hold up for long.  Wish now I had spent a few bucks extra and bought a genuine Manfrotto.  For the price this clamp is ok but in the long run I expect it will be a case of &amp;#34;buy cheap, buy twice&amp;#34;.</td>\n",
              "      <td>4</td>\n",
              "    </tr>\n",
              "  </tbody>\n",
              "</table>\n",
              "</div>"
            ],
            "text/plain": [
              "   star_rating  \\\n",
              "0            0   \n",
              "1            1   \n",
              "2            1   \n",
              "3            0   \n",
              "4            0   \n",
              "\n",
              "                                                                                                                                                                                                                                                                                                                                       review_body  \\\n",
              "0                                                                                                                                                                                                                                                                                        It is kinda expensive for only 10 but it came really fast   \n",
              "1                                                                                                                                        Just got one and it works as advertised. Easy to use. Easy to set up. Very helpful as we travel a lot and will be able to keep an eye on our home. Might add a way you can also connect through a laptop.   \n",
              "2                                                                                                                                                                                                                                    It's really great, but after some work in events I'm not using because it's heavy without the chest acessory.   \n",
              "3                                                                                                                                                                                                                                                                                                        We already had three and needed one more.   \n",
              "4  The clamp itself seems solid enough, but the spring that allows the jaws to open as you loosen the clamp does not look like it will hold up for long.  Wish now I had spent a few bucks extra and bought a genuine Manfrotto.  For the price this clamp is ok but in the long run I expect it will be a case of &#34;buy cheap, buy twice&#34;.   \n",
              "\n",
              "   index  \n",
              "0      0  \n",
              "1      1  \n",
              "2      2  \n",
              "3      3  \n",
              "4      4  "
            ]
          },
          "metadata": {
            "tags": []
          },
          "execution_count": 26
        }
      ]
    },
    {
      "cell_type": "code",
      "metadata": {
        "colab": {
          "base_uri": "https://localhost:8080/"
        },
        "id": "9BZzGsDtdtWW",
        "outputId": "e94459c1-0119-48d5-c8d2-2d604e1e03fe"
      },
      "source": [
        "df['is_valid']= py.where(df['index'] < 19500 ,'False','True') #divido en train valid pero a ojo \n",
        "d = {'True': True, 'False': False}\n",
        "df['is_valid']= df['is_valid'].map(d)\n",
        "df.dtypes"
      ],
      "execution_count": 27,
      "outputs": [
        {
          "output_type": "execute_result",
          "data": {
            "text/plain": [
              "star_rating     int64\n",
              "review_body    object\n",
              "index           int64\n",
              "is_valid         bool\n",
              "dtype: object"
            ]
          },
          "metadata": {
            "tags": []
          },
          "execution_count": 27
        }
      ]
    },
    {
      "cell_type": "code",
      "metadata": {
        "colab": {
          "base_uri": "https://localhost:8080/",
          "height": 623
        },
        "id": "bY6kyCWucfq1",
        "outputId": "3963539f-5cb3-43bb-c52f-543dbda2c175"
      },
      "source": [
        "df"
      ],
      "execution_count": 28,
      "outputs": [
        {
          "output_type": "execute_result",
          "data": {
            "text/html": [
              "<div>\n",
              "<style scoped>\n",
              "    .dataframe tbody tr th:only-of-type {\n",
              "        vertical-align: middle;\n",
              "    }\n",
              "\n",
              "    .dataframe tbody tr th {\n",
              "        vertical-align: top;\n",
              "    }\n",
              "\n",
              "    .dataframe thead th {\n",
              "        text-align: right;\n",
              "    }\n",
              "</style>\n",
              "<table border=\"1\" class=\"dataframe\">\n",
              "  <thead>\n",
              "    <tr style=\"text-align: right;\">\n",
              "      <th></th>\n",
              "      <th>star_rating</th>\n",
              "      <th>review_body</th>\n",
              "      <th>index</th>\n",
              "      <th>is_valid</th>\n",
              "    </tr>\n",
              "  </thead>\n",
              "  <tbody>\n",
              "    <tr>\n",
              "      <th>0</th>\n",
              "      <td>0</td>\n",
              "      <td>It is kinda expensive for only 10 but it came really fast</td>\n",
              "      <td>0</td>\n",
              "      <td>False</td>\n",
              "    </tr>\n",
              "    <tr>\n",
              "      <th>1</th>\n",
              "      <td>1</td>\n",
              "      <td>Just got one and it works as advertised. Easy to use. Easy to set up. Very helpful as we travel a lot and will be able to keep an eye on our home. Might add a way you can also connect through a laptop.</td>\n",
              "      <td>1</td>\n",
              "      <td>False</td>\n",
              "    </tr>\n",
              "    <tr>\n",
              "      <th>2</th>\n",
              "      <td>1</td>\n",
              "      <td>It's really great, but after some work in events I'm not using because it's heavy without the chest acessory.</td>\n",
              "      <td>2</td>\n",
              "      <td>False</td>\n",
              "    </tr>\n",
              "    <tr>\n",
              "      <th>3</th>\n",
              "      <td>0</td>\n",
              "      <td>We already had three and needed one more.</td>\n",
              "      <td>3</td>\n",
              "      <td>False</td>\n",
              "    </tr>\n",
              "    <tr>\n",
              "      <th>4</th>\n",
              "      <td>0</td>\n",
              "      <td>The clamp itself seems solid enough, but the spring that allows the jaws to open as you loosen the clamp does not look like it will hold up for long.  Wish now I had spent a few bucks extra and bought a genuine Manfrotto.  For the price this clamp is ok but in the long run I expect it will be a case of &amp;#34;buy cheap, buy twice&amp;#34;.</td>\n",
              "      <td>4</td>\n",
              "      <td>False</td>\n",
              "    </tr>\n",
              "    <tr>\n",
              "      <th>...</th>\n",
              "      <td>...</td>\n",
              "      <td>...</td>\n",
              "      <td>...</td>\n",
              "      <td>...</td>\n",
              "    </tr>\n",
              "    <tr>\n",
              "      <th>29495</th>\n",
              "      <td>1</td>\n",
              "      <td>Worked great to replace the missing screw in my Sinar Pan/Tilt tripod head.  This screw is used to mount a camera to your tripod head.  There is a version with a 1/4&amp;#34; screw available if your camera uses that instead of the large 3/8&amp;#34; type.</td>\n",
              "      <td>29495</td>\n",
              "      <td>True</td>\n",
              "    </tr>\n",
              "    <tr>\n",
              "      <th>29496</th>\n",
              "      <td>0</td>\n",
              "      <td>I’m truly disappointed with this product. At f5 150mm your picture is ok but as soon as you ZOOM further to 600mm the picture is get Hazy. I am waiting on a replacement...wouldn't recommend this product unless this issue is resolved.</td>\n",
              "      <td>29496</td>\n",
              "      <td>True</td>\n",
              "    </tr>\n",
              "    <tr>\n",
              "      <th>29497</th>\n",
              "      <td>1</td>\n",
              "      <td>not smooth!</td>\n",
              "      <td>29497</td>\n",
              "      <td>True</td>\n",
              "    </tr>\n",
              "    <tr>\n",
              "      <th>29498</th>\n",
              "      <td>1</td>\n",
              "      <td>The rotating flash bracket seems well made and sturdy and is comfortable to hold and rotate.  The TTL off camera cord did not work  with my Nikon D52 and Neewer VK750 II i-TTL Speedlite Flash.  Nor did the replacement cord sent promptly by the vendor provide a fully functioning connection.&lt;br /&gt;&lt;br /&gt;The vendor responded quickly and tried to be helpful and then made a refund offer that satisfies me.  I'll try a different brand cord and hope for the best.</td>\n",
              "      <td>29498</td>\n",
              "      <td>True</td>\n",
              "    </tr>\n",
              "    <tr>\n",
              "      <th>29499</th>\n",
              "      <td>1</td>\n",
              "      <td>Workable for the price.&lt;br /&gt;Never be a rock&lt;br /&gt;but a decent stone.&lt;br /&gt;Any less than a hundred bucks!</td>\n",
              "      <td>29499</td>\n",
              "      <td>True</td>\n",
              "    </tr>\n",
              "  </tbody>\n",
              "</table>\n",
              "<p>29500 rows × 4 columns</p>\n",
              "</div>"
            ],
            "text/plain": [
              "       star_rating  \\\n",
              "0                0   \n",
              "1                1   \n",
              "2                1   \n",
              "3                0   \n",
              "4                0   \n",
              "...            ...   \n",
              "29495            1   \n",
              "29496            0   \n",
              "29497            1   \n",
              "29498            1   \n",
              "29499            1   \n",
              "\n",
              "                                                                                                                                                                                                                                                                                                                                                                                                                                                                      review_body  \\\n",
              "0                                                                                                                                                                                                                                                                                                                                                                                                                       It is kinda expensive for only 10 but it came really fast   \n",
              "1                                                                                                                                                                                                                                                                       Just got one and it works as advertised. Easy to use. Easy to set up. Very helpful as we travel a lot and will be able to keep an eye on our home. Might add a way you can also connect through a laptop.   \n",
              "2                                                                                                                                                                                                                                                                                                                                                                   It's really great, but after some work in events I'm not using because it's heavy without the chest acessory.   \n",
              "3                                                                                                                                                                                                                                                                                                                                                                                                                                       We already had three and needed one more.   \n",
              "4                                                                                                                                 The clamp itself seems solid enough, but the spring that allows the jaws to open as you loosen the clamp does not look like it will hold up for long.  Wish now I had spent a few bucks extra and bought a genuine Manfrotto.  For the price this clamp is ok but in the long run I expect it will be a case of &#34;buy cheap, buy twice&#34;.   \n",
              "...                                                                                                                                                                                                                                                                                                                                                                                                                                                                           ...   \n",
              "29495                                                                                                                                                                                                                     Worked great to replace the missing screw in my Sinar Pan/Tilt tripod head.  This screw is used to mount a camera to your tripod head.  There is a version with a 1/4&#34; screw available if your camera uses that instead of the large 3/8&#34; type.   \n",
              "29496                                                                                                                                                                                                                                   I’m truly disappointed with this product. At f5 150mm your picture is ok but as soon as you ZOOM further to 600mm the picture is get Hazy. I am waiting on a replacement...wouldn't recommend this product unless this issue is resolved.   \n",
              "29497                                                                                                                                                                                                                                                                                                                                                                                                                                                                 not smooth!   \n",
              "29498  The rotating flash bracket seems well made and sturdy and is comfortable to hold and rotate.  The TTL off camera cord did not work  with my Nikon D52 and Neewer VK750 II i-TTL Speedlite Flash.  Nor did the replacement cord sent promptly by the vendor provide a fully functioning connection.<br /><br />The vendor responded quickly and tried to be helpful and then made a refund offer that satisfies me.  I'll try a different brand cord and hope for the best.   \n",
              "29499                                                                                                                                                                                                                                                                                                                                                                   Workable for the price.<br />Never be a rock<br />but a decent stone.<br />Any less than a hundred bucks!   \n",
              "\n",
              "       index  is_valid  \n",
              "0          0     False  \n",
              "1          1     False  \n",
              "2          2     False  \n",
              "3          3     False  \n",
              "4          4     False  \n",
              "...      ...       ...  \n",
              "29495  29495      True  \n",
              "29496  29496      True  \n",
              "29497  29497      True  \n",
              "29498  29498      True  \n",
              "29499  29499      True  \n",
              "\n",
              "[29500 rows x 4 columns]"
            ]
          },
          "metadata": {
            "tags": []
          },
          "execution_count": 28
        }
      ]
    },
    {
      "cell_type": "markdown",
      "metadata": {
        "id": "5bjE90By5I5R"
      },
      "source": [
        "# Tokenization and numericalization (solo para ver como funciona) "
      ]
    },
    {
      "cell_type": "markdown",
      "metadata": {
        "id": "QkV4ceHhBvBY"
      },
      "source": [
        "WORD TOKENIZATION with fastai"
      ]
    },
    {
      "cell_type": "code",
      "metadata": {
        "colab": {
          "base_uri": "https://localhost:8080/",
          "height": 35
        },
        "id": "Nym4FP1HBYo2",
        "outputId": "eff79e0b-2645-4708-ac2a-01e422adbbd0"
      },
      "source": [
        "# Let's take the first review:\n",
        "txt = df['review_body'].iloc[0]\n",
        "txt"
      ],
      "execution_count": 42,
      "outputs": [
        {
          "output_type": "execute_result",
          "data": {
            "application/vnd.google.colaboratory.intrinsic+json": {
              "type": "string"
            },
            "text/plain": [
              "'It is kinda expensive for only 10 but it came really fast'"
            ]
          },
          "metadata": {
            "tags": []
          },
          "execution_count": 42
        }
      ]
    },
    {
      "cell_type": "code",
      "metadata": {
        "colab": {
          "base_uri": "https://localhost:8080/"
        },
        "id": "3wJzFWvXPLjg",
        "outputId": "e653816d-9dc0-448f-ebe5-c8b4ef26fe0f"
      },
      "source": [
        "spacy = WordTokenizer()\n",
        "toks = first(spacy([txt]))\n",
        "print(coll_repr(toks, 30))"
      ],
      "execution_count": 43,
      "outputs": [
        {
          "output_type": "stream",
          "text": [
            "(#12) ['It','is','kinda','expensive','for','only','10','but','it','came','really','fast']\n"
          ],
          "name": "stdout"
        }
      ]
    },
    {
      "cell_type": "code",
      "metadata": {
        "colab": {
          "base_uri": "https://localhost:8080/"
        },
        "id": "ZiUn-46HQ_xe",
        "outputId": "55b55ef6-a659-4814-af41-dc248c38de39"
      },
      "source": [
        "tkn = Tokenizer(spacy)\n",
        "print(coll_repr(tkn(txt), 31))"
      ],
      "execution_count": 44,
      "outputs": [
        {
          "output_type": "stream",
          "text": [
            "(#14) ['xxbos','xxmaj','it','is','kinda','expensive','for','only','10','but','it','came','really','fast']\n"
          ],
          "name": "stdout"
        }
      ]
    },
    {
      "cell_type": "code",
      "metadata": {
        "colab": {
          "base_uri": "https://localhost:8080/"
        },
        "id": "2b4lKShbRlKb",
        "outputId": "a6afcfe3-c623-45bd-d663-c8f1c17d67a9"
      },
      "source": [
        "txts = df['review_body'].iloc[0:200]\n",
        "txts"
      ],
      "execution_count": 45,
      "outputs": [
        {
          "output_type": "execute_result",
          "data": {
            "text/plain": [
              "0                                                                                                                                                                                                                                                                                                                                   It is kinda expensive for only 10 but it came really fast\n",
              "1                                                                                                                                                                                   Just got one and it works as advertised. Easy to use. Easy to set up. Very helpful as we travel a lot and will be able to keep an eye on our home. Might add a way you can also connect through a laptop.\n",
              "2                                                                                                                                                                                                                                                                               It's really great, but after some work in events I'm not using because it's heavy without the chest acessory.\n",
              "3                                                                                                                                                                                                                                                                                                                                                   We already had three and needed one more.\n",
              "4                                             The clamp itself seems solid enough, but the spring that allows the jaws to open as you loosen the clamp does not look like it will hold up for long.  Wish now I had spent a few bucks extra and bought a genuine Manfrotto.  For the price this clamp is ok but in the long run I expect it will be a case of &#34;buy cheap, buy twice&#34;.\n",
              "                                                                                                                                                                                                ...                                                                                                                                                                                          \n",
              "195    Not great quality. The first one I bought had issues with screen clarity so we sent it back and got a replacement. The second one had the same problem so we sent it back and got a replacement. The third one worked for a few months and now it won't even turn on and they won't cover it because the warranty period on the FIRST unit has passed.<br />DO NOT BUY FROM VIEWSONIC.\n",
              "196                                                                                                                                                                                       We needed to replace a broken light source and these worked well for us in the laboratory. I used one in our biohazard lab and the other in receiving. My people liked the adjustable light source.\n",
              "197                                                                                                                                                                                                                                                                                    Use it twice never damaged it but it started shutting off by itself I guess the product had it defects\n",
              "198                                                                                                                                                                                                                                                                                                                                     resolution is not adjustable. remote didnot work OTB.\n",
              "199                                                                                                                                                                                                                                                                               This does not work at all with the Panasonic LUMIX DMC-FZ70 I bought at the same time. I want to return it.\n",
              "Name: review_body, Length: 200, dtype: object"
            ]
          },
          "metadata": {
            "tags": []
          },
          "execution_count": 45
        }
      ]
    },
    {
      "cell_type": "code",
      "metadata": {
        "colab": {
          "base_uri": "https://localhost:8080/"
        },
        "id": "NW_Sf-jnRHwr",
        "outputId": "a6de8677-399c-4afa-9e3b-973aa937007f"
      },
      "source": [
        "toks200 = txts[:200].map(tkn)\n",
        "toks200.head()"
      ],
      "execution_count": 46,
      "outputs": [
        {
          "output_type": "execute_result",
          "data": {
            "text/plain": [
              "0                                                                                                                                                                                                                                                                                                                                                                           [xxbos, xxmaj, it, is, kinda, expensive, for, only, 10, but, it, came, really, fast]\n",
              "1                                                                                                                                                     [xxbos, xxmaj, just, got, one, and, it, works, as, advertised, ., xxmaj, easy, to, use, ., xxmaj, easy, to, set, up, ., xxmaj, very, helpful, as, we, travel, a, lot, and, will, be, able, to, keep, an, eye, on, our, home, ., xxmaj, might, add, a, way, you, can, also, connect, through, a, laptop, .]\n",
              "2                                                                                                                                                                                                                                                                                               [xxbos, xxmaj, it, 's, really, great, ,, but, after, some, work, in, events, xxmaj, i, 'm, not, using, because, it, 's, heavy, without, the, chest, acessory, .]\n",
              "3                                                                                                                                                                                                                                                                                                                                                                                             [xxbos, xxmaj, we, already, had, three, and, needed, one, more, .]\n",
              "4    [xxbos, xxmaj, the, clamp, itself, seems, solid, enough, ,, but, the, spring, that, allows, the, jaws, to, open, as, you, loosen, the, clamp, does, not, look, like, it, will, hold, up, for, long, ., xxmaj, wish, now, i, had, spent, a, few, bucks, extra, and, bought, a, genuine, xxmaj, manfrotto, ., xxmaj, for, the, price, this, clamp, is, ok, but, in, the, long, run, i, expect, it, will, be, a, case, of, \", buy, cheap, ,, buy, twice, \", .]\n",
              "Name: review_body, dtype: object"
            ]
          },
          "metadata": {
            "tags": []
          },
          "execution_count": 46
        }
      ]
    },
    {
      "cell_type": "markdown",
      "metadata": {
        "id": "fWg2oSLZSXC9"
      },
      "source": [
        "Numericalize le tenemos que pasar nuestro texto tokenizado"
      ]
    },
    {
      "cell_type": "code",
      "metadata": {
        "colab": {
          "base_uri": "https://localhost:8080/",
          "height": 52
        },
        "id": "vGLwaHLYRr24",
        "outputId": "611cfd50-5df0-4632-b76b-5e97839e40f8"
      },
      "source": [
        "num = Numericalize()\n",
        "num.setup(toks200)\n",
        "coll_repr(num.vocab,20)"
      ],
      "execution_count": 47,
      "outputs": [
        {
          "output_type": "execute_result",
          "data": {
            "application/vnd.google.colaboratory.intrinsic+json": {
              "type": "string"
            },
            "text/plain": [
              "\"(#560) ['xxunk','xxpad','xxbos','xxeos','xxfld','xxrep','xxwrep','xxup','xxmaj','.','the','i',',','and','it','to','a','for','is','this'...]\""
            ]
          },
          "metadata": {
            "tags": []
          },
          "execution_count": 47
        }
      ]
    },
    {
      "cell_type": "code",
      "metadata": {
        "colab": {
          "base_uri": "https://localhost:8080/"
        },
        "id": "yHlowj8ISbK5",
        "outputId": "988a5241-dc08-4e8a-a264-868995549777"
      },
      "source": [
        "nums = num(toks)[:20]; nums"
      ],
      "execution_count": 48,
      "outputs": [
        {
          "output_type": "execute_result",
          "data": {
            "text/plain": [
              "TensorText([  0,  18,   0, 332,  17,  77,   0,  25,  14, 211, 103, 212])"
            ]
          },
          "metadata": {
            "tags": []
          },
          "execution_count": 48
        }
      ]
    },
    {
      "cell_type": "code",
      "metadata": {
        "colab": {
          "base_uri": "https://localhost:8080/",
          "height": 35
        },
        "id": "BwCOkfaYSgEM",
        "outputId": "c00a2d91-9b9a-49cc-8a8d-05514f7da547"
      },
      "source": [
        "' '.join(num.vocab[o] for o in nums) ## para reconstruir"
      ],
      "execution_count": 49,
      "outputs": [
        {
          "output_type": "execute_result",
          "data": {
            "application/vnd.google.colaboratory.intrinsic+json": {
              "type": "string"
            },
            "text/plain": [
              "'xxunk is xxunk expensive for only xxunk but it came really fast'"
            ]
          },
          "metadata": {
            "tags": []
          },
          "execution_count": 49
        }
      ]
    },
    {
      "cell_type": "code",
      "metadata": {
        "id": "rA9rW87BTHXa"
      },
      "source": [
        "nums200 = toks200.map(num)"
      ],
      "execution_count": 50,
      "outputs": []
    },
    {
      "cell_type": "code",
      "metadata": {
        "id": "JE8XOWJfSlEj"
      },
      "source": [
        "dl = LMDataLoader(nums200)"
      ],
      "execution_count": 51,
      "outputs": []
    },
    {
      "cell_type": "code",
      "metadata": {
        "colab": {
          "base_uri": "https://localhost:8080/"
        },
        "id": "TnBU-0tzTLiR",
        "outputId": "90781c73-5e59-4087-8cee-f6ab2f90c3b6"
      },
      "source": [
        "x,y = first(dl)\n",
        "x.shape,y.shape"
      ],
      "execution_count": 52,
      "outputs": [
        {
          "output_type": "execute_result",
          "data": {
            "text/plain": [
              "((64, 72), (64, 72))"
            ]
          },
          "metadata": {
            "tags": []
          },
          "execution_count": 52
        }
      ]
    },
    {
      "cell_type": "markdown",
      "metadata": {
        "id": "CeKjhxJITTlF"
      },
      "source": [
        "Dependent variable"
      ]
    },
    {
      "cell_type": "code",
      "metadata": {
        "colab": {
          "base_uri": "https://localhost:8080/",
          "height": 35
        },
        "id": "p4HksJGITPbD",
        "outputId": "75240dcc-290a-4bac-a0db-9f365d1cbbd3"
      },
      "source": [
        "' '.join(num.vocab[o] for o in x[0][:20])"
      ],
      "execution_count": 53,
      "outputs": [
        {
          "output_type": "execute_result",
          "data": {
            "application/vnd.google.colaboratory.intrinsic+json": {
              "type": "string"
            },
            "text/plain": [
              "'xxbos xxmaj it is xxunk expensive for only xxunk but it came really fast xxbos xxmaj just got one and'"
            ]
          },
          "metadata": {
            "tags": []
          },
          "execution_count": 53
        }
      ]
    },
    {
      "cell_type": "markdown",
      "metadata": {
        "id": "ypXzlF5yTW3G"
      },
      "source": [
        "Independent variable ( shifted one word to the right , following word)"
      ]
    },
    {
      "cell_type": "code",
      "metadata": {
        "colab": {
          "base_uri": "https://localhost:8080/",
          "height": 35
        },
        "id": "tfWOQoUDTVSK",
        "outputId": "bc7810e5-5fc0-495c-d25c-e6f330aada81"
      },
      "source": [
        "' '.join(num.vocab[o] for o in y[0][:20])"
      ],
      "execution_count": 54,
      "outputs": [
        {
          "output_type": "execute_result",
          "data": {
            "application/vnd.google.colaboratory.intrinsic+json": {
              "type": "string"
            },
            "text/plain": [
              "'xxmaj it is xxunk expensive for only xxunk but it came really fast xxbos xxmaj just got one and it'"
            ]
          },
          "metadata": {
            "tags": []
          },
          "execution_count": 54
        }
      ]
    },
    {
      "cell_type": "markdown",
      "metadata": {
        "id": "cktKnskC5L8-"
      },
      "source": [
        "# Train language model of amazon reviews (to put on top of wikipedia lenguage model)"
      ]
    },
    {
      "cell_type": "markdown",
      "metadata": {
        "id": "n8vT4W2U0Uu8"
      },
      "source": [
        "Fastai handles tokenization and numericalization cuando pasamos TextBlock to DataBlock "
      ]
    },
    {
      "cell_type": "code",
      "metadata": {
        "colab": {
          "base_uri": "https://localhost:8080/",
          "height": 71
        },
        "id": "WwoNe9aVTZ-S",
        "outputId": "a9d8a0a2-4795-4339-e8c9-b3b11a8b0bd9"
      },
      "source": [
        "#DATA BLOCKS\n",
        "\n",
        "amazon = DataBlock(blocks=TextBlock.from_df('review_body', is_lm=True),\n",
        "                    get_x=ColReader('text'),\n",
        "                    splitter=ColSplitter())\n",
        "\n",
        "dls_lm = amazon.dataloaders(df, bs=128, seq_len=80)\n"
      ],
      "execution_count": 31,
      "outputs": [
        {
          "output_type": "display_data",
          "data": {
            "text/html": [
              ""
            ],
            "text/plain": [
              "<IPython.core.display.HTML object>"
            ]
          },
          "metadata": {
            "tags": []
          }
        },
        {
          "output_type": "stream",
          "text": [
            "/usr/local/lib/python3.6/dist-packages/numpy/core/_asarray.py:83: VisibleDeprecationWarning: Creating an ndarray from ragged nested sequences (which is a list-or-tuple of lists-or-tuples-or ndarrays with different lengths or shapes) is deprecated. If you meant to do this, you must specify 'dtype=object' when creating the ndarray\n",
            "  return array(a, dtype, copy=False, order=order)\n"
          ],
          "name": "stderr"
        }
      ]
    },
    {
      "cell_type": "code",
      "metadata": {
        "colab": {
          "base_uri": "https://localhost:8080/",
          "height": 728
        },
        "id": "7WVfzKGJkybN",
        "outputId": "0e60f26a-c4c8-49db-a97d-ce84b2cfbf88"
      },
      "source": [
        "dls_lm.show_batch(max_n=6)"
      ],
      "execution_count": 32,
      "outputs": [
        {
          "output_type": "display_data",
          "data": {
            "text/html": [
              "<table border=\"1\" class=\"dataframe\">\n",
              "  <thead>\n",
              "    <tr style=\"text-align: right;\">\n",
              "      <th></th>\n",
              "      <th>text</th>\n",
              "      <th>text_</th>\n",
              "    </tr>\n",
              "  </thead>\n",
              "  <tbody>\n",
              "    <tr>\n",
              "      <th>0</th>\n",
              "      <td>xxbos xxmaj careful this one has squared , pointed corners . xxmaj shown to be a replacement for my model , it is xxmaj not . xxmaj the xxmaj brand name cover has rounded corners . xxmaj the cover i received does not fit and not worth the money and time to send back . xxbos didnot like the product . cumbersome and kept moving : ( xxbos this poor , sad little camera is such a great idea ,</td>\n",
              "      <td>xxmaj careful this one has squared , pointed corners . xxmaj shown to be a replacement for my model , it is xxmaj not . xxmaj the xxmaj brand name cover has rounded corners . xxmaj the cover i received does not fit and not worth the money and time to send back . xxbos didnot like the product . cumbersome and kept moving : ( xxbos this poor , sad little camera is such a great idea , but</td>\n",
              "    </tr>\n",
              "    <tr>\n",
              "      <th>1</th>\n",
              "      <td>recommended ! xxbos xxmaj should have read the specs closer . xxmaj only takes high resolution pics . xxmaj can not change setting for smaller file sizes . xxmaj crazy in the day and age that this feature is not included . i have a 15 year old xxmaj sony that does it . xxmaj otherwise it 's a decent camera . xxbos xxmaj one reviewer seems to think this is an outdoor camera . xxmaj it is not -</td>\n",
              "      <td>! xxbos xxmaj should have read the specs closer . xxmaj only takes high resolution pics . xxmaj can not change setting for smaller file sizes . xxmaj crazy in the day and age that this feature is not included . i have a 15 year old xxmaj sony that does it . xxmaj otherwise it 's a decent camera . xxbos xxmaj one reviewer seems to think this is an outdoor camera . xxmaj it is not - the</td>\n",
              "    </tr>\n",
              "    <tr>\n",
              "      <th>2</th>\n",
              "      <td>appear life - size . xxmaj the viewfinder is much more effective than the xxup lcd for reviewing photos . i do n't use corrective glasses , but i do usually wear sunglasses outdoors . xxmaj this viewfinder works great with or without glasses . xxmaj my only complaint is that is takes about 1 / 2 second for the viewfinder to turn on after you bring your eye up to its eyepiece . xxmaj if you are in a</td>\n",
              "      <td>life - size . xxmaj the viewfinder is much more effective than the xxup lcd for reviewing photos . i do n't use corrective glasses , but i do usually wear sunglasses outdoors . xxmaj this viewfinder works great with or without glasses . xxmaj my only complaint is that is takes about 1 / 2 second for the viewfinder to turn on after you bring your eye up to its eyepiece . xxmaj if you are in a situation</td>\n",
              "    </tr>\n",
              "    <tr>\n",
              "      <th>3</th>\n",
              "      <td>lens or higher would be a nice option . xxmaj the night vision was usable but again very fuzzy . xxmaj the sound however was very noisy . xxmaj this camera suffers from a background hiss that is present even in a dead quiet room . i tried different xxup usb power xxunk plus with having a standard micro usb for power ) , thinking it might help but it did n't make any difference . i was able to</td>\n",
              "      <td>or higher would be a nice option . xxmaj the night vision was usable but again very fuzzy . xxmaj the sound however was very noisy . xxmaj this camera suffers from a background hiss that is present even in a dead quiet room . i tried different xxup usb power xxunk plus with having a standard micro usb for power ) , thinking it might help but it did n't make any difference . i was able to power</td>\n",
              "    </tr>\n",
              "    <tr>\n",
              "      <th>4</th>\n",
              "      <td>improved just from using this lens . xxmaj it is wicked sharp and blurs the background perfectly without being too pinpoint in xxunk focus . xxmaj something i did have difficult getting use to was there was absolutely no zoom , you have to get closer up or further away from the subject . xxmaj but that in no way xxunk my love for this lens . i have n't used it for weddings yet but i am sure it</td>\n",
              "      <td>just from using this lens . xxmaj it is wicked sharp and blurs the background perfectly without being too pinpoint in xxunk focus . xxmaj something i did have difficult getting use to was there was absolutely no zoom , you have to get closer up or further away from the subject . xxmaj but that in no way xxunk my love for this lens . i have n't used it for weddings yet but i am sure it will</td>\n",
              "    </tr>\n",
              "    <tr>\n",
              "      <th>5</th>\n",
              "      <td>inside . xxmaj annoying . i wish that 's all it was - i could fix that with a bit of tape or something . xxmaj but the draining is a serious flaw ! xxmaj edit ( 12 / 7 / 15 ) : i did not return it as the battery draining issue went away . xxmaj but something else popped up ( or i just noticed ) - the dial controller ( by the shutter ) does not</td>\n",
              "      <td>. xxmaj annoying . i wish that 's all it was - i could fix that with a bit of tape or something . xxmaj but the draining is a serious flaw ! xxmaj edit ( 12 / 7 / 15 ) : i did not return it as the battery draining issue went away . xxmaj but something else popped up ( or i just noticed ) - the dial controller ( by the shutter ) does not (</td>\n",
              "    </tr>\n",
              "  </tbody>\n",
              "</table>"
            ],
            "text/plain": [
              "<IPython.core.display.HTML object>"
            ]
          },
          "metadata": {
            "tags": []
          }
        }
      ]
    },
    {
      "cell_type": "code",
      "metadata": {
        "id": "1K0Gse_hlMHr",
        "colab": {
          "base_uri": "https://localhost:8080/",
          "height": 17
        },
        "outputId": "5549f7c0-69be-4a00-e3e6-159e2873582c"
      },
      "source": [
        "learn = language_model_learner(\n",
        "    dls_lm, AWD_LSTM, drop_mult=0.3,            ### awd_lstm rnn que ya introduce dropout y mas (regularizacion)\n",
        "    metrics=[accuracy, Perplexity()]).to_fp16()"
      ],
      "execution_count": 33,
      "outputs": [
        {
          "output_type": "display_data",
          "data": {
            "text/html": [
              ""
            ],
            "text/plain": [
              "<IPython.core.display.HTML object>"
            ]
          },
          "metadata": {
            "tags": []
          }
        }
      ]
    },
    {
      "cell_type": "code",
      "metadata": {
        "colab": {
          "base_uri": "https://localhost:8080/",
          "height": 80
        },
        "id": "XL-88mGk9Y6y",
        "outputId": "e39fcf63-a144-4005-9d6a-ceedd9401fbe"
      },
      "source": [
        "learn.fit_one_cycle(1, 2e-2)"
      ],
      "execution_count": 34,
      "outputs": [
        {
          "output_type": "display_data",
          "data": {
            "text/html": [
              "<table border=\"1\" class=\"dataframe\">\n",
              "  <thead>\n",
              "    <tr style=\"text-align: left;\">\n",
              "      <th>epoch</th>\n",
              "      <th>train_loss</th>\n",
              "      <th>valid_loss</th>\n",
              "      <th>accuracy</th>\n",
              "      <th>perplexity</th>\n",
              "      <th>time</th>\n",
              "    </tr>\n",
              "  </thead>\n",
              "  <tbody>\n",
              "    <tr>\n",
              "      <td>0</td>\n",
              "      <td>4.173351</td>\n",
              "      <td>3.876342</td>\n",
              "      <td>0.276347</td>\n",
              "      <td>48.247417</td>\n",
              "      <td>00:59</td>\n",
              "    </tr>\n",
              "  </tbody>\n",
              "</table>"
            ],
            "text/plain": [
              "<IPython.core.display.HTML object>"
            ]
          },
          "metadata": {
            "tags": []
          }
        }
      ]
    },
    {
      "cell_type": "code",
      "metadata": {
        "colab": {
          "base_uri": "https://localhost:8080/"
        },
        "id": "qi1qpHf7GrZN",
        "outputId": "b49e4344-25cc-4b79-b614-382c0af24a30"
      },
      "source": [
        "learn.save('1epoch')"
      ],
      "execution_count": 35,
      "outputs": [
        {
          "output_type": "execute_result",
          "data": {
            "text/plain": [
              "Path('models/1epoch.pth')"
            ]
          },
          "metadata": {
            "tags": []
          },
          "execution_count": 35
        }
      ]
    },
    {
      "cell_type": "code",
      "metadata": {
        "id": "odzMnQlsGy89"
      },
      "source": [
        "learn = learn.load('1epoch')"
      ],
      "execution_count": 36,
      "outputs": []
    },
    {
      "cell_type": "code",
      "metadata": {
        "colab": {
          "base_uri": "https://localhost:8080/",
          "height": 359
        },
        "id": "BCigiluXG1Ny",
        "outputId": "87359c29-8a70-458e-d440-e1503efafe78"
      },
      "source": [
        "learn.unfreeze()\n",
        "learn.fit_one_cycle(10, 2e-3)"
      ],
      "execution_count": 37,
      "outputs": [
        {
          "output_type": "display_data",
          "data": {
            "text/html": [
              "<table border=\"1\" class=\"dataframe\">\n",
              "  <thead>\n",
              "    <tr style=\"text-align: left;\">\n",
              "      <th>epoch</th>\n",
              "      <th>train_loss</th>\n",
              "      <th>valid_loss</th>\n",
              "      <th>accuracy</th>\n",
              "      <th>perplexity</th>\n",
              "      <th>time</th>\n",
              "    </tr>\n",
              "  </thead>\n",
              "  <tbody>\n",
              "    <tr>\n",
              "      <td>0</td>\n",
              "      <td>3.859751</td>\n",
              "      <td>3.773847</td>\n",
              "      <td>0.288288</td>\n",
              "      <td>43.547276</td>\n",
              "      <td>01:02</td>\n",
              "    </tr>\n",
              "    <tr>\n",
              "      <td>1</td>\n",
              "      <td>3.761610</td>\n",
              "      <td>3.702308</td>\n",
              "      <td>0.296354</td>\n",
              "      <td>40.540764</td>\n",
              "      <td>01:02</td>\n",
              "    </tr>\n",
              "    <tr>\n",
              "      <td>2</td>\n",
              "      <td>3.623647</td>\n",
              "      <td>3.639982</td>\n",
              "      <td>0.303425</td>\n",
              "      <td>38.091167</td>\n",
              "      <td>01:02</td>\n",
              "    </tr>\n",
              "    <tr>\n",
              "      <td>3</td>\n",
              "      <td>3.455446</td>\n",
              "      <td>3.622252</td>\n",
              "      <td>0.308662</td>\n",
              "      <td>37.421738</td>\n",
              "      <td>01:02</td>\n",
              "    </tr>\n",
              "    <tr>\n",
              "      <td>4</td>\n",
              "      <td>3.282788</td>\n",
              "      <td>3.617729</td>\n",
              "      <td>0.309842</td>\n",
              "      <td>37.252876</td>\n",
              "      <td>01:02</td>\n",
              "    </tr>\n",
              "    <tr>\n",
              "      <td>5</td>\n",
              "      <td>3.118665</td>\n",
              "      <td>3.646822</td>\n",
              "      <td>0.308596</td>\n",
              "      <td>38.352585</td>\n",
              "      <td>01:01</td>\n",
              "    </tr>\n",
              "    <tr>\n",
              "      <td>6</td>\n",
              "      <td>2.963562</td>\n",
              "      <td>3.687764</td>\n",
              "      <td>0.307384</td>\n",
              "      <td>39.955395</td>\n",
              "      <td>01:01</td>\n",
              "    </tr>\n",
              "    <tr>\n",
              "      <td>7</td>\n",
              "      <td>2.841316</td>\n",
              "      <td>3.723233</td>\n",
              "      <td>0.305286</td>\n",
              "      <td>41.398026</td>\n",
              "      <td>01:02</td>\n",
              "    </tr>\n",
              "    <tr>\n",
              "      <td>8</td>\n",
              "      <td>2.741866</td>\n",
              "      <td>3.756294</td>\n",
              "      <td>0.303203</td>\n",
              "      <td>42.789555</td>\n",
              "      <td>01:01</td>\n",
              "    </tr>\n",
              "    <tr>\n",
              "      <td>9</td>\n",
              "      <td>2.697739</td>\n",
              "      <td>3.767737</td>\n",
              "      <td>0.302775</td>\n",
              "      <td>43.282024</td>\n",
              "      <td>01:01</td>\n",
              "    </tr>\n",
              "  </tbody>\n",
              "</table>"
            ],
            "text/plain": [
              "<IPython.core.display.HTML object>"
            ]
          },
          "metadata": {
            "tags": []
          }
        }
      ]
    },
    {
      "cell_type": "code",
      "metadata": {
        "id": "x4MwN5qYG3E_"
      },
      "source": [
        "learn.save_encoder('finetuned')"
      ],
      "execution_count": 38,
      "outputs": []
    },
    {
      "cell_type": "markdown",
      "metadata": {
        "id": "EP7-h77MHaMP"
      },
      "source": [
        "# Creating classifier DataLoaders, training complete classifier"
      ]
    },
    {
      "cell_type": "code",
      "metadata": {
        "colab": {
          "base_uri": "https://localhost:8080/",
          "height": 71
        },
        "id": "GVWDazJJHeyW",
        "outputId": "6d86c0a5-2bde-4a38-a46e-8695ad1245fa"
      },
      "source": [
        "dls_clas = DataBlock(blocks=(TextBlock.from_df('review_body', seq_len=72, vocab=dls_lm.vocab), CategoryBlock),\n",
        "                      get_x=ColReader('text'),\n",
        "                      get_y=ColReader('star_rating'),\n",
        "                      splitter=ColSplitter()).dataloaders(df, bs=128, seq_len=72)"
      ],
      "execution_count": 39,
      "outputs": [
        {
          "output_type": "display_data",
          "data": {
            "text/html": [
              ""
            ],
            "text/plain": [
              "<IPython.core.display.HTML object>"
            ]
          },
          "metadata": {
            "tags": []
          }
        },
        {
          "output_type": "stream",
          "text": [
            "/usr/local/lib/python3.6/dist-packages/numpy/core/_asarray.py:83: VisibleDeprecationWarning: Creating an ndarray from ragged nested sequences (which is a list-or-tuple of lists-or-tuples-or ndarrays with different lengths or shapes) is deprecated. If you meant to do this, you must specify 'dtype=object' when creating the ndarray\n",
            "  return array(a, dtype, copy=False, order=order)\n"
          ],
          "name": "stderr"
        }
      ]
    },
    {
      "cell_type": "code",
      "metadata": {
        "colab": {
          "base_uri": "https://localhost:8080/",
          "height": 629
        },
        "id": "A8Y4fLcAIUoc",
        "outputId": "3dcdf1b7-7498-4f8d-d153-06411ec9f601"
      },
      "source": [
        "dls_clas.show_batch(max_n=5)"
      ],
      "execution_count": 40,
      "outputs": [
        {
          "output_type": "display_data",
          "data": {
            "text/html": [
              "<table border=\"1\" class=\"dataframe\">\n",
              "  <thead>\n",
              "    <tr style=\"text-align: right;\">\n",
              "      <th></th>\n",
              "      <th>text</th>\n",
              "      <th>category</th>\n",
              "    </tr>\n",
              "  </thead>\n",
              "  <tbody>\n",
              "    <tr>\n",
              "      <th>0</th>\n",
              "      <td>xxbos i brought 3 of these cameras from xxmaj xxunk , and they were , indeed , the chinese version . xxmaj however , they came default with english firmware , which was the main reason why i purchased two more from the same seller after buying my first one . xxmaj this is not a plug - and - play security camera , and you will need some network knowledge to configure the camera correctly . i hope to help as many buyers as possible , helping figure out whether or not if this camera is right for them . xxmaj before moving forward , let me just point out some obvious facts : this is a fixed lens camera with a wide angle 2.8 mm glass lens , if you are looking for a camera with tilt / pan feature , please look else where . xxmaj you</td>\n",
              "      <td>1</td>\n",
              "    </tr>\n",
              "    <tr>\n",
              "      <th>1</th>\n",
              "      <td>xxbos xxmaj if you own a gopro xxmaj camera , chances are you have realized that there are literally thousands of accessories on the market for it . xxmaj some accessory kits include one or two items , and you have to buy dozens of different kits in order to get everything that you need . xxmaj this kit from xxmaj baxia xxmaj technology literally has everything that you need for your gopro xxmaj camera . \\n\\n xxmaj first of all , i was overwhelmed by the number of pieces included in this set . i know it states exactly what is included , but wow , when you see it all together , it 's a lot of pieces . xxmaj you immediately wonder will i ever use all of this ? xxmaj and chances are , you wo n't . xxmaj but , if you have a gopro</td>\n",
              "      <td>1</td>\n",
              "    </tr>\n",
              "    <tr>\n",
              "      <th>2</th>\n",
              "      <td>xxbos 3 xxmaj updates xxmaj below for xxmaj review \\n\\n xxmaj this bag is near perfect . xxmaj it is sturdy , feels very durable and high quality , has plenty of space and options for carry , good design , and nice style . \\n\\n i needed more room for my xxup nex-5 t and bigger lenses as well as space for other items compared to my other sling camera bag . xxmaj this comfortably holds a large xxup dslr as well as many lenses and accessories so this effortlessly carries my xxup nex-5 t and xxmaj sony xxunk lens on the side . xxmaj it is a bit of overkill for my setup but i wanted options and extra room my previous bag could n't accommodate . \\n\\n i really like the amount of space this bag offers . xxmaj by allowing for so much room , this</td>\n",
              "      <td>1</td>\n",
              "    </tr>\n",
              "    <tr>\n",
              "      <th>3</th>\n",
              "      <td>xxbos i apologize for the length of this review , but i thought the details might be helpful for folks interested in this awesome little gadget . \\n xxmaj my xxmaj celestron starsense arrived last week , and xxmaj i ’ve had a couple of chances to try it out . xxmaj i ’ve used the device exactly twice , but i think my experience may provide some useful information to others who are thinking of purchasing this device . \\n xxmaj my focus is on astrophotography and my rig is 100 % portable on a tripod , so alignment is a frequent chore . i held off buying the device because i had read that it had severe issues integrating with xxmaj celestron ’s native polar alignment process , xxup aspa ( all - star xxmaj polar xxmaj alignment ) . xxmaj once those issues were corrected by xxmaj</td>\n",
              "      <td>1</td>\n",
              "    </tr>\n",
              "    <tr>\n",
              "      <th>4</th>\n",
              "      <td>xxbos i tested the xxmaj dahua xxup xxunk - 8p with three xxmaj dahua xxup ipc - xxunk 3mp cameras . xxmaj lost video upon a motion detection event was a show stopper . \\n\\n i installed the xxup hd , turned on the system , plugged in the first camera and was able to get video on the screen within several minutes . \\n\\n xxmaj however the xxup nvr only recognized the camera as a 2mp camera ( not 3mp ; had to set that manually ) , and the xxup nvr defaults the camera to ' always on ' recording . \\n\\n xxmaj figuring out how to set the xxup nvr to record only upon motion detect was a nightmare . xxmaj first you need to enable motion detect for the camera ( not under \" camera \" settings , but under \" event \" settings ) .</td>\n",
              "      <td>0</td>\n",
              "    </tr>\n",
              "  </tbody>\n",
              "</table>"
            ],
            "text/plain": [
              "<IPython.core.display.HTML object>"
            ]
          },
          "metadata": {
            "tags": []
          }
        }
      ]
    },
    {
      "cell_type": "code",
      "metadata": {
        "id": "lpMu_ddwJ6Nh"
      },
      "source": [
        "learn = text_classifier_learner(dls_clas, AWD_LSTM, drop_mult=0.5, \n",
        "                                metrics=accuracy).to_fp16()"
      ],
      "execution_count": 57,
      "outputs": []
    },
    {
      "cell_type": "code",
      "metadata": {
        "id": "K7u-DT2kJ-JC"
      },
      "source": [
        "learn = learn.load_encoder('finetuned')"
      ],
      "execution_count": 58,
      "outputs": []
    },
    {
      "cell_type": "code",
      "metadata": {
        "colab": {
          "base_uri": "https://localhost:8080/",
          "height": 80
        },
        "id": "da2PRuHbKANm",
        "outputId": "f72f1670-3379-4aef-e2e7-dac15746c269"
      },
      "source": [
        "learn.fit_one_cycle(1, 2e-2)  ## start training at a low learning rate, gradually increase it for the first section of training, and then grad‐ ually decrease it again for the last section of training:"
      ],
      "execution_count": 59,
      "outputs": [
        {
          "output_type": "display_data",
          "data": {
            "text/html": [
              "<table border=\"1\" class=\"dataframe\">\n",
              "  <thead>\n",
              "    <tr style=\"text-align: left;\">\n",
              "      <th>epoch</th>\n",
              "      <th>train_loss</th>\n",
              "      <th>valid_loss</th>\n",
              "      <th>accuracy</th>\n",
              "      <th>time</th>\n",
              "    </tr>\n",
              "  </thead>\n",
              "  <tbody>\n",
              "    <tr>\n",
              "      <td>0</td>\n",
              "      <td>0.519184</td>\n",
              "      <td>0.272116</td>\n",
              "      <td>0.890800</td>\n",
              "      <td>00:37</td>\n",
              "    </tr>\n",
              "  </tbody>\n",
              "</table>"
            ],
            "text/plain": [
              "<IPython.core.display.HTML object>"
            ]
          },
          "metadata": {
            "tags": []
          }
        }
      ]
    },
    {
      "cell_type": "code",
      "metadata": {
        "id": "bFNy5zIvKCaA"
      },
      "source": [
        "learn.freeze_to(-2)"
      ],
      "execution_count": 63,
      "outputs": []
    },
    {
      "cell_type": "code",
      "metadata": {
        "colab": {
          "base_uri": "https://localhost:8080/",
          "height": 80
        },
        "id": "msn4omCp9JlX",
        "outputId": "d3d7961e-afef-47c8-a1b9-6a6e791f9b38"
      },
      "source": [
        "learn.fit_one_cycle(1, slice(1e-2/(2.6**4),1e-2))"
      ],
      "execution_count": 64,
      "outputs": [
        {
          "output_type": "display_data",
          "data": {
            "text/html": [
              "<table border=\"1\" class=\"dataframe\">\n",
              "  <thead>\n",
              "    <tr style=\"text-align: left;\">\n",
              "      <th>epoch</th>\n",
              "      <th>train_loss</th>\n",
              "      <th>valid_loss</th>\n",
              "      <th>accuracy</th>\n",
              "      <th>time</th>\n",
              "    </tr>\n",
              "  </thead>\n",
              "  <tbody>\n",
              "    <tr>\n",
              "      <td>0</td>\n",
              "      <td>0.215880</td>\n",
              "      <td>0.236662</td>\n",
              "      <td>0.913400</td>\n",
              "      <td>00:39</td>\n",
              "    </tr>\n",
              "  </tbody>\n",
              "</table>"
            ],
            "text/plain": [
              "<IPython.core.display.HTML object>"
            ]
          },
          "metadata": {
            "tags": []
          }
        }
      ]
    },
    {
      "cell_type": "code",
      "metadata": {
        "colab": {
          "base_uri": "https://localhost:8080/",
          "height": 80
        },
        "id": "Rm9MTFlSKGWi",
        "outputId": "8182db52-319b-470b-a6df-bda833a949f0"
      },
      "source": [
        "learn.freeze_to(-3)\n",
        "learn.fit_one_cycle(1, slice(5e-3/(2.6**4),5e-3))"
      ],
      "execution_count": 65,
      "outputs": [
        {
          "output_type": "display_data",
          "data": {
            "text/html": [
              "<table border=\"1\" class=\"dataframe\">\n",
              "  <thead>\n",
              "    <tr style=\"text-align: left;\">\n",
              "      <th>epoch</th>\n",
              "      <th>train_loss</th>\n",
              "      <th>valid_loss</th>\n",
              "      <th>accuracy</th>\n",
              "      <th>time</th>\n",
              "    </tr>\n",
              "  </thead>\n",
              "  <tbody>\n",
              "    <tr>\n",
              "      <td>0</td>\n",
              "      <td>0.211695</td>\n",
              "      <td>0.222822</td>\n",
              "      <td>0.920300</td>\n",
              "      <td>00:41</td>\n",
              "    </tr>\n",
              "  </tbody>\n",
              "</table>"
            ],
            "text/plain": [
              "<IPython.core.display.HTML object>"
            ]
          },
          "metadata": {
            "tags": []
          }
        }
      ]
    },
    {
      "cell_type": "code",
      "metadata": {
        "colab": {
          "base_uri": "https://localhost:8080/",
          "height": 111
        },
        "id": "6Ja_cWXtKJqj",
        "outputId": "706a0e18-e427-4da6-daf3-71dbaf0c42de"
      },
      "source": [
        "learn.unfreeze()\n",
        "learn.fit_one_cycle(2, slice(1e-3/(2.6**4),1e-3))"
      ],
      "execution_count": 66,
      "outputs": [
        {
          "output_type": "display_data",
          "data": {
            "text/html": [
              "<table border=\"1\" class=\"dataframe\">\n",
              "  <thead>\n",
              "    <tr style=\"text-align: left;\">\n",
              "      <th>epoch</th>\n",
              "      <th>train_loss</th>\n",
              "      <th>valid_loss</th>\n",
              "      <th>accuracy</th>\n",
              "      <th>time</th>\n",
              "    </tr>\n",
              "  </thead>\n",
              "  <tbody>\n",
              "    <tr>\n",
              "      <td>0</td>\n",
              "      <td>0.169736</td>\n",
              "      <td>0.233781</td>\n",
              "      <td>0.920900</td>\n",
              "      <td>00:42</td>\n",
              "    </tr>\n",
              "    <tr>\n",
              "      <td>1</td>\n",
              "      <td>0.146096</td>\n",
              "      <td>0.237842</td>\n",
              "      <td>0.922300</td>\n",
              "      <td>00:41</td>\n",
              "    </tr>\n",
              "  </tbody>\n",
              "</table>"
            ],
            "text/plain": [
              "<IPython.core.display.HTML object>"
            ]
          },
          "metadata": {
            "tags": []
          }
        }
      ]
    },
    {
      "cell_type": "markdown",
      "metadata": {
        "id": "iOWreVkhTbwv"
      },
      "source": [
        "Conseguimos un 92% de accuracy"
      ]
    },
    {
      "cell_type": "code",
      "metadata": {
        "id": "zSScagVPKM7Y"
      },
      "source": [
        ""
      ],
      "execution_count": null,
      "outputs": []
    }
  ]
}