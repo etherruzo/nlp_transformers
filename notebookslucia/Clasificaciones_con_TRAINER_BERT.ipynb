{
  "nbformat": 4,
  "nbformat_minor": 0,
  "metadata": {
    "accelerator": "GPU",
    "colab": {
      "name": "Clasificaciones con TRAINER - BERT.ipynb",
      "provenance": [],
      "collapsed_sections": [],
      "toc_visible": true
    },
    "kernelspec": {
      "display_name": "Python 3",
      "name": "python3"
    },
    "widgets": {
      "application/vnd.jupyter.widget-state+json": {
        "c1c63c59020545e89bf28d77051962da": {
          "model_module": "@jupyter-widgets/controls",
          "model_name": "HBoxModel",
          "state": {
            "_view_name": "HBoxView",
            "_dom_classes": [],
            "_model_name": "HBoxModel",
            "_view_module": "@jupyter-widgets/controls",
            "_model_module_version": "1.5.0",
            "_view_count": null,
            "_view_module_version": "1.5.0",
            "box_style": "",
            "layout": "IPY_MODEL_e319fde4ee924b31b0f53516d55f32a2",
            "_model_module": "@jupyter-widgets/controls",
            "children": [
              "IPY_MODEL_9030d749e7db4be1b68ad7437105d83c",
              "IPY_MODEL_80d5f0d6a0f24d0fa3c285b943c77228"
            ]
          }
        },
        "e319fde4ee924b31b0f53516d55f32a2": {
          "model_module": "@jupyter-widgets/base",
          "model_name": "LayoutModel",
          "state": {
            "_view_name": "LayoutView",
            "grid_template_rows": null,
            "right": null,
            "justify_content": null,
            "_view_module": "@jupyter-widgets/base",
            "overflow": null,
            "_model_module_version": "1.2.0",
            "_view_count": null,
            "flex_flow": null,
            "width": null,
            "min_width": null,
            "border": null,
            "align_items": null,
            "bottom": null,
            "_model_module": "@jupyter-widgets/base",
            "top": null,
            "grid_column": null,
            "overflow_y": null,
            "overflow_x": null,
            "grid_auto_flow": null,
            "grid_area": null,
            "grid_template_columns": null,
            "flex": null,
            "_model_name": "LayoutModel",
            "justify_items": null,
            "grid_row": null,
            "max_height": null,
            "align_content": null,
            "visibility": null,
            "align_self": null,
            "height": null,
            "min_height": null,
            "padding": null,
            "grid_auto_rows": null,
            "grid_gap": null,
            "max_width": null,
            "order": null,
            "_view_module_version": "1.2.0",
            "grid_template_areas": null,
            "object_position": null,
            "object_fit": null,
            "grid_auto_columns": null,
            "margin": null,
            "display": null,
            "left": null
          }
        },
        "9030d749e7db4be1b68ad7437105d83c": {
          "model_module": "@jupyter-widgets/controls",
          "model_name": "FloatProgressModel",
          "state": {
            "_view_name": "ProgressView",
            "style": "IPY_MODEL_45493d79ce6643cd80c96bc005755c18",
            "_dom_classes": [],
            "description": "Downloading: 100%",
            "_model_name": "FloatProgressModel",
            "bar_style": "success",
            "max": 433,
            "_view_module": "@jupyter-widgets/controls",
            "_model_module_version": "1.5.0",
            "value": 433,
            "_view_count": null,
            "_view_module_version": "1.5.0",
            "orientation": "horizontal",
            "min": 0,
            "description_tooltip": null,
            "_model_module": "@jupyter-widgets/controls",
            "layout": "IPY_MODEL_d564e5547fc941338d857d0007fc0f20"
          }
        },
        "80d5f0d6a0f24d0fa3c285b943c77228": {
          "model_module": "@jupyter-widgets/controls",
          "model_name": "HTMLModel",
          "state": {
            "_view_name": "HTMLView",
            "style": "IPY_MODEL_e9af364b0d254c0fa82159e996d85926",
            "_dom_classes": [],
            "description": "",
            "_model_name": "HTMLModel",
            "placeholder": "​",
            "_view_module": "@jupyter-widgets/controls",
            "_model_module_version": "1.5.0",
            "value": " 433/433 [00:07&lt;00:00, 60.9B/s]",
            "_view_count": null,
            "_view_module_version": "1.5.0",
            "description_tooltip": null,
            "_model_module": "@jupyter-widgets/controls",
            "layout": "IPY_MODEL_3d57a8a461f042e9b776ac8138cd82d4"
          }
        },
        "45493d79ce6643cd80c96bc005755c18": {
          "model_module": "@jupyter-widgets/controls",
          "model_name": "ProgressStyleModel",
          "state": {
            "_view_name": "StyleView",
            "_model_name": "ProgressStyleModel",
            "description_width": "initial",
            "_view_module": "@jupyter-widgets/base",
            "_model_module_version": "1.5.0",
            "_view_count": null,
            "_view_module_version": "1.2.0",
            "bar_color": null,
            "_model_module": "@jupyter-widgets/controls"
          }
        },
        "d564e5547fc941338d857d0007fc0f20": {
          "model_module": "@jupyter-widgets/base",
          "model_name": "LayoutModel",
          "state": {
            "_view_name": "LayoutView",
            "grid_template_rows": null,
            "right": null,
            "justify_content": null,
            "_view_module": "@jupyter-widgets/base",
            "overflow": null,
            "_model_module_version": "1.2.0",
            "_view_count": null,
            "flex_flow": null,
            "width": null,
            "min_width": null,
            "border": null,
            "align_items": null,
            "bottom": null,
            "_model_module": "@jupyter-widgets/base",
            "top": null,
            "grid_column": null,
            "overflow_y": null,
            "overflow_x": null,
            "grid_auto_flow": null,
            "grid_area": null,
            "grid_template_columns": null,
            "flex": null,
            "_model_name": "LayoutModel",
            "justify_items": null,
            "grid_row": null,
            "max_height": null,
            "align_content": null,
            "visibility": null,
            "align_self": null,
            "height": null,
            "min_height": null,
            "padding": null,
            "grid_auto_rows": null,
            "grid_gap": null,
            "max_width": null,
            "order": null,
            "_view_module_version": "1.2.0",
            "grid_template_areas": null,
            "object_position": null,
            "object_fit": null,
            "grid_auto_columns": null,
            "margin": null,
            "display": null,
            "left": null
          }
        },
        "e9af364b0d254c0fa82159e996d85926": {
          "model_module": "@jupyter-widgets/controls",
          "model_name": "DescriptionStyleModel",
          "state": {
            "_view_name": "StyleView",
            "_model_name": "DescriptionStyleModel",
            "description_width": "",
            "_view_module": "@jupyter-widgets/base",
            "_model_module_version": "1.5.0",
            "_view_count": null,
            "_view_module_version": "1.2.0",
            "_model_module": "@jupyter-widgets/controls"
          }
        },
        "3d57a8a461f042e9b776ac8138cd82d4": {
          "model_module": "@jupyter-widgets/base",
          "model_name": "LayoutModel",
          "state": {
            "_view_name": "LayoutView",
            "grid_template_rows": null,
            "right": null,
            "justify_content": null,
            "_view_module": "@jupyter-widgets/base",
            "overflow": null,
            "_model_module_version": "1.2.0",
            "_view_count": null,
            "flex_flow": null,
            "width": null,
            "min_width": null,
            "border": null,
            "align_items": null,
            "bottom": null,
            "_model_module": "@jupyter-widgets/base",
            "top": null,
            "grid_column": null,
            "overflow_y": null,
            "overflow_x": null,
            "grid_auto_flow": null,
            "grid_area": null,
            "grid_template_columns": null,
            "flex": null,
            "_model_name": "LayoutModel",
            "justify_items": null,
            "grid_row": null,
            "max_height": null,
            "align_content": null,
            "visibility": null,
            "align_self": null,
            "height": null,
            "min_height": null,
            "padding": null,
            "grid_auto_rows": null,
            "grid_gap": null,
            "max_width": null,
            "order": null,
            "_view_module_version": "1.2.0",
            "grid_template_areas": null,
            "object_position": null,
            "object_fit": null,
            "grid_auto_columns": null,
            "margin": null,
            "display": null,
            "left": null
          }
        },
        "5638b4ff4b2244ff8d410415268049cd": {
          "model_module": "@jupyter-widgets/controls",
          "model_name": "HBoxModel",
          "state": {
            "_view_name": "HBoxView",
            "_dom_classes": [],
            "_model_name": "HBoxModel",
            "_view_module": "@jupyter-widgets/controls",
            "_model_module_version": "1.5.0",
            "_view_count": null,
            "_view_module_version": "1.5.0",
            "box_style": "",
            "layout": "IPY_MODEL_6de674d1f0b349a7b12501c52f045143",
            "_model_module": "@jupyter-widgets/controls",
            "children": [
              "IPY_MODEL_203eedab4b68430d8573d343c6f22ccb",
              "IPY_MODEL_addaca4c4f22497dae441f2ed48d531f"
            ]
          }
        },
        "6de674d1f0b349a7b12501c52f045143": {
          "model_module": "@jupyter-widgets/base",
          "model_name": "LayoutModel",
          "state": {
            "_view_name": "LayoutView",
            "grid_template_rows": null,
            "right": null,
            "justify_content": null,
            "_view_module": "@jupyter-widgets/base",
            "overflow": null,
            "_model_module_version": "1.2.0",
            "_view_count": null,
            "flex_flow": null,
            "width": null,
            "min_width": null,
            "border": null,
            "align_items": null,
            "bottom": null,
            "_model_module": "@jupyter-widgets/base",
            "top": null,
            "grid_column": null,
            "overflow_y": null,
            "overflow_x": null,
            "grid_auto_flow": null,
            "grid_area": null,
            "grid_template_columns": null,
            "flex": null,
            "_model_name": "LayoutModel",
            "justify_items": null,
            "grid_row": null,
            "max_height": null,
            "align_content": null,
            "visibility": null,
            "align_self": null,
            "height": null,
            "min_height": null,
            "padding": null,
            "grid_auto_rows": null,
            "grid_gap": null,
            "max_width": null,
            "order": null,
            "_view_module_version": "1.2.0",
            "grid_template_areas": null,
            "object_position": null,
            "object_fit": null,
            "grid_auto_columns": null,
            "margin": null,
            "display": null,
            "left": null
          }
        },
        "203eedab4b68430d8573d343c6f22ccb": {
          "model_module": "@jupyter-widgets/controls",
          "model_name": "FloatProgressModel",
          "state": {
            "_view_name": "ProgressView",
            "style": "IPY_MODEL_4293f815970745c5b916c712f0081a07",
            "_dom_classes": [],
            "description": "Downloading: 100%",
            "_model_name": "FloatProgressModel",
            "bar_style": "success",
            "max": 440473133,
            "_view_module": "@jupyter-widgets/controls",
            "_model_module_version": "1.5.0",
            "value": 440473133,
            "_view_count": null,
            "_view_module_version": "1.5.0",
            "orientation": "horizontal",
            "min": 0,
            "description_tooltip": null,
            "_model_module": "@jupyter-widgets/controls",
            "layout": "IPY_MODEL_15fc91a45f46400a8358a36ee9287545"
          }
        },
        "addaca4c4f22497dae441f2ed48d531f": {
          "model_module": "@jupyter-widgets/controls",
          "model_name": "HTMLModel",
          "state": {
            "_view_name": "HTMLView",
            "style": "IPY_MODEL_a0c496abcc3142de8cd9d16a8da6d637",
            "_dom_classes": [],
            "description": "",
            "_model_name": "HTMLModel",
            "placeholder": "​",
            "_view_module": "@jupyter-widgets/controls",
            "_model_module_version": "1.5.0",
            "value": " 440M/440M [00:06&lt;00:00, 66.2MB/s]",
            "_view_count": null,
            "_view_module_version": "1.5.0",
            "description_tooltip": null,
            "_model_module": "@jupyter-widgets/controls",
            "layout": "IPY_MODEL_b94e8ebc7d854ffaa05af0277325cf96"
          }
        },
        "4293f815970745c5b916c712f0081a07": {
          "model_module": "@jupyter-widgets/controls",
          "model_name": "ProgressStyleModel",
          "state": {
            "_view_name": "StyleView",
            "_model_name": "ProgressStyleModel",
            "description_width": "initial",
            "_view_module": "@jupyter-widgets/base",
            "_model_module_version": "1.5.0",
            "_view_count": null,
            "_view_module_version": "1.2.0",
            "bar_color": null,
            "_model_module": "@jupyter-widgets/controls"
          }
        },
        "15fc91a45f46400a8358a36ee9287545": {
          "model_module": "@jupyter-widgets/base",
          "model_name": "LayoutModel",
          "state": {
            "_view_name": "LayoutView",
            "grid_template_rows": null,
            "right": null,
            "justify_content": null,
            "_view_module": "@jupyter-widgets/base",
            "overflow": null,
            "_model_module_version": "1.2.0",
            "_view_count": null,
            "flex_flow": null,
            "width": null,
            "min_width": null,
            "border": null,
            "align_items": null,
            "bottom": null,
            "_model_module": "@jupyter-widgets/base",
            "top": null,
            "grid_column": null,
            "overflow_y": null,
            "overflow_x": null,
            "grid_auto_flow": null,
            "grid_area": null,
            "grid_template_columns": null,
            "flex": null,
            "_model_name": "LayoutModel",
            "justify_items": null,
            "grid_row": null,
            "max_height": null,
            "align_content": null,
            "visibility": null,
            "align_self": null,
            "height": null,
            "min_height": null,
            "padding": null,
            "grid_auto_rows": null,
            "grid_gap": null,
            "max_width": null,
            "order": null,
            "_view_module_version": "1.2.0",
            "grid_template_areas": null,
            "object_position": null,
            "object_fit": null,
            "grid_auto_columns": null,
            "margin": null,
            "display": null,
            "left": null
          }
        },
        "a0c496abcc3142de8cd9d16a8da6d637": {
          "model_module": "@jupyter-widgets/controls",
          "model_name": "DescriptionStyleModel",
          "state": {
            "_view_name": "StyleView",
            "_model_name": "DescriptionStyleModel",
            "description_width": "",
            "_view_module": "@jupyter-widgets/base",
            "_model_module_version": "1.5.0",
            "_view_count": null,
            "_view_module_version": "1.2.0",
            "_model_module": "@jupyter-widgets/controls"
          }
        },
        "b94e8ebc7d854ffaa05af0277325cf96": {
          "model_module": "@jupyter-widgets/base",
          "model_name": "LayoutModel",
          "state": {
            "_view_name": "LayoutView",
            "grid_template_rows": null,
            "right": null,
            "justify_content": null,
            "_view_module": "@jupyter-widgets/base",
            "overflow": null,
            "_model_module_version": "1.2.0",
            "_view_count": null,
            "flex_flow": null,
            "width": null,
            "min_width": null,
            "border": null,
            "align_items": null,
            "bottom": null,
            "_model_module": "@jupyter-widgets/base",
            "top": null,
            "grid_column": null,
            "overflow_y": null,
            "overflow_x": null,
            "grid_auto_flow": null,
            "grid_area": null,
            "grid_template_columns": null,
            "flex": null,
            "_model_name": "LayoutModel",
            "justify_items": null,
            "grid_row": null,
            "max_height": null,
            "align_content": null,
            "visibility": null,
            "align_self": null,
            "height": null,
            "min_height": null,
            "padding": null,
            "grid_auto_rows": null,
            "grid_gap": null,
            "max_width": null,
            "order": null,
            "_view_module_version": "1.2.0",
            "grid_template_areas": null,
            "object_position": null,
            "object_fit": null,
            "grid_auto_columns": null,
            "margin": null,
            "display": null,
            "left": null
          }
        }
      }
    }
  },
  "cells": [
    {
      "cell_type": "markdown",
      "metadata": {
        "id": "IaLnDfGYiW4e"
      },
      "source": [
        "# Librerias"
      ]
    },
    {
      "cell_type": "code",
      "metadata": {
        "id": "7UFpAiQTiYjx"
      },
      "source": [
        "%%capture \n",
        "!pip install transformers"
      ],
      "execution_count": 1,
      "outputs": []
    },
    {
      "cell_type": "code",
      "metadata": {
        "id": "f35SHFtzimJ-"
      },
      "source": [
        "from sklearn.model_selection import train_test_split\n",
        "import torch"
      ],
      "execution_count": 2,
      "outputs": []
    },
    {
      "cell_type": "code",
      "metadata": {
        "id": "2k0Ohzv4TLPB"
      },
      "source": [
        "import warnings\n",
        "warnings.filterwarnings('ignore')"
      ],
      "execution_count": 3,
      "outputs": []
    },
    {
      "cell_type": "code",
      "metadata": {
        "id": "lrr3DThJmY-4",
        "colab": {
          "base_uri": "https://localhost:8080/",
          "height": 34
        },
        "outputId": "04a1c7a0-086c-4715-f08a-2add8ff1441d"
      },
      "source": [
        "%%capture\n",
        "!pip install wandb\n",
        "import wandb\n",
        "wandb.login()\n",
        "# api key 64d2528e8d76865170c16bf804e7172bb3780c79"
      ],
      "execution_count": 4,
      "outputs": [
        {
          "output_type": "stream",
          "text": [
            "wandb: Paste an API key from your profile and hit enter: ··········\n"
          ],
          "name": "stdout"
        }
      ]
    },
    {
      "cell_type": "code",
      "metadata": {
        "colab": {
          "base_uri": "https://localhost:8080/"
        },
        "id": "InIN4Da7mwkk",
        "outputId": "4ec03b16-a33d-4af4-d92e-cfa60a970f92"
      },
      "source": [
        "wandb.login()"
      ],
      "execution_count": 5,
      "outputs": [
        {
          "output_type": "stream",
          "text": [
            "\u001b[34m\u001b[1mwandb\u001b[0m: Currently logged in as: \u001b[33mlucialarraona\u001b[0m (use `wandb login --relogin` to force relogin)\n"
          ],
          "name": "stderr"
        },
        {
          "output_type": "execute_result",
          "data": {
            "text/plain": [
              "True"
            ]
          },
          "metadata": {
            "tags": []
          },
          "execution_count": 5
        }
      ]
    },
    {
      "cell_type": "markdown",
      "metadata": {
        "id": "fRn0d1SIhD2w"
      },
      "source": [
        "# Carga de datos\n",
        "- incluidas nuevas columnas con concatenacion de review_body y categoria, review_body y titulo\n",
        "- nuevos indices para star rating, de 0-4 en vez de 1-5\n",
        "- numericalizar las categorias de los productos, 31 en total"
      ]
    },
    {
      "cell_type": "code",
      "metadata": {
        "colab": {
          "base_uri": "https://localhost:8080/"
        },
        "id": "1hpRSXd3g9e6",
        "outputId": "ce1160f3-317a-4529-ac6c-8a712c5af270"
      },
      "source": [
        "from google.colab import drive\n",
        "drive.mount('/content/drive')"
      ],
      "execution_count": null,
      "outputs": [
        {
          "output_type": "stream",
          "text": [
            "Drive already mounted at /content/drive; to attempt to forcibly remount, call drive.mount(\"/content/drive\", force_remount=True).\n"
          ],
          "name": "stdout"
        }
      ]
    },
    {
      "cell_type": "code",
      "metadata": {
        "id": "TSwvSunMhDUm"
      },
      "source": [
        "# Load data\n",
        "import pandas as pd\n",
        "path1 = \"drive/MyDrive/TFG_1/Datasets_procesados/train/amazonEN_train.csv\"\n",
        "path2 = \"drive/MyDrive/TFG_1/Datasets_procesados/valid/amazonEN_valid.csv\"\n",
        "path3 = \"drive/MyDrive/TFG_1/Datasets_procesados/test/amazonEN_test.csv\"\n",
        "df_train = pd.read_csv(path1)\n",
        "df_train = df_train.head(100000)\n",
        "df_valid = pd.read_csv(path2)\n",
        "df_valid = df_valid\n",
        "df_test = pd.read_csv(path3)\n",
        "df_test = df_test"
      ],
      "execution_count": null,
      "outputs": []
    },
    {
      "cell_type": "code",
      "metadata": {
        "colab": {
          "base_uri": "https://localhost:8080/",
          "height": 185
        },
        "id": "6RQEjf46nZdX",
        "outputId": "12424ed0-18b3-427e-a1cf-f41ce003833c"
      },
      "source": [
        "df_train.head(1)"
      ],
      "execution_count": null,
      "outputs": [
        {
          "output_type": "execute_result",
          "data": {
            "text/html": [
              "<div>\n",
              "<style scoped>\n",
              "    .dataframe tbody tr th:only-of-type {\n",
              "        vertical-align: middle;\n",
              "    }\n",
              "\n",
              "    .dataframe tbody tr th {\n",
              "        vertical-align: top;\n",
              "    }\n",
              "\n",
              "    .dataframe thead th {\n",
              "        text-align: right;\n",
              "    }\n",
              "</style>\n",
              "<table border=\"1\" class=\"dataframe\">\n",
              "  <thead>\n",
              "    <tr style=\"text-align: right;\">\n",
              "      <th></th>\n",
              "      <th>review_id</th>\n",
              "      <th>product_id</th>\n",
              "      <th>reviewer_id</th>\n",
              "      <th>star_rating</th>\n",
              "      <th>review_body</th>\n",
              "      <th>review_title</th>\n",
              "      <th>language</th>\n",
              "      <th>product_category</th>\n",
              "      <th>text_title</th>\n",
              "      <th>text_title_cat</th>\n",
              "      <th>text_cat</th>\n",
              "      <th>product_category_cod</th>\n",
              "    </tr>\n",
              "  </thead>\n",
              "  <tbody>\n",
              "    <tr>\n",
              "      <th>0</th>\n",
              "      <td>en_0953486</td>\n",
              "      <td>product_en_0381770</td>\n",
              "      <td>reviewer_en_0978532</td>\n",
              "      <td>4</td>\n",
              "      <td>Great, great batteries. Arrived on time and pa...</td>\n",
              "      <td>Strip of 10 Fresh Maxell LR1130 Batteries</td>\n",
              "      <td>en</td>\n",
              "      <td>electronics</td>\n",
              "      <td>Strip of 10 Fresh Maxell LR1130 Batteries Grea...</td>\n",
              "      <td>Strip of 10 Fresh Maxell LR1130 Batteries Grea...</td>\n",
              "      <td>Great, great batteries. Arrived on time and pa...</td>\n",
              "      <td>9</td>\n",
              "    </tr>\n",
              "  </tbody>\n",
              "</table>\n",
              "</div>"
            ],
            "text/plain": [
              "    review_id  ... product_category_cod\n",
              "0  en_0953486  ...                    9\n",
              "\n",
              "[1 rows x 12 columns]"
            ]
          },
          "metadata": {
            "tags": []
          },
          "execution_count": 4
        }
      ]
    },
    {
      "cell_type": "markdown",
      "metadata": {
        "id": "W0BcGi97iOLp"
      },
      "source": [
        "# Carga modelo BERT // distilBERT\n",
        "- incluye tokenizer"
      ]
    },
    {
      "cell_type": "code",
      "metadata": {
        "id": "dc7JoaRnh34h"
      },
      "source": [
        "# Bert \n",
        "\n",
        "PRE_TRAINED_MODEL_NAME = 'bert-base-uncased'\n",
        "from transformers import BertModel, BertConfig, BertTokenizer\n",
        "from transformers import BertForSequenceClassification\n",
        "tokenizer = BertTokenizer.from_pretrained(PRE_TRAINED_MODEL_NAME)"
      ],
      "execution_count": null,
      "outputs": []
    },
    {
      "cell_type": "code",
      "metadata": {
        "id": "YO5IMnhwkGi9"
      },
      "source": [
        "# DistilBert\n",
        "\n",
        "from transformers import DistilBertTokenizer, DistilBertForSequenceClassification\n",
        "PRE_TRAINED_MODEL_NAME = 'distilbert-base-uncased'\n",
        "tokenizer = DistilBertTokenizer.from_pretrained(PRE_TRAINED_MODEL_NAME)\n"
      ],
      "execution_count": null,
      "outputs": []
    },
    {
      "cell_type": "markdown",
      "metadata": {
        "id": "-2LSsgFij0Xk"
      },
      "source": [
        "# BertForSequenceClassification - RATING\n",
        "- Clasificación Rating a partir de review_body"
      ]
    },
    {
      "cell_type": "code",
      "metadata": {
        "colab": {
          "base_uri": "https://localhost:8080/"
        },
        "id": "YTkq8g1EnIBf",
        "outputId": "a50b5916-f867-499b-8a8a-d375eab1c1e6"
      },
      "source": [
        "%env WANDB_PROJECT = RATING CLASSIFICATION distilBERT"
      ],
      "execution_count": null,
      "outputs": [
        {
          "output_type": "stream",
          "text": [
            "env: WANDB_PROJECT=RATING CLASSIFICATION distilBERT\n"
          ],
          "name": "stdout"
        }
      ]
    },
    {
      "cell_type": "code",
      "metadata": {
        "id": "K868-ZqRifki"
      },
      "source": [
        "RANDOM_SEED=8\n",
        "MAX_LENGTH=512\n",
        "\n",
        "\n",
        "## CLASES DEL CLASIFICADOR \n",
        "\n",
        "class_names = ['0','1','2','3','4'] "
      ],
      "execution_count": null,
      "outputs": []
    },
    {
      "cell_type": "code",
      "metadata": {
        "id": "XCYGgZimjMXy"
      },
      "source": [
        "#TOKENIZAMOS LOS DATAFRAMES\n",
        "\n",
        "train_encodings = tokenizer(df_train.review_body.values.tolist(), #truncation=True, padding=True,\n",
        "      add_special_tokens=True,\n",
        "      truncation=True,\n",
        "      max_length=MAX_LENGTH,\n",
        "      return_token_type_ids=False,\n",
        "      pad_to_max_length=True,\n",
        "      return_attention_mask=True,\n",
        "      return_tensors='pt')\n",
        "\n",
        "val_encodings = tokenizer(df_valid.review_body.values.tolist(), #truncation=True, padding=True,\n",
        "      add_special_tokens=True,\n",
        "      truncation=True,\n",
        "      max_length=MAX_LENGTH,\n",
        "      return_token_type_ids=False,\n",
        "      pad_to_max_length=True,\n",
        "      return_attention_mask=True,\n",
        "      return_tensors='pt')\n",
        "\n",
        "test_encodings = tokenizer(df_test.review_body.values.tolist(), #truncation=True, padding=True,\n",
        "      add_special_tokens=True,\n",
        "      truncation=True,\n",
        "      max_length=MAX_LENGTH,\n",
        "      return_token_type_ids=False,\n",
        "      pad_to_max_length=True,\n",
        "      return_attention_mask=True,\n",
        "      return_tensors='pt')"
      ],
      "execution_count": null,
      "outputs": []
    },
    {
      "cell_type": "code",
      "metadata": {
        "id": "PbZwUznzjbso"
      },
      "source": [
        "class GPReviewDataset(torch.utils.data.Dataset):\n",
        "    def __init__(self, encodings, labels):\n",
        "        self.encodings = encodings\n",
        "        self.labels = labels\n",
        "\n",
        "    def __getitem__(self, idx):\n",
        "        item = {key: torch.tensor(val[idx]) for key, val in self.encodings.items()}\n",
        "        item['labels'] = torch.tensor(self.labels[idx])\n",
        "        return item\n",
        "\n",
        "    def __len__(self):\n",
        "        return len(self.labels)"
      ],
      "execution_count": null,
      "outputs": []
    },
    {
      "cell_type": "code",
      "metadata": {
        "id": "MQa18Qyojncq"
      },
      "source": [
        "train_labels = df_train.star_rating.values\n",
        "val_labels = df_valid.star_rating.values\n",
        "test_labels = df_test.star_rating.values"
      ],
      "execution_count": null,
      "outputs": []
    },
    {
      "cell_type": "code",
      "metadata": {
        "id": "sxFmuoDQjoTf"
      },
      "source": [
        "train_data = GPReviewDataset(train_encodings, torch.from_numpy(train_labels))\n",
        "val_data = GPReviewDataset(val_encodings, torch.from_numpy(val_labels))\n",
        "test_data = GPReviewDataset(test_encodings, torch.from_numpy(test_labels))"
      ],
      "execution_count": null,
      "outputs": []
    },
    {
      "cell_type": "code",
      "metadata": {
        "colab": {
          "base_uri": "https://localhost:8080/"
        },
        "id": "usFdcdYej3rp",
        "outputId": "b779b652-879c-472b-dd5c-31a1e7f21c53"
      },
      "source": [
        "from transformers import BertForSequenceClassification\n",
        "from transformers import DistilBertForSequenceClassification\n",
        "\n",
        "## DEFINIMOS EL MODELO \n",
        "\n",
        "model = DistilBertForSequenceClassification.from_pretrained(\n",
        "    PRE_TRAINED_MODEL_NAME, # Use the 12-layer BERT model, with an uncased vocab.\n",
        "    num_labels = len(class_names), # The number of output labels--2 for binary classification.  si pones num_labels=1 hace MSE LOSS\n",
        "    output_attentions = False, # Whether the model returns attentions weights.\n",
        "    output_hidden_states = False ,# Whether the model returns all hidden-states.   \n",
        "    vocab_size=tokenizer.vocab_size)"
      ],
      "execution_count": null,
      "outputs": [
        {
          "output_type": "stream",
          "text": [
            "Some weights of the model checkpoint at distilbert-base-uncased were not used when initializing DistilBertForSequenceClassification: ['vocab_transform.weight', 'vocab_transform.bias', 'vocab_layer_norm.weight', 'vocab_layer_norm.bias', 'vocab_projector.weight', 'vocab_projector.bias']\n",
            "- This IS expected if you are initializing DistilBertForSequenceClassification from the checkpoint of a model trained on another task or with another architecture (e.g. initializing a BertForSequenceClassification model from a BertForPreTraining model).\n",
            "- This IS NOT expected if you are initializing DistilBertForSequenceClassification from the checkpoint of a model that you expect to be exactly identical (initializing a BertForSequenceClassification model from a BertForSequenceClassification model).\n",
            "Some weights of DistilBertForSequenceClassification were not initialized from the model checkpoint at distilbert-base-uncased and are newly initialized: ['pre_classifier.weight', 'pre_classifier.bias', 'classifier.weight', 'classifier.bias']\n",
            "You should probably TRAIN this model on a down-stream task to be able to use it for predictions and inference.\n"
          ],
          "name": "stderr"
        }
      ]
    },
    {
      "cell_type": "code",
      "metadata": {
        "id": "exEBcFJzkPGr"
      },
      "source": [
        "device = torch.device(\"cuda:0\" if torch.cuda.is_available() else \"cpu\")\n",
        "model = model.to(device)"
      ],
      "execution_count": null,
      "outputs": []
    },
    {
      "cell_type": "code",
      "metadata": {
        "colab": {
          "base_uri": "https://localhost:8080/"
        },
        "id": "inO-_JupSqjT",
        "outputId": "beedfc52-182f-4227-8141-1c09675f4a95"
      },
      "source": [
        "device"
      ],
      "execution_count": null,
      "outputs": [
        {
          "output_type": "execute_result",
          "data": {
            "text/plain": [
              "device(type='cuda', index=0)"
            ]
          },
          "metadata": {
            "tags": []
          },
          "execution_count": 23
        }
      ]
    },
    {
      "cell_type": "markdown",
      "metadata": {
        "id": "nLl7UJW4kb-v"
      },
      "source": [
        "## Training"
      ]
    },
    {
      "cell_type": "code",
      "metadata": {
        "id": "Xkm45ylGh2O4"
      },
      "source": [
        "from sklearn.metrics import precision_recall_fscore_support\n",
        "from sklearn.metrics import accuracy_score\n",
        "\n",
        "def compute_metrics(pred):\n",
        "    labels = pred.label_ids\n",
        "    preds = pred.predictions.argmax(-1)\n",
        "    precision, recall, f1, _ = precision_recall_fscore_support(labels, preds, average='weighted')\n",
        "    acc = accuracy_score(labels, preds)\n",
        "    return {\n",
        "        'accuracy': acc,\n",
        "        'f1': f1,\n",
        "        'precision': precision,\n",
        "        'recall': recall\n",
        "    }"
      ],
      "execution_count": null,
      "outputs": []
    },
    {
      "cell_type": "code",
      "metadata": {
        "id": "d_NfVc5DuFIf"
      },
      "source": [
        ""
      ],
      "execution_count": null,
      "outputs": []
    },
    {
      "cell_type": "code",
      "metadata": {
        "colab": {
          "base_uri": "https://localhost:8080/",
          "height": 239
        },
        "id": "7pRmuYoNka_p",
        "outputId": "d1307873-d8f7-42f6-bdcd-3843a97e05d0"
      },
      "source": [
        "model_dir=\"./\"\n",
        "\n",
        "from transformers import Trainer, TrainingArguments\n",
        "\n",
        "training_args = TrainingArguments(\n",
        "    #report_to = 'wandb',\n",
        "    output_dir = model_dir +  'prueba/results',          # output directory\n",
        "    overwrite_output_dir = True,\n",
        "    evaluation_strategy='epoch',\n",
        "    num_train_epochs=3,                                 # total number of training epochs\n",
        "    per_device_train_batch_size=8,                      # batch size per device during training\n",
        "    per_device_eval_batch_size=16,                      # batch size for evaluation\n",
        "    warmup_steps=500,                                   # number of warmup steps for learning rate scheduler\n",
        "    weight_decay=0.01,                                  # strength of weight decay\n",
        "    logging_dir = model_dir +  'prueba/logs',          # directory for storing logs\n",
        "    logging_steps=10,\n",
        "    load_best_model_at_end = True,\n",
        "    metric_for_best_model = 'accuracy',\n",
        "    run_name = 'review_body',     \n",
        ")\n",
        "\n",
        "trainer = Trainer(\n",
        "    model = model,                         # the instantiated 🤗 Transformers model to be trained\n",
        "    args = training_args,                  # training arguments, defined above\n",
        "    train_dataset = train_data,            # training dataset\n",
        "    eval_dataset = test_data,              # evaluation dataset\n",
        "    compute_metrics=compute_metrics            \n",
        ")\n",
        "\n",
        "trainer.train()\n"
      ],
      "execution_count": null,
      "outputs": [
        {
          "output_type": "display_data",
          "data": {
            "text/html": [
              "\n",
              "                Tracking run with wandb version 0.10.19<br/>\n",
              "                Syncing run <strong style=\"color:#cdcd00\">review_body</strong> to <a href=\"https://wandb.ai\" target=\"_blank\">Weights & Biases</a> <a href=\"https://docs.wandb.com/integrations/jupyter.html\" target=\"_blank\">(Documentation)</a>.<br/>\n",
              "                Project page: <a href=\"https://wandb.ai/lucialarraona/RATING%20CLASSIFICATION%20distilBERT\" target=\"_blank\">https://wandb.ai/lucialarraona/RATING%20CLASSIFICATION%20distilBERT</a><br/>\n",
              "                Run page: <a href=\"https://wandb.ai/lucialarraona/RATING%20CLASSIFICATION%20distilBERT/runs/ypnfpd4t\" target=\"_blank\">https://wandb.ai/lucialarraona/RATING%20CLASSIFICATION%20distilBERT/runs/ypnfpd4t</a><br/>\n",
              "                Run data is saved locally in <code>/content/wandb/run-20210222_104731-ypnfpd4t</code><br/><br/>\n",
              "            "
            ],
            "text/plain": [
              "<IPython.core.display.HTML object>"
            ]
          },
          "metadata": {
            "tags": []
          }
        },
        {
          "output_type": "display_data",
          "data": {
            "text/html": [
              "\n",
              "    <div>\n",
              "        <style>\n",
              "            /* Turns off some styling */\n",
              "            progress {\n",
              "                /* gets rid of default border in Firefox and Opera. */\n",
              "                border: none;\n",
              "                /* Needs to be in here for Safari polyfill so background images work as expected. */\n",
              "                background-size: auto;\n",
              "            }\n",
              "        </style>\n",
              "      \n",
              "      <progress value='37327' max='37500' style='width:300px; height:20px; vertical-align: middle;'></progress>\n",
              "      [37327/37500 4:09:35 < 01:09, 2.49 it/s, Epoch 2.99/3]\n",
              "    </div>\n",
              "    <table border=\"1\" class=\"dataframe\">\n",
              "  <thead>\n",
              "    <tr style=\"text-align: left;\">\n",
              "      <th>Epoch</th>\n",
              "      <th>Training Loss</th>\n",
              "      <th>Validation Loss</th>\n",
              "      <th>Accuracy</th>\n",
              "      <th>F1</th>\n",
              "      <th>Precision</th>\n",
              "      <th>Recall</th>\n",
              "      <th>Runtime</th>\n",
              "      <th>Samples Per Second</th>\n",
              "    </tr>\n",
              "  </thead>\n",
              "  <tbody>\n",
              "    <tr>\n",
              "      <td>1</td>\n",
              "      <td>1.093900</td>\n",
              "      <td>0.959842</td>\n",
              "      <td>0.578800</td>\n",
              "      <td>0.575157</td>\n",
              "      <td>0.580011</td>\n",
              "      <td>0.578800</td>\n",
              "      <td>41.989600</td>\n",
              "      <td>59.539000</td>\n",
              "    </tr>\n",
              "    <tr>\n",
              "      <td>2</td>\n",
              "      <td>0.867000</td>\n",
              "      <td>0.975576</td>\n",
              "      <td>0.573200</td>\n",
              "      <td>0.570219</td>\n",
              "      <td>0.570070</td>\n",
              "      <td>0.573200</td>\n",
              "      <td>41.870500</td>\n",
              "      <td>59.708000</td>\n",
              "    </tr>\n",
              "  </tbody>\n",
              "</table><p>"
            ],
            "text/plain": [
              "<IPython.core.display.HTML object>"
            ]
          },
          "metadata": {
            "tags": []
          }
        }
      ]
    },
    {
      "cell_type": "markdown",
      "metadata": {
        "id": "ZQqEd8amkgYo"
      },
      "source": [
        "## Evaluation"
      ]
    },
    {
      "cell_type": "code",
      "metadata": {
        "id": "s_SB4_Fokf96",
        "colab": {
          "base_uri": "https://localhost:8080/",
          "height": 210
        },
        "outputId": "85bc8979-6b6c-4306-cb1e-877b1911f580"
      },
      "source": [
        "trainer.evaluate()"
      ],
      "execution_count": null,
      "outputs": [
        {
          "output_type": "display_data",
          "data": {
            "text/html": [
              "\n",
              "    <div>\n",
              "        <style>\n",
              "            /* Turns off some styling */\n",
              "            progress {\n",
              "                /* gets rid of default border in Firefox and Opera. */\n",
              "                border: none;\n",
              "                /* Needs to be in here for Safari polyfill so background images work as expected. */\n",
              "                background-size: auto;\n",
              "            }\n",
              "        </style>\n",
              "      \n",
              "      <progress value='157' max='157' style='width:300px; height:20px; vertical-align: middle;'></progress>\n",
              "      [157/157 01:28]\n",
              "    </div>\n",
              "    "
            ],
            "text/plain": [
              "<IPython.core.display.HTML object>"
            ]
          },
          "metadata": {
            "tags": []
          }
        },
        {
          "output_type": "stream",
          "text": [
            "\u001b[34m\u001b[1mwandb\u001b[0m: \u001b[33mWARNING\u001b[0m Step must only increase in log calls.  Step 37500 < 37501; dropping {'eval/loss': 0.9578923583030701, 'eval/accuracy': 0.5864, 'eval/f1': 0.5806245762934176, 'eval/precision': 0.5808483390543308, 'eval/recall': 0.5864, 'eval/runtime': 89.0555, 'eval/samples_per_second': 28.072, 'train/epoch': 3.0}.\n"
          ],
          "name": "stderr"
        },
        {
          "output_type": "execute_result",
          "data": {
            "text/plain": [
              "{'epoch': 3.0,\n",
              " 'eval_accuracy': 0.5864,\n",
              " 'eval_f1': 0.5806245762934176,\n",
              " 'eval_loss': 0.9578923583030701,\n",
              " 'eval_precision': 0.5808483390543308,\n",
              " 'eval_recall': 0.5864,\n",
              " 'eval_runtime': 89.0555,\n",
              " 'eval_samples_per_second': 28.072}"
            ]
          },
          "metadata": {
            "tags": []
          },
          "execution_count": 21
        }
      ]
    },
    {
      "cell_type": "markdown",
      "metadata": {
        "id": "6Z6LppM4kleF"
      },
      "source": [
        "##Save Model"
      ]
    },
    {
      "cell_type": "code",
      "metadata": {
        "id": "IhY82pj4E0WI"
      },
      "source": [
        "!ls drive/MyDrive/TFG_1/Modelos_entrenados/"
      ],
      "execution_count": null,
      "outputs": []
    },
    {
      "cell_type": "code",
      "metadata": {
        "colab": {
          "base_uri": "https://localhost:8080/"
        },
        "id": "7HA1lcbOkqot",
        "outputId": "ee50906c-0d66-4701-ddff-9b04086a5a23"
      },
      "source": [
        "# saving the fine tuned model & tokenizer\n",
        "model_path = \"drive/MyDrive/TFG_1/Modelos_entrenados/Rating_text\"\n",
        "trainer.save_model(model_path)\n",
        "model.save_pretrained(model_path)\n",
        "tokenizer.save_pretrained(model_path)"
      ],
      "execution_count": null,
      "outputs": [
        {
          "output_type": "execute_result",
          "data": {
            "text/plain": [
              "('drive/MyDrive/TFG/Modelos_entrenados/Rating_text/tokenizer_config.json',\n",
              " 'drive/MyDrive/TFG/Modelos_entrenados/Rating_text/special_tokens_map.json',\n",
              " 'drive/MyDrive/TFG/Modelos_entrenados/Rating_text/vocab.txt',\n",
              " 'drive/MyDrive/TFG/Modelos_entrenados/Rating_text/added_tokens.json')"
            ]
          },
          "metadata": {
            "tags": []
          },
          "execution_count": 23
        }
      ]
    },
    {
      "cell_type": "markdown",
      "metadata": {
        "id": "oIP3b3vfmofI"
      },
      "source": [
        "# BertForSequenceClassification - RATING\n",
        "- Clasificación Rating a partir de review_body + titulo"
      ]
    },
    {
      "cell_type": "code",
      "metadata": {
        "id": "7eWwkqfenEXU"
      },
      "source": [
        "RANDOM_SEED=8\n",
        "MAX_LENGTH=512\n",
        "\n",
        "\n",
        "## CLASES DEL CLASIFICADOR \n",
        "\n",
        "class_names = ['0','1','2','3','4'] \n",
        "#class_names = ['0','1'] \n",
        "#class_names = ['1']"
      ],
      "execution_count": null,
      "outputs": []
    },
    {
      "cell_type": "code",
      "metadata": {
        "id": "72mwnY_NnVF7"
      },
      "source": [
        "#TOKENIZAMOS LOS DATAFRAMES\n",
        "\n",
        "train_encodings = tokenizer(df_train.text_title.values.tolist(), #truncation=True, padding=True,\n",
        "      add_special_tokens=True,\n",
        "      truncation=True,\n",
        "      max_length=MAX_LENGTH,\n",
        "      return_token_type_ids=False,\n",
        "      pad_to_max_length=True,\n",
        "      return_attention_mask=True,\n",
        "      return_tensors='pt')\n",
        "\n",
        "val_encodings = tokenizer(df_valid.text_title.values.tolist(), #truncation=True, padding=True,\n",
        "      add_special_tokens=True,\n",
        "      truncation=True,\n",
        "      max_length=MAX_LENGTH,\n",
        "      return_token_type_ids=False,\n",
        "      pad_to_max_length=True,\n",
        "      return_attention_mask=True,\n",
        "      return_tensors='pt')\n",
        "\n",
        "test_encodings = tokenizer(df_test.text_title.values.tolist(), #truncation=True, padding=True,\n",
        "      add_special_tokens=True,\n",
        "      truncation=True,\n",
        "      max_length=MAX_LENGTH,\n",
        "      return_token_type_ids=False,\n",
        "      pad_to_max_length=True,\n",
        "      return_attention_mask=True,\n",
        "      return_tensors='pt')"
      ],
      "execution_count": null,
      "outputs": []
    },
    {
      "cell_type": "code",
      "metadata": {
        "id": "RWF8igOLpDaC"
      },
      "source": [
        "class GPReviewDataset(torch.utils.data.Dataset):\n",
        "    def __init__(self, encodings, labels):\n",
        "        self.encodings = encodings\n",
        "        self.labels = labels\n",
        "\n",
        "    def __getitem__(self, idx):\n",
        "        item = {key: torch.tensor(val[idx]) for key, val in self.encodings.items()}\n",
        "        item['labels'] = torch.tensor(self.labels[idx])\n",
        "        return item\n",
        "\n",
        "    def __len__(self):\n",
        "        return len(self.labels)"
      ],
      "execution_count": null,
      "outputs": []
    },
    {
      "cell_type": "code",
      "metadata": {
        "id": "TEuWipzwpDq2"
      },
      "source": [
        "train_labels = df_train.star_rating.values\n",
        "val_labels = df_valid.star_rating.values\n",
        "test_labels = df_test.star_rating.values"
      ],
      "execution_count": null,
      "outputs": []
    },
    {
      "cell_type": "code",
      "metadata": {
        "id": "IQE5cOW_pED6"
      },
      "source": [
        "train_data = GPReviewDataset(train_encodings, torch.from_numpy(train_labels))\n",
        "val_data = GPReviewDataset(val_encodings, torch.from_numpy(val_labels))\n",
        "test_data = GPReviewDataset(test_encodings, torch.from_numpy(test_labels))"
      ],
      "execution_count": null,
      "outputs": []
    },
    {
      "cell_type": "code",
      "metadata": {
        "colab": {
          "base_uri": "https://localhost:8080/",
          "height": 220,
          "referenced_widgets": [
            "c1c63c59020545e89bf28d77051962da",
            "e319fde4ee924b31b0f53516d55f32a2",
            "9030d749e7db4be1b68ad7437105d83c",
            "80d5f0d6a0f24d0fa3c285b943c77228",
            "45493d79ce6643cd80c96bc005755c18",
            "d564e5547fc941338d857d0007fc0f20",
            "e9af364b0d254c0fa82159e996d85926",
            "3d57a8a461f042e9b776ac8138cd82d4",
            "5638b4ff4b2244ff8d410415268049cd",
            "6de674d1f0b349a7b12501c52f045143",
            "203eedab4b68430d8573d343c6f22ccb",
            "addaca4c4f22497dae441f2ed48d531f",
            "4293f815970745c5b916c712f0081a07",
            "15fc91a45f46400a8358a36ee9287545",
            "a0c496abcc3142de8cd9d16a8da6d637",
            "b94e8ebc7d854ffaa05af0277325cf96"
          ]
        },
        "id": "PV_Bq6tFqlM3",
        "outputId": "244d5484-717f-45db-98e5-b8c6924e32a6"
      },
      "source": [
        "## Lo definimos de nuevo unicamente con el proposito de usar las secciones del documento de forma independiente \n",
        "\n",
        "model = BertForSequenceClassification.from_pretrained(\n",
        "    PRE_TRAINED_MODEL_NAME, # Use the 12-layer BERT model, with an uncased vocab.\n",
        "    num_labels = len(class_names), # The number of output labels--2 for binary classification.  si pones num_labels=1 hace MSE LOSS\n",
        "    output_attentions = False, # Whether the model returns attentions weights.\n",
        "    output_hidden_states = False ,# Whether the model returns all hidden-states.   \n",
        "    vocab_size=tokenizer.vocab_size)"
      ],
      "execution_count": null,
      "outputs": [
        {
          "output_type": "display_data",
          "data": {
            "application/vnd.jupyter.widget-view+json": {
              "model_id": "c1c63c59020545e89bf28d77051962da",
              "version_minor": 0,
              "version_major": 2
            },
            "text/plain": [
              "HBox(children=(FloatProgress(value=0.0, description='Downloading', max=433.0, style=ProgressStyle(description_…"
            ]
          },
          "metadata": {
            "tags": []
          }
        },
        {
          "output_type": "stream",
          "text": [
            "\n"
          ],
          "name": "stdout"
        },
        {
          "output_type": "display_data",
          "data": {
            "application/vnd.jupyter.widget-view+json": {
              "model_id": "5638b4ff4b2244ff8d410415268049cd",
              "version_minor": 0,
              "version_major": 2
            },
            "text/plain": [
              "HBox(children=(FloatProgress(value=0.0, description='Downloading', max=440473133.0, style=ProgressStyle(descri…"
            ]
          },
          "metadata": {
            "tags": []
          }
        },
        {
          "output_type": "stream",
          "text": [
            "\n"
          ],
          "name": "stdout"
        },
        {
          "output_type": "stream",
          "text": [
            "Some weights of the model checkpoint at bert-base-uncased were not used when initializing BertForSequenceClassification: ['cls.predictions.bias', 'cls.predictions.transform.dense.weight', 'cls.predictions.transform.dense.bias', 'cls.predictions.decoder.weight', 'cls.seq_relationship.weight', 'cls.seq_relationship.bias', 'cls.predictions.transform.LayerNorm.weight', 'cls.predictions.transform.LayerNorm.bias']\n",
            "- This IS expected if you are initializing BertForSequenceClassification from the checkpoint of a model trained on another task or with another architecture (e.g. initializing a BertForSequenceClassification model from a BertForPreTraining model).\n",
            "- This IS NOT expected if you are initializing BertForSequenceClassification from the checkpoint of a model that you expect to be exactly identical (initializing a BertForSequenceClassification model from a BertForSequenceClassification model).\n",
            "Some weights of BertForSequenceClassification were not initialized from the model checkpoint at bert-base-uncased and are newly initialized: ['classifier.weight', 'classifier.bias']\n",
            "You should probably TRAIN this model on a down-stream task to be able to use it for predictions and inference.\n"
          ],
          "name": "stderr"
        }
      ]
    },
    {
      "cell_type": "code",
      "metadata": {
        "id": "9LaJTpnfqmZT"
      },
      "source": [
        "device = torch.device(\"cuda:0\" if torch.cuda.is_available() else \"cpu\")\n",
        "model = model.to(device)"
      ],
      "execution_count": null,
      "outputs": []
    },
    {
      "cell_type": "markdown",
      "metadata": {
        "id": "uIgVakt2qWUB"
      },
      "source": [
        "## Training"
      ]
    },
    {
      "cell_type": "code",
      "metadata": {
        "id": "Pz-63_bdNIAu"
      },
      "source": [
        "from sklearn.metrics import precision_recall_fscore_support\n",
        "from sklearn.metrics import accuracy_score\n",
        "\n",
        "def compute_metrics(pred):\n",
        "    labels = pred.label_ids\n",
        "    preds = pred.predictions.argmax(-1)\n",
        "    precision, recall, f1, _ = precision_recall_fscore_support(labels, preds, average='weighted')\n",
        "    acc = accuracy_score(labels, preds)\n",
        "    return {\n",
        "        'accuracy': acc,\n",
        "        'f1': f1,\n",
        "        'precision': precision,\n",
        "        'recall': recall\n",
        "    }"
      ],
      "execution_count": null,
      "outputs": []
    },
    {
      "cell_type": "code",
      "metadata": {
        "id": "ZeuQCBUPlBNa"
      },
      "source": [
        "!nvidia-smi"
      ],
      "execution_count": null,
      "outputs": []
    },
    {
      "cell_type": "code",
      "metadata": {
        "colab": {
          "base_uri": "https://localhost:8080/",
          "height": 177
        },
        "id": "E7voNFqXqEMs",
        "outputId": "31f5214a-fdd3-4a96-c394-06449dc80018"
      },
      "source": [
        "model_dir=\"./\"\n",
        "\n",
        "from transformers import Trainer, TrainingArguments\n",
        "\n",
        "training_args = TrainingArguments(\n",
        "    output_dir = model_dir +  'prueba/results',          # output directory\n",
        "    overwrite_output_dir = True,\n",
        "    evaluation_strategy='epoch',\n",
        "    num_train_epochs=3,                                  # total number of training epochs\n",
        "    per_device_train_batch_size=8,                       # batch size per device during training\n",
        "    per_device_eval_batch_size=16,                       # batch size for evaluation\n",
        "    warmup_steps=500,                                    # number of warmup steps for learning rate scheduler\n",
        "    weight_decay=0.01,                                   # strength of weight decay\n",
        "    logging_dir = model_dir +  'prueba/logs',            # directory for storing logs\n",
        "    logging_steps=10,\n",
        "    load_best_model_at_end = True,\n",
        "    metric_for_best_model = 'accuracy',\n",
        "    run_name = 'review_title + review_body', \n",
        ")\n",
        "\n",
        "trainer = Trainer(\n",
        "    model = model,                         # the instantiated 🤗 Transformers model to be trained\n",
        "    args = training_args,                  # training arguments, defined above\n",
        "    train_dataset = train_data,            # training dataset\n",
        "    eval_dataset = test_data,              # evaluation dataset\n",
        "    compute_metrics = compute_metrics             \n",
        ")\n",
        "\n",
        "trainer.train()"
      ],
      "execution_count": null,
      "outputs": [
        {
          "output_type": "display_data",
          "data": {
            "text/html": [
              "\n",
              "                Tracking run with wandb version 0.10.19<br/>\n",
              "                Syncing run <strong style=\"color:#cdcd00\">review_title + review_body</strong> to <a href=\"https://wandb.ai\" target=\"_blank\">Weights & Biases</a> <a href=\"https://docs.wandb.com/integrations/jupyter.html\" target=\"_blank\">(Documentation)</a>.<br/>\n",
              "                Project page: <a href=\"https://wandb.ai/lucialarraona/RATING%20CLASSIFICATION\" target=\"_blank\">https://wandb.ai/lucialarraona/RATING%20CLASSIFICATION</a><br/>\n",
              "                Run page: <a href=\"https://wandb.ai/lucialarraona/RATING%20CLASSIFICATION/runs/3vgu9sln\" target=\"_blank\">https://wandb.ai/lucialarraona/RATING%20CLASSIFICATION/runs/3vgu9sln</a><br/>\n",
              "                Run data is saved locally in <code>/content/wandb/run-20210217_085831-3vgu9sln</code><br/><br/>\n",
              "            "
            ],
            "text/plain": [
              "<IPython.core.display.HTML object>"
            ]
          },
          "metadata": {
            "tags": []
          }
        },
        {
          "output_type": "display_data",
          "data": {
            "text/html": [
              "\n",
              "    <div>\n",
              "        <style>\n",
              "            /* Turns off some styling */\n",
              "            progress {\n",
              "                /* gets rid of default border in Firefox and Opera. */\n",
              "                border: none;\n",
              "                /* Needs to be in here for Safari polyfill so background images work as expected. */\n",
              "                background-size: auto;\n",
              "            }\n",
              "        </style>\n",
              "      \n",
              "      <progress value='11726' max='37500' style='width:300px; height:20px; vertical-align: middle;'></progress>\n",
              "      [11726/37500 1:32:31 < 3:23:23, 2.11 it/s, Epoch 0.94/3]\n",
              "    </div>\n",
              "    <table border=\"1\" class=\"dataframe\">\n",
              "  <thead>\n",
              "    <tr style=\"text-align: left;\">\n",
              "      <th>Epoch</th>\n",
              "      <th>Training Loss</th>\n",
              "      <th>Validation Loss</th>\n",
              "    </tr>\n",
              "  </thead>\n",
              "  <tbody>\n",
              "  </tbody>\n",
              "</table><p>"
            ],
            "text/plain": [
              "<IPython.core.display.HTML object>"
            ]
          },
          "metadata": {
            "tags": []
          }
        }
      ]
    },
    {
      "cell_type": "markdown",
      "metadata": {
        "id": "A8Asx8Rmq6Lr"
      },
      "source": [
        "## Evaluation"
      ]
    },
    {
      "cell_type": "code",
      "metadata": {
        "id": "2L-JmITUq-pK"
      },
      "source": [
        "trainer.evaluate()"
      ],
      "execution_count": null,
      "outputs": []
    },
    {
      "cell_type": "markdown",
      "metadata": {
        "id": "4AU2w-_zrACw"
      },
      "source": [
        "## Save Model"
      ]
    },
    {
      "cell_type": "code",
      "metadata": {
        "id": "L1saT5KIq_XM"
      },
      "source": [
        "!ls drive/MyDrive/TFG_1/Modelos_entrenados/"
      ],
      "execution_count": null,
      "outputs": []
    },
    {
      "cell_type": "code",
      "metadata": {
        "id": "3A8ZS_Dmrla_"
      },
      "source": [
        "# saving the fine tuned model & tokenizer\n",
        "model_path = \"drive/MyDrive/TFG/Modelos_entrenados/Rating_text_title\"\n",
        "trainer.save_model(model_path)\n",
        "model.save_pretrained(model_path)\n",
        "tokenizer.save_pretrained(model_path)"
      ],
      "execution_count": null,
      "outputs": []
    },
    {
      "cell_type": "markdown",
      "metadata": {
        "id": "UWlNtsLFm7Le"
      },
      "source": [
        "# BertForSequenceClassification - RATING\n",
        "- Clasificación Rating a partir de review_body + titulo + categoria"
      ]
    },
    {
      "cell_type": "code",
      "metadata": {
        "id": "gZWkAaG_m0AA"
      },
      "source": [
        "RANDOM_SEED=8\n",
        "MAX_LENGTH=512\n",
        "\n",
        "\n",
        "## CLASES DEL CLASIFICADOR \n",
        "\n",
        "class_names = ['0','1','2','3','4'] \n",
        "#class_names = ['0','1'] \n",
        "#class_names = ['1']"
      ],
      "execution_count": null,
      "outputs": []
    },
    {
      "cell_type": "code",
      "metadata": {
        "id": "Djpzu7zDr_NQ"
      },
      "source": [
        "#TOKENIZAMOS LOS DATAFRAMES\n",
        "\n",
        "train_encodings = tokenizer(df_train.text_title_cat.values.tolist(), #truncation=True, padding=True,\n",
        "      add_special_tokens=True,\n",
        "      truncation=True,\n",
        "      max_length=MAX_LENGTH,\n",
        "      return_token_type_ids=False,\n",
        "      pad_to_max_length=True,\n",
        "      return_attention_mask=True,\n",
        "      return_tensors='pt')\n",
        "\n",
        "val_encodings = tokenizer(df_valid.text_title_cat.values.tolist(), #truncation=True, padding=True,\n",
        "      add_special_tokens=True,\n",
        "      truncation=True,\n",
        "      max_length=MAX_LENGTH,\n",
        "      return_token_type_ids=False,\n",
        "      pad_to_max_length=True,\n",
        "      return_attention_mask=True,\n",
        "      return_tensors='pt')\n",
        "\n",
        "test_encodings = tokenizer(df_test.text_title_cat.values.tolist(), #truncation=True, padding=True,\n",
        "      add_special_tokens=True,\n",
        "      truncation=True,\n",
        "      max_length=MAX_LENGTH,\n",
        "      return_token_type_ids=False,\n",
        "      pad_to_max_length=True,\n",
        "      return_attention_mask=True,\n",
        "      return_tensors='pt')"
      ],
      "execution_count": null,
      "outputs": []
    },
    {
      "cell_type": "code",
      "metadata": {
        "id": "Z7JCGgT6sGp_"
      },
      "source": [
        "class GPReviewDataset(torch.utils.data.Dataset):\n",
        "    def __init__(self, encodings, labels):\n",
        "        self.encodings = encodings\n",
        "        self.labels = labels\n",
        "\n",
        "    def __getitem__(self, idx):\n",
        "        item = {key: torch.tensor(val[idx]) for key, val in self.encodings.items()}\n",
        "        item['labels'] = torch.tensor(self.labels[idx])\n",
        "        return item\n",
        "\n",
        "    def __len__(self):\n",
        "        return len(self.labels)"
      ],
      "execution_count": null,
      "outputs": []
    },
    {
      "cell_type": "code",
      "metadata": {
        "id": "S4cabtvhsG61"
      },
      "source": [
        "train_labels = df_train.star_rating.values\n",
        "val_labels = df_valid.star_rating.values\n",
        "test_labels = df_test.star_rating.values"
      ],
      "execution_count": null,
      "outputs": []
    },
    {
      "cell_type": "code",
      "metadata": {
        "id": "zePdoA_RsHUZ"
      },
      "source": [
        "train_data = GPReviewDataset(train_encodings, torch.from_numpy(train_labels))\n",
        "val_data = GPReviewDataset(val_encodings, torch.from_numpy(val_labels))\n",
        "test_data = GPReviewDataset(test_encodings, torch.from_numpy(test_labels))"
      ],
      "execution_count": null,
      "outputs": []
    },
    {
      "cell_type": "code",
      "metadata": {
        "colab": {
          "base_uri": "https://localhost:8080/"
        },
        "id": "eaGKqNmKsHdo",
        "outputId": "69390cd6-8077-4161-d4b8-0bed612b9d0a"
      },
      "source": [
        "model = BertForSequenceClassification.from_pretrained(\n",
        "    PRE_TRAINED_MODEL_NAME, # Use the 12-layer BERT model, with an uncased vocab.\n",
        "    num_labels = len(class_names), # The number of output labels--2 for binary classification.  si pones num_labels=1 hace MSE LOSS\n",
        "    output_attentions = False, # Whether the model returns attentions weights.\n",
        "    output_hidden_states = False ,# Whether the model returns all hidden-states.   \n",
        "    vocab_size=tokenizer.vocab_size)"
      ],
      "execution_count": null,
      "outputs": [
        {
          "output_type": "stream",
          "text": [
            "Some weights of the model checkpoint at bert-base-uncased were not used when initializing BertForSequenceClassification: ['cls.predictions.bias', 'cls.predictions.transform.dense.weight', 'cls.predictions.transform.dense.bias', 'cls.predictions.decoder.weight', 'cls.seq_relationship.weight', 'cls.seq_relationship.bias', 'cls.predictions.transform.LayerNorm.weight', 'cls.predictions.transform.LayerNorm.bias']\n",
            "- This IS expected if you are initializing BertForSequenceClassification from the checkpoint of a model trained on another task or with another architecture (e.g. initializing a BertForSequenceClassification model from a BertForPreTraining model).\n",
            "- This IS NOT expected if you are initializing BertForSequenceClassification from the checkpoint of a model that you expect to be exactly identical (initializing a BertForSequenceClassification model from a BertForSequenceClassification model).\n",
            "Some weights of BertForSequenceClassification were not initialized from the model checkpoint at bert-base-uncased and are newly initialized: ['classifier.weight', 'classifier.bias']\n",
            "You should probably TRAIN this model on a down-stream task to be able to use it for predictions and inference.\n"
          ],
          "name": "stderr"
        }
      ]
    },
    {
      "cell_type": "code",
      "metadata": {
        "id": "QYkVxCGCsSEe"
      },
      "source": [
        "device = torch.device(\"cuda:0\" if torch.cuda.is_available() else \"cpu\")\n",
        "model = model.to(device)"
      ],
      "execution_count": null,
      "outputs": []
    },
    {
      "cell_type": "markdown",
      "metadata": {
        "id": "BjK0hyNJsWKL"
      },
      "source": [
        "## Training"
      ]
    },
    {
      "cell_type": "code",
      "metadata": {
        "colab": {
          "base_uri": "https://localhost:8080/",
          "height": 142
        },
        "id": "r9V2p5zssWKL",
        "outputId": "a0bec48c-904a-481d-eede-54b75b94e706"
      },
      "source": [
        "model_dir=\"./\"\n",
        "\n",
        "from transformers import Trainer, TrainingArguments\n",
        "\n",
        "training_args = TrainingArguments(\n",
        "    output_dir = model_dir +  'prueba/results',          # output directory\n",
        "    overwrite_output_dir = True,\n",
        "    evaluation_strategy='epoch',\n",
        "    num_train_epochs=1,                         # total number of training epochs\n",
        "    per_device_train_batch_size=8,              # batch size per device during training\n",
        "    per_device_eval_batch_size=16,              # batch size for evaluation\n",
        "    warmup_steps=500,                           # number of warmup steps for learning rate scheduler\n",
        "    weight_decay=0.01,                          # strength of weight decay\n",
        "    logging_dir = model_dir +  'prueba/logs',   # directory for storing logs\n",
        "    logging_steps=10,\n",
        "    load_best_model_at_end = True,\n",
        "    metric_for_best_model = 'accuracy',\n",
        "    run_name = 'review_title + review_body + category', \n",
        ")\n",
        "\n",
        "trainer = Trainer(\n",
        "    model = model,                         # the instantiated 🤗 Transformers model to be trained\n",
        "    args = training_args,                  # training arguments, defined above\n",
        "    train_dataset = train_data,            # training dataset\n",
        "    eval_dataset = test_data,              # evaluation dataset\n",
        "    compute_metrics = compute_metrics       \n",
        ")\n",
        "\n",
        "trainer.train()"
      ],
      "execution_count": null,
      "outputs": [
        {
          "output_type": "display_data",
          "data": {
            "text/html": [
              "\n",
              "    <div>\n",
              "        <style>\n",
              "            /* Turns off some styling */\n",
              "            progress {\n",
              "                /* gets rid of default border in Firefox and Opera. */\n",
              "                border: none;\n",
              "                /* Needs to be in here for Safari polyfill so background images work as expected. */\n",
              "                background-size: auto;\n",
              "            }\n",
              "        </style>\n",
              "      \n",
              "      <progress value='1500' max='1500' style='width:300px; height:20px; vertical-align: middle;'></progress>\n",
              "      [1500/1500 12:12, Epoch 1/1]\n",
              "    </div>\n",
              "    <table border=\"1\" class=\"dataframe\">\n",
              "  <thead>\n",
              "    <tr style=\"text-align: left;\">\n",
              "      <th>Epoch</th>\n",
              "      <th>Training Loss</th>\n",
              "      <th>Validation Loss</th>\n",
              "      <th>Accuracy</th>\n",
              "      <th>F1</th>\n",
              "      <th>Precision</th>\n",
              "      <th>Recall</th>\n",
              "      <th>Runtime</th>\n",
              "      <th>Samples Per Second</th>\n",
              "    </tr>\n",
              "  </thead>\n",
              "  <tbody>\n",
              "    <tr>\n",
              "      <td>1</td>\n",
              "      <td>0.787100</td>\n",
              "      <td>0.880430</td>\n",
              "      <td>0.628000</td>\n",
              "      <td>0.624201</td>\n",
              "      <td>0.623436</td>\n",
              "      <td>0.628000</td>\n",
              "      <td>18.008800</td>\n",
              "      <td>55.529000</td>\n",
              "    </tr>\n",
              "  </tbody>\n",
              "</table><p>"
            ],
            "text/plain": [
              "<IPython.core.display.HTML object>"
            ]
          },
          "metadata": {
            "tags": []
          }
        },
        {
          "output_type": "execute_result",
          "data": {
            "text/plain": [
              "TrainOutput(global_step=1500, training_loss=1.0608832273483277, metrics={'train_runtime': 732.4994, 'train_samples_per_second': 2.048, 'total_flos': 4036095037440000, 'epoch': 1.0})"
            ]
          },
          "metadata": {
            "tags": []
          },
          "execution_count": 49
        }
      ]
    },
    {
      "cell_type": "markdown",
      "metadata": {
        "id": "_iPPNUAtsbr8"
      },
      "source": [
        "## Evaluation"
      ]
    },
    {
      "cell_type": "code",
      "metadata": {
        "colab": {
          "base_uri": "https://localhost:8080/",
          "height": 178
        },
        "id": "w5eIetv3sbr9",
        "outputId": "38473540-76ec-4af9-d11a-4296ff2c0572"
      },
      "source": [
        "trainer.evaluate()"
      ],
      "execution_count": null,
      "outputs": [
        {
          "output_type": "display_data",
          "data": {
            "text/html": [
              "\n",
              "    <div>\n",
              "        <style>\n",
              "            /* Turns off some styling */\n",
              "            progress {\n",
              "                /* gets rid of default border in Firefox and Opera. */\n",
              "                border: none;\n",
              "                /* Needs to be in here for Safari polyfill so background images work as expected. */\n",
              "                background-size: auto;\n",
              "            }\n",
              "        </style>\n",
              "      \n",
              "      <progress value='63' max='63' style='width:300px; height:20px; vertical-align: middle;'></progress>\n",
              "      [63/63 00:17]\n",
              "    </div>\n",
              "    "
            ],
            "text/plain": [
              "<IPython.core.display.HTML object>"
            ]
          },
          "metadata": {
            "tags": []
          }
        },
        {
          "output_type": "execute_result",
          "data": {
            "text/plain": [
              "{'epoch': 1.0,\n",
              " 'eval_accuracy': 0.628,\n",
              " 'eval_f1': 0.6242008828903407,\n",
              " 'eval_loss': 0.8804295659065247,\n",
              " 'eval_precision': 0.6234356003347613,\n",
              " 'eval_recall': 0.628,\n",
              " 'eval_runtime': 17.8392,\n",
              " 'eval_samples_per_second': 56.056}"
            ]
          },
          "metadata": {
            "tags": []
          },
          "execution_count": 50
        }
      ]
    },
    {
      "cell_type": "markdown",
      "metadata": {
        "id": "1gw9jk_6sf3g"
      },
      "source": [
        "## Save Model"
      ]
    },
    {
      "cell_type": "code",
      "metadata": {
        "colab": {
          "base_uri": "https://localhost:8080/"
        },
        "id": "W-BsPtyrsf3g",
        "outputId": "08c69e3b-5022-4b61-d597-5254664353da"
      },
      "source": [
        "!ls drive/MyDrive/TFG/Modelos_entrenados/"
      ],
      "execution_count": null,
      "outputs": [
        {
          "output_type": "stream",
          "text": [
            "Rating_text  Rating_text_title\tRating_text_title_cat\n"
          ],
          "name": "stdout"
        }
      ]
    },
    {
      "cell_type": "code",
      "metadata": {
        "colab": {
          "base_uri": "https://localhost:8080/"
        },
        "id": "caRv1tnWsj9u",
        "outputId": "1a77db06-d387-443b-deba-c197b3184aab"
      },
      "source": [
        "# saving the fine tuned model & tokenizer\n",
        "model_path = \"drive/MyDrive/TFG/Modelos_entrenados/Rating_text_title_cat\"\n",
        "trainer.save_model(model_path)\n",
        "model.save_pretrained(model_path)\n",
        "tokenizer.save_pretrained(model_path)"
      ],
      "execution_count": null,
      "outputs": [
        {
          "output_type": "execute_result",
          "data": {
            "text/plain": [
              "('drive/MyDrive/TFG/Modelos_entrenados/Rating_text_title_cat/tokenizer_config.json',\n",
              " 'drive/MyDrive/TFG/Modelos_entrenados/Rating_text_title_cat/special_tokens_map.json',\n",
              " 'drive/MyDrive/TFG/Modelos_entrenados/Rating_text_title_cat/vocab.txt',\n",
              " 'drive/MyDrive/TFG/Modelos_entrenados/Rating_text_title_cat/added_tokens.json')"
            ]
          },
          "metadata": {
            "tags": []
          },
          "execution_count": 52
        }
      ]
    },
    {
      "cell_type": "markdown",
      "metadata": {
        "id": "lYZavFpEtnqi"
      },
      "source": [
        "# BertForSequenceClassification - CATEGORÍA\n",
        "\n",
        "- Clasificación de categorias de productos a partir del review_body"
      ]
    },
    {
      "cell_type": "code",
      "metadata": {
        "id": "AKjb-VZytvc7"
      },
      "source": [
        "RANDOM_SEED=8\n",
        "MAX_LENGTH=512\n",
        "\n",
        "\n",
        "## CLASES DEL CLASIFICADOR \n",
        "\n",
        "class_names = df_train.product_category.unique().tolist()"
      ],
      "execution_count": null,
      "outputs": []
    },
    {
      "cell_type": "code",
      "metadata": {
        "colab": {
          "base_uri": "https://localhost:8080/"
        },
        "id": "hf4Gomj7oTld",
        "outputId": "8ac155ac-aa6d-4b27-9341-aedc5d7ab368"
      },
      "source": [
        "len(class_names)"
      ],
      "execution_count": null,
      "outputs": [
        {
          "output_type": "execute_result",
          "data": {
            "text/plain": [
              "31"
            ]
          },
          "metadata": {
            "tags": []
          },
          "execution_count": 159
        }
      ]
    },
    {
      "cell_type": "code",
      "metadata": {
        "id": "6capieK4vwhL"
      },
      "source": [
        "#TOKENIZAMOS LOS DATAFRAMES\n",
        "\n",
        "train_encodings = tokenizer(df_train.review_body.values.tolist(), #truncation=True, padding=True,\n",
        "      add_special_tokens=True,\n",
        "      truncation=True,\n",
        "      max_length=MAX_LENGTH,\n",
        "      return_token_type_ids=False,\n",
        "      pad_to_max_length=True,\n",
        "      return_attention_mask=True,\n",
        "      return_tensors='pt')\n",
        "\n",
        "val_encodings = tokenizer(df_valid.review_body.values.tolist(), #truncation=True, padding=True,\n",
        "      add_special_tokens=True,\n",
        "      truncation=True,\n",
        "      max_length=MAX_LENGTH,\n",
        "      return_token_type_ids=False,\n",
        "      pad_to_max_length=True,\n",
        "      return_attention_mask=True,\n",
        "      return_tensors='pt')\n",
        "\n",
        "test_encodings = tokenizer(df_test.review_body.values.tolist(), #truncation=True, padding=True,\n",
        "      add_special_tokens=True,\n",
        "      truncation=True,\n",
        "      max_length=MAX_LENGTH,\n",
        "      return_token_type_ids=False,\n",
        "      pad_to_max_length=True,\n",
        "      return_attention_mask=True,\n",
        "      return_tensors='pt')"
      ],
      "execution_count": null,
      "outputs": []
    },
    {
      "cell_type": "code",
      "metadata": {
        "id": "-6CC3a5Bv0nh"
      },
      "source": [
        "class GPReviewDataset(torch.utils.data.Dataset):\n",
        "    def __init__(self, encodings, labels):\n",
        "        self.encodings = encodings\n",
        "        self.labels = labels\n",
        "\n",
        "    def __getitem__(self, idx):\n",
        "        item = {key: torch.tensor(val[idx]) for key, val in self.encodings.items()}\n",
        "        item['labels'] = torch.tensor(self.labels[idx])\n",
        "        return item\n",
        "\n",
        "    def __len__(self):\n",
        "        return len(self.labels)"
      ],
      "execution_count": null,
      "outputs": []
    },
    {
      "cell_type": "code",
      "metadata": {
        "id": "md3llmJzv3qv"
      },
      "source": [
        "train_labels = df_train.product_category_cod.values\n",
        "val_labels = df_valid.product_category_cod.values\n",
        "test_labels = df_test.product_category_cod.values"
      ],
      "execution_count": null,
      "outputs": []
    },
    {
      "cell_type": "code",
      "metadata": {
        "id": "ZIj_A7OrwfPi"
      },
      "source": [
        "train_data = GPReviewDataset(train_encodings, torch.from_numpy(train_labels))\n",
        "val_data = GPReviewDataset(val_encodings, torch.from_numpy(val_labels))\n",
        "test_data = GPReviewDataset(test_encodings, torch.from_numpy(test_labels))"
      ],
      "execution_count": null,
      "outputs": []
    },
    {
      "cell_type": "code",
      "metadata": {
        "colab": {
          "base_uri": "https://localhost:8080/"
        },
        "id": "U1JK8Ir_wqJg",
        "outputId": "d172377b-2eb0-4f60-fd3a-e6ce590267bd"
      },
      "source": [
        "model = BertForSequenceClassification.from_pretrained(\n",
        "    PRE_TRAINED_MODEL_NAME, # Use the 12-layer BERT model, with an uncased vocab.\n",
        "    num_labels = len(class_names), # The number of output labels--2 for binary classification.  si pones num_labels=1 hace MSE LOSS\n",
        "    output_attentions = False, # Whether the model returns attentions weights.\n",
        "    output_hidden_states = False ,# Whether the model returns all hidden-states.   \n",
        "    vocab_size=tokenizer.vocab_size)"
      ],
      "execution_count": null,
      "outputs": [
        {
          "output_type": "stream",
          "text": [
            "Some weights of the model checkpoint at bert-base-uncased were not used when initializing BertForSequenceClassification: ['cls.predictions.bias', 'cls.predictions.transform.dense.weight', 'cls.predictions.transform.dense.bias', 'cls.predictions.decoder.weight', 'cls.seq_relationship.weight', 'cls.seq_relationship.bias', 'cls.predictions.transform.LayerNorm.weight', 'cls.predictions.transform.LayerNorm.bias']\n",
            "- This IS expected if you are initializing BertForSequenceClassification from the checkpoint of a model trained on another task or with another architecture (e.g. initializing a BertForSequenceClassification model from a BertForPreTraining model).\n",
            "- This IS NOT expected if you are initializing BertForSequenceClassification from the checkpoint of a model that you expect to be exactly identical (initializing a BertForSequenceClassification model from a BertForSequenceClassification model).\n",
            "Some weights of BertForSequenceClassification were not initialized from the model checkpoint at bert-base-uncased and are newly initialized: ['classifier.weight', 'classifier.bias']\n",
            "You should probably TRAIN this model on a down-stream task to be able to use it for predictions and inference.\n"
          ],
          "name": "stderr"
        }
      ]
    },
    {
      "cell_type": "code",
      "metadata": {
        "id": "mDiTBf-qwxLR"
      },
      "source": [
        "device = torch.device(\"cuda:0\" if torch.cuda.is_available() else \"cpu\")\n",
        "model = model.to(device)"
      ],
      "execution_count": null,
      "outputs": []
    },
    {
      "cell_type": "markdown",
      "metadata": {
        "id": "ygQk1htBw1P-"
      },
      "source": [
        "## Training"
      ]
    },
    {
      "cell_type": "code",
      "metadata": {
        "colab": {
          "base_uri": "https://localhost:8080/"
        },
        "id": "SfGPC8FGw1P-",
        "outputId": "cf4bb77a-a0bf-4853-df4b-0b2eff734b73"
      },
      "source": [
        "model_dir=\"./\"\n",
        "\n",
        "from transformers import Trainer, TrainingArguments\n",
        "\n",
        "training_args = TrainingArguments(\n",
        "    output_dir = model_dir +  'prueba/results',          # output directory\n",
        "    overwrite_output_dir = True,\n",
        "    evaluation_strategy='epoch',\n",
        "    num_train_epochs=1,              # total number of training epochs\n",
        "    per_device_train_batch_size=8,  # batch size per device during training\n",
        "    per_device_eval_batch_size=16,   # batch size for evaluation\n",
        "    warmup_steps=500,                # number of warmup steps for learning rate scheduler\n",
        "    weight_decay=0.01,               # strength of weight decay\n",
        "    logging_dir = model_dir +  'prueba/logs',            # directory for storing logs\n",
        "    logging_steps=10,\n",
        "    #load_best_model_at_end = True\n",
        ")\n",
        "\n",
        "trainer = Trainer(\n",
        "    model = model,                         # the instantiated 🤗 Transformers model to be trained\n",
        "    args = training_args,                  # training arguments, defined above\n",
        "    train_dataset = train_data,         # training dataset\n",
        "    eval_dataset = test_data,\n",
        "    compute_metrics = compute_metrics            # evaluation dataset\n",
        ")\n",
        "\n",
        "trainer.train()"
      ],
      "execution_count": null,
      "outputs": [
        {
          "output_type": "display_data",
          "data": {
            "text/html": [
              "\n",
              "    <div>\n",
              "        <style>\n",
              "            /* Turns off some styling */\n",
              "            progress {\n",
              "                /* gets rid of default border in Firefox and Opera. */\n",
              "                border: none;\n",
              "                /* Needs to be in here for Safari polyfill so background images work as expected. */\n",
              "                background-size: auto;\n",
              "            }\n",
              "        </style>\n",
              "      \n",
              "      <progress value='1500' max='1500' style='width:300px; height:20px; vertical-align: middle;'></progress>\n",
              "      [1500/1500 12:10, Epoch 1/1]\n",
              "    </div>\n",
              "    <table border=\"1\" class=\"dataframe\">\n",
              "  <thead>\n",
              "    <tr style=\"text-align: left;\">\n",
              "      <th>Epoch</th>\n",
              "      <th>Training Loss</th>\n",
              "      <th>Validation Loss</th>\n",
              "      <th>Accuracy</th>\n",
              "      <th>F1</th>\n",
              "      <th>Precision</th>\n",
              "      <th>Recall</th>\n",
              "      <th>Runtime</th>\n",
              "      <th>Samples Per Second</th>\n",
              "    </tr>\n",
              "  </thead>\n",
              "  <tbody>\n",
              "    <tr>\n",
              "      <td>1</td>\n",
              "      <td>2.291400</td>\n",
              "      <td>1.900626</td>\n",
              "      <td>0.484000</td>\n",
              "      <td>0.457461</td>\n",
              "      <td>0.466645</td>\n",
              "      <td>0.484000</td>\n",
              "      <td>17.833100</td>\n",
              "      <td>56.076000</td>\n",
              "    </tr>\n",
              "  </tbody>\n",
              "</table><p>"
            ],
            "text/plain": [
              "<IPython.core.display.HTML object>"
            ]
          },
          "metadata": {
            "tags": []
          }
        },
        {
          "output_type": "execute_result",
          "data": {
            "text/plain": [
              "TrainOutput(global_step=1500, training_loss=2.4701984977722167, metrics={'train_runtime': 731.0666, 'train_samples_per_second': 2.052, 'total_flos': 4036832096256000, 'epoch': 1.0})"
            ]
          },
          "metadata": {
            "tags": []
          },
          "execution_count": 166
        }
      ]
    },
    {
      "cell_type": "markdown",
      "metadata": {
        "id": "M0QVxSGJw36g"
      },
      "source": [
        "## Evaluation"
      ]
    },
    {
      "cell_type": "code",
      "metadata": {
        "colab": {
          "base_uri": "https://localhost:8080/"
        },
        "id": "8xtj1Aslw36g",
        "outputId": "c2e36608-c55b-4b56-f232-2ba0fed831d5"
      },
      "source": [
        "trainer.evaluate()"
      ],
      "execution_count": null,
      "outputs": [
        {
          "output_type": "display_data",
          "data": {
            "text/html": [
              "\n",
              "    <div>\n",
              "        <style>\n",
              "            /* Turns off some styling */\n",
              "            progress {\n",
              "                /* gets rid of default border in Firefox and Opera. */\n",
              "                border: none;\n",
              "                /* Needs to be in here for Safari polyfill so background images work as expected. */\n",
              "                background-size: auto;\n",
              "            }\n",
              "        </style>\n",
              "      \n",
              "      <progress value='63' max='63' style='width:300px; height:20px; vertical-align: middle;'></progress>\n",
              "      [63/63 00:17]\n",
              "    </div>\n",
              "    "
            ],
            "text/plain": [
              "<IPython.core.display.HTML object>"
            ]
          },
          "metadata": {
            "tags": []
          }
        },
        {
          "output_type": "execute_result",
          "data": {
            "text/plain": [
              "{'epoch': 1.0,\n",
              " 'eval_accuracy': 0.484,\n",
              " 'eval_f1': 0.45746141413361835,\n",
              " 'eval_loss': 1.9006259441375732,\n",
              " 'eval_precision': 0.46664481507264,\n",
              " 'eval_recall': 0.484,\n",
              " 'eval_runtime': 17.8415,\n",
              " 'eval_samples_per_second': 56.049}"
            ]
          },
          "metadata": {
            "tags": []
          },
          "execution_count": 167
        }
      ]
    },
    {
      "cell_type": "code",
      "metadata": {
        "colab": {
          "base_uri": "https://localhost:8080/"
        },
        "id": "TsGRUuWyrg7O",
        "outputId": "5491882a-62fb-4ccd-ebf2-e8146477a4b2"
      },
      "source": [
        "preds = trainer.predict(test_data)"
      ],
      "execution_count": null,
      "outputs": [
        {
          "output_type": "display_data",
          "data": {
            "text/html": [
              "\n",
              "    <div>\n",
              "        <style>\n",
              "            /* Turns off some styling */\n",
              "            progress {\n",
              "                /* gets rid of default border in Firefox and Opera. */\n",
              "                border: none;\n",
              "                /* Needs to be in here for Safari polyfill so background images work as expected. */\n",
              "                background-size: auto;\n",
              "            }\n",
              "        </style>\n",
              "      \n",
              "      <progress value='126' max='63' style='width:300px; height:20px; vertical-align: middle;'></progress>\n",
              "      [63/63 00:35]\n",
              "    </div>\n",
              "    "
            ],
            "text/plain": [
              "<IPython.core.display.HTML object>"
            ]
          },
          "metadata": {
            "tags": []
          }
        }
      ]
    },
    {
      "cell_type": "code",
      "metadata": {
        "colab": {
          "base_uri": "https://localhost:8080/"
        },
        "id": "ZjAfMKTnsPcC",
        "outputId": "2d8a7149-4e68-4097-f4a8-d7bbaa78ef76"
      },
      "source": [
        "import numpy as np\n",
        "y_preds = preds.label_ids\n",
        "print(len(np.unique(y_preds)))\n",
        "print(np.unique(y_preds))"
      ],
      "execution_count": null,
      "outputs": [
        {
          "output_type": "stream",
          "text": [
            "30\n",
            "[ 0  1  2  3  4  5  6  7  8  9 10 11 12 13 14 15 16 17 18 19 20 21 22 24\n",
            " 25 26 27 28 29 30]\n"
          ],
          "name": "stdout"
        }
      ]
    },
    {
      "cell_type": "code",
      "metadata": {
        "colab": {
          "base_uri": "https://localhost:8080/"
        },
        "id": "Xj5J10m0tiwU",
        "outputId": "d713b0a6-78c3-40a8-b10e-d8e0879091c6"
      },
      "source": [
        "print(len(np.unique(test_labels)))\n",
        "print(np.unique(test_labels))"
      ],
      "execution_count": null,
      "outputs": [
        {
          "output_type": "stream",
          "text": [
            "30\n",
            "[ 0  1  2  3  4  5  6  7  8  9 10 11 12 13 14 15 16 17 18 19 20 21 22 24\n",
            " 25 26 27 28 29 30]\n"
          ],
          "name": "stdout"
        }
      ]
    },
    {
      "cell_type": "code",
      "metadata": {
        "colab": {
          "base_uri": "https://localhost:8080/"
        },
        "id": "UlwxK1JNt1tM",
        "outputId": "aa9890ee-d666-4551-a804-7b3f6fe99657"
      },
      "source": [
        "len(class_names)"
      ],
      "execution_count": null,
      "outputs": [
        {
          "output_type": "execute_result",
          "data": {
            "text/plain": [
              "31"
            ]
          },
          "metadata": {
            "tags": []
          },
          "execution_count": 171
        }
      ]
    },
    {
      "cell_type": "code",
      "metadata": {
        "id": "K9S5fyfwpHkD"
      },
      "source": [
        "from sklearn.metrics import classification_report\n",
        "\n",
        "#print(classification_report(test_labels, y_preds, target_names= class_names"
      ],
      "execution_count": null,
      "outputs": []
    },
    {
      "cell_type": "markdown",
      "metadata": {
        "id": "kZfNk-hFw6tB"
      },
      "source": [
        "## Save Model"
      ]
    },
    {
      "cell_type": "code",
      "metadata": {
        "colab": {
          "base_uri": "https://localhost:8080/"
        },
        "id": "wYd62Bxow6tC",
        "outputId": "2187212f-9a2d-4494-ddf2-bd99b898d779"
      },
      "source": [
        "!ls drive/MyDrive/TFG/Modelos_entrenados/"
      ],
      "execution_count": null,
      "outputs": [
        {
          "output_type": "stream",
          "text": [
            "Category_text\t     Rating_text\tRating_text_title_cat\n",
            "Category_text_title  Rating_text_title\n"
          ],
          "name": "stdout"
        }
      ]
    },
    {
      "cell_type": "code",
      "metadata": {
        "colab": {
          "base_uri": "https://localhost:8080/"
        },
        "id": "s80oYLXMw6tC",
        "outputId": "db6560ee-0ac6-4528-f56d-5ba1c0db56ac"
      },
      "source": [
        "# saving the fine tuned model & tokenizer\n",
        "model_path = \"drive/MyDrive/TFG/Modelos_entrenados/Category_text\"\n",
        "trainer.save_model(model_path)\n",
        "model.save_pretrained(model_path)\n",
        "tokenizer.save_pretrained(model_path)"
      ],
      "execution_count": null,
      "outputs": [
        {
          "output_type": "execute_result",
          "data": {
            "text/plain": [
              "('drive/MyDrive/TFG/Modelos_entrenados/Category_text/tokenizer_config.json',\n",
              " 'drive/MyDrive/TFG/Modelos_entrenados/Category_text/special_tokens_map.json',\n",
              " 'drive/MyDrive/TFG/Modelos_entrenados/Category_text/vocab.txt',\n",
              " 'drive/MyDrive/TFG/Modelos_entrenados/Category_text/added_tokens.json')"
            ]
          },
          "metadata": {
            "tags": []
          },
          "execution_count": 174
        }
      ]
    },
    {
      "cell_type": "markdown",
      "metadata": {
        "id": "wiMpXakcxleJ"
      },
      "source": [
        "# BertForSequenceClassification - CATEGORÍA\n",
        "\n",
        "- Clasificación de categorias de productos a partir del review_body + titulo"
      ]
    },
    {
      "cell_type": "code",
      "metadata": {
        "id": "PPDbtxuKxleJ"
      },
      "source": [
        "RANDOM_SEED=8\n",
        "MAX_LENGTH=512\n",
        "\n",
        "\n",
        "## CLASES DEL CLASIFICADOR \n",
        "\n",
        "class_names = df_train.product_category.unique().tolist()"
      ],
      "execution_count": null,
      "outputs": []
    },
    {
      "cell_type": "code",
      "metadata": {
        "id": "ulc-JJYcxleJ"
      },
      "source": [
        "#TOKENIZAMOS LOS DATAFRAMES\n",
        "\n",
        "train_encodings = tokenizer(df_train.text_title.values.tolist(), #truncation=True, padding=True,\n",
        "      add_special_tokens=True,\n",
        "      truncation=True,\n",
        "      max_length=MAX_LENGTH,\n",
        "      return_token_type_ids=False,\n",
        "      pad_to_max_length=True,\n",
        "      return_attention_mask=True,\n",
        "      return_tensors='pt')\n",
        "\n",
        "val_encodings = tokenizer(df_valid.text_title.values.tolist(), #truncation=True, padding=True,\n",
        "      add_special_tokens=True,\n",
        "      truncation=True,\n",
        "      max_length=MAX_LENGTH,\n",
        "      return_token_type_ids=False,\n",
        "      pad_to_max_length=True,\n",
        "      return_attention_mask=True,\n",
        "      return_tensors='pt')\n",
        "\n",
        "test_encodings = tokenizer(df_test.text_title.values.tolist(), #truncation=True, padding=True,\n",
        "      add_special_tokens=True,\n",
        "      truncation=True,\n",
        "      max_length=MAX_LENGTH,\n",
        "      return_token_type_ids=False,\n",
        "      pad_to_max_length=True,\n",
        "      return_attention_mask=True,\n",
        "      return_tensors='pt')"
      ],
      "execution_count": null,
      "outputs": []
    },
    {
      "cell_type": "code",
      "metadata": {
        "id": "UZj8ZZ4KxleK"
      },
      "source": [
        "class GPReviewDataset(torch.utils.data.Dataset):\n",
        "    def __init__(self, encodings, labels):\n",
        "        self.encodings = encodings\n",
        "        self.labels = labels\n",
        "\n",
        "    def __getitem__(self, idx):\n",
        "        item = {key: torch.tensor(val[idx]) for key, val in self.encodings.items()}\n",
        "        item['labels'] = torch.tensor(self.labels[idx])\n",
        "        return item\n",
        "\n",
        "    def __len__(self):\n",
        "        return len(self.labels)"
      ],
      "execution_count": null,
      "outputs": []
    },
    {
      "cell_type": "code",
      "metadata": {
        "id": "5O-AjcNMxleK"
      },
      "source": [
        "train_labels = df_train.product_category_cod.values\n",
        "val_labels = df_valid.product_category_cod.values\n",
        "test_labels = df_test.product_category_cod.values"
      ],
      "execution_count": null,
      "outputs": []
    },
    {
      "cell_type": "code",
      "metadata": {
        "id": "UeV2NMDExleK"
      },
      "source": [
        "train_data = GPReviewDataset(train_encodings, torch.from_numpy(train_labels))\n",
        "val_data = GPReviewDataset(val_encodings, torch.from_numpy(val_labels))\n",
        "test_data = GPReviewDataset(test_encodings, torch.from_numpy(test_labels))"
      ],
      "execution_count": null,
      "outputs": []
    },
    {
      "cell_type": "code",
      "metadata": {
        "colab": {
          "base_uri": "https://localhost:8080/"
        },
        "id": "XapCe4rjxleK",
        "outputId": "d56cc6e5-0e99-420e-f427-832987ee8a01"
      },
      "source": [
        "model = BertForSequenceClassification.from_pretrained(\n",
        "    PRE_TRAINED_MODEL_NAME, # Use the 12-layer BERT model, with an uncased vocab.\n",
        "    num_labels = len(class_names), # The number of output labels--2 for binary classification.  si pones num_labels=1 hace MSE LOSS\n",
        "    output_attentions = False, # Whether the model returns attentions weights.\n",
        "    output_hidden_states = False ,# Whether the model returns all hidden-states.   \n",
        "    vocab_size=tokenizer.vocab_size)"
      ],
      "execution_count": null,
      "outputs": [
        {
          "output_type": "stream",
          "text": [
            "Some weights of the model checkpoint at bert-base-uncased were not used when initializing BertForSequenceClassification: ['cls.predictions.bias', 'cls.predictions.transform.dense.weight', 'cls.predictions.transform.dense.bias', 'cls.predictions.decoder.weight', 'cls.seq_relationship.weight', 'cls.seq_relationship.bias', 'cls.predictions.transform.LayerNorm.weight', 'cls.predictions.transform.LayerNorm.bias']\n",
            "- This IS expected if you are initializing BertForSequenceClassification from the checkpoint of a model trained on another task or with another architecture (e.g. initializing a BertForSequenceClassification model from a BertForPreTraining model).\n",
            "- This IS NOT expected if you are initializing BertForSequenceClassification from the checkpoint of a model that you expect to be exactly identical (initializing a BertForSequenceClassification model from a BertForSequenceClassification model).\n",
            "Some weights of BertForSequenceClassification were not initialized from the model checkpoint at bert-base-uncased and are newly initialized: ['classifier.weight', 'classifier.bias']\n",
            "You should probably TRAIN this model on a down-stream task to be able to use it for predictions and inference.\n"
          ],
          "name": "stderr"
        }
      ]
    },
    {
      "cell_type": "code",
      "metadata": {
        "id": "WfN6Pyx8xleL"
      },
      "source": [
        "device = torch.device(\"cuda:0\" if torch.cuda.is_available() else \"cpu\")\n",
        "model = model.to(device)"
      ],
      "execution_count": null,
      "outputs": []
    },
    {
      "cell_type": "markdown",
      "metadata": {
        "id": "2P4MFgYmxleL"
      },
      "source": [
        "## Training"
      ]
    },
    {
      "cell_type": "code",
      "metadata": {
        "colab": {
          "base_uri": "https://localhost:8080/",
          "height": 142
        },
        "id": "XS5_UIwSxleL",
        "outputId": "ad8f6dce-51bf-4413-c07e-92661e0ee223"
      },
      "source": [
        "model_dir=\"./\"\n",
        "\n",
        "from transformers import Trainer, TrainingArguments\n",
        "\n",
        "training_args = TrainingArguments(\n",
        "    output_dir = model_dir +  'prueba/results',          # output directory\n",
        "    overwrite_output_dir = True,\n",
        "    evaluation_strategy='epoch',\n",
        "    num_train_epochs=1,              # total number of training epochs\n",
        "    per_device_train_batch_size=8,  # batch size per device during training\n",
        "    per_device_eval_batch_size=16,   # batch size for evaluation\n",
        "    warmup_steps=500,                # number of warmup steps for learning rate scheduler\n",
        "    weight_decay=0.01,               # strength of weight decay\n",
        "    logging_dir = model_dir +  'prueba/logs',            # directory for storing logs\n",
        "    logging_steps=10,\n",
        "    #load_best_model_at_end = True\n",
        ")\n",
        "\n",
        "trainer = Trainer(\n",
        "    model = model,                         # the instantiated 🤗 Transformers model to be trained\n",
        "    args = training_args,                  # training arguments, defined above\n",
        "    train_dataset = train_data,         # training dataset\n",
        "    eval_dataset = test_data,\n",
        "    compute_metrics = compute_metrics             # evaluation dataset\n",
        ")\n",
        "\n",
        "trainer.train()"
      ],
      "execution_count": null,
      "outputs": [
        {
          "output_type": "display_data",
          "data": {
            "text/html": [
              "\n",
              "    <div>\n",
              "        <style>\n",
              "            /* Turns off some styling */\n",
              "            progress {\n",
              "                /* gets rid of default border in Firefox and Opera. */\n",
              "                border: none;\n",
              "                /* Needs to be in here for Safari polyfill so background images work as expected. */\n",
              "                background-size: auto;\n",
              "            }\n",
              "        </style>\n",
              "      \n",
              "      <progress value='1500' max='1500' style='width:300px; height:20px; vertical-align: middle;'></progress>\n",
              "      [1500/1500 12:11, Epoch 1/1]\n",
              "    </div>\n",
              "    <table border=\"1\" class=\"dataframe\">\n",
              "  <thead>\n",
              "    <tr style=\"text-align: left;\">\n",
              "      <th>Epoch</th>\n",
              "      <th>Training Loss</th>\n",
              "      <th>Validation Loss</th>\n",
              "      <th>Accuracy</th>\n",
              "      <th>F1</th>\n",
              "      <th>Precision</th>\n",
              "      <th>Recall</th>\n",
              "      <th>Runtime</th>\n",
              "      <th>Samples Per Second</th>\n",
              "    </tr>\n",
              "  </thead>\n",
              "  <tbody>\n",
              "    <tr>\n",
              "      <td>1</td>\n",
              "      <td>2.349900</td>\n",
              "      <td>1.861099</td>\n",
              "      <td>0.484000</td>\n",
              "      <td>0.465439</td>\n",
              "      <td>0.486365</td>\n",
              "      <td>0.484000</td>\n",
              "      <td>17.859200</td>\n",
              "      <td>55.993000</td>\n",
              "    </tr>\n",
              "  </tbody>\n",
              "</table><p>"
            ],
            "text/plain": [
              "<IPython.core.display.HTML object>"
            ]
          },
          "metadata": {
            "tags": []
          }
        },
        {
          "output_type": "execute_result",
          "data": {
            "text/plain": [
              "TrainOutput(global_step=1500, training_loss=2.4554180132548016, metrics={'train_runtime': 731.6949, 'train_samples_per_second': 2.05, 'total_flos': 4036832096256000, 'epoch': 1.0})"
            ]
          },
          "metadata": {
            "tags": []
          },
          "execution_count": 153
        }
      ]
    },
    {
      "cell_type": "markdown",
      "metadata": {
        "id": "lRxJw2lZxleL"
      },
      "source": [
        "## Evaluation"
      ]
    },
    {
      "cell_type": "code",
      "metadata": {
        "colab": {
          "base_uri": "https://localhost:8080/",
          "height": 178
        },
        "id": "fKec_lvkxleM",
        "outputId": "5749d487-16a2-4e47-b269-4a84fcde46dc"
      },
      "source": [
        "trainer.evaluate()"
      ],
      "execution_count": null,
      "outputs": [
        {
          "output_type": "display_data",
          "data": {
            "text/html": [
              "\n",
              "    <div>\n",
              "        <style>\n",
              "            /* Turns off some styling */\n",
              "            progress {\n",
              "                /* gets rid of default border in Firefox and Opera. */\n",
              "                border: none;\n",
              "                /* Needs to be in here for Safari polyfill so background images work as expected. */\n",
              "                background-size: auto;\n",
              "            }\n",
              "        </style>\n",
              "      \n",
              "      <progress value='63' max='63' style='width:300px; height:20px; vertical-align: middle;'></progress>\n",
              "      [63/63 00:17]\n",
              "    </div>\n",
              "    "
            ],
            "text/plain": [
              "<IPython.core.display.HTML object>"
            ]
          },
          "metadata": {
            "tags": []
          }
        },
        {
          "output_type": "execute_result",
          "data": {
            "text/plain": [
              "{'epoch': 1.0,\n",
              " 'eval_accuracy': 0.484,\n",
              " 'eval_f1': 0.4654393747639713,\n",
              " 'eval_loss': 1.8610986471176147,\n",
              " 'eval_precision': 0.48636542705370245,\n",
              " 'eval_recall': 0.484,\n",
              " 'eval_runtime': 17.8336,\n",
              " 'eval_samples_per_second': 56.074}"
            ]
          },
          "metadata": {
            "tags": []
          },
          "execution_count": 154
        }
      ]
    },
    {
      "cell_type": "markdown",
      "metadata": {
        "id": "4sNM26YyxleM"
      },
      "source": [
        "## Save Model"
      ]
    },
    {
      "cell_type": "code",
      "metadata": {
        "colab": {
          "base_uri": "https://localhost:8080/"
        },
        "id": "WDDjecK-xleM",
        "outputId": "f39de1d7-ef92-4ac7-ac3c-f7f7653cd65c"
      },
      "source": [
        "!ls drive/MyDrive/TFG_1/Modelos_entrenados/"
      ],
      "execution_count": null,
      "outputs": [
        {
          "output_type": "stream",
          "text": [
            "ls: cannot access 'drive/MyDrive/TFG_1/Modelos_entrenados/': No such file or directory\n"
          ],
          "name": "stdout"
        }
      ]
    },
    {
      "cell_type": "code",
      "metadata": {
        "colab": {
          "base_uri": "https://localhost:8080/"
        },
        "id": "_JvegHs-xleN",
        "outputId": "b08d61be-2cc0-4fcd-da76-7d5a0d16ffb8"
      },
      "source": [
        "# saving the fine tuned model & tokenizer\n",
        "model_path = \"drive/MyDrive/TFG/Modelos_entrenados/Category_text_title\"\n",
        "trainer.save_model(model_path)\n",
        "model.save_pretrained(model_path)\n",
        "tokenizer.save_pretrained(model_path)"
      ],
      "execution_count": null,
      "outputs": [
        {
          "output_type": "execute_result",
          "data": {
            "text/plain": [
              "('drive/MyDrive/TFG/Modelos_entrenados/Category_text_title/tokenizer_config.json',\n",
              " 'drive/MyDrive/TFG/Modelos_entrenados/Category_text_title/special_tokens_map.json',\n",
              " 'drive/MyDrive/TFG/Modelos_entrenados/Category_text_title/vocab.txt',\n",
              " 'drive/MyDrive/TFG/Modelos_entrenados/Category_text_title/added_tokens.json')"
            ]
          },
          "metadata": {
            "tags": []
          },
          "execution_count": 157
        }
      ]
    },
    {
      "cell_type": "code",
      "metadata": {
        "id": "Rm9z70_2t4_O"
      },
      "source": [
        ""
      ],
      "execution_count": null,
      "outputs": []
    },
    {
      "cell_type": "code",
      "metadata": {
        "id": "jcrRCuosnDYH"
      },
      "source": [
        ""
      ],
      "execution_count": null,
      "outputs": []
    }
  ]
}