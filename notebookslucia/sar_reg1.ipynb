{
  "nbformat": 4,
  "nbformat_minor": 0,
  "metadata": {
    "colab": {
      "name": "sar_reg1.ipynb",
      "provenance": [],
      "collapsed_sections": [
        "Wvo1cOTT1xRM",
        "i2VlD0_QbuH4",
        "5bjE90By5I5R"
      ],
      "toc_visible": true
    },
    "kernelspec": {
      "name": "python3",
      "display_name": "Python 3"
    },
    "accelerator": "GPU",
    "widgets": {
      "application/vnd.jupyter.widget-state+json": {
        "7d8fb1c574054b888ca0c3037d16b547": {
          "model_module": "@jupyter-widgets/controls",
          "model_name": "VBoxModel",
          "state": {
            "_view_name": "VBoxView",
            "_dom_classes": [],
            "_model_name": "VBoxModel",
            "_view_module": "@jupyter-widgets/controls",
            "_model_module_version": "1.5.0",
            "_view_count": null,
            "_view_module_version": "1.5.0",
            "box_style": "",
            "layout": "IPY_MODEL_e0c4ef09fbc04676921a0a7cc9480f54",
            "_model_module": "@jupyter-widgets/controls",
            "children": [
              "IPY_MODEL_80ee6e54dc7f495daa02e4988a4d944d",
              "IPY_MODEL_a2d4e87ff3a64b19b6d658fcfa72c8e5"
            ]
          }
        },
        "e0c4ef09fbc04676921a0a7cc9480f54": {
          "model_module": "@jupyter-widgets/base",
          "model_name": "LayoutModel",
          "state": {
            "_view_name": "LayoutView",
            "grid_template_rows": null,
            "right": null,
            "justify_content": null,
            "_view_module": "@jupyter-widgets/base",
            "overflow": null,
            "_model_module_version": "1.2.0",
            "_view_count": null,
            "flex_flow": null,
            "width": null,
            "min_width": null,
            "border": null,
            "align_items": null,
            "bottom": null,
            "_model_module": "@jupyter-widgets/base",
            "top": null,
            "grid_column": null,
            "overflow_y": null,
            "overflow_x": null,
            "grid_auto_flow": null,
            "grid_area": null,
            "grid_template_columns": null,
            "flex": null,
            "_model_name": "LayoutModel",
            "justify_items": null,
            "grid_row": null,
            "max_height": null,
            "align_content": null,
            "visibility": null,
            "align_self": null,
            "height": null,
            "min_height": null,
            "padding": null,
            "grid_auto_rows": null,
            "grid_gap": null,
            "max_width": null,
            "order": null,
            "_view_module_version": "1.2.0",
            "grid_template_areas": null,
            "object_position": null,
            "object_fit": null,
            "grid_auto_columns": null,
            "margin": null,
            "display": null,
            "left": null
          }
        },
        "80ee6e54dc7f495daa02e4988a4d944d": {
          "model_module": "@jupyter-widgets/controls",
          "model_name": "LabelModel",
          "state": {
            "_view_name": "LabelView",
            "style": "IPY_MODEL_dd65036c54b64ad781b35d17f908adf4",
            "_dom_classes": [],
            "description": "",
            "_model_name": "LabelModel",
            "placeholder": "​",
            "_view_module": "@jupyter-widgets/controls",
            "_model_module_version": "1.5.0",
            "value": " 392.41MB of 392.41MB uploaded (0.00MB deduped)\r",
            "_view_count": null,
            "_view_module_version": "1.5.0",
            "description_tooltip": null,
            "_model_module": "@jupyter-widgets/controls",
            "layout": "IPY_MODEL_fd0bf4b7c24648aeb357f6a12543f7cb"
          }
        },
        "a2d4e87ff3a64b19b6d658fcfa72c8e5": {
          "model_module": "@jupyter-widgets/controls",
          "model_name": "FloatProgressModel",
          "state": {
            "_view_name": "ProgressView",
            "style": "IPY_MODEL_ba326b98debe4d9d90830ffbad5614ff",
            "_dom_classes": [],
            "description": "",
            "_model_name": "FloatProgressModel",
            "bar_style": "",
            "max": 1,
            "_view_module": "@jupyter-widgets/controls",
            "_model_module_version": "1.5.0",
            "value": 1,
            "_view_count": null,
            "_view_module_version": "1.5.0",
            "orientation": "horizontal",
            "min": 0,
            "description_tooltip": null,
            "_model_module": "@jupyter-widgets/controls",
            "layout": "IPY_MODEL_3b937c06352f4af8a3116fdbdf338b4e"
          }
        },
        "dd65036c54b64ad781b35d17f908adf4": {
          "model_module": "@jupyter-widgets/controls",
          "model_name": "DescriptionStyleModel",
          "state": {
            "_view_name": "StyleView",
            "_model_name": "DescriptionStyleModel",
            "description_width": "",
            "_view_module": "@jupyter-widgets/base",
            "_model_module_version": "1.5.0",
            "_view_count": null,
            "_view_module_version": "1.2.0",
            "_model_module": "@jupyter-widgets/controls"
          }
        },
        "fd0bf4b7c24648aeb357f6a12543f7cb": {
          "model_module": "@jupyter-widgets/base",
          "model_name": "LayoutModel",
          "state": {
            "_view_name": "LayoutView",
            "grid_template_rows": null,
            "right": null,
            "justify_content": null,
            "_view_module": "@jupyter-widgets/base",
            "overflow": null,
            "_model_module_version": "1.2.0",
            "_view_count": null,
            "flex_flow": null,
            "width": null,
            "min_width": null,
            "border": null,
            "align_items": null,
            "bottom": null,
            "_model_module": "@jupyter-widgets/base",
            "top": null,
            "grid_column": null,
            "overflow_y": null,
            "overflow_x": null,
            "grid_auto_flow": null,
            "grid_area": null,
            "grid_template_columns": null,
            "flex": null,
            "_model_name": "LayoutModel",
            "justify_items": null,
            "grid_row": null,
            "max_height": null,
            "align_content": null,
            "visibility": null,
            "align_self": null,
            "height": null,
            "min_height": null,
            "padding": null,
            "grid_auto_rows": null,
            "grid_gap": null,
            "max_width": null,
            "order": null,
            "_view_module_version": "1.2.0",
            "grid_template_areas": null,
            "object_position": null,
            "object_fit": null,
            "grid_auto_columns": null,
            "margin": null,
            "display": null,
            "left": null
          }
        },
        "ba326b98debe4d9d90830ffbad5614ff": {
          "model_module": "@jupyter-widgets/controls",
          "model_name": "ProgressStyleModel",
          "state": {
            "_view_name": "StyleView",
            "_model_name": "ProgressStyleModel",
            "description_width": "",
            "_view_module": "@jupyter-widgets/base",
            "_model_module_version": "1.5.0",
            "_view_count": null,
            "_view_module_version": "1.2.0",
            "bar_color": null,
            "_model_module": "@jupyter-widgets/controls"
          }
        },
        "3b937c06352f4af8a3116fdbdf338b4e": {
          "model_module": "@jupyter-widgets/base",
          "model_name": "LayoutModel",
          "state": {
            "_view_name": "LayoutView",
            "grid_template_rows": null,
            "right": null,
            "justify_content": null,
            "_view_module": "@jupyter-widgets/base",
            "overflow": null,
            "_model_module_version": "1.2.0",
            "_view_count": null,
            "flex_flow": null,
            "width": null,
            "min_width": null,
            "border": null,
            "align_items": null,
            "bottom": null,
            "_model_module": "@jupyter-widgets/base",
            "top": null,
            "grid_column": null,
            "overflow_y": null,
            "overflow_x": null,
            "grid_auto_flow": null,
            "grid_area": null,
            "grid_template_columns": null,
            "flex": null,
            "_model_name": "LayoutModel",
            "justify_items": null,
            "grid_row": null,
            "max_height": null,
            "align_content": null,
            "visibility": null,
            "align_self": null,
            "height": null,
            "min_height": null,
            "padding": null,
            "grid_auto_rows": null,
            "grid_gap": null,
            "max_width": null,
            "order": null,
            "_view_module_version": "1.2.0",
            "grid_template_areas": null,
            "object_position": null,
            "object_fit": null,
            "grid_auto_columns": null,
            "margin": null,
            "display": null,
            "left": null
          }
        }
      }
    }
  },
  "cells": [
    {
      "cell_type": "code",
      "metadata": {
        "id": "K6RchDMjC8nL"
      },
      "source": [
        ""
      ],
      "execution_count": null,
      "outputs": []
    },
    {
      "cell_type": "markdown",
      "metadata": {
        "id": "Wvo1cOTT1xRM"
      },
      "source": [
        "# Configuración del notebook"
      ]
    },
    {
      "cell_type": "code",
      "metadata": {
        "id": "1619oXnIU5EU",
        "colab": {
          "base_uri": "https://localhost:8080/"
        },
        "outputId": "d301f465-3b2d-440b-d0de-bbfe9637e788"
      },
      "source": [
        "#hide\n",
        "!pip install -Uqq fastbook\n",
        "import fastbook\n",
        "fastbook.setup_book()"
      ],
      "execution_count": 1,
      "outputs": [
        {
          "output_type": "stream",
          "text": [
            "\u001b[K     |████████████████████████████████| 727kB 22.6MB/s \n",
            "\u001b[K     |████████████████████████████████| 51kB 8.5MB/s \n",
            "\u001b[K     |████████████████████████████████| 194kB 24.8MB/s \n",
            "\u001b[K     |████████████████████████████████| 1.1MB 47.0MB/s \n",
            "\u001b[K     |████████████████████████████████| 61kB 9.7MB/s \n",
            "\u001b[?25hMounted at /content/gdrive\n"
          ],
          "name": "stdout"
        }
      ]
    },
    {
      "cell_type": "code",
      "metadata": {
        "id": "TD4FkwOZWpuu"
      },
      "source": [
        "#hide\n",
        "from fastbook import *\n",
        "from IPython.display import display,HTML"
      ],
      "execution_count": 2,
      "outputs": []
    },
    {
      "cell_type": "code",
      "metadata": {
        "id": "upiuuOCy77QW",
        "colab": {
          "base_uri": "https://localhost:8080/"
        },
        "outputId": "6615c44e-a509-4c2f-c0da-13031486bb12"
      },
      "source": [
        "import numpy as py\n",
        "import pandas as pd\n",
        "import warnings\n",
        "import matplotlib.pyplot as plt\n",
        "import statsmodels.api as sm\n",
        "import seaborn as sns\n"
      ],
      "execution_count": 3,
      "outputs": [
        {
          "output_type": "stream",
          "text": [
            "/usr/local/lib/python3.6/dist-packages/statsmodels/tools/_testing.py:19: FutureWarning: pandas.util.testing is deprecated. Use the functions in the public API at pandas.testing instead.\n",
            "  import pandas.util.testing as tm\n"
          ],
          "name": "stderr"
        }
      ]
    },
    {
      "cell_type": "code",
      "metadata": {
        "id": "iPhDKpq_YaEk"
      },
      "source": [
        "%%capture\n",
        "!pip install wandb\n",
        "#wandb login\n",
        "import wandb\n",
        "from fastai.callback.wandb import *"
      ],
      "execution_count": 4,
      "outputs": []
    },
    {
      "cell_type": "markdown",
      "metadata": {
        "id": "H-Kj_-2WBM1N"
      },
      "source": [
        "<img alt=\"Diagram of the ULMFiT process\" width=\"450\" src=\"https://github.com/fastai/fastbook/blob/master/images/att_00027.png?raw=1\">"
      ]
    },
    {
      "cell_type": "markdown",
      "metadata": {
        "id": "i2VlD0_QbuH4"
      },
      "source": [
        "# Preprocessing"
      ]
    },
    {
      "cell_type": "code",
      "metadata": {
        "id": "A1q6IBp95BGy"
      },
      "source": [
        "from fastai.text.all import *"
      ],
      "execution_count": 29,
      "outputs": []
    },
    {
      "cell_type": "code",
      "metadata": {
        "id": "Y7smKxYc5FDB"
      },
      "source": [
        "path = \"/content/amazon_reviews_us_Camera_v1_00.tsv\""
      ],
      "execution_count": 30,
      "outputs": []
    },
    {
      "cell_type": "code",
      "metadata": {
        "id": "rvgtVqsV5Ktd"
      },
      "source": [
        "%%capture\n",
        "df = pd.read_csv(path,delimiter='\\t',error_bad_lines=False)\n"
      ],
      "execution_count": 31,
      "outputs": []
    },
    {
      "cell_type": "code",
      "metadata": {
        "id": "Tcm81DgM5ODq"
      },
      "source": [
        "%%capture\n",
        "df = df.head(100000)\n",
        "df.head()"
      ],
      "execution_count": 32,
      "outputs": []
    },
    {
      "cell_type": "code",
      "metadata": {
        "id": "ehSD9UK8ylQY",
        "colab": {
          "base_uri": "https://localhost:8080/"
        },
        "outputId": "fd6db284-174f-4e37-9473-32e1859e7bc4"
      },
      "source": [
        "df.shape"
      ],
      "execution_count": 33,
      "outputs": [
        {
          "output_type": "execute_result",
          "data": {
            "text/plain": [
              "(100000, 15)"
            ]
          },
          "metadata": {
            "tags": []
          },
          "execution_count": 33
        }
      ]
    },
    {
      "cell_type": "code",
      "metadata": {
        "id": "xGkNZ87mBCNM",
        "colab": {
          "base_uri": "https://localhost:8080/",
          "height": 340
        },
        "outputId": "c555d09a-14f9-416f-8050-a0339d31091e"
      },
      "source": [
        "df = df[['star_rating','review_body']]\n",
        "df.head()"
      ],
      "execution_count": 34,
      "outputs": [
        {
          "output_type": "execute_result",
          "data": {
            "text/html": [
              "<div>\n",
              "<style scoped>\n",
              "    .dataframe tbody tr th:only-of-type {\n",
              "        vertical-align: middle;\n",
              "    }\n",
              "\n",
              "    .dataframe tbody tr th {\n",
              "        vertical-align: top;\n",
              "    }\n",
              "\n",
              "    .dataframe thead th {\n",
              "        text-align: right;\n",
              "    }\n",
              "</style>\n",
              "<table border=\"1\" class=\"dataframe\">\n",
              "  <thead>\n",
              "    <tr style=\"text-align: right;\">\n",
              "      <th></th>\n",
              "      <th>star_rating</th>\n",
              "      <th>review_body</th>\n",
              "    </tr>\n",
              "  </thead>\n",
              "  <tbody>\n",
              "    <tr>\n",
              "      <th>0</th>\n",
              "      <td>5.0</td>\n",
              "      <td>ok</td>\n",
              "    </tr>\n",
              "    <tr>\n",
              "      <th>1</th>\n",
              "      <td>5.0</td>\n",
              "      <td>Perfect, even sturdier than the original!</td>\n",
              "    </tr>\n",
              "    <tr>\n",
              "      <th>2</th>\n",
              "      <td>2.0</td>\n",
              "      <td>If the words, &amp;#34;Cheap Chinese Junk&amp;#34; come to your mind when you see this, then congratulate yourself.  You're pretty close.  One of the most important features of a 'security camera&amp;#34; is the ability to detect motion and record, especially when running on battery and limited storage space.  I tested the motion detect on this camera in a few different environments so far (i.e. low light, indoors, outdoors, etc..) and all I got was a SD card full of video triggers.  All the testing was done with the low motion sensitivity setting.  I can't even imagine what the high one would be.&lt;br ...</td>\n",
              "    </tr>\n",
              "    <tr>\n",
              "      <th>3</th>\n",
              "      <td>5.0</td>\n",
              "      <td>Exactly what I wanted and expected. Perfect for hiking or carrying when you are going someplace you MAY need a quick closeup. I bought it to leave in my glovebox so I always have it with me. I've used it a few times already and couldn't be happier with it. For the price, it's definitely worth picking up if you are looking for a good monocular.</td>\n",
              "    </tr>\n",
              "    <tr>\n",
              "      <th>4</th>\n",
              "      <td>5.0</td>\n",
              "      <td>I will look past the fact that they tricked me into believing this is a Canon product. It's not by Canon. It's some generic brand that i've never heard of. HOWEVER, it works surprisingly well! The sound quality is actually really good. The wire is actually super long and is perfect for indoor shooting.</td>\n",
              "    </tr>\n",
              "  </tbody>\n",
              "</table>\n",
              "</div>"
            ],
            "text/plain": [
              "   star_rating  \\\n",
              "0          5.0   \n",
              "1          5.0   \n",
              "2          2.0   \n",
              "3          5.0   \n",
              "4          5.0   \n",
              "\n",
              "                                                                                                                                                                                                                                                                                                                                                                                                                                                                                                                                                                                                               review_body  \n",
              "0                                                                                                                                                                                                                                                                                                                                                                                                                                                                                                                                                                                                                       ok  \n",
              "1                                                                                                                                                                                                                                                                                                                                                                                                                                                                                                                                                                                Perfect, even sturdier than the original!  \n",
              "2  If the words, &#34;Cheap Chinese Junk&#34; come to your mind when you see this, then congratulate yourself.  You're pretty close.  One of the most important features of a 'security camera&#34; is the ability to detect motion and record, especially when running on battery and limited storage space.  I tested the motion detect on this camera in a few different environments so far (i.e. low light, indoors, outdoors, etc..) and all I got was a SD card full of video triggers.  All the testing was done with the low motion sensitivity setting.  I can't even imagine what the high one would be.<br ...  \n",
              "3                                                                                                                                                                                                                                                                Exactly what I wanted and expected. Perfect for hiking or carrying when you are going someplace you MAY need a quick closeup. I bought it to leave in my glovebox so I always have it with me. I've used it a few times already and couldn't be happier with it. For the price, it's definitely worth picking up if you are looking for a good monocular.  \n",
              "4                                                                                                                                                                                                                                                                                                          I will look past the fact that they tricked me into believing this is a Canon product. It's not by Canon. It's some generic brand that i've never heard of. HOWEVER, it works surprisingly well! The sound quality is actually really good. The wire is actually super long and is perfect for indoor shooting.  "
            ]
          },
          "metadata": {
            "tags": []
          },
          "execution_count": 34
        }
      ]
    },
    {
      "cell_type": "code",
      "metadata": {
        "id": "J0ZGOL9oOHxU"
      },
      "source": [
        "df = df.dropna()"
      ],
      "execution_count": 35,
      "outputs": []
    },
    {
      "cell_type": "code",
      "metadata": {
        "id": "x6WPfgM5Ol4D"
      },
      "source": [
        "df['star_rating'] = df['star_rating'].astype(int)"
      ],
      "execution_count": 36,
      "outputs": []
    },
    {
      "cell_type": "code",
      "metadata": {
        "id": "2qgyS4A4xAh0",
        "colab": {
          "base_uri": "https://localhost:8080/"
        },
        "outputId": "a0c53721-2f80-4172-cdc1-06f1134ec8e5"
      },
      "source": [
        "print ((df['star_rating'] == 5).sum())\n",
        "print ((df['star_rating'] == 4).sum())\n",
        "print ((df['star_rating'] == 3).sum())\n",
        "print ((df['star_rating'] == 2).sum())\n",
        "print ((df['star_rating'] == 1).sum())"
      ],
      "execution_count": 37,
      "outputs": [
        {
          "output_type": "stream",
          "text": [
            "62726\n",
            "15527\n",
            "7320\n",
            "4749\n",
            "9662\n"
          ],
          "name": "stdout"
        }
      ]
    },
    {
      "cell_type": "code",
      "metadata": {
        "id": "0Z3Uu4WEBPpk",
        "colab": {
          "base_uri": "https://localhost:8080/",
          "height": 340
        },
        "outputId": "4cc4532b-629b-415c-8033-2addac4aaf6c"
      },
      "source": [
        "df['star_rating']= py.where(df['star_rating']>=4,1,0) ##asi un poco mas balanceado \n",
        "df.head()"
      ],
      "execution_count": 38,
      "outputs": [
        {
          "output_type": "execute_result",
          "data": {
            "text/html": [
              "<div>\n",
              "<style scoped>\n",
              "    .dataframe tbody tr th:only-of-type {\n",
              "        vertical-align: middle;\n",
              "    }\n",
              "\n",
              "    .dataframe tbody tr th {\n",
              "        vertical-align: top;\n",
              "    }\n",
              "\n",
              "    .dataframe thead th {\n",
              "        text-align: right;\n",
              "    }\n",
              "</style>\n",
              "<table border=\"1\" class=\"dataframe\">\n",
              "  <thead>\n",
              "    <tr style=\"text-align: right;\">\n",
              "      <th></th>\n",
              "      <th>star_rating</th>\n",
              "      <th>review_body</th>\n",
              "    </tr>\n",
              "  </thead>\n",
              "  <tbody>\n",
              "    <tr>\n",
              "      <th>0</th>\n",
              "      <td>1</td>\n",
              "      <td>ok</td>\n",
              "    </tr>\n",
              "    <tr>\n",
              "      <th>1</th>\n",
              "      <td>1</td>\n",
              "      <td>Perfect, even sturdier than the original!</td>\n",
              "    </tr>\n",
              "    <tr>\n",
              "      <th>2</th>\n",
              "      <td>0</td>\n",
              "      <td>If the words, &amp;#34;Cheap Chinese Junk&amp;#34; come to your mind when you see this, then congratulate yourself.  You're pretty close.  One of the most important features of a 'security camera&amp;#34; is the ability to detect motion and record, especially when running on battery and limited storage space.  I tested the motion detect on this camera in a few different environments so far (i.e. low light, indoors, outdoors, etc..) and all I got was a SD card full of video triggers.  All the testing was done with the low motion sensitivity setting.  I can't even imagine what the high one would be.&lt;br ...</td>\n",
              "    </tr>\n",
              "    <tr>\n",
              "      <th>3</th>\n",
              "      <td>1</td>\n",
              "      <td>Exactly what I wanted and expected. Perfect for hiking or carrying when you are going someplace you MAY need a quick closeup. I bought it to leave in my glovebox so I always have it with me. I've used it a few times already and couldn't be happier with it. For the price, it's definitely worth picking up if you are looking for a good monocular.</td>\n",
              "    </tr>\n",
              "    <tr>\n",
              "      <th>4</th>\n",
              "      <td>1</td>\n",
              "      <td>I will look past the fact that they tricked me into believing this is a Canon product. It's not by Canon. It's some generic brand that i've never heard of. HOWEVER, it works surprisingly well! The sound quality is actually really good. The wire is actually super long and is perfect for indoor shooting.</td>\n",
              "    </tr>\n",
              "  </tbody>\n",
              "</table>\n",
              "</div>"
            ],
            "text/plain": [
              "   star_rating  \\\n",
              "0            1   \n",
              "1            1   \n",
              "2            0   \n",
              "3            1   \n",
              "4            1   \n",
              "\n",
              "                                                                                                                                                                                                                                                                                                                                                                                                                                                                                                                                                                                                               review_body  \n",
              "0                                                                                                                                                                                                                                                                                                                                                                                                                                                                                                                                                                                                                       ok  \n",
              "1                                                                                                                                                                                                                                                                                                                                                                                                                                                                                                                                                                                Perfect, even sturdier than the original!  \n",
              "2  If the words, &#34;Cheap Chinese Junk&#34; come to your mind when you see this, then congratulate yourself.  You're pretty close.  One of the most important features of a 'security camera&#34; is the ability to detect motion and record, especially when running on battery and limited storage space.  I tested the motion detect on this camera in a few different environments so far (i.e. low light, indoors, outdoors, etc..) and all I got was a SD card full of video triggers.  All the testing was done with the low motion sensitivity setting.  I can't even imagine what the high one would be.<br ...  \n",
              "3                                                                                                                                                                                                                                                                Exactly what I wanted and expected. Perfect for hiking or carrying when you are going someplace you MAY need a quick closeup. I bought it to leave in my glovebox so I always have it with me. I've used it a few times already and couldn't be happier with it. For the price, it's definitely worth picking up if you are looking for a good monocular.  \n",
              "4                                                                                                                                                                                                                                                                                                          I will look past the fact that they tricked me into believing this is a Canon product. It's not by Canon. It's some generic brand that i've never heard of. HOWEVER, it works surprisingly well! The sound quality is actually really good. The wire is actually super long and is perfect for indoor shooting.  "
            ]
          },
          "metadata": {
            "tags": []
          },
          "execution_count": 38
        }
      ]
    },
    {
      "cell_type": "code",
      "metadata": {
        "id": "p1o1DSOV02_u",
        "colab": {
          "base_uri": "https://localhost:8080/"
        },
        "outputId": "721d49bf-fc2c-4da6-b6db-814c89933082"
      },
      "source": [
        "print ((df['star_rating'] == 1).sum())\n",
        "print ((df['star_rating'] == 0).sum())"
      ],
      "execution_count": 39,
      "outputs": [
        {
          "output_type": "stream",
          "text": [
            "78253\n",
            "21731\n"
          ],
          "name": "stdout"
        }
      ]
    },
    {
      "cell_type": "code",
      "metadata": {
        "id": "2pRDBrvcBTQt",
        "colab": {
          "base_uri": "https://localhost:8080/"
        },
        "outputId": "819853be-ecef-48bb-b22b-58b5f10bd3c1"
      },
      "source": [
        "final_true= df[df['star_rating']==1][:25000]\n",
        "final_false = df[df['star_rating']==0][:21000]\n",
        "df = final_true.append(final_false)\n",
        "df = df.sample(frac = 1, random_state = 1)\n",
        "df = df.reset_index(drop=True)\n",
        "len(df)"
      ],
      "execution_count": 40,
      "outputs": [
        {
          "output_type": "execute_result",
          "data": {
            "text/plain": [
              "46000"
            ]
          },
          "metadata": {
            "tags": []
          },
          "execution_count": 40
        }
      ]
    },
    {
      "cell_type": "code",
      "metadata": {
        "id": "rd7ewLvlVLD0",
        "colab": {
          "base_uri": "https://localhost:8080/",
          "height": 351
        },
        "outputId": "0b8068c1-4266-4d91-961d-03917eddbe13"
      },
      "source": [
        "sns.countplot(df['star_rating'])"
      ],
      "execution_count": 41,
      "outputs": [
        {
          "output_type": "stream",
          "text": [
            "/usr/local/lib/python3.6/dist-packages/seaborn/_decorators.py:43: FutureWarning: Pass the following variable as a keyword arg: x. From version 0.12, the only valid positional argument will be `data`, and passing other arguments without an explicit keyword will result in an error or misinterpretation.\n",
            "  FutureWarning\n"
          ],
          "name": "stderr"
        },
        {
          "output_type": "execute_result",
          "data": {
            "text/plain": [
              "<matplotlib.axes._subplots.AxesSubplot at 0x7f37654b2278>"
            ]
          },
          "metadata": {
            "tags": []
          },
          "execution_count": 41
        },
        {
          "output_type": "display_data",
          "data": {
            "image/png": "[encoded data removed]",
            "text/plain": [
              "<Figure size 432x288 with 1 Axes>"
            ]
          },
          "metadata": {
            "tags": [],
            "needs_background": "light"
          }
        }
      ]
    },
    {
      "cell_type": "code",
      "metadata": {
        "id": "vMbo052mZfbz",
        "colab": {
          "base_uri": "https://localhost:8080/",
          "height": 272
        },
        "outputId": "568293b4-28aa-47cd-fffa-38b938fe2417"
      },
      "source": [
        "#df = df[0:200]\n",
        "df['index'] = df.index\n",
        "df.head()"
      ],
      "execution_count": 42,
      "outputs": [
        {
          "output_type": "execute_result",
          "data": {
            "text/html": [
              "<div>\n",
              "<style scoped>\n",
              "    .dataframe tbody tr th:only-of-type {\n",
              "        vertical-align: middle;\n",
              "    }\n",
              "\n",
              "    .dataframe tbody tr th {\n",
              "        vertical-align: top;\n",
              "    }\n",
              "\n",
              "    .dataframe thead th {\n",
              "        text-align: right;\n",
              "    }\n",
              "</style>\n",
              "<table border=\"1\" class=\"dataframe\">\n",
              "  <thead>\n",
              "    <tr style=\"text-align: right;\">\n",
              "      <th></th>\n",
              "      <th>star_rating</th>\n",
              "      <th>review_body</th>\n",
              "      <th>index</th>\n",
              "    </tr>\n",
              "  </thead>\n",
              "  <tbody>\n",
              "    <tr>\n",
              "      <th>0</th>\n",
              "      <td>0</td>\n",
              "      <td>I'm not sure how everyone else has such good luck with this product. Mine has been absolute garbage. Typically I buy off brand gopro accessories because most of the time they're the exact same quality, this one however is made out of inferior material.&lt;br /&gt;&lt;br /&gt;I say this because I bought this about a month ago for our trip to disney tomorrow. I took the goose neck off for the first time, which means pressing in the little tabs just like on the camera quick release clasp, and bot tabs broke right off.&lt;br /&gt;&lt;br /&gt;So now I have a really nice clip and a goose neck that won't attach to anyth...</td>\n",
              "      <td>0</td>\n",
              "    </tr>\n",
              "    <tr>\n",
              "      <th>1</th>\n",
              "      <td>1</td>\n",
              "      <td>Have had my strap on my canon for about 6 months now.  I adore it!</td>\n",
              "      <td>1</td>\n",
              "    </tr>\n",
              "    <tr>\n",
              "      <th>2</th>\n",
              "      <td>0</td>\n",
              "      <td>the glue that holds the cap to the safety cord did not last.  good cap</td>\n",
              "      <td>2</td>\n",
              "    </tr>\n",
              "    <tr>\n",
              "      <th>3</th>\n",
              "      <td>1</td>\n",
              "      <td>These are awesome and I love that I can just screw them on to my other lenses.</td>\n",
              "      <td>3</td>\n",
              "    </tr>\n",
              "    <tr>\n",
              "      <th>4</th>\n",
              "      <td>0</td>\n",
              "      <td>I just got this charger and it won't evon charge the battery. Onle one the the four battery's will charge</td>\n",
              "      <td>4</td>\n",
              "    </tr>\n",
              "  </tbody>\n",
              "</table>\n",
              "</div>"
            ],
            "text/plain": [
              "   star_rating  \\\n",
              "0            0   \n",
              "1            1   \n",
              "2            0   \n",
              "3            1   \n",
              "4            0   \n",
              "\n",
              "                                                                                                                                                                                                                                                                                                                                                                                                                                                                                                                                                                                                               review_body  \\\n",
              "0  I'm not sure how everyone else has such good luck with this product. Mine has been absolute garbage. Typically I buy off brand gopro accessories because most of the time they're the exact same quality, this one however is made out of inferior material.<br /><br />I say this because I bought this about a month ago for our trip to disney tomorrow. I took the goose neck off for the first time, which means pressing in the little tabs just like on the camera quick release clasp, and bot tabs broke right off.<br /><br />So now I have a really nice clip and a goose neck that won't attach to anyth...   \n",
              "1                                                                                                                                                                                                                                                                                                                                                                                                                                                                                                                                                       Have had my strap on my canon for about 6 months now.  I adore it!   \n",
              "2                                                                                                                                                                                                                                                                                                                                                                                                                                                                                                                                                   the glue that holds the cap to the safety cord did not last.  good cap   \n",
              "3                                                                                                                                                                                                                                                                                                                                                                                                                                                                                                                                           These are awesome and I love that I can just screw them on to my other lenses.   \n",
              "4                                                                                                                                                                                                                                                                                                                                                                                                                                                                                                                I just got this charger and it won't evon charge the battery. Onle one the the four battery's will charge   \n",
              "\n",
              "   index  \n",
              "0      0  \n",
              "1      1  \n",
              "2      2  \n",
              "3      3  \n",
              "4      4  "
            ]
          },
          "metadata": {
            "tags": []
          },
          "execution_count": 42
        }
      ]
    },
    {
      "cell_type": "code",
      "metadata": {
        "id": "9BZzGsDtdtWW",
        "colab": {
          "base_uri": "https://localhost:8080/"
        },
        "outputId": "696c74f3-1214-4c51-9557-3ebf4317f0e1"
      },
      "source": [
        "df['is_valid']= py.where(df['index'] < 30000 ,'False','True') #divido en train valid pero a ojo \n",
        "d = {'True': True, 'False': False}\n",
        "df['is_valid']= df['is_valid'].map(d)\n",
        "df.dtypes"
      ],
      "execution_count": 43,
      "outputs": [
        {
          "output_type": "execute_result",
          "data": {
            "text/plain": [
              "star_rating     int64\n",
              "review_body    object\n",
              "index           int64\n",
              "is_valid         bool\n",
              "dtype: object"
            ]
          },
          "metadata": {
            "tags": []
          },
          "execution_count": 43
        }
      ]
    },
    {
      "cell_type": "code",
      "metadata": {
        "colab": {
          "base_uri": "https://localhost:8080/",
          "height": 289
        },
        "id": "IYWYizMF23QU",
        "outputId": "4402db4b-f4cc-479c-e963-4130595267a1"
      },
      "source": [
        "df.head()"
      ],
      "execution_count": 44,
      "outputs": [
        {
          "output_type": "execute_result",
          "data": {
            "text/html": [
              "<div>\n",
              "<style scoped>\n",
              "    .dataframe tbody tr th:only-of-type {\n",
              "        vertical-align: middle;\n",
              "    }\n",
              "\n",
              "    .dataframe tbody tr th {\n",
              "        vertical-align: top;\n",
              "    }\n",
              "\n",
              "    .dataframe thead th {\n",
              "        text-align: right;\n",
              "    }\n",
              "</style>\n",
              "<table border=\"1\" class=\"dataframe\">\n",
              "  <thead>\n",
              "    <tr style=\"text-align: right;\">\n",
              "      <th></th>\n",
              "      <th>star_rating</th>\n",
              "      <th>review_body</th>\n",
              "      <th>index</th>\n",
              "      <th>is_valid</th>\n",
              "    </tr>\n",
              "  </thead>\n",
              "  <tbody>\n",
              "    <tr>\n",
              "      <th>0</th>\n",
              "      <td>0</td>\n",
              "      <td>I'm not sure how everyone else has such good luck with this product. Mine has been absolute garbage. Typically I buy off brand gopro accessories because most of the time they're the exact same quality, this one however is made out of inferior material.&lt;br /&gt;&lt;br /&gt;I say this because I bought this about a month ago for our trip to disney tomorrow. I took the goose neck off for the first time, which means pressing in the little tabs just like on the camera quick release clasp, and bot tabs broke right off.&lt;br /&gt;&lt;br /&gt;So now I have a really nice clip and a goose neck that won't attach to anyth...</td>\n",
              "      <td>0</td>\n",
              "      <td>False</td>\n",
              "    </tr>\n",
              "    <tr>\n",
              "      <th>1</th>\n",
              "      <td>1</td>\n",
              "      <td>Have had my strap on my canon for about 6 months now.  I adore it!</td>\n",
              "      <td>1</td>\n",
              "      <td>False</td>\n",
              "    </tr>\n",
              "    <tr>\n",
              "      <th>2</th>\n",
              "      <td>0</td>\n",
              "      <td>the glue that holds the cap to the safety cord did not last.  good cap</td>\n",
              "      <td>2</td>\n",
              "      <td>False</td>\n",
              "    </tr>\n",
              "    <tr>\n",
              "      <th>3</th>\n",
              "      <td>1</td>\n",
              "      <td>These are awesome and I love that I can just screw them on to my other lenses.</td>\n",
              "      <td>3</td>\n",
              "      <td>False</td>\n",
              "    </tr>\n",
              "    <tr>\n",
              "      <th>4</th>\n",
              "      <td>0</td>\n",
              "      <td>I just got this charger and it won't evon charge the battery. Onle one the the four battery's will charge</td>\n",
              "      <td>4</td>\n",
              "      <td>False</td>\n",
              "    </tr>\n",
              "  </tbody>\n",
              "</table>\n",
              "</div>"
            ],
            "text/plain": [
              "   star_rating  \\\n",
              "0            0   \n",
              "1            1   \n",
              "2            0   \n",
              "3            1   \n",
              "4            0   \n",
              "\n",
              "                                                                                                                                                                                                                                                                                                                                                                                                                                                                                                                                                                                                               review_body  \\\n",
              "0  I'm not sure how everyone else has such good luck with this product. Mine has been absolute garbage. Typically I buy off brand gopro accessories because most of the time they're the exact same quality, this one however is made out of inferior material.<br /><br />I say this because I bought this about a month ago for our trip to disney tomorrow. I took the goose neck off for the first time, which means pressing in the little tabs just like on the camera quick release clasp, and bot tabs broke right off.<br /><br />So now I have a really nice clip and a goose neck that won't attach to anyth...   \n",
              "1                                                                                                                                                                                                                                                                                                                                                                                                                                                                                                                                                       Have had my strap on my canon for about 6 months now.  I adore it!   \n",
              "2                                                                                                                                                                                                                                                                                                                                                                                                                                                                                                                                                   the glue that holds the cap to the safety cord did not last.  good cap   \n",
              "3                                                                                                                                                                                                                                                                                                                                                                                                                                                                                                                                           These are awesome and I love that I can just screw them on to my other lenses.   \n",
              "4                                                                                                                                                                                                                                                                                                                                                                                                                                                                                                                I just got this charger and it won't evon charge the battery. Onle one the the four battery's will charge   \n",
              "\n",
              "   index  is_valid  \n",
              "0      0     False  \n",
              "1      1     False  \n",
              "2      2     False  \n",
              "3      3     False  \n",
              "4      4     False  "
            ]
          },
          "metadata": {
            "tags": []
          },
          "execution_count": 44
        }
      ]
    },
    {
      "cell_type": "markdown",
      "metadata": {
        "id": "5bjE90By5I5R"
      },
      "source": [
        "# Tokenization and numericalization (solo para ver como funciona) "
      ]
    },
    {
      "cell_type": "markdown",
      "metadata": {
        "id": "QkV4ceHhBvBY"
      },
      "source": [
        "WORD TOKENIZATION with fastai"
      ]
    },
    {
      "cell_type": "code",
      "metadata": {
        "id": "Nym4FP1HBYo2"
      },
      "source": [
        "# Let's take the first review:\n",
        "txt = df['review_body'].iloc[0]\n",
        "txt"
      ],
      "execution_count": null,
      "outputs": []
    },
    {
      "cell_type": "code",
      "metadata": {
        "id": "3wJzFWvXPLjg"
      },
      "source": [
        "spacy = WordTokenizer()\n",
        "toks = first(spacy([txt]))\n",
        "print(coll_repr(toks, 30))"
      ],
      "execution_count": null,
      "outputs": []
    },
    {
      "cell_type": "code",
      "metadata": {
        "id": "ZiUn-46HQ_xe"
      },
      "source": [
        "tkn = Tokenizer(spacy)\n",
        "print(coll_repr(tkn(txt), 31))"
      ],
      "execution_count": null,
      "outputs": []
    },
    {
      "cell_type": "code",
      "metadata": {
        "id": "2b4lKShbRlKb"
      },
      "source": [
        "txts = df['review_body'].iloc[0:200]\n",
        "txts"
      ],
      "execution_count": null,
      "outputs": []
    },
    {
      "cell_type": "code",
      "metadata": {
        "id": "NW_Sf-jnRHwr"
      },
      "source": [
        "toks200 = txts[:200].map(tkn)\n",
        "toks200.head()"
      ],
      "execution_count": null,
      "outputs": []
    },
    {
      "cell_type": "markdown",
      "metadata": {
        "id": "fWg2oSLZSXC9"
      },
      "source": [
        "Numericalize le tenemos que pasar nuestro texto tokenizado"
      ]
    },
    {
      "cell_type": "code",
      "metadata": {
        "id": "vGLwaHLYRr24"
      },
      "source": [
        "num = Numericalize()\n",
        "num.setup(toks200)\n",
        "coll_repr(num.vocab,20)"
      ],
      "execution_count": null,
      "outputs": []
    },
    {
      "cell_type": "code",
      "metadata": {
        "id": "yHlowj8ISbK5"
      },
      "source": [
        "nums = num(toks)[:20]; nums"
      ],
      "execution_count": null,
      "outputs": []
    },
    {
      "cell_type": "code",
      "metadata": {
        "id": "BwCOkfaYSgEM"
      },
      "source": [
        "' '.join(num.vocab[o] for o in nums) ## para reconstruir"
      ],
      "execution_count": null,
      "outputs": []
    },
    {
      "cell_type": "code",
      "metadata": {
        "id": "rA9rW87BTHXa"
      },
      "source": [
        "nums200 = toks200.map(num)"
      ],
      "execution_count": null,
      "outputs": []
    },
    {
      "cell_type": "code",
      "metadata": {
        "id": "JE8XOWJfSlEj"
      },
      "source": [
        "dl = LMDataLoader(nums200)"
      ],
      "execution_count": null,
      "outputs": []
    },
    {
      "cell_type": "code",
      "metadata": {
        "id": "TnBU-0tzTLiR"
      },
      "source": [
        "x,y = first(dl)\n",
        "x.shape,y.shape"
      ],
      "execution_count": null,
      "outputs": []
    },
    {
      "cell_type": "markdown",
      "metadata": {
        "id": "CeKjhxJITTlF"
      },
      "source": [
        "Dependent variable"
      ]
    },
    {
      "cell_type": "code",
      "metadata": {
        "id": "p4HksJGITPbD"
      },
      "source": [
        "' '.join(num.vocab[o] for o in x[0][:20])"
      ],
      "execution_count": null,
      "outputs": []
    },
    {
      "cell_type": "markdown",
      "metadata": {
        "id": "ypXzlF5yTW3G"
      },
      "source": [
        "Independent variable ( shifted one word to the right , following word)"
      ]
    },
    {
      "cell_type": "code",
      "metadata": {
        "id": "tfWOQoUDTVSK"
      },
      "source": [
        "' '.join(num.vocab[o] for o in y[0][:20])"
      ],
      "execution_count": null,
      "outputs": []
    },
    {
      "cell_type": "markdown",
      "metadata": {
        "id": "cktKnskC5L8-"
      },
      "source": [
        "# Train language model of amazon reviews (to put on top of wikipedia lenguage model)"
      ]
    },
    {
      "cell_type": "markdown",
      "metadata": {
        "id": "n8vT4W2U0Uu8"
      },
      "source": [
        "Fastai handles tokenization and numericalization cuando pasamos TextBlock to DataBlock "
      ]
    },
    {
      "cell_type": "code",
      "metadata": {
        "id": "pI_ddt_hZJlb"
      },
      "source": [
        ""
      ],
      "execution_count": 45,
      "outputs": []
    },
    {
      "cell_type": "code",
      "metadata": {
        "id": "WwoNe9aVTZ-S",
        "colab": {
          "base_uri": "https://localhost:8080/",
          "height": 71
        },
        "outputId": "ea66c216-c85d-479e-97e1-a18fccf71605"
      },
      "source": [
        "#DATA BLOCKS\n",
        "\n",
        "amazon = DataBlock(blocks=TextBlock.from_df('review_body', is_lm=True),\n",
        "                    get_x=ColReader('text'),\n",
        "                    splitter=ColSplitter())\n",
        "\n",
        "dls_lm = amazon.dataloaders(df, bs=128, seq_len=80)\n"
      ],
      "execution_count": 46,
      "outputs": [
        {
          "output_type": "display_data",
          "data": {
            "text/html": [
              ""
            ],
            "text/plain": [
              "<IPython.core.display.HTML object>"
            ]
          },
          "metadata": {
            "tags": []
          }
        },
        {
          "output_type": "stream",
          "text": [
            "/usr/local/lib/python3.6/dist-packages/numpy/core/_asarray.py:83: VisibleDeprecationWarning: Creating an ndarray from ragged nested sequences (which is a list-or-tuple of lists-or-tuples-or ndarrays with different lengths or shapes) is deprecated. If you meant to do this, you must specify 'dtype=object' when creating the ndarray\n",
            "  return array(a, dtype, copy=False, order=order)\n"
          ],
          "name": "stderr"
        }
      ]
    },
    {
      "cell_type": "code",
      "metadata": {
        "id": "7WVfzKGJkybN",
        "colab": {
          "base_uri": "https://localhost:8080/",
          "height": 677
        },
        "outputId": "224e172f-5738-4fb2-c9bc-63ad4d3ff530"
      },
      "source": [
        "dls_lm.show_batch(max_n=6)"
      ],
      "execution_count": 47,
      "outputs": [
        {
          "output_type": "display_data",
          "data": {
            "text/html": [
              "<table border=\"1\" class=\"dataframe\">\n",
              "  <thead>\n",
              "    <tr style=\"text-align: right;\">\n",
              "      <th></th>\n",
              "      <th>text</th>\n",
              "      <th>text_</th>\n",
              "    </tr>\n",
              "  </thead>\n",
              "  <tbody>\n",
              "    <tr>\n",
              "      <th>0</th>\n",
              "      <td>xxbos xxmaj just used it on our river trip in xxmaj europe and found the settings to be spot on . xxmaj threads easily and adjusts smoothly . a good universal fader . xxbos xxmaj great product . xxmaj fits just right , protects the screen and you do n't even know it 's there . xxbos xxmaj great quality , mounts on tripod with tripod adaptor for ease of viewing distant objects or the stars and planets . xxbos</td>\n",
              "      <td>xxmaj just used it on our river trip in xxmaj europe and found the settings to be spot on . xxmaj threads easily and adjusts smoothly . a good universal fader . xxbos xxmaj great product . xxmaj fits just right , protects the screen and you do n't even know it 's there . xxbos xxmaj great quality , mounts on tripod with tripod adaptor for ease of viewing distant objects or the stars and planets . xxbos xxmaj</td>\n",
              "    </tr>\n",
              "    <tr>\n",
              "      <th>1</th>\n",
              "      <td>inside the umbrella . xxmaj the item was also not new or a returned item . xxbos xxmaj manual focus , manual aperture , and no image stabilization . xxmaj i 'm using it on a xxup aps - c xxup slr in xxup ae mode . xxmaj creamy texture for landscapes and a wonderful lens for group pictures . i will be using this on my ( all manual ) film camera also - the advantage of older lenses</td>\n",
              "      <td>the umbrella . xxmaj the item was also not new or a returned item . xxbos xxmaj manual focus , manual aperture , and no image stabilization . xxmaj i 'm using it on a xxup aps - c xxup slr in xxup ae mode . xxmaj creamy texture for landscapes and a wonderful lens for group pictures . i will be using this on my ( all manual ) film camera also - the advantage of older lenses being</td>\n",
              "    </tr>\n",
              "    <tr>\n",
              "      <th>2</th>\n",
              "      <td>as a lesson learned on how to waste your money . \\n\\n i recently brought it out of storage thinking i had a better frame of mind and things would go smoother . i was living in a fools xxunk . \\n\\n i will begin this by saying i am still not pleased by the product and ease of use . \\n\\n xxmaj what impressed me me enough that i gave it an extra 2 stars was the great customer</td>\n",
              "      <td>a lesson learned on how to waste your money . \\n\\n i recently brought it out of storage thinking i had a better frame of mind and things would go smoother . i was living in a fools xxunk . \\n\\n i will begin this by saying i am still not pleased by the product and ease of use . \\n\\n xxmaj what impressed me me enough that i gave it an extra 2 stars was the great customer service</td>\n",
              "    </tr>\n",
              "    <tr>\n",
              "      <th>3</th>\n",
              "      <td>days after the window for return closed this battery does not hold a full charge and gets triggers the alarm ( all lights blinking ) of the charger . xxmaj the instructions say to \" remove battery and unplug the charger immediately , then contact a xxmaj nikon service … \" . i tried the charger with an old battery and it is working ok . xxmaj therefore , the conclusion is that the battery is faulty after a few</td>\n",
              "      <td>after the window for return closed this battery does not hold a full charge and gets triggers the alarm ( all lights blinking ) of the charger . xxmaj the instructions say to \" remove battery and unplug the charger immediately , then contact a xxmaj nikon service … \" . i tried the charger with an old battery and it is working ok . xxmaj therefore , the conclusion is that the battery is faulty after a few weeks</td>\n",
              "    </tr>\n",
              "    <tr>\n",
              "      <th>4</th>\n",
              "      <td>does little to nothing to black extreme sunlight - xxmaj xxunk still looking at my reflection when xxmaj i 'm trying to get my focus . xxmaj point being , you get what you pay for , and this does n't cost very much . xxbos xxmaj it works good , but you have to charge all 4 batteries at one time . i really wish it could charge 2 at a time , so that you could always have</td>\n",
              "      <td>little to nothing to black extreme sunlight - xxmaj xxunk still looking at my reflection when xxmaj i 'm trying to get my focus . xxmaj point being , you get what you pay for , and this does n't cost very much . xxbos xxmaj it works good , but you have to charge all 4 batteries at one time . i really wish it could charge 2 at a time , so that you could always have a</td>\n",
              "    </tr>\n",
              "    <tr>\n",
              "      <th>5</th>\n",
              "      <td>into the hole at the top of the device because it 's too - big \\n\\n - each time i would power - it up , it would flash a few times and go off in a just a couple seconds \\n\\n - it 's not the worst - looking , but it 's more of a ' goth ' type cross and -- on me -- it would just look too - unusual / out of place ; it</td>\n",
              "      <td>the hole at the top of the device because it 's too - big \\n\\n - each time i would power - it up , it would flash a few times and go off in a just a couple seconds \\n\\n - it 's not the worst - looking , but it 's more of a ' goth ' type cross and -- on me -- it would just look too - unusual / out of place ; it 's</td>\n",
              "    </tr>\n",
              "  </tbody>\n",
              "</table>"
            ],
            "text/plain": [
              "<IPython.core.display.HTML object>"
            ]
          },
          "metadata": {
            "tags": []
          }
        }
      ]
    },
    {
      "cell_type": "code",
      "metadata": {
        "id": "1K0Gse_hlMHr"
      },
      "source": [
        "learn = language_model_learner(\n",
        "    dls_lm, AWD_LSTM, drop_mult=0.3,           ### awd_lstm rnn que ya introduce dropout y mas (regularizacion)\n",
        "    metrics=[accuracy, Perplexity()]).to_fp16()"
      ],
      "execution_count": 48,
      "outputs": []
    },
    {
      "cell_type": "code",
      "metadata": {
        "id": "XL-88mGk9Y6y",
        "colab": {
          "base_uri": "https://localhost:8080/",
          "height": 80
        },
        "outputId": "45c70e9b-480d-48db-c7ab-5ca11febe501"
      },
      "source": [
        "learn.fit_one_cycle(1, 2e-2)"
      ],
      "execution_count": 49,
      "outputs": [
        {
          "output_type": "display_data",
          "data": {
            "text/html": [
              "<table border=\"1\" class=\"dataframe\">\n",
              "  <thead>\n",
              "    <tr style=\"text-align: left;\">\n",
              "      <th>epoch</th>\n",
              "      <th>train_loss</th>\n",
              "      <th>valid_loss</th>\n",
              "      <th>accuracy</th>\n",
              "      <th>perplexity</th>\n",
              "      <th>time</th>\n",
              "    </tr>\n",
              "  </thead>\n",
              "  <tbody>\n",
              "    <tr>\n",
              "      <td>0</td>\n",
              "      <td>4.091496</td>\n",
              "      <td>3.834526</td>\n",
              "      <td>0.281140</td>\n",
              "      <td>46.271481</td>\n",
              "      <td>01:29</td>\n",
              "    </tr>\n",
              "  </tbody>\n",
              "</table>"
            ],
            "text/plain": [
              "<IPython.core.display.HTML object>"
            ]
          },
          "metadata": {
            "tags": []
          }
        }
      ]
    },
    {
      "cell_type": "code",
      "metadata": {
        "colab": {
          "base_uri": "https://localhost:8080/"
        },
        "id": "qi1qpHf7GrZN",
        "outputId": "27e598b3-1546-4bcb-8ce7-27b367bd92da"
      },
      "source": [
        "learn.save('1epoch')"
      ],
      "execution_count": 50,
      "outputs": [
        {
          "output_type": "execute_result",
          "data": {
            "text/plain": [
              "Path('models/1epoch.pth')"
            ]
          },
          "metadata": {
            "tags": []
          },
          "execution_count": 50
        }
      ]
    },
    {
      "cell_type": "code",
      "metadata": {
        "id": "odzMnQlsGy89"
      },
      "source": [
        "learn = learn.load('1epoch')"
      ],
      "execution_count": 51,
      "outputs": []
    },
    {
      "cell_type": "code",
      "metadata": {
        "colab": {
          "base_uri": "https://localhost:8080/",
          "height": 359
        },
        "id": "BCigiluXG1Ny",
        "outputId": "7602c5ff-af18-429b-aa9b-a22905f1388b"
      },
      "source": [
        "learn.unfreeze()\n",
        "learn.fit_one_cycle(10, 2e-3)"
      ],
      "execution_count": 52,
      "outputs": [
        {
          "output_type": "display_data",
          "data": {
            "text/html": [
              "<table border=\"1\" class=\"dataframe\">\n",
              "  <thead>\n",
              "    <tr style=\"text-align: left;\">\n",
              "      <th>epoch</th>\n",
              "      <th>train_loss</th>\n",
              "      <th>valid_loss</th>\n",
              "      <th>accuracy</th>\n",
              "      <th>perplexity</th>\n",
              "      <th>time</th>\n",
              "    </tr>\n",
              "  </thead>\n",
              "  <tbody>\n",
              "    <tr>\n",
              "      <td>0</td>\n",
              "      <td>3.816543</td>\n",
              "      <td>3.730186</td>\n",
              "      <td>0.293423</td>\n",
              "      <td>41.686871</td>\n",
              "      <td>01:35</td>\n",
              "    </tr>\n",
              "    <tr>\n",
              "      <td>1</td>\n",
              "      <td>3.720192</td>\n",
              "      <td>3.673931</td>\n",
              "      <td>0.298598</td>\n",
              "      <td>39.406525</td>\n",
              "      <td>01:35</td>\n",
              "    </tr>\n",
              "    <tr>\n",
              "      <td>2</td>\n",
              "      <td>3.581001</td>\n",
              "      <td>3.612213</td>\n",
              "      <td>0.307145</td>\n",
              "      <td>37.047955</td>\n",
              "      <td>01:34</td>\n",
              "    </tr>\n",
              "    <tr>\n",
              "      <td>3</td>\n",
              "      <td>3.441227</td>\n",
              "      <td>3.574243</td>\n",
              "      <td>0.312560</td>\n",
              "      <td>35.667614</td>\n",
              "      <td>01:34</td>\n",
              "    </tr>\n",
              "    <tr>\n",
              "      <td>4</td>\n",
              "      <td>3.294025</td>\n",
              "      <td>3.571718</td>\n",
              "      <td>0.314695</td>\n",
              "      <td>35.577671</td>\n",
              "      <td>01:35</td>\n",
              "    </tr>\n",
              "    <tr>\n",
              "      <td>5</td>\n",
              "      <td>3.136648</td>\n",
              "      <td>3.592673</td>\n",
              "      <td>0.314130</td>\n",
              "      <td>36.331070</td>\n",
              "      <td>01:34</td>\n",
              "    </tr>\n",
              "    <tr>\n",
              "      <td>6</td>\n",
              "      <td>3.012227</td>\n",
              "      <td>3.622877</td>\n",
              "      <td>0.311989</td>\n",
              "      <td>37.445137</td>\n",
              "      <td>01:34</td>\n",
              "    </tr>\n",
              "    <tr>\n",
              "      <td>7</td>\n",
              "      <td>2.895114</td>\n",
              "      <td>3.652350</td>\n",
              "      <td>0.311271</td>\n",
              "      <td>38.565205</td>\n",
              "      <td>01:34</td>\n",
              "    </tr>\n",
              "    <tr>\n",
              "      <td>8</td>\n",
              "      <td>2.804257</td>\n",
              "      <td>3.677830</td>\n",
              "      <td>0.310308</td>\n",
              "      <td>39.560455</td>\n",
              "      <td>01:34</td>\n",
              "    </tr>\n",
              "    <tr>\n",
              "      <td>9</td>\n",
              "      <td>2.778485</td>\n",
              "      <td>3.687329</td>\n",
              "      <td>0.309786</td>\n",
              "      <td>39.938034</td>\n",
              "      <td>01:33</td>\n",
              "    </tr>\n",
              "  </tbody>\n",
              "</table>"
            ],
            "text/plain": [
              "<IPython.core.display.HTML object>"
            ]
          },
          "metadata": {
            "tags": []
          }
        }
      ]
    },
    {
      "cell_type": "code",
      "metadata": {
        "id": "x4MwN5qYG3E_"
      },
      "source": [
        "learn.save_encoder('finetuned')"
      ],
      "execution_count": 53,
      "outputs": []
    },
    {
      "cell_type": "code",
      "metadata": {
        "id": "XT5TlvpQXhIl"
      },
      "source": [
        "wandb.finish()"
      ],
      "execution_count": null,
      "outputs": []
    },
    {
      "cell_type": "markdown",
      "metadata": {
        "id": "EP7-h77MHaMP"
      },
      "source": [
        "# Creating classifier DataLoaders, training complete classifier"
      ]
    },
    {
      "cell_type": "code",
      "metadata": {
        "colab": {
          "base_uri": "https://localhost:8080/",
          "height": 1000,
          "referenced_widgets": [
            "7d8fb1c574054b888ca0c3037d16b547",
            "e0c4ef09fbc04676921a0a7cc9480f54",
            "80ee6e54dc7f495daa02e4988a4d944d",
            "a2d4e87ff3a64b19b6d658fcfa72c8e5",
            "dd65036c54b64ad781b35d17f908adf4",
            "fd0bf4b7c24648aeb357f6a12543f7cb",
            "ba326b98debe4d9d90830ffbad5614ff",
            "3b937c06352f4af8a3116fdbdf338b4e"
          ]
        },
        "id": "cTPRnd-2HcnZ",
        "outputId": "7ebbe390-5155-4ea6-d62c-bc2ff7a84f8b"
      },
      "source": [
        "wandb.init(project='finalamazon1');"
      ],
      "execution_count": 76,
      "outputs": [
        {
          "output_type": "display_data",
          "data": {
            "text/html": [
              "Finishing last run (ID:j9o4k344) before initializing another..."
            ],
            "text/plain": [
              "<IPython.core.display.HTML object>"
            ]
          },
          "metadata": {
            "tags": []
          }
        },
        {
          "output_type": "display_data",
          "data": {
            "text/html": [
              "<br/>Waiting for W&B process to finish, PID 879<br/>Program ended successfully."
            ],
            "text/plain": [
              "<IPython.core.display.HTML object>"
            ]
          },
          "metadata": {
            "tags": []
          }
        },
        {
          "output_type": "display_data",
          "data": {
            "application/vnd.jupyter.widget-view+json": {
              "model_id": "7d8fb1c574054b888ca0c3037d16b547",
              "version_minor": 0,
              "version_major": 2
            },
            "text/plain": [
              "VBox(children=(Label(value=' 392.39MB of 392.39MB uploaded (0.00MB deduped)\\r'), FloatProgress(value=1.0, max=…"
            ]
          },
          "metadata": {
            "tags": []
          }
        },
        {
          "output_type": "display_data",
          "data": {
            "text/html": [
              "Find user logs for this run at: <code>/content/wandb/run-20201223_152550-j9o4k344/logs/debug.log</code>"
            ],
            "text/plain": [
              "<IPython.core.display.HTML object>"
            ]
          },
          "metadata": {
            "tags": []
          }
        },
        {
          "output_type": "display_data",
          "data": {
            "text/html": [
              "Find internal logs for this run at: <code>/content/wandb/run-20201223_152550-j9o4k344/logs/debug-internal.log</code>"
            ],
            "text/plain": [
              "<IPython.core.display.HTML object>"
            ]
          },
          "metadata": {
            "tags": []
          }
        },
        {
          "output_type": "display_data",
          "data": {
            "text/html": [
              "<h3>Run summary:</h3><br/><style>\n",
              "    table.wandb td:nth-child(1) { padding: 0 10px; text-align: right }\n",
              "    </style><table class=\"wandb\">\n",
              "<tr><td>epoch</td><td>5</td></tr><tr><td>train_loss</td><td>0.1702</td></tr><tr><td>raw_loss</td><td>0.14156</td></tr><tr><td>wd_0</td><td>0.01</td></tr><tr><td>sqr_mom_0</td><td>0.99</td></tr><tr><td>lr_0</td><td>0.0</td></tr><tr><td>mom_0</td><td>0.8</td></tr><tr><td>eps_0</td><td>1e-05</td></tr><tr><td>wd_1</td><td>0.01</td></tr><tr><td>sqr_mom_1</td><td>0.99</td></tr><tr><td>lr_1</td><td>0.0</td></tr><tr><td>mom_1</td><td>0.8</td></tr><tr><td>eps_1</td><td>1e-05</td></tr><tr><td>wd_2</td><td>0.01</td></tr><tr><td>sqr_mom_2</td><td>0.99</td></tr><tr><td>lr_2</td><td>0.0</td></tr><tr><td>mom_2</td><td>0.8</td></tr><tr><td>eps_2</td><td>1e-05</td></tr><tr><td>wd_3</td><td>0.01</td></tr><tr><td>sqr_mom_3</td><td>0.99</td></tr><tr><td>lr_3</td><td>0.0</td></tr><tr><td>mom_3</td><td>0.8</td></tr><tr><td>eps_3</td><td>1e-05</td></tr><tr><td>wd_4</td><td>0.01</td></tr><tr><td>sqr_mom_4</td><td>0.99</td></tr><tr><td>lr_4</td><td>0.0</td></tr><tr><td>mom_4</td><td>0.8</td></tr><tr><td>eps_4</td><td>1e-05</td></tr><tr><td>_step</td><td>1169</td></tr><tr><td>_runtime</td><td>598</td></tr><tr><td>_timestamp</td><td>1608737752</td></tr><tr><td>valid_loss</td><td>0.26954</td></tr><tr><td>accuracy</td><td>0.9025</td></tr></table>"
            ],
            "text/plain": [
              "<IPython.core.display.HTML object>"
            ]
          },
          "metadata": {
            "tags": []
          }
        },
        {
          "output_type": "display_data",
          "data": {
            "text/html": [
              "<h3>Run history:</h3><br/><style>\n",
              "    table.wandb td:nth-child(1) { padding: 0 10px; text-align: right }\n",
              "    </style><table class=\"wandb\">\n",
              "<tr><td>epoch</td><td>▁▁▁▁▂▂▂▂▂▃▃▃▃▃▃▄▄▄▄▄▄▅▅▅▅▅▆▆▆▆▆▇▇▇▇▇▇███</td></tr><tr><td>train_loss</td><td>█▇▆▆▆▆▆▆▆▅▅▄▄▄▄▃▃▃▃▃▃▃▃▂▂▂▂▁▂▂▂▂▁▁▁▁▁▁▁▁</td></tr><tr><td>raw_loss</td><td>▇█▆▅▇▅█▇█▇▅▆▄▆▄▄▃▆▅▃▃▃▄▂▃▂▂▂▂▂▅▃▃▂▂▂▃▂▁▁</td></tr><tr><td>wd_0</td><td>▁▁▁▁▁▁▁▁▁▁▁▁▁▁▁▁▁▁▁▁▁▁▁▁▁▁▁▁▁▁▁▁▁▁▁▁▁▁▁▁</td></tr><tr><td>sqr_mom_0</td><td>▁▁▁▁▁▁▁▁▁▁▁▁▁▁▁▁▁▁▁▁▁▁▁▁▁▁▁▁▁▁▁▁▁▁▁▁▁▁▁▁</td></tr><tr><td>lr_0</td><td>▂▅█▇▆▄▂▁▁▁▁▁▁▁▁▁▁▁▁▁▁▁▁▁▁▁▁▁▁▁▁▁▁▁▁▁▁▁▁▁</td></tr><tr><td>mom_0</td><td>▇▄▁▂▃▅▇██▃▁▂▄▆▇█▇▂▁▂▃▅▇██▅▃▁▁▁▂▃▃▄▅▆▇▇██</td></tr><tr><td>eps_0</td><td>▁▁▁▁▁▁▁▁▁▁▁▁▁▁▁▁▁▁▁▁▁▁▁▁▁▁▁▁▁▁▁▁▁▁▁▁▁▁▁▁</td></tr><tr><td>wd_1</td><td>▁▁▁▁▁▁▁▁▁▁▁▁▁▁▁▁▁▁▁▁▁▁▁▁▁▁▁▁▁▁▁▁▁▁▁▁▁▁▁▁</td></tr><tr><td>sqr_mom_1</td><td>▁▁▁▁▁▁▁▁▁▁▁▁▁▁▁▁▁▁▁▁▁▁▁▁▁▁▁▁▁▁▁▁▁▁▁▁▁▁▁▁</td></tr><tr><td>lr_1</td><td>▂▅█▇▆▄▂▁▁▁▁▁▁▁▁▁▁▁▁▁▁▁▁▁▁▁▁▁▁▁▁▁▁▁▁▁▁▁▁▁</td></tr><tr><td>mom_1</td><td>▇▄▁▂▃▅▇██▃▁▂▄▆▇█▇▂▁▂▃▅▇██▅▃▁▁▁▂▃▃▄▅▆▇▇██</td></tr><tr><td>eps_1</td><td>▁▁▁▁▁▁▁▁▁▁▁▁▁▁▁▁▁▁▁▁▁▁▁▁▁▁▁▁▁▁▁▁▁▁▁▁▁▁▁▁</td></tr><tr><td>wd_2</td><td>▁▁▁▁▁▁▁▁▁▁▁▁▁▁▁▁▁▁▁▁▁▁▁▁▁▁▁▁▁▁▁▁▁▁▁▁▁▁▁▁</td></tr><tr><td>sqr_mom_2</td><td>▁▁▁▁▁▁▁▁▁▁▁▁▁▁▁▁▁▁▁▁▁▁▁▁▁▁▁▁▁▁▁▁▁▁▁▁▁▁▁▁</td></tr><tr><td>lr_2</td><td>▂▅█▇▆▄▂▁▁▁▂▁▁▁▁▁▁▁▁▁▁▁▁▁▁▁▁▁▁▁▁▁▁▁▁▁▁▁▁▁</td></tr><tr><td>mom_2</td><td>▇▄▁▂▃▅▇██▃▁▂▄▆▇█▇▂▁▂▃▅▇██▅▃▁▁▁▂▃▃▄▅▆▇▇██</td></tr><tr><td>eps_2</td><td>▁▁▁▁▁▁▁▁▁▁▁▁▁▁▁▁▁▁▁▁▁▁▁▁▁▁▁▁▁▁▁▁▁▁▁▁▁▁▁▁</td></tr><tr><td>wd_3</td><td>▁▁▁▁▁▁▁▁▁▁▁▁▁▁▁▁▁▁▁▁▁▁▁▁▁▁▁▁▁▁▁▁▁▁▁▁▁▁▁▁</td></tr><tr><td>sqr_mom_3</td><td>▁▁▁▁▁▁▁▁▁▁▁▁▁▁▁▁▁▁▁▁▁▁▁▁▁▁▁▁▁▁▁▁▁▁▁▁▁▁▁▁</td></tr><tr><td>lr_3</td><td>▂▅█▇▆▄▂▁▁▂▂▂▂▁▁▁▁▂▂▂▁▁▁▁▁▁▁▁▁▁▁▁▁▁▁▁▁▁▁▁</td></tr><tr><td>mom_3</td><td>▇▄▁▂▃▅▇██▃▁▂▄▆▇█▇▂▁▂▃▅▇██▅▃▁▁▁▂▃▃▄▅▆▇▇██</td></tr><tr><td>eps_3</td><td>▁▁▁▁▁▁▁▁▁▁▁▁▁▁▁▁▁▁▁▁▁▁▁▁▁▁▁▁▁▁▁▁▁▁▁▁▁▁▁▁</td></tr><tr><td>wd_4</td><td>▁▁▁▁▁▁▁▁▁▁▁▁▁▁▁▁▁▁▁▁▁▁▁▁▁▁▁▁▁▁▁▁▁▁▁▁▁▁▁▁</td></tr><tr><td>sqr_mom_4</td><td>▁▁▁▁▁▁▁▁▁▁▁▁▁▁▁▁▁▁▁▁▁▁▁▁▁▁▁▁▁▁▁▁▁▁▁▁▁▁▁▁</td></tr><tr><td>lr_4</td><td>▂▅█▇▆▄▂▁▁▄▄▄▃▂▂▁▁▂▃▂▂▂▁▁▁▁▁▁▁▁▁▁▁▁▁▁▁▁▁▁</td></tr><tr><td>mom_4</td><td>▇▄▁▂▃▅▇██▃▁▂▄▆▇█▇▂▁▂▃▅▇██▅▃▁▁▁▂▃▃▄▅▆▇▇██</td></tr><tr><td>eps_4</td><td>▁▁▁▁▁▁▁▁▁▁▁▁▁▁▁▁▁▁▁▁▁▁▁▁▁▁▁▁▁▁▁▁▁▁▁▁▁▁▁▁</td></tr><tr><td>_step</td><td>▁▁▁▁▂▂▂▂▂▃▃▃▃▃▃▄▄▄▄▄▅▅▅▅▅▅▆▆▆▆▆▇▇▇▇▇▇███</td></tr><tr><td>_runtime</td><td>▁▁▁▁▁▁▂▂▂▂▂▂▃▃▃▃▃▄▄▄▄▄▄▄▅▅▅▅▆▆▆▆▇▇▇▇▇███</td></tr><tr><td>_timestamp</td><td>▁▁▁▁▁▁▂▂▂▂▂▂▃▃▃▃▃▄▄▄▄▄▄▄▅▅▅▅▆▆▆▆▇▇▇▇▇███</td></tr><tr><td>valid_loss</td><td>█▄▁▄▅</td></tr><tr><td>accuracy</td><td>▁▄▇██</td></tr></table><br/>"
            ],
            "text/plain": [
              "<IPython.core.display.HTML object>"
            ]
          },
          "metadata": {
            "tags": []
          }
        },
        {
          "output_type": "display_data",
          "data": {
            "text/html": [
              "Synced 5 W&B file(s), 5 media file(s), 4 artifact file(s) and 0 other file(s)"
            ],
            "text/plain": [
              "<IPython.core.display.HTML object>"
            ]
          },
          "metadata": {
            "tags": []
          }
        },
        {
          "output_type": "display_data",
          "data": {
            "text/html": [
              "\n",
              "                    <br/>Synced <strong style=\"color:#cdcd00\">devoted-darkness-2</strong>: <a href=\"https://wandb.ai/lucialarraona/finalamazon1/runs/j9o4k344\" target=\"_blank\">https://wandb.ai/lucialarraona/finalamazon1/runs/j9o4k344</a><br/>\n",
              "                "
            ],
            "text/plain": [
              "<IPython.core.display.HTML object>"
            ]
          },
          "metadata": {
            "tags": []
          }
        },
        {
          "output_type": "display_data",
          "data": {
            "text/html": [
              "...Successfully finished last run (ID:j9o4k344). Initializing new run:<br/><br/>"
            ],
            "text/plain": [
              "<IPython.core.display.HTML object>"
            ]
          },
          "metadata": {
            "tags": []
          }
        },
        {
          "output_type": "display_data",
          "data": {
            "text/html": [
              "\n",
              "                Tracking run with wandb version 0.10.12<br/>\n",
              "                Syncing run <strong style=\"color:#cdcd00\">amber-microwave-3</strong> to <a href=\"https://wandb.ai\" target=\"_blank\">Weights & Biases</a> <a href=\"https://docs.wandb.com/integrations/jupyter.html\" target=\"_blank\">(Documentation)</a>.<br/>\n",
              "                Project page: <a href=\"https://wandb.ai/lucialarraona/finalamazon1\" target=\"_blank\">https://wandb.ai/lucialarraona/finalamazon1</a><br/>\n",
              "                Run page: <a href=\"https://wandb.ai/lucialarraona/finalamazon1/runs/38qmnp6j\" target=\"_blank\">https://wandb.ai/lucialarraona/finalamazon1/runs/38qmnp6j</a><br/>\n",
              "                Run data is saved locally in <code>/content/wandb/run-20201223_154234-38qmnp6j</code><br/><br/>\n",
              "            "
            ],
            "text/plain": [
              "<IPython.core.display.HTML object>"
            ]
          },
          "metadata": {
            "tags": []
          }
        }
      ]
    },
    {
      "cell_type": "code",
      "metadata": {
        "id": "GVWDazJJHeyW",
        "colab": {
          "base_uri": "https://localhost:8080/",
          "height": 71
        },
        "outputId": "0084e69e-9f54-4cab-f1a1-52e61baed5e5"
      },
      "source": [
        "dls_clas = DataBlock(blocks=(TextBlock.from_df('review_body', seq_len=72, vocab=dls_lm.vocab), CategoryBlock),\n",
        "                      get_x=ColReader('text'),\n",
        "                      get_y=ColReader('star_rating'),\n",
        "                      splitter=ColSplitter()).dataloaders(df, bs=128, seq_len=72)"
      ],
      "execution_count": 77,
      "outputs": [
        {
          "output_type": "display_data",
          "data": {
            "text/html": [
              ""
            ],
            "text/plain": [
              "<IPython.core.display.HTML object>"
            ]
          },
          "metadata": {
            "tags": []
          }
        },
        {
          "output_type": "stream",
          "text": [
            "/usr/local/lib/python3.6/dist-packages/numpy/core/_asarray.py:83: VisibleDeprecationWarning: Creating an ndarray from ragged nested sequences (which is a list-or-tuple of lists-or-tuples-or ndarrays with different lengths or shapes) is deprecated. If you meant to do this, you must specify 'dtype=object' when creating the ndarray\n",
            "  return array(a, dtype, copy=False, order=order)\n"
          ],
          "name": "stderr"
        }
      ]
    },
    {
      "cell_type": "code",
      "metadata": {
        "id": "A8Y4fLcAIUoc",
        "colab": {
          "base_uri": "https://localhost:8080/",
          "height": 629
        },
        "outputId": "c6d61814-bcb0-447d-c15e-8bce3cd1cabd"
      },
      "source": [
        "dls_clas.show_batch(max_n=5)"
      ],
      "execution_count": 78,
      "outputs": [
        {
          "output_type": "display_data",
          "data": {
            "text/html": [
              "<table border=\"1\" class=\"dataframe\">\n",
              "  <thead>\n",
              "    <tr style=\"text-align: right;\">\n",
              "      <th></th>\n",
              "      <th>text</th>\n",
              "      <th>category</th>\n",
              "    </tr>\n",
              "  </thead>\n",
              "  <tbody>\n",
              "    <tr>\n",
              "      <th>0</th>\n",
              "      <td>xxbos xxmaj hi , \\n\\n xxmaj this is my review of the product listed on xxmaj amazon as : \\n\\n easyacc xxmaj selfie xxmaj stick xxunk xxmaj pro xxunk xxmaj self - portrait xxmaj monopod xxmaj extendable xxmaj wireless xxmaj bluetooth xxmaj selfie xxmaj stick with built - in xxmaj bluetooth xxmaj remote xxmaj shutter xxmaj with xxmaj adjustable xxmaj phone xxmaj holder for iphone 6 , iphone 6 xxmaj plus , iphone 5 5s 5c , xxmaj android \\n\\n i received this product today and have evaluated it for an hour to give a detailed review . xxmaj included are a set of photos that i captured showing the product up close in case anyone is interested . \\n\\n xxup unboxing xxup and xxup observation : \\n\\n xxmaj when i first received this sample , i found the box had taken a beating during shipment from xxmaj amazon .</td>\n",
              "      <td>1</td>\n",
              "    </tr>\n",
              "    <tr>\n",
              "      <th>1</th>\n",
              "      <td>xxbos i brought 3 of these cameras from xxmaj xxunk , and they were , indeed , the chinese version . xxmaj however , they came default with english firmware , which was the main reason why i purchased two more from the same seller after buying my first one . xxmaj this is not a plug - and - play security camera , and you will need some network knowledge to configure the camera correctly . i hope to help as many buyers as possible , helping figure out whether or not if this camera is right for them . xxmaj before moving forward , let me just point out some obvious facts : this is a fixed lens camera with a wide angle 2.8 mm glass lens , if you are looking for a camera with tilt / pan feature , please look else where . xxmaj you</td>\n",
              "      <td>1</td>\n",
              "    </tr>\n",
              "    <tr>\n",
              "      <th>2</th>\n",
              "      <td>xxbos xxmaj my original review was written in xxmaj august 2015 based on owning two xxup fi9821p xxup v2 cameras and was a generally favorable review . i have updated this review as of xxmaj april 2017 and xxmaj sep 2017 to a generally unfavorable review . \\n\\n xxmaj when i tried this camera for the first time , i got disappointed and frustrated rather quickly and thought about sending it back . xxmaj the frustration came mostly from the software and the biggest part of that is xxmaj foscam not adequately documenting what the settings do and what the various choices really means . xxmaj let me explain what i mean by that . xxmaj when a software manual tells you for a particular setting to select either a or b or c and on the actual camera setup page you see exactly that in the pull down menu</td>\n",
              "      <td>0</td>\n",
              "    </tr>\n",
              "    <tr>\n",
              "      <th>3</th>\n",
              "      <td>xxbos 3 xxmaj updates xxmaj below for xxmaj review \\n\\n xxmaj this bag is near perfect . xxmaj it is sturdy , feels very durable and high quality , has plenty of space and options for carry , good design , and nice style . \\n\\n i needed more room for my xxup nex-5 t and bigger lenses as well as space for other items compared to my other sling camera bag . xxmaj this comfortably holds a large xxup dslr as well as many lenses and accessories so this effortlessly carries my xxup nex-5 t and xxmaj sony xxunk lens on the side . xxmaj it is a bit of overkill for my setup but i wanted options and extra room my previous bag could n't accommodate . \\n\\n i really like the amount of space this bag offers . xxmaj by allowing for so much room , this</td>\n",
              "      <td>1</td>\n",
              "    </tr>\n",
              "    <tr>\n",
              "      <th>4</th>\n",
              "      <td>xxbos [ [ xxunk : xxmaj xxunk 15 , 2017 - i still fly my xxup xiro xxmaj xplorer but overall i am disappointed with the xxmaj xplorer xxup v. i have had xxunk erratic movement during flights that xxup xiro support was unable to explain . i have had a devastating experience where the battery fell off the xxmaj xplorer mid - flight causing a crash that destroyed the gimbal . xxup xiro actually replaced the gimbal but the fact that the design even allowed such a failure to occur is xxunk and precisely why you should not fly a drone above people or vehicles . xxmaj the price has dropped considerably since my purchase of this 2 years ago ( july 2015 ) and i do think it flies well and has good qualtiy video capture . xxmaj but the poor design of how the battery attaches is</td>\n",
              "      <td>0</td>\n",
              "    </tr>\n",
              "  </tbody>\n",
              "</table>"
            ],
            "text/plain": [
              "<IPython.core.display.HTML object>"
            ]
          },
          "metadata": {
            "tags": []
          }
        }
      ]
    },
    {
      "cell_type": "code",
      "metadata": {
        "id": "lpMu_ddwJ6Nh"
      },
      "source": [
        "learn = text_classifier_learner(dls_clas, AWD_LSTM, drop_mult=0.7, metrics = accuracy, cbs=[WandbCallback(log_dataset=True, log_model=True), SaveModelCallback()])"
      ],
      "execution_count": 79,
      "outputs": []
    },
    {
      "cell_type": "code",
      "metadata": {
        "id": "K7u-DT2kJ-JC"
      },
      "source": [
        "learn = learn.load_encoder('finetuned') "
      ],
      "execution_count": 80,
      "outputs": []
    },
    {
      "cell_type": "code",
      "metadata": {
        "id": "Nr3FeBOKkaED",
        "colab": {
          "base_uri": "https://localhost:8080/",
          "height": 300
        },
        "outputId": "555097c8-2d96-4b94-b426-d02dae083efd"
      },
      "source": [
        "learn.lr_find()"
      ],
      "execution_count": 81,
      "outputs": [
        {
          "output_type": "display_data",
          "data": {
            "text/html": [
              ""
            ],
            "text/plain": [
              "<IPython.core.display.HTML object>"
            ]
          },
          "metadata": {
            "tags": []
          }
        },
        {
          "output_type": "execute_result",
          "data": {
            "text/plain": [
              "SuggestedLRs(lr_min=0.012022644281387329, lr_steep=0.007585775572806597)"
            ]
          },
          "metadata": {
            "tags": []
          },
          "execution_count": 81
        },
        {
          "output_type": "display_data",
          "data": {
            "image/png": "[encoded data removed]",
            "text/plain": [
              "<Figure size 432x288 with 1 Axes>"
            ]
          },
          "metadata": {
            "tags": [],
            "needs_background": "light"
          }
        }
      ]
    },
    {
      "cell_type": "code",
      "metadata": {
        "id": "5ezmSXapkqdP"
      },
      "source": [
        ""
      ],
      "execution_count": 81,
      "outputs": []
    },
    {
      "cell_type": "code",
      "metadata": {
        "id": "da2PRuHbKANm",
        "colab": {
          "base_uri": "https://localhost:8080/",
          "height": 131
        },
        "outputId": "77e21587-95f5-4945-f2e0-2130579821c5"
      },
      "source": [
        "learn.fit_one_cycle(1, 2e-2)  ## start training at a low learning rate, gradually increase it for the first section of training, and then grad‐ ually decrease it again for the last section of training:"
      ],
      "execution_count": 82,
      "outputs": [
        {
          "output_type": "stream",
          "text": [
            "WandbCallback could not retrieve the dataset path, please provide it explicitly to \"log_dataset\"\n"
          ],
          "name": "stdout"
        },
        {
          "output_type": "display_data",
          "data": {
            "text/html": [
              "<table border=\"1\" class=\"dataframe\">\n",
              "  <thead>\n",
              "    <tr style=\"text-align: left;\">\n",
              "      <th>epoch</th>\n",
              "      <th>train_loss</th>\n",
              "      <th>valid_loss</th>\n",
              "      <th>accuracy</th>\n",
              "      <th>time</th>\n",
              "    </tr>\n",
              "  </thead>\n",
              "  <tbody>\n",
              "    <tr>\n",
              "      <td>0</td>\n",
              "      <td>0.544959</td>\n",
              "      <td>0.287803</td>\n",
              "      <td>0.882250</td>\n",
              "      <td>01:15</td>\n",
              "    </tr>\n",
              "  </tbody>\n",
              "</table>"
            ],
            "text/plain": [
              "<IPython.core.display.HTML object>"
            ]
          },
          "metadata": {
            "tags": []
          }
        },
        {
          "output_type": "stream",
          "text": [
            "Better model found at epoch 0 with valid_loss value: 0.28780341148376465.\n"
          ],
          "name": "stdout"
        },
        {
          "output_type": "stream",
          "text": [
            "\u001b[34m\u001b[1mwandb\u001b[0m: Adding directory to artifact (/tmp/tmpt6ru6c7e)... Done. 0.2s\n"
          ],
          "name": "stderr"
        }
      ]
    },
    {
      "cell_type": "code",
      "metadata": {
        "id": "bFNy5zIvKCaA"
      },
      "source": [
        "learn.freeze_to(-2)"
      ],
      "execution_count": 83,
      "outputs": []
    },
    {
      "cell_type": "code",
      "metadata": {
        "id": "msn4omCp9JlX",
        "colab": {
          "base_uri": "https://localhost:8080/",
          "height": 114
        },
        "outputId": "118a64d6-b70f-4db4-c90c-fa9ae802b487"
      },
      "source": [
        "learn.fit_one_cycle(1, slice(1e-2/(2.6**4),1e-2))"
      ],
      "execution_count": 84,
      "outputs": [
        {
          "output_type": "display_data",
          "data": {
            "text/html": [
              "<table border=\"1\" class=\"dataframe\">\n",
              "  <thead>\n",
              "    <tr style=\"text-align: left;\">\n",
              "      <th>epoch</th>\n",
              "      <th>train_loss</th>\n",
              "      <th>valid_loss</th>\n",
              "      <th>accuracy</th>\n",
              "      <th>time</th>\n",
              "    </tr>\n",
              "  </thead>\n",
              "  <tbody>\n",
              "    <tr>\n",
              "      <td>0</td>\n",
              "      <td>0.374350</td>\n",
              "      <td>0.288963</td>\n",
              "      <td>0.877375</td>\n",
              "      <td>01:20</td>\n",
              "    </tr>\n",
              "  </tbody>\n",
              "</table>"
            ],
            "text/plain": [
              "<IPython.core.display.HTML object>"
            ]
          },
          "metadata": {
            "tags": []
          }
        },
        {
          "output_type": "stream",
          "text": [
            "Better model found at epoch 0 with valid_loss value: 0.2889629900455475.\n"
          ],
          "name": "stdout"
        },
        {
          "output_type": "stream",
          "text": [
            "\u001b[34m\u001b[1mwandb\u001b[0m: Adding directory to artifact (/tmp/tmp_23i9rzq)... Done. 0.2s\n"
          ],
          "name": "stderr"
        }
      ]
    },
    {
      "cell_type": "code",
      "metadata": {
        "id": "Rm9MTFlSKGWi",
        "colab": {
          "base_uri": "https://localhost:8080/",
          "height": 114
        },
        "outputId": "3868dbfd-215f-4b85-c904-cb3310e619f0"
      },
      "source": [
        "learn.freeze_to(-3)\n",
        "learn.fit_one_cycle(1, slice(5e-3/(2.6**4),5e-3))"
      ],
      "execution_count": 85,
      "outputs": [
        {
          "output_type": "display_data",
          "data": {
            "text/html": [
              "<table border=\"1\" class=\"dataframe\">\n",
              "  <thead>\n",
              "    <tr style=\"text-align: left;\">\n",
              "      <th>epoch</th>\n",
              "      <th>train_loss</th>\n",
              "      <th>valid_loss</th>\n",
              "      <th>accuracy</th>\n",
              "      <th>time</th>\n",
              "    </tr>\n",
              "  </thead>\n",
              "  <tbody>\n",
              "    <tr>\n",
              "      <td>0</td>\n",
              "      <td>0.316656</td>\n",
              "      <td>0.268584</td>\n",
              "      <td>0.897750</td>\n",
              "      <td>01:42</td>\n",
              "    </tr>\n",
              "  </tbody>\n",
              "</table>"
            ],
            "text/plain": [
              "<IPython.core.display.HTML object>"
            ]
          },
          "metadata": {
            "tags": []
          }
        },
        {
          "output_type": "stream",
          "text": [
            "Better model found at epoch 0 with valid_loss value: 0.26858365535736084.\n"
          ],
          "name": "stdout"
        },
        {
          "output_type": "stream",
          "text": [
            "\u001b[34m\u001b[1mwandb\u001b[0m: Adding directory to artifact (/tmp/tmpfp7edggm)... Done. 0.2s\n"
          ],
          "name": "stderr"
        }
      ]
    },
    {
      "cell_type": "code",
      "metadata": {
        "id": "6Ja_cWXtKJqj",
        "colab": {
          "base_uri": "https://localhost:8080/",
          "height": 536
        },
        "outputId": "411473dc-4a13-476e-cc83-127641543730"
      },
      "source": [
        "learn.unfreeze()\n",
        "learn.fit_one_cycle(2, slice(1e-3/(2.6**4),1e-3)) "
      ],
      "execution_count": 86,
      "outputs": [
        {
          "output_type": "display_data",
          "data": {
            "text/html": [
              "<table border=\"1\" class=\"dataframe\">\n",
              "  <thead>\n",
              "    <tr style=\"text-align: left;\">\n",
              "      <th>epoch</th>\n",
              "      <th>train_loss</th>\n",
              "      <th>valid_loss</th>\n",
              "      <th>accuracy</th>\n",
              "      <th>time</th>\n",
              "    </tr>\n",
              "  </thead>\n",
              "  <tbody>\n",
              "    <tr>\n",
              "      <td>0</td>\n",
              "      <td>0.289335</td>\n",
              "      <td>0.263246</td>\n",
              "      <td>0.897937</td>\n",
              "      <td>02:04</td>\n",
              "    </tr>\n",
              "    <tr>\n",
              "      <td>1</td>\n",
              "      <td>0.271870</td>\n",
              "      <td>0.257693</td>\n",
              "      <td>0.900250</td>\n",
              "      <td>01:59</td>\n",
              "    </tr>\n",
              "  </tbody>\n",
              "</table>"
            ],
            "text/plain": [
              "<IPython.core.display.HTML object>"
            ]
          },
          "metadata": {
            "tags": []
          }
        },
        {
          "output_type": "stream",
          "text": [
            "Exception ignored in: <finalize object at 0x7f375c042160; dead>\n",
            "Traceback (most recent call last):\n",
            "  File \"/usr/lib/python3.6/weakref.py\", line 548, in __call__\n",
            "    return info.func(*info.args, **(info.kwargs or {}))\n",
            "  File \"/usr/lib/python3.6/tempfile.py\", line 938, in _cleanup\n",
            "    _rmtree(name)\n",
            "  File \"/usr/lib/python3.6/shutil.py\", line 477, in rmtree\n",
            "    onerror(os.lstat, path, sys.exc_info())\n",
            "  File \"/usr/lib/python3.6/shutil.py\", line 475, in rmtree\n",
            "    orig_st = os.lstat(path)\n",
            "FileNotFoundError: [Errno 2] No such file or directory: '/tmp/tmp_23i9rzq'\n",
            "Exception ignored in: <finalize object at 0x7f375c042420; dead>\n",
            "Traceback (most recent call last):\n",
            "  File \"/usr/lib/python3.6/weakref.py\", line 548, in __call__\n",
            "    return info.func(*info.args, **(info.kwargs or {}))\n",
            "  File \"/usr/lib/python3.6/tempfile.py\", line 938, in _cleanup\n",
            "    _rmtree(name)\n",
            "  File \"/usr/lib/python3.6/shutil.py\", line 477, in rmtree\n",
            "    onerror(os.lstat, path, sys.exc_info())\n",
            "  File \"/usr/lib/python3.6/shutil.py\", line 475, in rmtree\n",
            "    orig_st = os.lstat(path)\n",
            "FileNotFoundError: [Errno 2] No such file or directory: '/tmp/tmpfp7edggm'\n"
          ],
          "name": "stderr"
        },
        {
          "output_type": "stream",
          "text": [
            "Better model found at epoch 0 with valid_loss value: 0.26324591040611267.\n",
            "Better model found at epoch 1 with valid_loss value: 0.2576928734779358.\n"
          ],
          "name": "stdout"
        },
        {
          "output_type": "stream",
          "text": [
            "\u001b[34m\u001b[1mwandb\u001b[0m: Adding directory to artifact (/tmp/tmp4onnt_0i)... Done. 0.2s\n"
          ],
          "name": "stderr"
        }
      ]
    },
    {
      "cell_type": "markdown",
      "metadata": {
        "id": "iOWreVkhTbwv"
      },
      "source": [
        "Conseguimos casi un 92% de accuracy"
      ]
    },
    {
      "cell_type": "code",
      "metadata": {
        "id": "zSScagVPKM7Y"
      },
      "source": [
        "wandb.finish()"
      ],
      "execution_count": 86,
      "outputs": []
    },
    {
      "cell_type": "code",
      "metadata": {
        "id": "9zaJYNosZG3o"
      },
      "source": [
        ""
      ],
      "execution_count": 86,
      "outputs": []
    },
    {
      "cell_type": "code",
      "metadata": {
        "id": "XXnG9WNRks_d"
      },
      "source": [
        ""
      ],
      "execution_count": 86,
      "outputs": []
    }
  ]
}