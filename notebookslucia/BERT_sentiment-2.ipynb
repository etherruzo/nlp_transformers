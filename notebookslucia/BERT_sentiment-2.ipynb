{
  "nbformat": 4,
  "nbformat_minor": 0,
  "metadata": {
    "kernelspec": {
      "name": "python3",
      "display_name": "Python 3"
    },
    "colab": {
      "name": "BERT_sentiment.ipynb",
      "provenance": []
    },
    "accelerator": "GPU",
    "widgets": {
      "application/vnd.jupyter.widget-state+json": {
        "8e8f9c61770c421f99caf888151d7709": {
          "model_module": "@jupyter-widgets/controls",
          "model_name": "HBoxModel",
          "state": {
            "_view_name": "HBoxView",
            "_dom_classes": [],
            "_model_name": "HBoxModel",
            "_view_module": "@jupyter-widgets/controls",
            "_model_module_version": "1.5.0",
            "_view_count": null,
            "_view_module_version": "1.5.0",
            "box_style": "",
            "layout": "IPY_MODEL_2324fd6dbb484e6bbac2aaf21195cd7d",
            "_model_module": "@jupyter-widgets/controls",
            "children": [
              "IPY_MODEL_26bf23e62c2e4e29b52d98763942093c",
              "IPY_MODEL_90db4328999a42bfb2142e3ef6ef3fcf"
            ]
          }
        },
        "2324fd6dbb484e6bbac2aaf21195cd7d": {
          "model_module": "@jupyter-widgets/base",
          "model_name": "LayoutModel",
          "state": {
            "_view_name": "LayoutView",
            "grid_template_rows": null,
            "right": null,
            "justify_content": null,
            "_view_module": "@jupyter-widgets/base",
            "overflow": null,
            "_model_module_version": "1.2.0",
            "_view_count": null,
            "flex_flow": null,
            "width": null,
            "min_width": null,
            "border": null,
            "align_items": null,
            "bottom": null,
            "_model_module": "@jupyter-widgets/base",
            "top": null,
            "grid_column": null,
            "overflow_y": null,
            "overflow_x": null,
            "grid_auto_flow": null,
            "grid_area": null,
            "grid_template_columns": null,
            "flex": null,
            "_model_name": "LayoutModel",
            "justify_items": null,
            "grid_row": null,
            "max_height": null,
            "align_content": null,
            "visibility": null,
            "align_self": null,
            "height": null,
            "min_height": null,
            "padding": null,
            "grid_auto_rows": null,
            "grid_gap": null,
            "max_width": null,
            "order": null,
            "_view_module_version": "1.2.0",
            "grid_template_areas": null,
            "object_position": null,
            "object_fit": null,
            "grid_auto_columns": null,
            "margin": null,
            "display": null,
            "left": null
          }
        },
        "26bf23e62c2e4e29b52d98763942093c": {
          "model_module": "@jupyter-widgets/controls",
          "model_name": "FloatProgressModel",
          "state": {
            "_view_name": "ProgressView",
            "style": "IPY_MODEL_5a2dcab29d134b3ca840a445ba8e758b",
            "_dom_classes": [],
            "description": "Downloading: 100%",
            "_model_name": "FloatProgressModel",
            "bar_style": "success",
            "max": 231508,
            "_view_module": "@jupyter-widgets/controls",
            "_model_module_version": "1.5.0",
            "value": 231508,
            "_view_count": null,
            "_view_module_version": "1.5.0",
            "orientation": "horizontal",
            "min": 0,
            "description_tooltip": null,
            "_model_module": "@jupyter-widgets/controls",
            "layout": "IPY_MODEL_5769c72b3cc44553861d42ae37e434dc"
          }
        },
        "90db4328999a42bfb2142e3ef6ef3fcf": {
          "model_module": "@jupyter-widgets/controls",
          "model_name": "HTMLModel",
          "state": {
            "_view_name": "HTMLView",
            "style": "IPY_MODEL_7dfca9ed4b3547ecbb85de5f8e9c9577",
            "_dom_classes": [],
            "description": "",
            "_model_name": "HTMLModel",
            "placeholder": "​",
            "_view_module": "@jupyter-widgets/controls",
            "_model_module_version": "1.5.0",
            "value": " 232k/232k [00:00&lt;00:00, 629kB/s]",
            "_view_count": null,
            "_view_module_version": "1.5.0",
            "description_tooltip": null,
            "_model_module": "@jupyter-widgets/controls",
            "layout": "IPY_MODEL_c1677052ec8340fdadd420dbd3bff3b1"
          }
        },
        "5a2dcab29d134b3ca840a445ba8e758b": {
          "model_module": "@jupyter-widgets/controls",
          "model_name": "ProgressStyleModel",
          "state": {
            "_view_name": "StyleView",
            "_model_name": "ProgressStyleModel",
            "description_width": "initial",
            "_view_module": "@jupyter-widgets/base",
            "_model_module_version": "1.5.0",
            "_view_count": null,
            "_view_module_version": "1.2.0",
            "bar_color": null,
            "_model_module": "@jupyter-widgets/controls"
          }
        },
        "5769c72b3cc44553861d42ae37e434dc": {
          "model_module": "@jupyter-widgets/base",
          "model_name": "LayoutModel",
          "state": {
            "_view_name": "LayoutView",
            "grid_template_rows": null,
            "right": null,
            "justify_content": null,
            "_view_module": "@jupyter-widgets/base",
            "overflow": null,
            "_model_module_version": "1.2.0",
            "_view_count": null,
            "flex_flow": null,
            "width": null,
            "min_width": null,
            "border": null,
            "align_items": null,
            "bottom": null,
            "_model_module": "@jupyter-widgets/base",
            "top": null,
            "grid_column": null,
            "overflow_y": null,
            "overflow_x": null,
            "grid_auto_flow": null,
            "grid_area": null,
            "grid_template_columns": null,
            "flex": null,
            "_model_name": "LayoutModel",
            "justify_items": null,
            "grid_row": null,
            "max_height": null,
            "align_content": null,
            "visibility": null,
            "align_self": null,
            "height": null,
            "min_height": null,
            "padding": null,
            "grid_auto_rows": null,
            "grid_gap": null,
            "max_width": null,
            "order": null,
            "_view_module_version": "1.2.0",
            "grid_template_areas": null,
            "object_position": null,
            "object_fit": null,
            "grid_auto_columns": null,
            "margin": null,
            "display": null,
            "left": null
          }
        },
        "7dfca9ed4b3547ecbb85de5f8e9c9577": {
          "model_module": "@jupyter-widgets/controls",
          "model_name": "DescriptionStyleModel",
          "state": {
            "_view_name": "StyleView",
            "_model_name": "DescriptionStyleModel",
            "description_width": "",
            "_view_module": "@jupyter-widgets/base",
            "_model_module_version": "1.5.0",
            "_view_count": null,
            "_view_module_version": "1.2.0",
            "_model_module": "@jupyter-widgets/controls"
          }
        },
        "c1677052ec8340fdadd420dbd3bff3b1": {
          "model_module": "@jupyter-widgets/base",
          "model_name": "LayoutModel",
          "state": {
            "_view_name": "LayoutView",
            "grid_template_rows": null,
            "right": null,
            "justify_content": null,
            "_view_module": "@jupyter-widgets/base",
            "overflow": null,
            "_model_module_version": "1.2.0",
            "_view_count": null,
            "flex_flow": null,
            "width": null,
            "min_width": null,
            "border": null,
            "align_items": null,
            "bottom": null,
            "_model_module": "@jupyter-widgets/base",
            "top": null,
            "grid_column": null,
            "overflow_y": null,
            "overflow_x": null,
            "grid_auto_flow": null,
            "grid_area": null,
            "grid_template_columns": null,
            "flex": null,
            "_model_name": "LayoutModel",
            "justify_items": null,
            "grid_row": null,
            "max_height": null,
            "align_content": null,
            "visibility": null,
            "align_self": null,
            "height": null,
            "min_height": null,
            "padding": null,
            "grid_auto_rows": null,
            "grid_gap": null,
            "max_width": null,
            "order": null,
            "_view_module_version": "1.2.0",
            "grid_template_areas": null,
            "object_position": null,
            "object_fit": null,
            "grid_auto_columns": null,
            "margin": null,
            "display": null,
            "left": null
          }
        },
        "07fa3ac342244e669ae1bb2e9d5fb1a3": {
          "model_module": "@jupyter-widgets/controls",
          "model_name": "HBoxModel",
          "state": {
            "_view_name": "HBoxView",
            "_dom_classes": [],
            "_model_name": "HBoxModel",
            "_view_module": "@jupyter-widgets/controls",
            "_model_module_version": "1.5.0",
            "_view_count": null,
            "_view_module_version": "1.5.0",
            "box_style": "",
            "layout": "IPY_MODEL_673502a40074410291fe85c11c138d1b",
            "_model_module": "@jupyter-widgets/controls",
            "children": [
              "IPY_MODEL_d0c6c33e034d43d4a8a2e99d16d100bd",
              "IPY_MODEL_2ac65446b8484166b7004678416453de"
            ]
          }
        },
        "673502a40074410291fe85c11c138d1b": {
          "model_module": "@jupyter-widgets/base",
          "model_name": "LayoutModel",
          "state": {
            "_view_name": "LayoutView",
            "grid_template_rows": null,
            "right": null,
            "justify_content": null,
            "_view_module": "@jupyter-widgets/base",
            "overflow": null,
            "_model_module_version": "1.2.0",
            "_view_count": null,
            "flex_flow": null,
            "width": null,
            "min_width": null,
            "border": null,
            "align_items": null,
            "bottom": null,
            "_model_module": "@jupyter-widgets/base",
            "top": null,
            "grid_column": null,
            "overflow_y": null,
            "overflow_x": null,
            "grid_auto_flow": null,
            "grid_area": null,
            "grid_template_columns": null,
            "flex": null,
            "_model_name": "LayoutModel",
            "justify_items": null,
            "grid_row": null,
            "max_height": null,
            "align_content": null,
            "visibility": null,
            "align_self": null,
            "height": null,
            "min_height": null,
            "padding": null,
            "grid_auto_rows": null,
            "grid_gap": null,
            "max_width": null,
            "order": null,
            "_view_module_version": "1.2.0",
            "grid_template_areas": null,
            "object_position": null,
            "object_fit": null,
            "grid_auto_columns": null,
            "margin": null,
            "display": null,
            "left": null
          }
        },
        "d0c6c33e034d43d4a8a2e99d16d100bd": {
          "model_module": "@jupyter-widgets/controls",
          "model_name": "FloatProgressModel",
          "state": {
            "_view_name": "ProgressView",
            "style": "IPY_MODEL_4db59796c27c4d73ae584a04cee3c98e",
            "_dom_classes": [],
            "description": "Downloading: 100%",
            "_model_name": "FloatProgressModel",
            "bar_style": "success",
            "max": 433,
            "_view_module": "@jupyter-widgets/controls",
            "_model_module_version": "1.5.0",
            "value": 433,
            "_view_count": null,
            "_view_module_version": "1.5.0",
            "orientation": "horizontal",
            "min": 0,
            "description_tooltip": null,
            "_model_module": "@jupyter-widgets/controls",
            "layout": "IPY_MODEL_5630810522334199b1ee9e0c913fa4f9"
          }
        },
        "2ac65446b8484166b7004678416453de": {
          "model_module": "@jupyter-widgets/controls",
          "model_name": "HTMLModel",
          "state": {
            "_view_name": "HTMLView",
            "style": "IPY_MODEL_e93859e25f1548e8aa64a7b0d55614f1",
            "_dom_classes": [],
            "description": "",
            "_model_name": "HTMLModel",
            "placeholder": "​",
            "_view_module": "@jupyter-widgets/controls",
            "_model_module_version": "1.5.0",
            "value": " 433/433 [00:06&lt;00:00, 67.9B/s]",
            "_view_count": null,
            "_view_module_version": "1.5.0",
            "description_tooltip": null,
            "_model_module": "@jupyter-widgets/controls",
            "layout": "IPY_MODEL_42dc53270f324ddba91a19dc0a89683b"
          }
        },
        "4db59796c27c4d73ae584a04cee3c98e": {
          "model_module": "@jupyter-widgets/controls",
          "model_name": "ProgressStyleModel",
          "state": {
            "_view_name": "StyleView",
            "_model_name": "ProgressStyleModel",
            "description_width": "initial",
            "_view_module": "@jupyter-widgets/base",
            "_model_module_version": "1.5.0",
            "_view_count": null,
            "_view_module_version": "1.2.0",
            "bar_color": null,
            "_model_module": "@jupyter-widgets/controls"
          }
        },
        "5630810522334199b1ee9e0c913fa4f9": {
          "model_module": "@jupyter-widgets/base",
          "model_name": "LayoutModel",
          "state": {
            "_view_name": "LayoutView",
            "grid_template_rows": null,
            "right": null,
            "justify_content": null,
            "_view_module": "@jupyter-widgets/base",
            "overflow": null,
            "_model_module_version": "1.2.0",
            "_view_count": null,
            "flex_flow": null,
            "width": null,
            "min_width": null,
            "border": null,
            "align_items": null,
            "bottom": null,
            "_model_module": "@jupyter-widgets/base",
            "top": null,
            "grid_column": null,
            "overflow_y": null,
            "overflow_x": null,
            "grid_auto_flow": null,
            "grid_area": null,
            "grid_template_columns": null,
            "flex": null,
            "_model_name": "LayoutModel",
            "justify_items": null,
            "grid_row": null,
            "max_height": null,
            "align_content": null,
            "visibility": null,
            "align_self": null,
            "height": null,
            "min_height": null,
            "padding": null,
            "grid_auto_rows": null,
            "grid_gap": null,
            "max_width": null,
            "order": null,
            "_view_module_version": "1.2.0",
            "grid_template_areas": null,
            "object_position": null,
            "object_fit": null,
            "grid_auto_columns": null,
            "margin": null,
            "display": null,
            "left": null
          }
        },
        "e93859e25f1548e8aa64a7b0d55614f1": {
          "model_module": "@jupyter-widgets/controls",
          "model_name": "DescriptionStyleModel",
          "state": {
            "_view_name": "StyleView",
            "_model_name": "DescriptionStyleModel",
            "description_width": "",
            "_view_module": "@jupyter-widgets/base",
            "_model_module_version": "1.5.0",
            "_view_count": null,
            "_view_module_version": "1.2.0",
            "_model_module": "@jupyter-widgets/controls"
          }
        },
        "42dc53270f324ddba91a19dc0a89683b": {
          "model_module": "@jupyter-widgets/base",
          "model_name": "LayoutModel",
          "state": {
            "_view_name": "LayoutView",
            "grid_template_rows": null,
            "right": null,
            "justify_content": null,
            "_view_module": "@jupyter-widgets/base",
            "overflow": null,
            "_model_module_version": "1.2.0",
            "_view_count": null,
            "flex_flow": null,
            "width": null,
            "min_width": null,
            "border": null,
            "align_items": null,
            "bottom": null,
            "_model_module": "@jupyter-widgets/base",
            "top": null,
            "grid_column": null,
            "overflow_y": null,
            "overflow_x": null,
            "grid_auto_flow": null,
            "grid_area": null,
            "grid_template_columns": null,
            "flex": null,
            "_model_name": "LayoutModel",
            "justify_items": null,
            "grid_row": null,
            "max_height": null,
            "align_content": null,
            "visibility": null,
            "align_self": null,
            "height": null,
            "min_height": null,
            "padding": null,
            "grid_auto_rows": null,
            "grid_gap": null,
            "max_width": null,
            "order": null,
            "_view_module_version": "1.2.0",
            "grid_template_areas": null,
            "object_position": null,
            "object_fit": null,
            "grid_auto_columns": null,
            "margin": null,
            "display": null,
            "left": null
          }
        },
        "07477a4449414f3bb867d24e88f38de3": {
          "model_module": "@jupyter-widgets/controls",
          "model_name": "HBoxModel",
          "state": {
            "_view_name": "HBoxView",
            "_dom_classes": [],
            "_model_name": "HBoxModel",
            "_view_module": "@jupyter-widgets/controls",
            "_model_module_version": "1.5.0",
            "_view_count": null,
            "_view_module_version": "1.5.0",
            "box_style": "",
            "layout": "IPY_MODEL_850ba750be4d4ce88013b94b705b1401",
            "_model_module": "@jupyter-widgets/controls",
            "children": [
              "IPY_MODEL_df4340a5de7e4863a08e1b61836cb52b",
              "IPY_MODEL_952f139896f9451eb7a1c21a7b5b2ddd"
            ]
          }
        },
        "850ba750be4d4ce88013b94b705b1401": {
          "model_module": "@jupyter-widgets/base",
          "model_name": "LayoutModel",
          "state": {
            "_view_name": "LayoutView",
            "grid_template_rows": null,
            "right": null,
            "justify_content": null,
            "_view_module": "@jupyter-widgets/base",
            "overflow": null,
            "_model_module_version": "1.2.0",
            "_view_count": null,
            "flex_flow": null,
            "width": null,
            "min_width": null,
            "border": null,
            "align_items": null,
            "bottom": null,
            "_model_module": "@jupyter-widgets/base",
            "top": null,
            "grid_column": null,
            "overflow_y": null,
            "overflow_x": null,
            "grid_auto_flow": null,
            "grid_area": null,
            "grid_template_columns": null,
            "flex": null,
            "_model_name": "LayoutModel",
            "justify_items": null,
            "grid_row": null,
            "max_height": null,
            "align_content": null,
            "visibility": null,
            "align_self": null,
            "height": null,
            "min_height": null,
            "padding": null,
            "grid_auto_rows": null,
            "grid_gap": null,
            "max_width": null,
            "order": null,
            "_view_module_version": "1.2.0",
            "grid_template_areas": null,
            "object_position": null,
            "object_fit": null,
            "grid_auto_columns": null,
            "margin": null,
            "display": null,
            "left": null
          }
        },
        "df4340a5de7e4863a08e1b61836cb52b": {
          "model_module": "@jupyter-widgets/controls",
          "model_name": "FloatProgressModel",
          "state": {
            "_view_name": "ProgressView",
            "style": "IPY_MODEL_2ccfd1a533374af185713666915094ee",
            "_dom_classes": [],
            "description": "Downloading: 100%",
            "_model_name": "FloatProgressModel",
            "bar_style": "success",
            "max": 440473133,
            "_view_module": "@jupyter-widgets/controls",
            "_model_module_version": "1.5.0",
            "value": 440473133,
            "_view_count": null,
            "_view_module_version": "1.5.0",
            "orientation": "horizontal",
            "min": 0,
            "description_tooltip": null,
            "_model_module": "@jupyter-widgets/controls",
            "layout": "IPY_MODEL_6f50df78629243c9a2056d5768a60b0c"
          }
        },
        "952f139896f9451eb7a1c21a7b5b2ddd": {
          "model_module": "@jupyter-widgets/controls",
          "model_name": "HTMLModel",
          "state": {
            "_view_name": "HTMLView",
            "style": "IPY_MODEL_d85f122dee7240a28f5151c2b5a19499",
            "_dom_classes": [],
            "description": "",
            "_model_name": "HTMLModel",
            "placeholder": "​",
            "_view_module": "@jupyter-widgets/controls",
            "_model_module_version": "1.5.0",
            "value": " 440M/440M [00:05&lt;00:00, 77.5MB/s]",
            "_view_count": null,
            "_view_module_version": "1.5.0",
            "description_tooltip": null,
            "_model_module": "@jupyter-widgets/controls",
            "layout": "IPY_MODEL_138ff7843bef474a8c6844e95be9c574"
          }
        },
        "2ccfd1a533374af185713666915094ee": {
          "model_module": "@jupyter-widgets/controls",
          "model_name": "ProgressStyleModel",
          "state": {
            "_view_name": "StyleView",
            "_model_name": "ProgressStyleModel",
            "description_width": "initial",
            "_view_module": "@jupyter-widgets/base",
            "_model_module_version": "1.5.0",
            "_view_count": null,
            "_view_module_version": "1.2.0",
            "bar_color": null,
            "_model_module": "@jupyter-widgets/controls"
          }
        },
        "6f50df78629243c9a2056d5768a60b0c": {
          "model_module": "@jupyter-widgets/base",
          "model_name": "LayoutModel",
          "state": {
            "_view_name": "LayoutView",
            "grid_template_rows": null,
            "right": null,
            "justify_content": null,
            "_view_module": "@jupyter-widgets/base",
            "overflow": null,
            "_model_module_version": "1.2.0",
            "_view_count": null,
            "flex_flow": null,
            "width": null,
            "min_width": null,
            "border": null,
            "align_items": null,
            "bottom": null,
            "_model_module": "@jupyter-widgets/base",
            "top": null,
            "grid_column": null,
            "overflow_y": null,
            "overflow_x": null,
            "grid_auto_flow": null,
            "grid_area": null,
            "grid_template_columns": null,
            "flex": null,
            "_model_name": "LayoutModel",
            "justify_items": null,
            "grid_row": null,
            "max_height": null,
            "align_content": null,
            "visibility": null,
            "align_self": null,
            "height": null,
            "min_height": null,
            "padding": null,
            "grid_auto_rows": null,
            "grid_gap": null,
            "max_width": null,
            "order": null,
            "_view_module_version": "1.2.0",
            "grid_template_areas": null,
            "object_position": null,
            "object_fit": null,
            "grid_auto_columns": null,
            "margin": null,
            "display": null,
            "left": null
          }
        },
        "d85f122dee7240a28f5151c2b5a19499": {
          "model_module": "@jupyter-widgets/controls",
          "model_name": "DescriptionStyleModel",
          "state": {
            "_view_name": "StyleView",
            "_model_name": "DescriptionStyleModel",
            "description_width": "",
            "_view_module": "@jupyter-widgets/base",
            "_model_module_version": "1.5.0",
            "_view_count": null,
            "_view_module_version": "1.2.0",
            "_model_module": "@jupyter-widgets/controls"
          }
        },
        "138ff7843bef474a8c6844e95be9c574": {
          "model_module": "@jupyter-widgets/base",
          "model_name": "LayoutModel",
          "state": {
            "_view_name": "LayoutView",
            "grid_template_rows": null,
            "right": null,
            "justify_content": null,
            "_view_module": "@jupyter-widgets/base",
            "overflow": null,
            "_model_module_version": "1.2.0",
            "_view_count": null,
            "flex_flow": null,
            "width": null,
            "min_width": null,
            "border": null,
            "align_items": null,
            "bottom": null,
            "_model_module": "@jupyter-widgets/base",
            "top": null,
            "grid_column": null,
            "overflow_y": null,
            "overflow_x": null,
            "grid_auto_flow": null,
            "grid_area": null,
            "grid_template_columns": null,
            "flex": null,
            "_model_name": "LayoutModel",
            "justify_items": null,
            "grid_row": null,
            "max_height": null,
            "align_content": null,
            "visibility": null,
            "align_self": null,
            "height": null,
            "min_height": null,
            "padding": null,
            "grid_auto_rows": null,
            "grid_gap": null,
            "max_width": null,
            "order": null,
            "_view_module_version": "1.2.0",
            "grid_template_areas": null,
            "object_position": null,
            "object_fit": null,
            "grid_auto_columns": null,
            "margin": null,
            "display": null,
            "left": null
          }
        }
      }
    }
  },
  "cells": [
    {
      "cell_type": "markdown",
      "metadata": {
        "id": "pJkEqFl-QtCB"
      },
      "source": [
        "## libraries"
      ]
    },
    {
      "cell_type": "code",
      "metadata": {
        "colab": {
          "base_uri": "https://localhost:8080/"
        },
        "id": "i25B-WAdQ2Xd",
        "outputId": "16c24c82-6abe-43b1-bcd9-b258e52358b9"
      },
      "source": [
        "from google.colab import drive\n",
        "drive.mount('/content/drive')"
      ],
      "execution_count": 1,
      "outputs": [
        {
          "output_type": "stream",
          "text": [
            "Mounted at /content/drive\n"
          ],
          "name": "stdout"
        }
      ]
    },
    {
      "cell_type": "code",
      "metadata": {
        "id": "Ez0cPI2CQtCI"
      },
      "source": [
        "import numpy as np\n",
        "import pandas as pd\n",
        "import re\n",
        "import urllib\n",
        "import collections\n",
        "from sklearn.model_selection import train_test_split"
      ],
      "execution_count": 2,
      "outputs": []
    },
    {
      "cell_type": "code",
      "metadata": {
        "id": "kBx6CxopQtCJ"
      },
      "source": [
        "%%capture\n",
        "!pip install transformers"
      ],
      "execution_count": 3,
      "outputs": []
    },
    {
      "cell_type": "code",
      "metadata": {
        "colab": {
          "base_uri": "https://localhost:8080/"
        },
        "id": "F4CXVch8QtCJ",
        "outputId": "55c93718-d928-44c4-caaa-bcef92f1ac55"
      },
      "source": [
        "import torch\n",
        "\n",
        "# If there's a GPU available...\n",
        "if torch.cuda.is_available():    \n",
        "\n",
        "    # Tell PyTorch to use the GPU.    \n",
        "    device = torch.device(\"cuda\")\n",
        "\n",
        "    print('There are %d GPU(s) available.' % torch.cuda.device_count())\n",
        "\n",
        "    print('We will use the GPU:', torch.cuda.get_device_name(0))\n",
        "\n",
        "# If not...\n",
        "else:\n",
        "    print('No GPU available, using the CPU instead.')\n",
        "    device = torch.device(\"cpu\")"
      ],
      "execution_count": 4,
      "outputs": [
        {
          "output_type": "stream",
          "text": [
            "There are 1 GPU(s) available.\n",
            "We will use the GPU: Tesla P100-PCIE-16GB\n"
          ],
          "name": "stdout"
        }
      ]
    },
    {
      "cell_type": "markdown",
      "metadata": {
        "id": "nGET6NMYQtCK"
      },
      "source": [
        "## process data "
      ]
    },
    {
      "cell_type": "code",
      "metadata": {
        "id": "qA33jvNfQtCL"
      },
      "source": [
        "path = \"drive/MyDrive/dataset_en_train.json\"\n",
        "df = pd.read_json(path, lines = True).rename(columns={'stars':'star_rating'})"
      ],
      "execution_count": 8,
      "outputs": []
    },
    {
      "cell_type": "code",
      "metadata": {
        "colab": {
          "base_uri": "https://localhost:8080/"
        },
        "id": "I8rQmfgWQtCL",
        "outputId": "438b60b2-8f03-411c-fa5a-a88407020945"
      },
      "source": [
        "df = df[['star_rating','review_body','product_category']]\n",
        "df = df.dropna()\n",
        "df['star_rating']= np.where(df['star_rating']>=4,1,0) ##asi un poco mas balanceado \n",
        "#df = df.head(10000)\n",
        "print ((df['star_rating'] == 0).sum())\n",
        "print ((df['star_rating'] == 1).sum())"
      ],
      "execution_count": 9,
      "outputs": [
        {
          "output_type": "stream",
          "text": [
            "120000\n",
            "80000\n"
          ],
          "name": "stdout"
        }
      ]
    },
    {
      "cell_type": "code",
      "metadata": {
        "colab": {
          "base_uri": "https://localhost:8080/",
          "height": 204
        },
        "id": "cnhcgFs2QtCL",
        "outputId": "5d6834b9-eea9-4ce9-b2d2-c7502ceb03cd"
      },
      "source": [
        "INPUT_FEATURE = 'review_body'\n",
        "OUTPUT_FEATURE = 'star_rating'\n",
        "\n",
        "X = df[INPUT_FEATURE].values\n",
        "y = df[OUTPUT_FEATURE].values\n",
        "df.head(5)"
      ],
      "execution_count": 10,
      "outputs": [
        {
          "output_type": "execute_result",
          "data": {
            "text/html": [
              "<div>\n",
              "<style scoped>\n",
              "    .dataframe tbody tr th:only-of-type {\n",
              "        vertical-align: middle;\n",
              "    }\n",
              "\n",
              "    .dataframe tbody tr th {\n",
              "        vertical-align: top;\n",
              "    }\n",
              "\n",
              "    .dataframe thead th {\n",
              "        text-align: right;\n",
              "    }\n",
              "</style>\n",
              "<table border=\"1\" class=\"dataframe\">\n",
              "  <thead>\n",
              "    <tr style=\"text-align: right;\">\n",
              "      <th></th>\n",
              "      <th>star_rating</th>\n",
              "      <th>review_body</th>\n",
              "      <th>product_category</th>\n",
              "    </tr>\n",
              "  </thead>\n",
              "  <tbody>\n",
              "    <tr>\n",
              "      <th>0</th>\n",
              "      <td>0</td>\n",
              "      <td>Arrived broken. Manufacturer defect. Two of th...</td>\n",
              "      <td>furniture</td>\n",
              "    </tr>\n",
              "    <tr>\n",
              "      <th>1</th>\n",
              "      <td>0</td>\n",
              "      <td>the cabinet dot were all detached from backing...</td>\n",
              "      <td>home_improvement</td>\n",
              "    </tr>\n",
              "    <tr>\n",
              "      <th>2</th>\n",
              "      <td>0</td>\n",
              "      <td>I received my first order of this product and ...</td>\n",
              "      <td>home</td>\n",
              "    </tr>\n",
              "    <tr>\n",
              "      <th>3</th>\n",
              "      <td>0</td>\n",
              "      <td>This product is a piece of shit. Do not buy. D...</td>\n",
              "      <td>wireless</td>\n",
              "    </tr>\n",
              "    <tr>\n",
              "      <th>4</th>\n",
              "      <td>0</td>\n",
              "      <td>went through 3 in one day doesn't fit correct ...</td>\n",
              "      <td>pc</td>\n",
              "    </tr>\n",
              "  </tbody>\n",
              "</table>\n",
              "</div>"
            ],
            "text/plain": [
              "   star_rating  ...  product_category\n",
              "0            0  ...         furniture\n",
              "1            0  ...  home_improvement\n",
              "2            0  ...              home\n",
              "3            0  ...          wireless\n",
              "4            0  ...                pc\n",
              "\n",
              "[5 rows x 3 columns]"
            ]
          },
          "metadata": {
            "tags": []
          },
          "execution_count": 10
        }
      ]
    },
    {
      "cell_type": "code",
      "metadata": {
        "colab": {
          "base_uri": "https://localhost:8080/"
        },
        "id": "TRiVTps-QtCM",
        "outputId": "a9048ceb-5689-42ec-c953-16ff47bdef14"
      },
      "source": [
        "print ((df['star_rating'] == 0).sum())\n",
        "print ((df['star_rating'] == 1).sum())"
      ],
      "execution_count": 11,
      "outputs": [
        {
          "output_type": "stream",
          "text": [
            "120000\n",
            "80000\n"
          ],
          "name": "stdout"
        }
      ]
    },
    {
      "cell_type": "markdown",
      "metadata": {
        "id": "1ijdaHT9QtCM"
      },
      "source": [
        "### divide data and create data splits"
      ]
    },
    {
      "cell_type": "code",
      "metadata": {
        "colab": {
          "base_uri": "https://localhost:8080/"
        },
        "id": "WREgQyOmQtCN",
        "outputId": "a5673f0a-496c-4007-945a-a46fd01c62e1"
      },
      "source": [
        "def train_val_test_split(X, y, val_size, test_size, shuffle):\n",
        "    \"\"\"Split data into train/val/test datasets.\"\"\"\n",
        "    \n",
        "\n",
        "    X_train, X_test, y_train, y_test = train_test_split(\n",
        "        X, y, test_size=test_size, stratify=y, shuffle=shuffle)\n",
        "    \n",
        "    X_train, X_val, y_train, y_val = train_test_split(\n",
        "        X_train, y_train, test_size=val_size, stratify=y_train, shuffle=shuffle)\n",
        "   \n",
        "    return X_train, X_val, X_test, y_train, y_val, y_test\n",
        "\n",
        "\n",
        "\n",
        "TRAIN_SIZE = 0.7\n",
        "VAL_SIZE = 0.15\n",
        "TEST_SIZE = 0.15\n",
        "SHUFFLE = True\n",
        "\n",
        "# Create data splits\n",
        "X_train, X_val, X_test, y_train, y_val, y_test = train_val_test_split(\n",
        "    X=X, y=y, val_size=VAL_SIZE, test_size=TEST_SIZE, shuffle=SHUFFLE)\n",
        "class_counts = dict(collections.Counter(y))\n",
        "print (f\"X_train: {X_train.shape}, y_train: {y_train.shape}\")\n",
        "print (f\"X_val: {X_val.shape}, y_val: {y_val.shape}\")\n",
        "print (f\"X_test: {X_test.shape}, y_test: {y_test.shape}\")\n",
        "print (f\"Sample point: {X_train[1]} → {y_train[1]}\")\n",
        "print (f\"Classes: {class_counts}\")\n",
        "\n"
      ],
      "execution_count": 12,
      "outputs": [
        {
          "output_type": "stream",
          "text": [
            "X_train: (144500,), y_train: (144500,)\n",
            "X_val: (25500,), y_val: (25500,)\n",
            "X_test: (30000,), y_test: (30000,)\n",
            "Sample point: I wanted in black color → 0\n",
            "Classes: {0: 120000, 1: 80000}\n"
          ],
          "name": "stdout"
        }
      ]
    },
    {
      "cell_type": "code",
      "metadata": {
        "colab": {
          "base_uri": "https://localhost:8080/"
        },
        "id": "VRZ9M1_4QtCN",
        "outputId": "79388fa8-606d-41d0-9b66-b4af65e355c3"
      },
      "source": [
        "y_train[1]"
      ],
      "execution_count": 13,
      "outputs": [
        {
          "output_type": "execute_result",
          "data": {
            "text/plain": [
              "0"
            ]
          },
          "metadata": {
            "tags": []
          },
          "execution_count": 13
        }
      ]
    },
    {
      "cell_type": "markdown",
      "metadata": {
        "id": "fBekU5BbQtCO"
      },
      "source": [
        "## tokenization and input formatting for bert"
      ]
    },
    {
      "cell_type": "code",
      "metadata": {
        "colab": {
          "base_uri": "https://localhost:8080/",
          "height": 159,
          "referenced_widgets": [
            "8e8f9c61770c421f99caf888151d7709",
            "2324fd6dbb484e6bbac2aaf21195cd7d",
            "26bf23e62c2e4e29b52d98763942093c",
            "90db4328999a42bfb2142e3ef6ef3fcf",
            "5a2dcab29d134b3ca840a445ba8e758b",
            "5769c72b3cc44553861d42ae37e434dc",
            "7dfca9ed4b3547ecbb85de5f8e9c9577",
            "c1677052ec8340fdadd420dbd3bff3b1"
          ]
        },
        "id": "tOBPYXslQtCO",
        "outputId": "630c03c3-9402-40cb-a7cb-2ed5ed4b929d"
      },
      "source": [
        "from transformers import BertTokenizer\n",
        "\n",
        "# Load the BERT tokenizer.\n",
        "print('Loading BERT tokenizer...')\n",
        "tokenizer = BertTokenizer.from_pretrained('bert-base-uncased', do_lower_case=True)"
      ],
      "execution_count": 14,
      "outputs": [
        {
          "output_type": "stream",
          "text": [
            "Loading BERT tokenizer...\n"
          ],
          "name": "stdout"
        },
        {
          "output_type": "display_data",
          "data": {
            "application/vnd.jupyter.widget-view+json": {
              "model_id": "8e8f9c61770c421f99caf888151d7709",
              "version_minor": 0,
              "version_major": 2
            },
            "text/plain": [
              "HBox(children=(FloatProgress(value=0.0, description='Downloading', max=231508.0, style=ProgressStyle(descripti…"
            ]
          },
          "metadata": {
            "tags": []
          }
        },
        {
          "output_type": "stream",
          "text": [
            "\n"
          ],
          "name": "stdout"
        }
      ]
    },
    {
      "cell_type": "code",
      "metadata": {
        "colab": {
          "base_uri": "https://localhost:8080/"
        },
        "id": "1VyZ6eCAQtCP",
        "outputId": "f35f9826-a979-4353-e8c1-1452ee366967"
      },
      "source": [
        "tokenizer"
      ],
      "execution_count": 15,
      "outputs": [
        {
          "output_type": "execute_result",
          "data": {
            "text/plain": [
              "PreTrainedTokenizer(name_or_path='bert-base-uncased', vocab_size=30522, model_max_len=512, is_fast=False, padding_side='right', special_tokens={'unk_token': '[UNK]', 'sep_token': '[SEP]', 'pad_token': '[PAD]', 'cls_token': '[CLS]', 'mask_token': '[MASK]'})"
            ]
          },
          "metadata": {
            "tags": []
          },
          "execution_count": 15
        }
      ]
    },
    {
      "cell_type": "code",
      "metadata": {
        "colab": {
          "base_uri": "https://localhost:8080/"
        },
        "id": "hjQJAXsyQtCP",
        "outputId": "f094fc98-8586-4a35-b97c-3b11ff7c2a49"
      },
      "source": [
        "## para probar \n",
        "print(\"original: \", X[1])\n",
        "print(\"tokenized\", tokenizer.tokenize(X[1]))\n",
        "print('Token IDs: ', tokenizer.convert_tokens_to_ids(tokenizer.tokenize(X[1])))"
      ],
      "execution_count": 16,
      "outputs": [
        {
          "output_type": "stream",
          "text": [
            "original:  the cabinet dot were all detached from backing... got me\n",
            "tokenized ['the', 'cabinet', 'dot', 'were', 'all', 'detached', 'from', 'backing', '.', '.', '.', 'got', 'me']\n",
            "Token IDs:  [1996, 5239, 11089, 2020, 2035, 12230, 2013, 5150, 1012, 1012, 1012, 2288, 2033]\n"
          ],
          "name": "stdout"
        }
      ]
    },
    {
      "cell_type": "markdown",
      "metadata": {
        "id": "c0cpmz0GQtCQ"
      },
      "source": [
        "tenemos que añadir tokens especiales para que los entienda BERT"
      ]
    },
    {
      "cell_type": "code",
      "metadata": {
        "colab": {
          "base_uri": "https://localhost:8080/"
        },
        "id": "zOeI5tdVQtCQ",
        "outputId": "9a016e19-25cd-43ec-aaea-6c64564a3ae6"
      },
      "source": [
        "%%capture\n",
        "input_ids = []\n",
        "\n",
        "for rev in X_train:\n",
        "    enconde_rev = tokenizer.encode(rev,add_special_tokens = True)\n",
        "    input_ids.append(enconde_rev)"
      ],
      "execution_count": 17,
      "outputs": [
        {
          "output_type": "stream",
          "text": [
            "Token indices sequence length is longer than the specified maximum sequence length for this model (550 > 512). Running this sequence through the model will result in indexing errors\n"
          ],
          "name": "stderr"
        }
      ]
    },
    {
      "cell_type": "code",
      "metadata": {
        "id": "lunuExjQQtCR"
      },
      "source": [
        "%%capture\n",
        "input_ids_test = []\n",
        "\n",
        "for rev in X_test:\n",
        "    enconde_rev = tokenizer.encode(rev,add_special_tokens = True)\n",
        "    input_ids_test.append(enconde_rev)"
      ],
      "execution_count": 18,
      "outputs": []
    },
    {
      "cell_type": "code",
      "metadata": {
        "id": "CP2AJO2RQtCR"
      },
      "source": [
        "#tokenizer.encode??"
      ],
      "execution_count": 19,
      "outputs": []
    },
    {
      "cell_type": "code",
      "metadata": {
        "colab": {
          "base_uri": "https://localhost:8080/"
        },
        "id": "RyxziPRqQtCR",
        "outputId": "0dfe0386-b780-4ab0-b3fb-cca7d7160e9a"
      },
      "source": [
        "print('Original: ', X_train[1])\n",
        "print('Token IDs:', input_ids[1])"
      ],
      "execution_count": 20,
      "outputs": [
        {
          "output_type": "stream",
          "text": [
            "Original:  I wanted in black color\n",
            "Token IDs: [101, 1045, 2359, 1999, 2304, 3609, 102]\n"
          ],
          "name": "stdout"
        }
      ]
    },
    {
      "cell_type": "code",
      "metadata": {
        "colab": {
          "base_uri": "https://localhost:8080/"
        },
        "id": "GiVe7VGVQtCS",
        "outputId": "b8dd1311-13f5-45ef-f148-663fe1625922"
      },
      "source": [
        "print('Original: ', X_test[1])\n",
        "print('Token IDs:', input_ids_test[1])"
      ],
      "execution_count": 21,
      "outputs": [
        {
          "output_type": "stream",
          "text": [
            "Original:  Arrived 11 days after I ordered. Arrived as one big chunk of chocolate. Looks like it completely melted and then cooled and hardened. What a waste.\n",
            "Token IDs: [101, 3369, 2340, 2420, 2044, 1045, 3641, 1012, 3369, 2004, 2028, 2502, 20000, 1997, 7967, 1012, 3504, 2066, 2009, 3294, 12501, 1998, 2059, 12981, 1998, 15015, 1012, 2054, 1037, 5949, 1012, 102]\n"
          ],
          "name": "stdout"
        }
      ]
    },
    {
      "cell_type": "markdown",
      "metadata": {
        "id": "VvbO1bdbQtCS"
      },
      "source": [
        "## padding and truncating"
      ]
    },
    {
      "cell_type": "code",
      "metadata": {
        "colab": {
          "base_uri": "https://localhost:8080/"
        },
        "id": "ue9rgqMfQtCS",
        "outputId": "6c0458d7-606d-4fcf-d1fa-1604c19f6dee"
      },
      "source": [
        "print('Max review length: ', max([len(rev) for sen in input_ids]))\n",
        "print('Max review length: ', max([len(rev) for sen in input_ids_test]))"
      ],
      "execution_count": 22,
      "outputs": [
        {
          "output_type": "stream",
          "text": [
            "Max review length:  311\n",
            "Max review length:  311\n"
          ],
          "name": "stdout"
        }
      ]
    },
    {
      "cell_type": "code",
      "metadata": {
        "id": "rtoqnIGxQtCT"
      },
      "source": [
        "%%capture\n",
        "!pip install tensorflow\n",
        "!pip install Keras\n",
        "import tensorflow as tf\n",
        "import tensorflow \n",
        "\n",
        "from tensorflow import keras\n",
        "\n",
        "from keras.layers import Dense\n",
        "\n",
        "from keras.preprocessing.sequence import pad_sequences\n"
      ],
      "execution_count": 23,
      "outputs": []
    },
    {
      "cell_type": "code",
      "metadata": {
        "colab": {
          "base_uri": "https://localhost:8080/"
        },
        "id": "_2lckmCoQtCT",
        "outputId": "a8f21431-4692-4957-b95d-1d594376da21"
      },
      "source": [
        "MAX_LEN = 256\n",
        "\n",
        "print('\\nPadding/truncating all sentences to %d values...' % MAX_LEN)\n",
        "print('\\nPadding token: \"{:}\", ID: {:}'.format(tokenizer.pad_token, tokenizer.pad_token_id))\n",
        "\n",
        "input_ids = pad_sequences(input_ids, maxlen=MAX_LEN, dtype=\"long\", \n",
        "                          value=0, truncating=\"post\", padding=\"post\")\n",
        "\n",
        "input_ids_test = pad_sequences(input_ids_test, maxlen=MAX_LEN, dtype=\"long\", \n",
        "                          value=0, truncating=\"post\", padding=\"post\")\n",
        "\n",
        "\n",
        "print('\\nDone.')"
      ],
      "execution_count": 24,
      "outputs": [
        {
          "output_type": "stream",
          "text": [
            "\n",
            "Padding/truncating all sentences to 256 values...\n",
            "\n",
            "Padding token: \"[PAD]\", ID: 0\n",
            "\n",
            "Done.\n"
          ],
          "name": "stdout"
        }
      ]
    },
    {
      "cell_type": "markdown",
      "metadata": {
        "id": "AYKtni5RQtCT"
      },
      "source": [
        "## attention masks"
      ]
    },
    {
      "cell_type": "markdown",
      "metadata": {
        "id": "VP58tKTKQtCT"
      },
      "source": [
        "define que tokens son palabras reales y las distingue del padding,\n",
        "el vocab de bert no usa ID 0 entonces si el ID es 0 es padding."
      ]
    },
    {
      "cell_type": "code",
      "metadata": {
        "id": "X2Ja2QQAQtCU"
      },
      "source": [
        "att_masks = []\n",
        "\n",
        "att_masks_test = []\n",
        "\n",
        "for review in input_ids:\n",
        "    attention_mask = [int(token_id > 0) for token_id in review]\n",
        "    att_masks.append(attention_mask)\n",
        "    \n",
        "for review in input_ids_test:\n",
        "    attention_mask = [int(token_id > 0) for token_id in review]\n",
        "    att_masks_test.append(attention_mask)"
      ],
      "execution_count": 25,
      "outputs": []
    },
    {
      "cell_type": "markdown",
      "metadata": {
        "id": "O8K9befXQtCU"
      },
      "source": [
        "## convert to pytorch datatypes"
      ]
    },
    {
      "cell_type": "code",
      "metadata": {
        "id": "m3hYCjWdQtCU"
      },
      "source": [
        "input_ids = torch.tensor(input_ids)\n",
        "input_ids_test = torch.tensor(input_ids_test)"
      ],
      "execution_count": 26,
      "outputs": []
    },
    {
      "cell_type": "code",
      "metadata": {
        "id": "8WvENtGUQtCU"
      },
      "source": [
        "y_train= torch.tensor(y_train)\n",
        "y_test = torch.tensor(y_test)"
      ],
      "execution_count": 27,
      "outputs": []
    },
    {
      "cell_type": "code",
      "metadata": {
        "id": "yP1Wo_tfQtCU"
      },
      "source": [
        "att_masks = torch.tensor(att_masks)\n",
        "att_masks_test = torch.tensor(att_masks_test)"
      ],
      "execution_count": 28,
      "outputs": []
    },
    {
      "cell_type": "markdown",
      "metadata": {
        "id": "2hMGJv6VQtCV"
      },
      "source": [
        "## creamos DataLoaders"
      ]
    },
    {
      "cell_type": "code",
      "metadata": {
        "id": "ds1M6fsbQtCV"
      },
      "source": [
        "from torch.utils.data import TensorDataset, DataLoader, RandomSampler, SequentialSampler"
      ],
      "execution_count": 29,
      "outputs": []
    },
    {
      "cell_type": "code",
      "metadata": {
        "id": "deaa_ZF7QtCX"
      },
      "source": [
        "batch_size = 32 # recomendado\n",
        "\n",
        "# DATALOADER para el train data\n",
        "train_data = TensorDataset(input_ids,att_masks,y_train)\n",
        "train_sampler= RandomSampler(train_data)\n",
        "train_dataloader= DataLoader(train_data,sampler=train_sampler,batch_size=batch_size)\n"
      ],
      "execution_count": 30,
      "outputs": []
    },
    {
      "cell_type": "code",
      "metadata": {
        "id": "u-WNEGt7QtCY"
      },
      "source": [
        "#DATALOADER para el test data\n",
        "test_data = TensorDataset(input_ids_test,att_masks_test,y_test)\n",
        "test_sampler= RandomSampler(test_data)\n",
        "test_dataloader= DataLoader(test_data,sampler=test_sampler,batch_size=batch_size)\n",
        "\n",
        "\n"
      ],
      "execution_count": 31,
      "outputs": []
    },
    {
      "cell_type": "markdown",
      "metadata": {
        "id": "PICZxMHzQtCZ"
      },
      "source": [
        "# Train el Modelo de Clasificacion "
      ]
    },
    {
      "cell_type": "markdown",
      "metadata": {
        "id": "-aq7fVSGQtCZ"
      },
      "source": [
        "## BertForSequenceClassification"
      ]
    },
    {
      "cell_type": "code",
      "metadata": {
        "id": "ecZKy5ZUQtCZ"
      },
      "source": [
        "from transformers import BertForSequenceClassification, AdamW, BertConfig"
      ],
      "execution_count": 32,
      "outputs": []
    },
    {
      "cell_type": "code",
      "metadata": {
        "colab": {
          "base_uri": "https://localhost:8080/",
          "height": 1000,
          "referenced_widgets": [
            "07fa3ac342244e669ae1bb2e9d5fb1a3",
            "673502a40074410291fe85c11c138d1b",
            "d0c6c33e034d43d4a8a2e99d16d100bd",
            "2ac65446b8484166b7004678416453de",
            "4db59796c27c4d73ae584a04cee3c98e",
            "5630810522334199b1ee9e0c913fa4f9",
            "e93859e25f1548e8aa64a7b0d55614f1",
            "42dc53270f324ddba91a19dc0a89683b",
            "07477a4449414f3bb867d24e88f38de3",
            "850ba750be4d4ce88013b94b705b1401",
            "df4340a5de7e4863a08e1b61836cb52b",
            "952f139896f9451eb7a1c21a7b5b2ddd",
            "2ccfd1a533374af185713666915094ee",
            "6f50df78629243c9a2056d5768a60b0c",
            "d85f122dee7240a28f5151c2b5a19499",
            "138ff7843bef474a8c6844e95be9c574"
          ]
        },
        "id": "lzHrvOPfQtCZ",
        "outputId": "ff3107f5-0e52-4ab5-cebd-5db198d2bc04"
      },
      "source": [
        "model = BertForSequenceClassification.from_pretrained(\"bert-base-uncased\",\n",
        "                                                        num_labels= 2,\n",
        "                                                        output_attentions = False,\n",
        "                                                        output_hidden_states= False)\n",
        "model.cuda()"
      ],
      "execution_count": 33,
      "outputs": [
        {
          "output_type": "display_data",
          "data": {
            "application/vnd.jupyter.widget-view+json": {
              "model_id": "07fa3ac342244e669ae1bb2e9d5fb1a3",
              "version_minor": 0,
              "version_major": 2
            },
            "text/plain": [
              "HBox(children=(FloatProgress(value=0.0, description='Downloading', max=433.0, style=ProgressStyle(description_…"
            ]
          },
          "metadata": {
            "tags": []
          }
        },
        {
          "output_type": "stream",
          "text": [
            "\n"
          ],
          "name": "stdout"
        },
        {
          "output_type": "display_data",
          "data": {
            "application/vnd.jupyter.widget-view+json": {
              "model_id": "07477a4449414f3bb867d24e88f38de3",
              "version_minor": 0,
              "version_major": 2
            },
            "text/plain": [
              "HBox(children=(FloatProgress(value=0.0, description='Downloading', max=440473133.0, style=ProgressStyle(descri…"
            ]
          },
          "metadata": {
            "tags": []
          }
        },
        {
          "output_type": "stream",
          "text": [
            "\n"
          ],
          "name": "stdout"
        },
        {
          "output_type": "stream",
          "text": [
            "Some weights of the model checkpoint at bert-base-uncased were not used when initializing BertForSequenceClassification: ['cls.predictions.bias', 'cls.predictions.transform.dense.weight', 'cls.predictions.transform.dense.bias', 'cls.predictions.decoder.weight', 'cls.seq_relationship.weight', 'cls.seq_relationship.bias', 'cls.predictions.transform.LayerNorm.weight', 'cls.predictions.transform.LayerNorm.bias']\n",
            "- This IS expected if you are initializing BertForSequenceClassification from the checkpoint of a model trained on another task or with another architecture (e.g. initializing a BertForSequenceClassification model from a BertForPreTraining model).\n",
            "- This IS NOT expected if you are initializing BertForSequenceClassification from the checkpoint of a model that you expect to be exactly identical (initializing a BertForSequenceClassification model from a BertForSequenceClassification model).\n",
            "Some weights of BertForSequenceClassification were not initialized from the model checkpoint at bert-base-uncased and are newly initialized: ['classifier.weight', 'classifier.bias']\n",
            "You should probably TRAIN this model on a down-stream task to be able to use it for predictions and inference.\n"
          ],
          "name": "stderr"
        },
        {
          "output_type": "execute_result",
          "data": {
            "text/plain": [
              "BertForSequenceClassification(\n",
              "  (bert): BertModel(\n",
              "    (embeddings): BertEmbeddings(\n",
              "      (word_embeddings): Embedding(30522, 768, padding_idx=0)\n",
              "      (position_embeddings): Embedding(512, 768)\n",
              "      (token_type_embeddings): Embedding(2, 768)\n",
              "      (LayerNorm): LayerNorm((768,), eps=1e-12, elementwise_affine=True)\n",
              "      (dropout): Dropout(p=0.1, inplace=False)\n",
              "    )\n",
              "    (encoder): BertEncoder(\n",
              "      (layer): ModuleList(\n",
              "        (0): BertLayer(\n",
              "          (attention): BertAttention(\n",
              "            (self): BertSelfAttention(\n",
              "              (query): Linear(in_features=768, out_features=768, bias=True)\n",
              "              (key): Linear(in_features=768, out_features=768, bias=True)\n",
              "              (value): Linear(in_features=768, out_features=768, bias=True)\n",
              "              (dropout): Dropout(p=0.1, inplace=False)\n",
              "            )\n",
              "            (output): BertSelfOutput(\n",
              "              (dense): Linear(in_features=768, out_features=768, bias=True)\n",
              "              (LayerNorm): LayerNorm((768,), eps=1e-12, elementwise_affine=True)\n",
              "              (dropout): Dropout(p=0.1, inplace=False)\n",
              "            )\n",
              "          )\n",
              "          (intermediate): BertIntermediate(\n",
              "            (dense): Linear(in_features=768, out_features=3072, bias=True)\n",
              "          )\n",
              "          (output): BertOutput(\n",
              "            (dense): Linear(in_features=3072, out_features=768, bias=True)\n",
              "            (LayerNorm): LayerNorm((768,), eps=1e-12, elementwise_affine=True)\n",
              "            (dropout): Dropout(p=0.1, inplace=False)\n",
              "          )\n",
              "        )\n",
              "        (1): BertLayer(\n",
              "          (attention): BertAttention(\n",
              "            (self): BertSelfAttention(\n",
              "              (query): Linear(in_features=768, out_features=768, bias=True)\n",
              "              (key): Linear(in_features=768, out_features=768, bias=True)\n",
              "              (value): Linear(in_features=768, out_features=768, bias=True)\n",
              "              (dropout): Dropout(p=0.1, inplace=False)\n",
              "            )\n",
              "            (output): BertSelfOutput(\n",
              "              (dense): Linear(in_features=768, out_features=768, bias=True)\n",
              "              (LayerNorm): LayerNorm((768,), eps=1e-12, elementwise_affine=True)\n",
              "              (dropout): Dropout(p=0.1, inplace=False)\n",
              "            )\n",
              "          )\n",
              "          (intermediate): BertIntermediate(\n",
              "            (dense): Linear(in_features=768, out_features=3072, bias=True)\n",
              "          )\n",
              "          (output): BertOutput(\n",
              "            (dense): Linear(in_features=3072, out_features=768, bias=True)\n",
              "            (LayerNorm): LayerNorm((768,), eps=1e-12, elementwise_affine=True)\n",
              "            (dropout): Dropout(p=0.1, inplace=False)\n",
              "          )\n",
              "        )\n",
              "        (2): BertLayer(\n",
              "          (attention): BertAttention(\n",
              "            (self): BertSelfAttention(\n",
              "              (query): Linear(in_features=768, out_features=768, bias=True)\n",
              "              (key): Linear(in_features=768, out_features=768, bias=True)\n",
              "              (value): Linear(in_features=768, out_features=768, bias=True)\n",
              "              (dropout): Dropout(p=0.1, inplace=False)\n",
              "            )\n",
              "            (output): BertSelfOutput(\n",
              "              (dense): Linear(in_features=768, out_features=768, bias=True)\n",
              "              (LayerNorm): LayerNorm((768,), eps=1e-12, elementwise_affine=True)\n",
              "              (dropout): Dropout(p=0.1, inplace=False)\n",
              "            )\n",
              "          )\n",
              "          (intermediate): BertIntermediate(\n",
              "            (dense): Linear(in_features=768, out_features=3072, bias=True)\n",
              "          )\n",
              "          (output): BertOutput(\n",
              "            (dense): Linear(in_features=3072, out_features=768, bias=True)\n",
              "            (LayerNorm): LayerNorm((768,), eps=1e-12, elementwise_affine=True)\n",
              "            (dropout): Dropout(p=0.1, inplace=False)\n",
              "          )\n",
              "        )\n",
              "        (3): BertLayer(\n",
              "          (attention): BertAttention(\n",
              "            (self): BertSelfAttention(\n",
              "              (query): Linear(in_features=768, out_features=768, bias=True)\n",
              "              (key): Linear(in_features=768, out_features=768, bias=True)\n",
              "              (value): Linear(in_features=768, out_features=768, bias=True)\n",
              "              (dropout): Dropout(p=0.1, inplace=False)\n",
              "            )\n",
              "            (output): BertSelfOutput(\n",
              "              (dense): Linear(in_features=768, out_features=768, bias=True)\n",
              "              (LayerNorm): LayerNorm((768,), eps=1e-12, elementwise_affine=True)\n",
              "              (dropout): Dropout(p=0.1, inplace=False)\n",
              "            )\n",
              "          )\n",
              "          (intermediate): BertIntermediate(\n",
              "            (dense): Linear(in_features=768, out_features=3072, bias=True)\n",
              "          )\n",
              "          (output): BertOutput(\n",
              "            (dense): Linear(in_features=3072, out_features=768, bias=True)\n",
              "            (LayerNorm): LayerNorm((768,), eps=1e-12, elementwise_affine=True)\n",
              "            (dropout): Dropout(p=0.1, inplace=False)\n",
              "          )\n",
              "        )\n",
              "        (4): BertLayer(\n",
              "          (attention): BertAttention(\n",
              "            (self): BertSelfAttention(\n",
              "              (query): Linear(in_features=768, out_features=768, bias=True)\n",
              "              (key): Linear(in_features=768, out_features=768, bias=True)\n",
              "              (value): Linear(in_features=768, out_features=768, bias=True)\n",
              "              (dropout): Dropout(p=0.1, inplace=False)\n",
              "            )\n",
              "            (output): BertSelfOutput(\n",
              "              (dense): Linear(in_features=768, out_features=768, bias=True)\n",
              "              (LayerNorm): LayerNorm((768,), eps=1e-12, elementwise_affine=True)\n",
              "              (dropout): Dropout(p=0.1, inplace=False)\n",
              "            )\n",
              "          )\n",
              "          (intermediate): BertIntermediate(\n",
              "            (dense): Linear(in_features=768, out_features=3072, bias=True)\n",
              "          )\n",
              "          (output): BertOutput(\n",
              "            (dense): Linear(in_features=3072, out_features=768, bias=True)\n",
              "            (LayerNorm): LayerNorm((768,), eps=1e-12, elementwise_affine=True)\n",
              "            (dropout): Dropout(p=0.1, inplace=False)\n",
              "          )\n",
              "        )\n",
              "        (5): BertLayer(\n",
              "          (attention): BertAttention(\n",
              "            (self): BertSelfAttention(\n",
              "              (query): Linear(in_features=768, out_features=768, bias=True)\n",
              "              (key): Linear(in_features=768, out_features=768, bias=True)\n",
              "              (value): Linear(in_features=768, out_features=768, bias=True)\n",
              "              (dropout): Dropout(p=0.1, inplace=False)\n",
              "            )\n",
              "            (output): BertSelfOutput(\n",
              "              (dense): Linear(in_features=768, out_features=768, bias=True)\n",
              "              (LayerNorm): LayerNorm((768,), eps=1e-12, elementwise_affine=True)\n",
              "              (dropout): Dropout(p=0.1, inplace=False)\n",
              "            )\n",
              "          )\n",
              "          (intermediate): BertIntermediate(\n",
              "            (dense): Linear(in_features=768, out_features=3072, bias=True)\n",
              "          )\n",
              "          (output): BertOutput(\n",
              "            (dense): Linear(in_features=3072, out_features=768, bias=True)\n",
              "            (LayerNorm): LayerNorm((768,), eps=1e-12, elementwise_affine=True)\n",
              "            (dropout): Dropout(p=0.1, inplace=False)\n",
              "          )\n",
              "        )\n",
              "        (6): BertLayer(\n",
              "          (attention): BertAttention(\n",
              "            (self): BertSelfAttention(\n",
              "              (query): Linear(in_features=768, out_features=768, bias=True)\n",
              "              (key): Linear(in_features=768, out_features=768, bias=True)\n",
              "              (value): Linear(in_features=768, out_features=768, bias=True)\n",
              "              (dropout): Dropout(p=0.1, inplace=False)\n",
              "            )\n",
              "            (output): BertSelfOutput(\n",
              "              (dense): Linear(in_features=768, out_features=768, bias=True)\n",
              "              (LayerNorm): LayerNorm((768,), eps=1e-12, elementwise_affine=True)\n",
              "              (dropout): Dropout(p=0.1, inplace=False)\n",
              "            )\n",
              "          )\n",
              "          (intermediate): BertIntermediate(\n",
              "            (dense): Linear(in_features=768, out_features=3072, bias=True)\n",
              "          )\n",
              "          (output): BertOutput(\n",
              "            (dense): Linear(in_features=3072, out_features=768, bias=True)\n",
              "            (LayerNorm): LayerNorm((768,), eps=1e-12, elementwise_affine=True)\n",
              "            (dropout): Dropout(p=0.1, inplace=False)\n",
              "          )\n",
              "        )\n",
              "        (7): BertLayer(\n",
              "          (attention): BertAttention(\n",
              "            (self): BertSelfAttention(\n",
              "              (query): Linear(in_features=768, out_features=768, bias=True)\n",
              "              (key): Linear(in_features=768, out_features=768, bias=True)\n",
              "              (value): Linear(in_features=768, out_features=768, bias=True)\n",
              "              (dropout): Dropout(p=0.1, inplace=False)\n",
              "            )\n",
              "            (output): BertSelfOutput(\n",
              "              (dense): Linear(in_features=768, out_features=768, bias=True)\n",
              "              (LayerNorm): LayerNorm((768,), eps=1e-12, elementwise_affine=True)\n",
              "              (dropout): Dropout(p=0.1, inplace=False)\n",
              "            )\n",
              "          )\n",
              "          (intermediate): BertIntermediate(\n",
              "            (dense): Linear(in_features=768, out_features=3072, bias=True)\n",
              "          )\n",
              "          (output): BertOutput(\n",
              "            (dense): Linear(in_features=3072, out_features=768, bias=True)\n",
              "            (LayerNorm): LayerNorm((768,), eps=1e-12, elementwise_affine=True)\n",
              "            (dropout): Dropout(p=0.1, inplace=False)\n",
              "          )\n",
              "        )\n",
              "        (8): BertLayer(\n",
              "          (attention): BertAttention(\n",
              "            (self): BertSelfAttention(\n",
              "              (query): Linear(in_features=768, out_features=768, bias=True)\n",
              "              (key): Linear(in_features=768, out_features=768, bias=True)\n",
              "              (value): Linear(in_features=768, out_features=768, bias=True)\n",
              "              (dropout): Dropout(p=0.1, inplace=False)\n",
              "            )\n",
              "            (output): BertSelfOutput(\n",
              "              (dense): Linear(in_features=768, out_features=768, bias=True)\n",
              "              (LayerNorm): LayerNorm((768,), eps=1e-12, elementwise_affine=True)\n",
              "              (dropout): Dropout(p=0.1, inplace=False)\n",
              "            )\n",
              "          )\n",
              "          (intermediate): BertIntermediate(\n",
              "            (dense): Linear(in_features=768, out_features=3072, bias=True)\n",
              "          )\n",
              "          (output): BertOutput(\n",
              "            (dense): Linear(in_features=3072, out_features=768, bias=True)\n",
              "            (LayerNorm): LayerNorm((768,), eps=1e-12, elementwise_affine=True)\n",
              "            (dropout): Dropout(p=0.1, inplace=False)\n",
              "          )\n",
              "        )\n",
              "        (9): BertLayer(\n",
              "          (attention): BertAttention(\n",
              "            (self): BertSelfAttention(\n",
              "              (query): Linear(in_features=768, out_features=768, bias=True)\n",
              "              (key): Linear(in_features=768, out_features=768, bias=True)\n",
              "              (value): Linear(in_features=768, out_features=768, bias=True)\n",
              "              (dropout): Dropout(p=0.1, inplace=False)\n",
              "            )\n",
              "            (output): BertSelfOutput(\n",
              "              (dense): Linear(in_features=768, out_features=768, bias=True)\n",
              "              (LayerNorm): LayerNorm((768,), eps=1e-12, elementwise_affine=True)\n",
              "              (dropout): Dropout(p=0.1, inplace=False)\n",
              "            )\n",
              "          )\n",
              "          (intermediate): BertIntermediate(\n",
              "            (dense): Linear(in_features=768, out_features=3072, bias=True)\n",
              "          )\n",
              "          (output): BertOutput(\n",
              "            (dense): Linear(in_features=3072, out_features=768, bias=True)\n",
              "            (LayerNorm): LayerNorm((768,), eps=1e-12, elementwise_affine=True)\n",
              "            (dropout): Dropout(p=0.1, inplace=False)\n",
              "          )\n",
              "        )\n",
              "        (10): BertLayer(\n",
              "          (attention): BertAttention(\n",
              "            (self): BertSelfAttention(\n",
              "              (query): Linear(in_features=768, out_features=768, bias=True)\n",
              "              (key): Linear(in_features=768, out_features=768, bias=True)\n",
              "              (value): Linear(in_features=768, out_features=768, bias=True)\n",
              "              (dropout): Dropout(p=0.1, inplace=False)\n",
              "            )\n",
              "            (output): BertSelfOutput(\n",
              "              (dense): Linear(in_features=768, out_features=768, bias=True)\n",
              "              (LayerNorm): LayerNorm((768,), eps=1e-12, elementwise_affine=True)\n",
              "              (dropout): Dropout(p=0.1, inplace=False)\n",
              "            )\n",
              "          )\n",
              "          (intermediate): BertIntermediate(\n",
              "            (dense): Linear(in_features=768, out_features=3072, bias=True)\n",
              "          )\n",
              "          (output): BertOutput(\n",
              "            (dense): Linear(in_features=3072, out_features=768, bias=True)\n",
              "            (LayerNorm): LayerNorm((768,), eps=1e-12, elementwise_affine=True)\n",
              "            (dropout): Dropout(p=0.1, inplace=False)\n",
              "          )\n",
              "        )\n",
              "        (11): BertLayer(\n",
              "          (attention): BertAttention(\n",
              "            (self): BertSelfAttention(\n",
              "              (query): Linear(in_features=768, out_features=768, bias=True)\n",
              "              (key): Linear(in_features=768, out_features=768, bias=True)\n",
              "              (value): Linear(in_features=768, out_features=768, bias=True)\n",
              "              (dropout): Dropout(p=0.1, inplace=False)\n",
              "            )\n",
              "            (output): BertSelfOutput(\n",
              "              (dense): Linear(in_features=768, out_features=768, bias=True)\n",
              "              (LayerNorm): LayerNorm((768,), eps=1e-12, elementwise_affine=True)\n",
              "              (dropout): Dropout(p=0.1, inplace=False)\n",
              "            )\n",
              "          )\n",
              "          (intermediate): BertIntermediate(\n",
              "            (dense): Linear(in_features=768, out_features=3072, bias=True)\n",
              "          )\n",
              "          (output): BertOutput(\n",
              "            (dense): Linear(in_features=3072, out_features=768, bias=True)\n",
              "            (LayerNorm): LayerNorm((768,), eps=1e-12, elementwise_affine=True)\n",
              "            (dropout): Dropout(p=0.1, inplace=False)\n",
              "          )\n",
              "        )\n",
              "      )\n",
              "    )\n",
              "    (pooler): BertPooler(\n",
              "      (dense): Linear(in_features=768, out_features=768, bias=True)\n",
              "      (activation): Tanh()\n",
              "    )\n",
              "  )\n",
              "  (dropout): Dropout(p=0.1, inplace=False)\n",
              "  (classifier): Linear(in_features=768, out_features=2, bias=True)\n",
              ")"
            ]
          },
          "metadata": {
            "tags": []
          },
          "execution_count": 33
        }
      ]
    },
    {
      "cell_type": "code",
      "metadata": {
        "colab": {
          "base_uri": "https://localhost:8080/"
        },
        "id": "ZNmDpxLZQtCZ",
        "outputId": "49f0798d-2883-42b1-b209-3fa403c0e026"
      },
      "source": [
        " ## ponemos todos los parametros como lista\n",
        "    \n",
        "params = list(model.named_parameters())\n",
        "print('The BERT model has {:} different named parameters.\\n'.format(len(params)))\n",
        "\n",
        "print('==== Embedding Layer ====\\n')\n",
        "\n",
        "for p in params[0:5]:\n",
        "    print(\"{:<55} {:>12}\".format(p[0], str(tuple(p[1].size()))))\n",
        "\n",
        "print('\\n==== First Transformer ====\\n')\n",
        "\n",
        "for p in params[5:21]:\n",
        "    print(\"{:<55} {:>12}\".format(p[0], str(tuple(p[1].size()))))\n",
        "\n",
        "print('\\n==== Output Layer ====\\n')\n",
        "\n",
        "for p in params[-4:]:\n",
        "    print(\"{:<55} {:>12}\".format(p[0], str(tuple(p[1].size()))))"
      ],
      "execution_count": 34,
      "outputs": [
        {
          "output_type": "stream",
          "text": [
            "The BERT model has 201 different named parameters.\n",
            "\n",
            "==== Embedding Layer ====\n",
            "\n",
            "bert.embeddings.word_embeddings.weight                  (30522, 768)\n",
            "bert.embeddings.position_embeddings.weight                (512, 768)\n",
            "bert.embeddings.token_type_embeddings.weight                (2, 768)\n",
            "bert.embeddings.LayerNorm.weight                              (768,)\n",
            "bert.embeddings.LayerNorm.bias                                (768,)\n",
            "\n",
            "==== First Transformer ====\n",
            "\n",
            "bert.encoder.layer.0.attention.self.query.weight          (768, 768)\n",
            "bert.encoder.layer.0.attention.self.query.bias                (768,)\n",
            "bert.encoder.layer.0.attention.self.key.weight            (768, 768)\n",
            "bert.encoder.layer.0.attention.self.key.bias                  (768,)\n",
            "bert.encoder.layer.0.attention.self.value.weight          (768, 768)\n",
            "bert.encoder.layer.0.attention.self.value.bias                (768,)\n",
            "bert.encoder.layer.0.attention.output.dense.weight        (768, 768)\n",
            "bert.encoder.layer.0.attention.output.dense.bias              (768,)\n",
            "bert.encoder.layer.0.attention.output.LayerNorm.weight        (768,)\n",
            "bert.encoder.layer.0.attention.output.LayerNorm.bias          (768,)\n",
            "bert.encoder.layer.0.intermediate.dense.weight           (3072, 768)\n",
            "bert.encoder.layer.0.intermediate.dense.bias                 (3072,)\n",
            "bert.encoder.layer.0.output.dense.weight                 (768, 3072)\n",
            "bert.encoder.layer.0.output.dense.bias                        (768,)\n",
            "bert.encoder.layer.0.output.LayerNorm.weight                  (768,)\n",
            "bert.encoder.layer.0.output.LayerNorm.bias                    (768,)\n",
            "\n",
            "==== Output Layer ====\n",
            "\n",
            "bert.pooler.dense.weight                                  (768, 768)\n",
            "bert.pooler.dense.bias                                        (768,)\n",
            "classifier.weight                                           (2, 768)\n",
            "classifier.bias                                                 (2,)\n"
          ],
          "name": "stdout"
        }
      ]
    },
    {
      "cell_type": "markdown",
      "metadata": {
        "id": "9bUQRg6mQtCa"
      },
      "source": [
        "## optimizer y leaning rate"
      ]
    },
    {
      "cell_type": "code",
      "metadata": {
        "id": "JiLGD-WLQtCa"
      },
      "source": [
        "optimizer = AdamW(model.parameters(),lr = 2e-5,eps= 1e-8)"
      ],
      "execution_count": 35,
      "outputs": []
    },
    {
      "cell_type": "code",
      "metadata": {
        "colab": {
          "base_uri": "https://localhost:8080/"
        },
        "id": "vkBGhPE0QtCb",
        "outputId": "15236bc2-bccd-493c-fe4f-bd619ec13b5c"
      },
      "source": [
        "from transformers import get_linear_schedule_with_warmup\n",
        "\n",
        "## de la documentacion :\n",
        "\n",
        "#Create a schedule with a constant learning rate \n",
        "#preceded by a warmup period during which the learning rate \n",
        "#increases linearly between 0 and the initial lr set \n",
        "#in the optimizer.\n",
        "\n",
        "epochs= 4\n",
        "total_steps= len(train_dataloader) * epochs\n",
        "scheduler = get_linear_schedule_with_warmup(optimizer,num_warmup_steps = 0, num_training_steps = total_steps)\n",
        "scheduler"
      ],
      "execution_count": 36,
      "outputs": [
        {
          "output_type": "execute_result",
          "data": {
            "text/plain": [
              "<torch.optim.lr_scheduler.LambdaLR at 0x7f75db95ecc0>"
            ]
          },
          "metadata": {
            "tags": []
          },
          "execution_count": 36
        }
      ]
    },
    {
      "cell_type": "markdown",
      "metadata": {
        "id": "jsZeU6SrQtCb"
      },
      "source": [
        "## training loop"
      ]
    },
    {
      "cell_type": "code",
      "metadata": {
        "id": "2AoHKrQpQtCc"
      },
      "source": [
        "import numpy as np\n",
        "\n",
        "# Funcion para calcular la accuracy (pred-labels)\n",
        "def flat_accuracy(preds, labels):\n",
        "    pred_flat = np.argmax(preds, axis=1).flatten()\n",
        "    labels_flat = labels.flatten()\n",
        "    return np.sum(pred_flat == labels_flat) / len(labels_flat)"
      ],
      "execution_count": 37,
      "outputs": []
    },
    {
      "cell_type": "code",
      "metadata": {
        "id": "Qbs7tjCiQtCc"
      },
      "source": [
        "## para medir los tiempos\n",
        "import time\n",
        "import datetime\n",
        "\n",
        "def format_time(elapsed):\n",
        "    '''\n",
        "    Takes a time in seconds and returns a string hh:mm:ss\n",
        "    '''\n",
        "    # Round to the nearest second.\n",
        "    elapsed_rounded = int(round((elapsed)))\n",
        "    \n",
        "    # Format as hh:mm:ss\n",
        "    return str(datetime.timedelta(seconds=elapsed_rounded))\n"
      ],
      "execution_count": 38,
      "outputs": []
    },
    {
      "cell_type": "markdown",
      "metadata": {
        "id": "Yr9kqJJZQtCc"
      },
      "source": [
        "Training"
      ]
    },
    {
      "cell_type": "code",
      "metadata": {
        "colab": {
          "base_uri": "https://localhost:8080/"
        },
        "id": "8pxJWrblQtCc",
        "outputId": "ed83ea6e-d57f-426f-f6d1-035eda0cb144"
      },
      "source": [
        "import random\n",
        "\n",
        "seed_val = 42\n",
        "\n",
        "random.seed(seed_val)\n",
        "np.random.seed(seed_val)\n",
        "torch.manual_seed(seed_val)\n",
        "torch.cuda.manual_seed_all(seed_val)\n",
        "\n",
        "# Guarda las perdidas (Average) después de cada epoch para poder plotear despues\n",
        "loss_values = []\n",
        "\n",
        "# para cada epoch:\n",
        "for epoch_i in range(0, epochs):\n",
        "    \n",
        "    \n",
        "    #Training\n",
        "    \n",
        "    # Perform one full pass over the training set.\n",
        "\n",
        "    print(\"\")\n",
        "    print('======== Epoch {:} / {:} ========'.format(epoch_i + 1, epochs))\n",
        "    print('Training...')\n",
        "\n",
        "    t0 = time.time()\n",
        "    total_loss = 0\n",
        "\n",
        "    model.train()\n",
        "\n",
        "    # For each batch of training data...\n",
        "    for step, batch in enumerate(train_dataloader):\n",
        "\n",
        "        if step % 40 == 0 and not step == 0:\n",
        "            elapsed = format_time(time.time() - t0)\n",
        "            print('  Batch {:>5,}  of  {:>5,}.    Elapsed: {:}.'.format(step, len(train_dataloader), elapsed))\n",
        "\n",
        "        # As we unpack the batch, we'll also copy each tensor to the GPU using the \n",
        "        # `to` method.\n",
        "        # `batch` contains three pytorch tensors:\n",
        "        #   [0]: input ids \n",
        "        #   [1]: attention masks\n",
        "        #   [2]: labels \n",
        "        b_input_ids = batch[0].to(device)\n",
        "        b_input_mask = batch[1].to(device)\n",
        "        b_labels = batch[2].to(device)\n",
        "\n",
        "        # Always clear any previously calculated gradients before performing a backward pass.\n",
        "        model.zero_grad()        \n",
        "\n",
        "    \n",
        "        outputs = model(b_input_ids, \n",
        "                    token_type_ids=None, \n",
        "                    attention_mask=b_input_mask, \n",
        "                    labels=b_labels)\n",
        "        \n",
        "        loss = outputs[0]\n",
        "        total_loss += loss.item()\n",
        "\n",
        "        # Perform a backward pass to calculate the gradients.\n",
        "        loss.backward()\n",
        "\n",
        "        # Clip the norm of the gradients to 1.0.\n",
        "        # This is to help prevent the \"exploding gradients\" problem.\n",
        "        torch.nn.utils.clip_grad_norm_(model.parameters(), 1.0)\n",
        "\n",
        "        optimizer.step()\n",
        "\n",
        "        # Update the learning rate.\n",
        "        scheduler.step()\n",
        "\n",
        "    # Calculate the average loss over the training data.\n",
        "    avg_train_loss = total_loss / len(train_dataloader)            \n",
        "    \n",
        "    # Store the loss value for plotting the learning curve.\n",
        "    loss_values.append(avg_train_loss)\n",
        "\n",
        "    print(\"\")\n",
        "    print(\"  Average training loss: {0:.2f}\".format(avg_train_loss))\n",
        "    print(\"  Training epcoh took: {:}\".format(format_time(time.time() - t0)))\n",
        "  \n",
        "\n",
        "\n",
        "    ## Validation\n",
        "   \n",
        "    # After the completion of each training epoch, measure our performance on\n",
        "    # our validation set.\n",
        "\n",
        "    print(\"\")\n",
        "    print(\"Running Validation...\")\n",
        "\n",
        "    t0 = time.time()\n",
        "\n",
        "    # Put the model in evaluation mode--the dropout layers behave differently\n",
        "    # during evaluation.\n",
        "    model.eval()\n",
        "\n",
        "    # Tracking variables \n",
        "    eval_loss, eval_accuracy = 0, 0\n",
        "    nb_eval_steps, nb_eval_examples = 0, 0\n",
        "\n",
        "    # Evaluate data for one epoch\n",
        "    for batch in test_dataloader:\n",
        "        \n",
        "        # Add batch to GPU\n",
        "        batch = tuple(t.to(device) for t in batch)\n",
        "        \n",
        "        # Unpack the inputs from our dataloader\n",
        "        b_input_ids, b_input_mask, b_labels = batch\n",
        "        \n",
        "        with torch.no_grad():        \n",
        "\n",
        "            outputs = model(b_input_ids, \n",
        "                            token_type_ids=None, \n",
        "                            attention_mask=b_input_mask)\n",
        "        \n",
        "        logits = outputs[0]\n",
        "\n",
        "        # Move logits and labels to CPU\n",
        "        logits = logits.detach().cpu().numpy()\n",
        "        label_ids = b_labels.to('cpu').numpy()\n",
        "        \n",
        "        # Calculate the accuracy for this batch of test sentences.\n",
        "        tmp_eval_accuracy = flat_accuracy(logits, label_ids)\n",
        "        \n",
        "        # Accumulate the total accuracy.\n",
        "        eval_accuracy += tmp_eval_accuracy\n",
        "\n",
        "        # Track the number of batches\n",
        "        nb_eval_steps += 1\n",
        "\n",
        "    # Report the final accuracy for this validation run.\n",
        "    print(\"  Accuracy: {0:.2f}\".format(eval_accuracy/nb_eval_steps))\n",
        "    print(\"  Validation took: {:}\".format(format_time(time.time() - t0)))\n",
        "\n",
        "print(\"\")\n",
        "print(\"Training complete!\")\n",
        "\n",
        "   "
      ],
      "execution_count": 39,
      "outputs": [
        {
          "output_type": "stream",
          "text": [
            "\n",
            "======== Epoch 1 / 4 ========\n",
            "Training...\n",
            "  Batch    40  of  4,516.    Elapsed: 0:00:31.\n",
            "  Batch    80  of  4,516.    Elapsed: 0:01:02.\n",
            "  Batch   120  of  4,516.    Elapsed: 0:01:33.\n",
            "  Batch   160  of  4,516.    Elapsed: 0:02:03.\n",
            "  Batch   200  of  4,516.    Elapsed: 0:02:34.\n",
            "  Batch   240  of  4,516.    Elapsed: 0:03:05.\n",
            "  Batch   280  of  4,516.    Elapsed: 0:03:36.\n",
            "  Batch   320  of  4,516.    Elapsed: 0:04:06.\n",
            "  Batch   360  of  4,516.    Elapsed: 0:04:37.\n",
            "  Batch   400  of  4,516.    Elapsed: 0:05:08.\n",
            "  Batch   440  of  4,516.    Elapsed: 0:05:39.\n",
            "  Batch   480  of  4,516.    Elapsed: 0:06:09.\n",
            "  Batch   520  of  4,516.    Elapsed: 0:06:40.\n",
            "  Batch   560  of  4,516.    Elapsed: 0:07:11.\n",
            "  Batch   600  of  4,516.    Elapsed: 0:07:42.\n",
            "  Batch   640  of  4,516.    Elapsed: 0:08:12.\n",
            "  Batch   680  of  4,516.    Elapsed: 0:08:43.\n",
            "  Batch   720  of  4,516.    Elapsed: 0:09:14.\n",
            "  Batch   760  of  4,516.    Elapsed: 0:09:45.\n",
            "  Batch   800  of  4,516.    Elapsed: 0:10:16.\n",
            "  Batch   840  of  4,516.    Elapsed: 0:10:46.\n",
            "  Batch   880  of  4,516.    Elapsed: 0:11:17.\n",
            "  Batch   920  of  4,516.    Elapsed: 0:11:48.\n",
            "  Batch   960  of  4,516.    Elapsed: 0:12:19.\n",
            "  Batch 1,000  of  4,516.    Elapsed: 0:12:49.\n",
            "  Batch 1,040  of  4,516.    Elapsed: 0:13:20.\n",
            "  Batch 1,080  of  4,516.    Elapsed: 0:13:51.\n",
            "  Batch 1,120  of  4,516.    Elapsed: 0:14:22.\n",
            "  Batch 1,160  of  4,516.    Elapsed: 0:14:52.\n",
            "  Batch 1,200  of  4,516.    Elapsed: 0:15:23.\n",
            "  Batch 1,240  of  4,516.    Elapsed: 0:15:54.\n",
            "  Batch 1,280  of  4,516.    Elapsed: 0:16:25.\n",
            "  Batch 1,320  of  4,516.    Elapsed: 0:16:56.\n",
            "  Batch 1,360  of  4,516.    Elapsed: 0:17:26.\n",
            "  Batch 1,400  of  4,516.    Elapsed: 0:17:57.\n",
            "  Batch 1,440  of  4,516.    Elapsed: 0:18:28.\n",
            "  Batch 1,480  of  4,516.    Elapsed: 0:18:59.\n",
            "  Batch 1,520  of  4,516.    Elapsed: 0:19:30.\n",
            "  Batch 1,560  of  4,516.    Elapsed: 0:20:00.\n",
            "  Batch 1,600  of  4,516.    Elapsed: 0:20:31.\n",
            "  Batch 1,640  of  4,516.    Elapsed: 0:21:02.\n",
            "  Batch 1,680  of  4,516.    Elapsed: 0:21:33.\n",
            "  Batch 1,720  of  4,516.    Elapsed: 0:22:04.\n",
            "  Batch 1,760  of  4,516.    Elapsed: 0:22:34.\n",
            "  Batch 1,800  of  4,516.    Elapsed: 0:23:05.\n",
            "  Batch 1,840  of  4,516.    Elapsed: 0:23:36.\n",
            "  Batch 1,880  of  4,516.    Elapsed: 0:24:07.\n",
            "  Batch 1,920  of  4,516.    Elapsed: 0:24:38.\n",
            "  Batch 1,960  of  4,516.    Elapsed: 0:25:08.\n",
            "  Batch 2,000  of  4,516.    Elapsed: 0:25:39.\n",
            "  Batch 2,040  of  4,516.    Elapsed: 0:26:10.\n",
            "  Batch 2,080  of  4,516.    Elapsed: 0:26:41.\n",
            "  Batch 2,120  of  4,516.    Elapsed: 0:27:12.\n",
            "  Batch 2,160  of  4,516.    Elapsed: 0:27:42.\n",
            "  Batch 2,200  of  4,516.    Elapsed: 0:28:13.\n",
            "  Batch 2,240  of  4,516.    Elapsed: 0:28:44.\n",
            "  Batch 2,280  of  4,516.    Elapsed: 0:29:15.\n",
            "  Batch 2,320  of  4,516.    Elapsed: 0:29:46.\n",
            "  Batch 2,360  of  4,516.    Elapsed: 0:30:16.\n",
            "  Batch 2,400  of  4,516.    Elapsed: 0:30:47.\n",
            "  Batch 2,440  of  4,516.    Elapsed: 0:31:18.\n",
            "  Batch 2,480  of  4,516.    Elapsed: 0:31:49.\n",
            "  Batch 2,520  of  4,516.    Elapsed: 0:32:20.\n",
            "  Batch 2,560  of  4,516.    Elapsed: 0:32:51.\n",
            "  Batch 2,600  of  4,516.    Elapsed: 0:33:21.\n",
            "  Batch 2,640  of  4,516.    Elapsed: 0:33:52.\n",
            "  Batch 2,680  of  4,516.    Elapsed: 0:34:23.\n",
            "  Batch 2,720  of  4,516.    Elapsed: 0:34:54.\n",
            "  Batch 2,760  of  4,516.    Elapsed: 0:35:25.\n",
            "  Batch 2,800  of  4,516.    Elapsed: 0:35:55.\n",
            "  Batch 2,840  of  4,516.    Elapsed: 0:36:26.\n",
            "  Batch 2,880  of  4,516.    Elapsed: 0:36:57.\n",
            "  Batch 2,920  of  4,516.    Elapsed: 0:37:28.\n",
            "  Batch 2,960  of  4,516.    Elapsed: 0:37:59.\n",
            "  Batch 3,000  of  4,516.    Elapsed: 0:38:29.\n",
            "  Batch 3,040  of  4,516.    Elapsed: 0:39:00.\n",
            "  Batch 3,080  of  4,516.    Elapsed: 0:39:31.\n",
            "  Batch 3,120  of  4,516.    Elapsed: 0:40:02.\n",
            "  Batch 3,160  of  4,516.    Elapsed: 0:40:33.\n",
            "  Batch 3,200  of  4,516.    Elapsed: 0:41:03.\n",
            "  Batch 3,240  of  4,516.    Elapsed: 0:41:34.\n",
            "  Batch 3,280  of  4,516.    Elapsed: 0:42:05.\n",
            "  Batch 3,320  of  4,516.    Elapsed: 0:42:36.\n",
            "  Batch 3,360  of  4,516.    Elapsed: 0:43:07.\n",
            "  Batch 3,400  of  4,516.    Elapsed: 0:43:38.\n",
            "  Batch 3,440  of  4,516.    Elapsed: 0:44:08.\n",
            "  Batch 3,480  of  4,516.    Elapsed: 0:44:39.\n",
            "  Batch 3,520  of  4,516.    Elapsed: 0:45:10.\n",
            "  Batch 3,560  of  4,516.    Elapsed: 0:45:41.\n",
            "  Batch 3,600  of  4,516.    Elapsed: 0:46:11.\n",
            "  Batch 3,640  of  4,516.    Elapsed: 0:46:42.\n",
            "  Batch 3,680  of  4,516.    Elapsed: 0:47:13.\n",
            "  Batch 3,720  of  4,516.    Elapsed: 0:47:44.\n",
            "  Batch 3,760  of  4,516.    Elapsed: 0:48:15.\n",
            "  Batch 3,800  of  4,516.    Elapsed: 0:48:45.\n",
            "  Batch 3,840  of  4,516.    Elapsed: 0:49:16.\n",
            "  Batch 3,880  of  4,516.    Elapsed: 0:49:47.\n",
            "  Batch 3,920  of  4,516.    Elapsed: 0:50:18.\n",
            "  Batch 3,960  of  4,516.    Elapsed: 0:50:49.\n",
            "  Batch 4,000  of  4,516.    Elapsed: 0:51:20.\n",
            "  Batch 4,040  of  4,516.    Elapsed: 0:51:50.\n",
            "  Batch 4,080  of  4,516.    Elapsed: 0:52:21.\n",
            "  Batch 4,120  of  4,516.    Elapsed: 0:52:52.\n",
            "  Batch 4,160  of  4,516.    Elapsed: 0:53:23.\n",
            "  Batch 4,200  of  4,516.    Elapsed: 0:53:54.\n",
            "  Batch 4,240  of  4,516.    Elapsed: 0:54:24.\n",
            "  Batch 4,280  of  4,516.    Elapsed: 0:54:55.\n",
            "  Batch 4,320  of  4,516.    Elapsed: 0:55:26.\n",
            "  Batch 4,360  of  4,516.    Elapsed: 0:55:57.\n",
            "  Batch 4,400  of  4,516.    Elapsed: 0:56:28.\n",
            "  Batch 4,440  of  4,516.    Elapsed: 0:56:59.\n",
            "  Batch 4,480  of  4,516.    Elapsed: 0:57:29.\n",
            "\n",
            "  Average training loss: 0.27\n",
            "  Training epcoh took: 0:57:57\n",
            "\n",
            "Running Validation...\n",
            "  Accuracy: 0.90\n",
            "  Validation took: 0:03:57\n",
            "\n",
            "======== Epoch 2 / 4 ========\n",
            "Training...\n",
            "  Batch    40  of  4,516.    Elapsed: 0:00:31.\n",
            "  Batch    80  of  4,516.    Elapsed: 0:01:02.\n",
            "  Batch   120  of  4,516.    Elapsed: 0:01:33.\n",
            "  Batch   160  of  4,516.    Elapsed: 0:02:03.\n",
            "  Batch   200  of  4,516.    Elapsed: 0:02:34.\n",
            "  Batch   240  of  4,516.    Elapsed: 0:03:05.\n",
            "  Batch   280  of  4,516.    Elapsed: 0:03:36.\n",
            "  Batch   320  of  4,516.    Elapsed: 0:04:07.\n",
            "  Batch   360  of  4,516.    Elapsed: 0:04:37.\n",
            "  Batch   400  of  4,516.    Elapsed: 0:05:08.\n",
            "  Batch   440  of  4,516.    Elapsed: 0:05:39.\n",
            "  Batch   480  of  4,516.    Elapsed: 0:06:10.\n",
            "  Batch   520  of  4,516.    Elapsed: 0:06:41.\n",
            "  Batch   560  of  4,516.    Elapsed: 0:07:12.\n",
            "  Batch   600  of  4,516.    Elapsed: 0:07:42.\n",
            "  Batch   640  of  4,516.    Elapsed: 0:08:13.\n",
            "  Batch   680  of  4,516.    Elapsed: 0:08:44.\n",
            "  Batch   720  of  4,516.    Elapsed: 0:09:15.\n",
            "  Batch   760  of  4,516.    Elapsed: 0:09:46.\n",
            "  Batch   800  of  4,516.    Elapsed: 0:10:17.\n",
            "  Batch   840  of  4,516.    Elapsed: 0:10:47.\n",
            "  Batch   880  of  4,516.    Elapsed: 0:11:18.\n",
            "  Batch   920  of  4,516.    Elapsed: 0:11:49.\n",
            "  Batch   960  of  4,516.    Elapsed: 0:12:20.\n",
            "  Batch 1,000  of  4,516.    Elapsed: 0:12:51.\n",
            "  Batch 1,040  of  4,516.    Elapsed: 0:13:21.\n",
            "  Batch 1,080  of  4,516.    Elapsed: 0:13:52.\n",
            "  Batch 1,120  of  4,516.    Elapsed: 0:14:23.\n",
            "  Batch 1,160  of  4,516.    Elapsed: 0:14:54.\n",
            "  Batch 1,200  of  4,516.    Elapsed: 0:15:25.\n",
            "  Batch 1,240  of  4,516.    Elapsed: 0:15:56.\n",
            "  Batch 1,280  of  4,516.    Elapsed: 0:16:26.\n",
            "  Batch 1,320  of  4,516.    Elapsed: 0:16:57.\n",
            "  Batch 1,360  of  4,516.    Elapsed: 0:17:28.\n",
            "  Batch 1,400  of  4,516.    Elapsed: 0:17:59.\n",
            "  Batch 1,440  of  4,516.    Elapsed: 0:18:30.\n",
            "  Batch 1,480  of  4,516.    Elapsed: 0:19:00.\n",
            "  Batch 1,520  of  4,516.    Elapsed: 0:19:31.\n",
            "  Batch 1,560  of  4,516.    Elapsed: 0:20:02.\n",
            "  Batch 1,600  of  4,516.    Elapsed: 0:20:33.\n",
            "  Batch 1,640  of  4,516.    Elapsed: 0:21:04.\n",
            "  Batch 1,680  of  4,516.    Elapsed: 0:21:34.\n",
            "  Batch 1,720  of  4,516.    Elapsed: 0:22:05.\n",
            "  Batch 1,760  of  4,516.    Elapsed: 0:22:36.\n",
            "  Batch 1,800  of  4,516.    Elapsed: 0:23:07.\n",
            "  Batch 1,840  of  4,516.    Elapsed: 0:23:38.\n",
            "  Batch 1,880  of  4,516.    Elapsed: 0:24:09.\n",
            "  Batch 1,920  of  4,516.    Elapsed: 0:24:39.\n",
            "  Batch 1,960  of  4,516.    Elapsed: 0:25:10.\n",
            "  Batch 2,000  of  4,516.    Elapsed: 0:25:41.\n",
            "  Batch 2,040  of  4,516.    Elapsed: 0:26:12.\n",
            "  Batch 2,080  of  4,516.    Elapsed: 0:26:43.\n",
            "  Batch 2,120  of  4,516.    Elapsed: 0:27:14.\n",
            "  Batch 2,160  of  4,516.    Elapsed: 0:27:44.\n",
            "  Batch 2,200  of  4,516.    Elapsed: 0:28:15.\n",
            "  Batch 2,240  of  4,516.    Elapsed: 0:28:46.\n",
            "  Batch 2,280  of  4,516.    Elapsed: 0:29:17.\n",
            "  Batch 2,320  of  4,516.    Elapsed: 0:29:48.\n",
            "  Batch 2,360  of  4,516.    Elapsed: 0:30:19.\n",
            "  Batch 2,400  of  4,516.    Elapsed: 0:30:49.\n",
            "  Batch 2,440  of  4,516.    Elapsed: 0:31:20.\n",
            "  Batch 2,480  of  4,516.    Elapsed: 0:31:51.\n",
            "  Batch 2,520  of  4,516.    Elapsed: 0:32:22.\n",
            "  Batch 2,560  of  4,516.    Elapsed: 0:32:53.\n",
            "  Batch 2,600  of  4,516.    Elapsed: 0:33:24.\n",
            "  Batch 2,640  of  4,516.    Elapsed: 0:33:54.\n",
            "  Batch 2,680  of  4,516.    Elapsed: 0:34:25.\n",
            "  Batch 2,720  of  4,516.    Elapsed: 0:34:56.\n",
            "  Batch 2,760  of  4,516.    Elapsed: 0:35:27.\n",
            "  Batch 2,800  of  4,516.    Elapsed: 0:35:58.\n",
            "  Batch 2,840  of  4,516.    Elapsed: 0:36:28.\n",
            "  Batch 2,880  of  4,516.    Elapsed: 0:36:59.\n",
            "  Batch 2,920  of  4,516.    Elapsed: 0:37:30.\n",
            "  Batch 2,960  of  4,516.    Elapsed: 0:38:01.\n",
            "  Batch 3,000  of  4,516.    Elapsed: 0:38:32.\n",
            "  Batch 3,040  of  4,516.    Elapsed: 0:39:03.\n",
            "  Batch 3,080  of  4,516.    Elapsed: 0:39:33.\n",
            "  Batch 3,120  of  4,516.    Elapsed: 0:40:04.\n",
            "  Batch 3,160  of  4,516.    Elapsed: 0:40:35.\n",
            "  Batch 3,200  of  4,516.    Elapsed: 0:41:06.\n",
            "  Batch 3,240  of  4,516.    Elapsed: 0:41:37.\n",
            "  Batch 3,280  of  4,516.    Elapsed: 0:42:08.\n",
            "  Batch 3,320  of  4,516.    Elapsed: 0:42:38.\n",
            "  Batch 3,360  of  4,516.    Elapsed: 0:43:09.\n",
            "  Batch 3,400  of  4,516.    Elapsed: 0:43:40.\n",
            "  Batch 3,440  of  4,516.    Elapsed: 0:44:11.\n",
            "  Batch 3,480  of  4,516.    Elapsed: 0:44:42.\n",
            "  Batch 3,520  of  4,516.    Elapsed: 0:45:13.\n",
            "  Batch 3,560  of  4,516.    Elapsed: 0:45:43.\n",
            "  Batch 3,600  of  4,516.    Elapsed: 0:46:14.\n",
            "  Batch 3,640  of  4,516.    Elapsed: 0:46:45.\n",
            "  Batch 3,680  of  4,516.    Elapsed: 0:47:16.\n",
            "  Batch 3,720  of  4,516.    Elapsed: 0:47:47.\n",
            "  Batch 3,760  of  4,516.    Elapsed: 0:48:18.\n",
            "  Batch 3,800  of  4,516.    Elapsed: 0:48:48.\n",
            "  Batch 3,840  of  4,516.    Elapsed: 0:49:19.\n",
            "  Batch 3,880  of  4,516.    Elapsed: 0:49:50.\n",
            "  Batch 3,920  of  4,516.    Elapsed: 0:50:21.\n",
            "  Batch 3,960  of  4,516.    Elapsed: 0:50:52.\n",
            "  Batch 4,000  of  4,516.    Elapsed: 0:51:22.\n",
            "  Batch 4,040  of  4,516.    Elapsed: 0:51:53.\n",
            "  Batch 4,080  of  4,516.    Elapsed: 0:52:24.\n",
            "  Batch 4,120  of  4,516.    Elapsed: 0:52:55.\n",
            "  Batch 4,160  of  4,516.    Elapsed: 0:53:26.\n",
            "  Batch 4,200  of  4,516.    Elapsed: 0:53:56.\n",
            "  Batch 4,240  of  4,516.    Elapsed: 0:54:27.\n",
            "  Batch 4,280  of  4,516.    Elapsed: 0:54:58.\n",
            "  Batch 4,320  of  4,516.    Elapsed: 0:55:29.\n",
            "  Batch 4,360  of  4,516.    Elapsed: 0:56:00.\n",
            "  Batch 4,400  of  4,516.    Elapsed: 0:56:31.\n",
            "  Batch 4,440  of  4,516.    Elapsed: 0:57:01.\n",
            "  Batch 4,480  of  4,516.    Elapsed: 0:57:32.\n",
            "\n",
            "  Average training loss: 0.20\n",
            "  Training epcoh took: 0:58:00\n",
            "\n",
            "Running Validation...\n",
            "  Accuracy: 0.90\n",
            "  Validation took: 0:03:57\n",
            "\n",
            "======== Epoch 3 / 4 ========\n",
            "Training...\n",
            "  Batch    40  of  4,516.    Elapsed: 0:00:31.\n",
            "  Batch    80  of  4,516.    Elapsed: 0:01:02.\n",
            "  Batch   120  of  4,516.    Elapsed: 0:01:32.\n",
            "  Batch   160  of  4,516.    Elapsed: 0:02:03.\n",
            "  Batch   200  of  4,516.    Elapsed: 0:02:34.\n",
            "  Batch   240  of  4,516.    Elapsed: 0:03:05.\n",
            "  Batch   280  of  4,516.    Elapsed: 0:03:36.\n",
            "  Batch   320  of  4,516.    Elapsed: 0:04:06.\n",
            "  Batch   360  of  4,516.    Elapsed: 0:04:37.\n",
            "  Batch   400  of  4,516.    Elapsed: 0:05:08.\n",
            "  Batch   440  of  4,516.    Elapsed: 0:05:39.\n",
            "  Batch   480  of  4,516.    Elapsed: 0:06:10.\n",
            "  Batch   520  of  4,516.    Elapsed: 0:06:40.\n",
            "  Batch   560  of  4,516.    Elapsed: 0:07:11.\n",
            "  Batch   600  of  4,516.    Elapsed: 0:07:42.\n",
            "  Batch   640  of  4,516.    Elapsed: 0:08:13.\n",
            "  Batch   680  of  4,516.    Elapsed: 0:08:44.\n",
            "  Batch   720  of  4,516.    Elapsed: 0:09:15.\n",
            "  Batch   760  of  4,516.    Elapsed: 0:09:45.\n",
            "  Batch   800  of  4,516.    Elapsed: 0:10:16.\n",
            "  Batch   840  of  4,516.    Elapsed: 0:10:47.\n",
            "  Batch   880  of  4,516.    Elapsed: 0:11:18.\n",
            "  Batch   920  of  4,516.    Elapsed: 0:11:49.\n",
            "  Batch   960  of  4,516.    Elapsed: 0:12:19.\n",
            "  Batch 1,000  of  4,516.    Elapsed: 0:12:50.\n",
            "  Batch 1,040  of  4,516.    Elapsed: 0:13:21.\n",
            "  Batch 1,080  of  4,516.    Elapsed: 0:13:52.\n",
            "  Batch 1,120  of  4,516.    Elapsed: 0:14:22.\n",
            "  Batch 1,160  of  4,516.    Elapsed: 0:14:53.\n",
            "  Batch 1,200  of  4,516.    Elapsed: 0:15:24.\n",
            "  Batch 1,240  of  4,516.    Elapsed: 0:15:55.\n",
            "  Batch 1,280  of  4,516.    Elapsed: 0:16:26.\n",
            "  Batch 1,320  of  4,516.    Elapsed: 0:16:57.\n",
            "  Batch 1,360  of  4,516.    Elapsed: 0:17:27.\n",
            "  Batch 1,400  of  4,516.    Elapsed: 0:17:58.\n",
            "  Batch 1,440  of  4,516.    Elapsed: 0:18:29.\n",
            "  Batch 1,480  of  4,516.    Elapsed: 0:19:00.\n",
            "  Batch 1,520  of  4,516.    Elapsed: 0:19:31.\n",
            "  Batch 1,560  of  4,516.    Elapsed: 0:20:01.\n",
            "  Batch 1,600  of  4,516.    Elapsed: 0:20:32.\n",
            "  Batch 1,640  of  4,516.    Elapsed: 0:21:03.\n",
            "  Batch 1,680  of  4,516.    Elapsed: 0:21:34.\n",
            "  Batch 1,720  of  4,516.    Elapsed: 0:22:05.\n",
            "  Batch 1,760  of  4,516.    Elapsed: 0:22:35.\n",
            "  Batch 1,800  of  4,516.    Elapsed: 0:23:06.\n",
            "  Batch 1,840  of  4,516.    Elapsed: 0:23:37.\n",
            "  Batch 1,880  of  4,516.    Elapsed: 0:24:08.\n",
            "  Batch 1,920  of  4,516.    Elapsed: 0:24:39.\n",
            "  Batch 1,960  of  4,516.    Elapsed: 0:25:09.\n",
            "  Batch 2,000  of  4,516.    Elapsed: 0:25:40.\n",
            "  Batch 2,040  of  4,516.    Elapsed: 0:26:11.\n",
            "  Batch 2,080  of  4,516.    Elapsed: 0:26:42.\n",
            "  Batch 2,120  of  4,516.    Elapsed: 0:27:13.\n",
            "  Batch 2,160  of  4,516.    Elapsed: 0:27:43.\n",
            "  Batch 2,200  of  4,516.    Elapsed: 0:28:14.\n",
            "  Batch 2,240  of  4,516.    Elapsed: 0:28:45.\n",
            "  Batch 2,280  of  4,516.    Elapsed: 0:29:16.\n",
            "  Batch 2,320  of  4,516.    Elapsed: 0:29:47.\n",
            "  Batch 2,360  of  4,516.    Elapsed: 0:30:18.\n",
            "  Batch 2,400  of  4,516.    Elapsed: 0:30:48.\n",
            "  Batch 2,440  of  4,516.    Elapsed: 0:31:19.\n",
            "  Batch 2,480  of  4,516.    Elapsed: 0:31:50.\n",
            "  Batch 2,520  of  4,516.    Elapsed: 0:32:21.\n",
            "  Batch 2,560  of  4,516.    Elapsed: 0:32:51.\n",
            "  Batch 2,600  of  4,516.    Elapsed: 0:33:22.\n",
            "  Batch 2,640  of  4,516.    Elapsed: 0:33:53.\n",
            "  Batch 2,680  of  4,516.    Elapsed: 0:34:24.\n",
            "  Batch 2,720  of  4,516.    Elapsed: 0:34:55.\n",
            "  Batch 2,760  of  4,516.    Elapsed: 0:35:25.\n",
            "  Batch 2,800  of  4,516.    Elapsed: 0:35:56.\n",
            "  Batch 2,840  of  4,516.    Elapsed: 0:36:27.\n",
            "  Batch 2,880  of  4,516.    Elapsed: 0:36:58.\n",
            "  Batch 2,920  of  4,516.    Elapsed: 0:37:29.\n",
            "  Batch 2,960  of  4,516.    Elapsed: 0:37:59.\n",
            "  Batch 3,000  of  4,516.    Elapsed: 0:38:30.\n",
            "  Batch 3,040  of  4,516.    Elapsed: 0:39:01.\n",
            "  Batch 3,080  of  4,516.    Elapsed: 0:39:32.\n",
            "  Batch 3,120  of  4,516.    Elapsed: 0:40:03.\n",
            "  Batch 3,160  of  4,516.    Elapsed: 0:40:33.\n",
            "  Batch 3,200  of  4,516.    Elapsed: 0:41:04.\n",
            "  Batch 3,240  of  4,516.    Elapsed: 0:41:35.\n",
            "  Batch 3,280  of  4,516.    Elapsed: 0:42:06.\n",
            "  Batch 3,320  of  4,516.    Elapsed: 0:42:37.\n",
            "  Batch 3,360  of  4,516.    Elapsed: 0:43:07.\n",
            "  Batch 3,400  of  4,516.    Elapsed: 0:43:38.\n",
            "  Batch 3,440  of  4,516.    Elapsed: 0:44:09.\n",
            "  Batch 3,480  of  4,516.    Elapsed: 0:44:40.\n",
            "  Batch 3,520  of  4,516.    Elapsed: 0:45:11.\n",
            "  Batch 3,560  of  4,516.    Elapsed: 0:45:42.\n",
            "  Batch 3,600  of  4,516.    Elapsed: 0:46:12.\n",
            "  Batch 3,640  of  4,516.    Elapsed: 0:46:43.\n",
            "  Batch 3,680  of  4,516.    Elapsed: 0:47:14.\n",
            "  Batch 3,720  of  4,516.    Elapsed: 0:47:45.\n",
            "  Batch 3,760  of  4,516.    Elapsed: 0:48:16.\n",
            "  Batch 3,800  of  4,516.    Elapsed: 0:48:47.\n",
            "  Batch 3,840  of  4,516.    Elapsed: 0:49:17.\n",
            "  Batch 3,880  of  4,516.    Elapsed: 0:49:48.\n",
            "  Batch 3,920  of  4,516.    Elapsed: 0:50:19.\n",
            "  Batch 3,960  of  4,516.    Elapsed: 0:50:50.\n",
            "  Batch 4,000  of  4,516.    Elapsed: 0:51:21.\n",
            "  Batch 4,040  of  4,516.    Elapsed: 0:51:51.\n",
            "  Batch 4,080  of  4,516.    Elapsed: 0:52:22.\n",
            "  Batch 4,120  of  4,516.    Elapsed: 0:52:53.\n",
            "  Batch 4,160  of  4,516.    Elapsed: 0:53:24.\n",
            "  Batch 4,200  of  4,516.    Elapsed: 0:53:55.\n",
            "  Batch 4,240  of  4,516.    Elapsed: 0:54:26.\n",
            "  Batch 4,280  of  4,516.    Elapsed: 0:54:56.\n",
            "  Batch 4,320  of  4,516.    Elapsed: 0:55:27.\n",
            "  Batch 4,360  of  4,516.    Elapsed: 0:55:58.\n",
            "  Batch 4,400  of  4,516.    Elapsed: 0:56:29.\n",
            "  Batch 4,440  of  4,516.    Elapsed: 0:57:00.\n",
            "  Batch 4,480  of  4,516.    Elapsed: 0:57:31.\n",
            "\n",
            "  Average training loss: 0.15\n",
            "  Training epcoh took: 0:57:58\n",
            "\n",
            "Running Validation...\n",
            "  Accuracy: 0.90\n",
            "  Validation took: 0:03:57\n",
            "\n",
            "======== Epoch 4 / 4 ========\n",
            "Training...\n",
            "  Batch    40  of  4,516.    Elapsed: 0:00:31.\n",
            "  Batch    80  of  4,516.    Elapsed: 0:01:02.\n",
            "  Batch   120  of  4,516.    Elapsed: 0:01:33.\n",
            "  Batch   160  of  4,516.    Elapsed: 0:02:03.\n",
            "  Batch   200  of  4,516.    Elapsed: 0:02:34.\n",
            "  Batch   240  of  4,516.    Elapsed: 0:03:05.\n",
            "  Batch   280  of  4,516.    Elapsed: 0:03:36.\n",
            "  Batch   320  of  4,516.    Elapsed: 0:04:06.\n",
            "  Batch   360  of  4,516.    Elapsed: 0:04:37.\n",
            "  Batch   400  of  4,516.    Elapsed: 0:05:08.\n",
            "  Batch   440  of  4,516.    Elapsed: 0:05:39.\n",
            "  Batch   480  of  4,516.    Elapsed: 0:06:10.\n",
            "  Batch   520  of  4,516.    Elapsed: 0:06:41.\n",
            "  Batch   560  of  4,516.    Elapsed: 0:07:11.\n",
            "  Batch   600  of  4,516.    Elapsed: 0:07:42.\n",
            "  Batch   640  of  4,516.    Elapsed: 0:08:13.\n",
            "  Batch   680  of  4,516.    Elapsed: 0:08:44.\n",
            "  Batch   720  of  4,516.    Elapsed: 0:09:14.\n",
            "  Batch   760  of  4,516.    Elapsed: 0:09:45.\n",
            "  Batch   800  of  4,516.    Elapsed: 0:10:16.\n",
            "  Batch   840  of  4,516.    Elapsed: 0:10:47.\n",
            "  Batch   880  of  4,516.    Elapsed: 0:11:18.\n",
            "  Batch   920  of  4,516.    Elapsed: 0:11:48.\n",
            "  Batch   960  of  4,516.    Elapsed: 0:12:19.\n",
            "  Batch 1,000  of  4,516.    Elapsed: 0:12:50.\n",
            "  Batch 1,040  of  4,516.    Elapsed: 0:13:21.\n",
            "  Batch 1,080  of  4,516.    Elapsed: 0:13:52.\n",
            "  Batch 1,120  of  4,516.    Elapsed: 0:14:22.\n",
            "  Batch 1,160  of  4,516.    Elapsed: 0:14:53.\n",
            "  Batch 1,200  of  4,516.    Elapsed: 0:15:24.\n",
            "  Batch 1,240  of  4,516.    Elapsed: 0:15:55.\n",
            "  Batch 1,280  of  4,516.    Elapsed: 0:16:26.\n",
            "  Batch 1,320  of  4,516.    Elapsed: 0:16:56.\n",
            "  Batch 1,360  of  4,516.    Elapsed: 0:17:27.\n",
            "  Batch 1,400  of  4,516.    Elapsed: 0:17:58.\n",
            "  Batch 1,440  of  4,516.    Elapsed: 0:18:29.\n",
            "  Batch 1,480  of  4,516.    Elapsed: 0:19:00.\n",
            "  Batch 1,520  of  4,516.    Elapsed: 0:19:30.\n",
            "  Batch 1,560  of  4,516.    Elapsed: 0:20:01.\n",
            "  Batch 1,600  of  4,516.    Elapsed: 0:20:32.\n",
            "  Batch 1,640  of  4,516.    Elapsed: 0:21:03.\n",
            "  Batch 1,680  of  4,516.    Elapsed: 0:21:34.\n",
            "  Batch 1,720  of  4,516.    Elapsed: 0:22:04.\n",
            "  Batch 1,760  of  4,516.    Elapsed: 0:22:35.\n",
            "  Batch 1,800  of  4,516.    Elapsed: 0:23:06.\n",
            "  Batch 1,840  of  4,516.    Elapsed: 0:23:37.\n",
            "  Batch 1,880  of  4,516.    Elapsed: 0:24:07.\n",
            "  Batch 1,920  of  4,516.    Elapsed: 0:24:38.\n",
            "  Batch 1,960  of  4,516.    Elapsed: 0:25:09.\n",
            "  Batch 2,000  of  4,516.    Elapsed: 0:25:40.\n",
            "  Batch 2,040  of  4,516.    Elapsed: 0:26:11.\n",
            "  Batch 2,080  of  4,516.    Elapsed: 0:26:41.\n",
            "  Batch 2,120  of  4,516.    Elapsed: 0:27:12.\n",
            "  Batch 2,160  of  4,516.    Elapsed: 0:27:43.\n",
            "  Batch 2,200  of  4,516.    Elapsed: 0:28:14.\n",
            "  Batch 2,240  of  4,516.    Elapsed: 0:28:45.\n",
            "  Batch 2,280  of  4,516.    Elapsed: 0:29:15.\n",
            "  Batch 2,320  of  4,516.    Elapsed: 0:29:46.\n",
            "  Batch 2,360  of  4,516.    Elapsed: 0:30:17.\n",
            "  Batch 2,400  of  4,516.    Elapsed: 0:30:48.\n",
            "  Batch 2,440  of  4,516.    Elapsed: 0:31:19.\n",
            "  Batch 2,480  of  4,516.    Elapsed: 0:31:49.\n",
            "  Batch 2,520  of  4,516.    Elapsed: 0:32:20.\n",
            "  Batch 2,560  of  4,516.    Elapsed: 0:32:51.\n",
            "  Batch 2,600  of  4,516.    Elapsed: 0:33:22.\n",
            "  Batch 2,640  of  4,516.    Elapsed: 0:33:53.\n",
            "  Batch 2,680  of  4,516.    Elapsed: 0:34:23.\n",
            "  Batch 2,720  of  4,516.    Elapsed: 0:34:54.\n",
            "  Batch 2,760  of  4,516.    Elapsed: 0:35:25.\n",
            "  Batch 2,800  of  4,516.    Elapsed: 0:35:56.\n",
            "  Batch 2,840  of  4,516.    Elapsed: 0:36:27.\n",
            "  Batch 2,880  of  4,516.    Elapsed: 0:36:57.\n",
            "  Batch 2,920  of  4,516.    Elapsed: 0:37:28.\n",
            "  Batch 2,960  of  4,516.    Elapsed: 0:37:59.\n",
            "  Batch 3,000  of  4,516.    Elapsed: 0:38:30.\n",
            "  Batch 3,040  of  4,516.    Elapsed: 0:39:00.\n",
            "  Batch 3,080  of  4,516.    Elapsed: 0:39:31.\n",
            "  Batch 3,120  of  4,516.    Elapsed: 0:40:02.\n",
            "  Batch 3,160  of  4,516.    Elapsed: 0:40:33.\n",
            "  Batch 3,200  of  4,516.    Elapsed: 0:41:04.\n",
            "  Batch 3,240  of  4,516.    Elapsed: 0:41:34.\n",
            "  Batch 3,280  of  4,516.    Elapsed: 0:42:05.\n",
            "  Batch 3,320  of  4,516.    Elapsed: 0:42:36.\n",
            "  Batch 3,360  of  4,516.    Elapsed: 0:43:07.\n",
            "  Batch 3,400  of  4,516.    Elapsed: 0:43:37.\n",
            "  Batch 3,440  of  4,516.    Elapsed: 0:44:08.\n",
            "  Batch 3,480  of  4,516.    Elapsed: 0:44:39.\n",
            "  Batch 3,520  of  4,516.    Elapsed: 0:45:10.\n",
            "  Batch 3,560  of  4,516.    Elapsed: 0:45:41.\n",
            "  Batch 3,600  of  4,516.    Elapsed: 0:46:11.\n",
            "  Batch 3,640  of  4,516.    Elapsed: 0:46:42.\n",
            "  Batch 3,680  of  4,516.    Elapsed: 0:47:13.\n",
            "  Batch 3,720  of  4,516.    Elapsed: 0:47:44.\n",
            "  Batch 3,760  of  4,516.    Elapsed: 0:48:15.\n",
            "  Batch 3,800  of  4,516.    Elapsed: 0:48:45.\n",
            "  Batch 3,840  of  4,516.    Elapsed: 0:49:16.\n",
            "  Batch 3,880  of  4,516.    Elapsed: 0:49:47.\n",
            "  Batch 3,920  of  4,516.    Elapsed: 0:50:18.\n",
            "  Batch 3,960  of  4,516.    Elapsed: 0:50:49.\n",
            "  Batch 4,000  of  4,516.    Elapsed: 0:51:19.\n",
            "  Batch 4,040  of  4,516.    Elapsed: 0:51:50.\n",
            "  Batch 4,080  of  4,516.    Elapsed: 0:52:21.\n",
            "  Batch 4,120  of  4,516.    Elapsed: 0:52:52.\n",
            "  Batch 4,160  of  4,516.    Elapsed: 0:53:23.\n",
            "  Batch 4,200  of  4,516.    Elapsed: 0:53:53.\n",
            "  Batch 4,240  of  4,516.    Elapsed: 0:54:24.\n",
            "  Batch 4,280  of  4,516.    Elapsed: 0:54:55.\n",
            "  Batch 4,320  of  4,516.    Elapsed: 0:55:26.\n",
            "  Batch 4,360  of  4,516.    Elapsed: 0:55:57.\n",
            "  Batch 4,400  of  4,516.    Elapsed: 0:56:27.\n",
            "  Batch 4,440  of  4,516.    Elapsed: 0:56:58.\n",
            "  Batch 4,480  of  4,516.    Elapsed: 0:57:29.\n",
            "\n",
            "  Average training loss: 0.11\n",
            "  Training epcoh took: 0:57:56\n",
            "\n",
            "Running Validation...\n",
            "  Accuracy: 0.90\n",
            "  Validation took: 0:03:57\n",
            "\n",
            "Training complete!\n"
          ],
          "name": "stdout"
        }
      ]
    },
    {
      "cell_type": "markdown",
      "metadata": {
        "id": "6ctuu_U7QtCd"
      },
      "source": [
        "## graficos"
      ]
    },
    {
      "cell_type": "code",
      "metadata": {
        "colab": {
          "base_uri": "https://localhost:8080/",
          "height": 427
        },
        "id": "AQINk1h2QtCd",
        "outputId": "35cf4386-9d3b-48a4-d05b-7b6798b9fd67"
      },
      "source": [
        "import matplotlib.pyplot as plt\n",
        "#% matplotlib inline\n",
        "\n",
        "import seaborn as sns\n",
        "\n",
        "sns.set(style='darkgrid')\n",
        "sns.set(font_scale=1.5)\n",
        "plt.rcParams[\"figure.figsize\"] = (12,6)\n",
        "\n",
        "# Plot the learning curve.\n",
        "plt.plot(loss_values, 'b-o')\n",
        "\n",
        "# Label the plot.\n",
        "plt.title(\"Training loss\")\n",
        "plt.xlabel(\"Epoch\")\n",
        "plt.ylabel(\"Loss\")\n",
        "\n",
        "plt.show()"
      ],
      "execution_count": 40,
      "outputs": [
        {
          "output_type": "display_data",
          "data": {
            "image/png": "[encoded data removed]",
            "text/plain": [
              "<Figure size 864x432 with 1 Axes>"
            ]
          },
          "metadata": {
            "tags": []
          }
        }
      ]
    },
    {
      "cell_type": "code",
      "metadata": {
        "id": "3tcKtxDeQtCd"
      },
      "source": [
        ""
      ],
      "execution_count": null,
      "outputs": []
    }
  ]
}