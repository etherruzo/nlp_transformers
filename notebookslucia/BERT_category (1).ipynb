{
  "nbformat": 4,
  "nbformat_minor": 0,
  "metadata": {
    "kernelspec": {
      "name": "python3",
      "display_name": "Python 3"
    },
    "colab": {
      "name": "BERT_category.ipynb",
      "provenance": []
    },
    "accelerator": "GPU"
  },
  "cells": [
    {
      "cell_type": "markdown",
      "metadata": {
        "id": "BOCJXvQomC3S"
      },
      "source": [
        "## libraries"
      ]
    },
    {
      "cell_type": "code",
      "metadata": {
        "colab": {
          "base_uri": "https://localhost:8080/"
        },
        "id": "vbkzdI4CmJf-",
        "outputId": "78889242-e538-4c93-a10a-abce00151a4e"
      },
      "source": [
        "from google.colab import drive\n",
        "drive.mount('/content/drive')"
      ],
      "execution_count": null,
      "outputs": [
        {
          "output_type": "stream",
          "text": [
            "Mounted at /content/drive\n"
          ],
          "name": "stdout"
        }
      ]
    },
    {
      "cell_type": "code",
      "metadata": {
        "id": "gD1SMeOVmC3W"
      },
      "source": [
        "import numpy as np\n",
        "import pandas as pd\n",
        "import re\n",
        "import urllib\n",
        "import collections\n",
        "from sklearn.model_selection import train_test_split"
      ],
      "execution_count": null,
      "outputs": []
    },
    {
      "cell_type": "code",
      "metadata": {
        "id": "VJT-NE5NmC3X"
      },
      "source": [
        "%%capture\n",
        "!pip install transformers"
      ],
      "execution_count": null,
      "outputs": []
    },
    {
      "cell_type": "code",
      "metadata": {
        "colab": {
          "base_uri": "https://localhost:8080/"
        },
        "id": "s95WN1CzmC3Y",
        "outputId": "a64c00fa-59b1-4896-aa09-7c335220d4f8"
      },
      "source": [
        "import torch\n",
        "\n",
        "# If there's a GPU available...\n",
        "if torch.cuda.is_available():    \n",
        "\n",
        "    # Tell PyTorch to use the GPU.    \n",
        "    device = torch.device(\"cuda\")\n",
        "\n",
        "    print('There are %d GPU(s) available.' % torch.cuda.device_count())\n",
        "\n",
        "    print('We will use the GPU:', torch.cuda.get_device_name(0))\n",
        "\n",
        "# If not...\n",
        "else:\n",
        "    print('No GPU available, using the CPU instead.')\n",
        "    device = torch.device(\"cpu\")"
      ],
      "execution_count": null,
      "outputs": [
        {
          "output_type": "stream",
          "text": [
            "There are 1 GPU(s) available.\n",
            "We will use the GPU: Tesla T4\n"
          ],
          "name": "stdout"
        }
      ]
    },
    {
      "cell_type": "markdown",
      "metadata": {
        "id": "EqAi2mQJmC3Z"
      },
      "source": [
        "## process data "
      ]
    },
    {
      "cell_type": "code",
      "metadata": {
        "id": "mqO4iEH7mC3a"
      },
      "source": [
        "path = \"drive/MyDrive/dataset_en_train.json\"\n",
        "df = pd.read_json(path, lines = True).rename(columns={'stars':'star_rating'})"
      ],
      "execution_count": null,
      "outputs": []
    },
    {
      "cell_type": "code",
      "metadata": {
        "colab": {
          "base_uri": "https://localhost:8080/"
        },
        "id": "0hg48dzImC3a",
        "outputId": "ba51f32c-0198-45a0-9a90-c7596ede65eb"
      },
      "source": [
        "df = df[['star_rating','review_body','product_category']]\n",
        "df = df.dropna()\n",
        "#df['star_rating']= np.where(df['star_rating']>=4,1,0) ##asi un poco mas balanceado \n",
        "#df = df.head(10000)\n",
        "len(df)"
      ],
      "execution_count": null,
      "outputs": [
        {
          "output_type": "execute_result",
          "data": {
            "text/plain": [
              "200000"
            ]
          },
          "metadata": {
            "tags": []
          },
          "execution_count": 42
        }
      ]
    },
    {
      "cell_type": "code",
      "metadata": {
        "colab": {
          "base_uri": "https://localhost:8080/",
          "height": 204
        },
        "id": "u9k1-PHhmC3b",
        "outputId": "574424a7-fa9b-4a5d-ef55-3068e535bb7e"
      },
      "source": [
        "INPUT_FEATURE = 'review_body'\n",
        "OUTPUT_FEATURE = 'product_category'\n",
        "\n",
        "X = df[INPUT_FEATURE].values\n",
        "y = df[OUTPUT_FEATURE].values\n",
        "df.head(5)"
      ],
      "execution_count": null,
      "outputs": [
        {
          "output_type": "execute_result",
          "data": {
            "text/html": [
              "<div>\n",
              "<style scoped>\n",
              "    .dataframe tbody tr th:only-of-type {\n",
              "        vertical-align: middle;\n",
              "    }\n",
              "\n",
              "    .dataframe tbody tr th {\n",
              "        vertical-align: top;\n",
              "    }\n",
              "\n",
              "    .dataframe thead th {\n",
              "        text-align: right;\n",
              "    }\n",
              "</style>\n",
              "<table border=\"1\" class=\"dataframe\">\n",
              "  <thead>\n",
              "    <tr style=\"text-align: right;\">\n",
              "      <th></th>\n",
              "      <th>star_rating</th>\n",
              "      <th>review_body</th>\n",
              "      <th>product_category</th>\n",
              "    </tr>\n",
              "  </thead>\n",
              "  <tbody>\n",
              "    <tr>\n",
              "      <th>0</th>\n",
              "      <td>1</td>\n",
              "      <td>Arrived broken. Manufacturer defect. Two of th...</td>\n",
              "      <td>furniture</td>\n",
              "    </tr>\n",
              "    <tr>\n",
              "      <th>1</th>\n",
              "      <td>1</td>\n",
              "      <td>the cabinet dot were all detached from backing...</td>\n",
              "      <td>home_improvement</td>\n",
              "    </tr>\n",
              "    <tr>\n",
              "      <th>2</th>\n",
              "      <td>1</td>\n",
              "      <td>I received my first order of this product and ...</td>\n",
              "      <td>home</td>\n",
              "    </tr>\n",
              "    <tr>\n",
              "      <th>3</th>\n",
              "      <td>1</td>\n",
              "      <td>This product is a piece of shit. Do not buy. D...</td>\n",
              "      <td>wireless</td>\n",
              "    </tr>\n",
              "    <tr>\n",
              "      <th>4</th>\n",
              "      <td>1</td>\n",
              "      <td>went through 3 in one day doesn't fit correct ...</td>\n",
              "      <td>pc</td>\n",
              "    </tr>\n",
              "  </tbody>\n",
              "</table>\n",
              "</div>"
            ],
            "text/plain": [
              "   star_rating  ...  product_category\n",
              "0            1  ...         furniture\n",
              "1            1  ...  home_improvement\n",
              "2            1  ...              home\n",
              "3            1  ...          wireless\n",
              "4            1  ...                pc\n",
              "\n",
              "[5 rows x 3 columns]"
            ]
          },
          "metadata": {
            "tags": []
          },
          "execution_count": 43
        }
      ]
    },
    {
      "cell_type": "markdown",
      "metadata": {
        "id": "7jd6H70RmC3f"
      },
      "source": [
        "### divide data and create data splits"
      ]
    },
    {
      "cell_type": "code",
      "metadata": {
        "colab": {
          "base_uri": "https://localhost:8080/"
        },
        "id": "u013j8oqmC3g",
        "outputId": "02c9fdee-3678-4f32-df71-39ff8f16f20e"
      },
      "source": [
        "def train_val_test_split(X, y, val_size, test_size, shuffle):\n",
        "    \"\"\"Split data into train/val/test datasets.\"\"\"\n",
        "    \n",
        "\n",
        "    X_train, X_test, y_train, y_test = train_test_split(\n",
        "        X, y, test_size=test_size, stratify=y, shuffle=shuffle)\n",
        "    \n",
        "    X_train, X_val, y_train, y_val = train_test_split(\n",
        "        X_train, y_train, test_size=val_size, stratify=y_train, shuffle=shuffle)\n",
        "   \n",
        "    return X_train, X_val, X_test, y_train, y_val, y_test\n",
        "\n",
        "\n",
        "\n",
        "TRAIN_SIZE = 0.7\n",
        "VAL_SIZE = 0.15\n",
        "TEST_SIZE = 0.15\n",
        "SHUFFLE = True\n",
        "\n",
        "# Create data splits\n",
        "X_train, X_val, X_test, y_train, y_val, y_test = train_val_test_split(\n",
        "    X=X, y=y, val_size=VAL_SIZE, test_size=TEST_SIZE, shuffle=SHUFFLE)\n",
        "class_counts = dict(collections.Counter(y))\n",
        "print (f\"X_train: {X_train.shape}, y_train: {y_train.shape}\")\n",
        "print (f\"X_val: {X_val.shape}, y_val: {y_val.shape}\")\n",
        "print (f\"X_test: {X_test.shape}, y_test: {y_test.shape}\")\n",
        "print (f\"Sample point: {X_train[1]} → {y_train[1]}\")\n",
        "print (f\"Classes: {class_counts}\")\n",
        "\n"
      ],
      "execution_count": null,
      "outputs": [
        {
          "output_type": "stream",
          "text": [
            "X_train: (144500,), y_train: (144500,)\n",
            "X_val: (25500,), y_val: (25500,)\n",
            "X_test: (30000,), y_test: (30000,)\n",
            "Sample point: This dress is nice and light, flowy, and soft. Perfect for warm summer days. I only wish that this came in an x-small as my usual size, a small, fit a little more loose than I would like. → apparel\n",
            "Classes: {'furniture': 2984, 'home_improvement': 7136, 'home': 17679, 'wireless': 15717, 'pc': 6401, 'industrial_supplies': 1994, 'kitchen': 10382, 'apparel': 15951, 'automotive': 7506, 'camera': 2139, 'lawn_and_garden': 7327, 'watch': 761, 'beauty': 12091, 'pet_products': 7082, 'drugstore': 11730, 'electronics': 6186, 'toy': 8745, 'digital_ebook_purchase': 6749, 'book': 3756, 'jewelry': 2747, 'sports': 8277, 'other': 13418, 'baby_product': 3150, 'video_games': 775, 'office_product': 5521, 'grocery': 4730, 'digital_video_download': 1364, 'luggage': 1328, 'shoes': 5197, 'musical_instruments': 1102, 'personal_care_appliances': 75}\n"
          ],
          "name": "stdout"
        }
      ]
    },
    {
      "cell_type": "code",
      "metadata": {
        "colab": {
          "base_uri": "https://localhost:8080/",
          "height": 37
        },
        "id": "Sa1MzfLJmC3i",
        "outputId": "6d27a024-cb4d-4716-d13e-5252b26bbf0d"
      },
      "source": [
        "y_train[1]"
      ],
      "execution_count": null,
      "outputs": [
        {
          "output_type": "execute_result",
          "data": {
            "application/vnd.google.colaboratory.intrinsic+json": {
              "type": "string"
            },
            "text/plain": [
              "'apparel'"
            ]
          },
          "metadata": {
            "tags": []
          },
          "execution_count": 45
        }
      ]
    },
    {
      "cell_type": "markdown",
      "metadata": {
        "id": "soE7xScVmC3j"
      },
      "source": [
        "## label encoder para transformar categorias en clases numericas"
      ]
    },
    {
      "cell_type": "code",
      "metadata": {
        "id": "mrtJ1htfmC3j"
      },
      "source": [
        "import itertools"
      ],
      "execution_count": null,
      "outputs": []
    },
    {
      "cell_type": "code",
      "metadata": {
        "id": "ZqiKuwEFmC3k"
      },
      "source": [
        "class LabelEncoder(object):\n",
        "    \"\"\"Label encoder for tag labels.\"\"\"\n",
        "    def __init__(self, class_to_index={}):\n",
        "        self.class_to_index = class_to_index\n",
        "        self.index_to_class = {v: k for k, v in self.class_to_index.items()}\n",
        "        self.classes = list(self.class_to_index.keys())\n",
        "\n",
        "    def __len__(self):\n",
        "        return len(self.class_to_index)\n",
        "\n",
        "    def __str__(self):\n",
        "        return f\"<LabelEncoder(num_classes={len(self)})>\"\n",
        "\n",
        "    def fit(self, y):\n",
        "        classes = np.unique(y_train)\n",
        "        for i, class_ in enumerate(classes):\n",
        "            self.class_to_index[class_] = i\n",
        "        self.index_to_class = {v: k for k, v in self.class_to_index.items()}\n",
        "        self.classes = list(self.class_to_index.keys())\n",
        "        return self\n",
        "\n",
        "    def encode(self, y):\n",
        "        encoded = np.zeros((len(y)), dtype=int)\n",
        "        for i, item in enumerate(y):\n",
        "            encoded[i] = self.class_to_index[item]\n",
        "        return encoded\n",
        "\n",
        "    def decode(self, y):\n",
        "        classes = []\n",
        "        for i, item in enumerate(y):\n",
        "            classes.append(self.index_to_class[item])\n",
        "        return classes\n",
        "\n",
        "    def save(self, fp):\n",
        "        with open(fp, 'w') as fp:\n",
        "            contents = {'class_to_index': self.class_to_index}\n",
        "            json.dump(contents, fp, indent=4, sort_keys=False)\n",
        "\n",
        "    @classmethod\n",
        "    def load(cls, fp):\n",
        "        with open(fp, 'r') as fp:\n",
        "            kwargs = json.load(fp=fp)\n",
        "        return cls(**kwargs)"
      ],
      "execution_count": null,
      "outputs": []
    },
    {
      "cell_type": "code",
      "metadata": {
        "colab": {
          "base_uri": "https://localhost:8080/"
        },
        "id": "q5AarivHmC3k",
        "outputId": "bdff4d68-270b-4698-c1ea-50ba18f06e18"
      },
      "source": [
        "label_encoder = LabelEncoder()\n",
        "label_encoder.fit(y_train)\n",
        "NUM_CLASSES = len(label_encoder)\n",
        "label_encoder.class_to_index"
      ],
      "execution_count": null,
      "outputs": [
        {
          "output_type": "execute_result",
          "data": {
            "text/plain": [
              "{'apparel': 0,\n",
              " 'automotive': 1,\n",
              " 'baby_product': 2,\n",
              " 'beauty': 3,\n",
              " 'book': 4,\n",
              " 'camera': 5,\n",
              " 'digital_ebook_purchase': 6,\n",
              " 'digital_video_download': 7,\n",
              " 'drugstore': 8,\n",
              " 'electronics': 9,\n",
              " 'furniture': 10,\n",
              " 'grocery': 11,\n",
              " 'home': 12,\n",
              " 'home_improvement': 13,\n",
              " 'industrial_supplies': 14,\n",
              " 'jewelry': 15,\n",
              " 'kitchen': 16,\n",
              " 'lawn_and_garden': 17,\n",
              " 'luggage': 18,\n",
              " 'musical_instruments': 19,\n",
              " 'office_product': 20,\n",
              " 'other': 21,\n",
              " 'pc': 22,\n",
              " 'personal_care_appliances': 23,\n",
              " 'pet_products': 24,\n",
              " 'shoes': 25,\n",
              " 'sports': 26,\n",
              " 'toy': 27,\n",
              " 'video_games': 28,\n",
              " 'watch': 29,\n",
              " 'wireless': 30}"
            ]
          },
          "metadata": {
            "tags": []
          },
          "execution_count": 48
        }
      ]
    },
    {
      "cell_type": "code",
      "metadata": {
        "colab": {
          "base_uri": "https://localhost:8080/"
        },
        "id": "57OHNSmmmC3l",
        "outputId": "afd0ed05-c998-4bb1-e3c5-067a5a2034d2"
      },
      "source": [
        "# Convert labels to tokens\n",
        "print (f\"y_train[0]: {y_train[0]}\")\n",
        "y_train = label_encoder.encode(y_train)\n",
        "y_val = label_encoder.encode(y_val)\n",
        "y_test = label_encoder.encode(y_test)\n",
        "print (f\"y_train[0]: {y_train[0]}\")"
      ],
      "execution_count": null,
      "outputs": [
        {
          "output_type": "stream",
          "text": [
            "y_train[0]: toy\n",
            "y_train[0]: 27\n"
          ],
          "name": "stdout"
        }
      ]
    },
    {
      "cell_type": "markdown",
      "metadata": {
        "id": "6yWjO5WsmC3l"
      },
      "source": [
        "## tokenization and input formatting for bert"
      ]
    },
    {
      "cell_type": "code",
      "metadata": {
        "colab": {
          "base_uri": "https://localhost:8080/"
        },
        "id": "bI3nr4YLmC3l",
        "outputId": "4a821504-e13a-42e9-8dff-11b6ec1c23d6"
      },
      "source": [
        "from transformers import BertTokenizer\n",
        "\n",
        "# Load the BERT tokenizer.\n",
        "print('Loading BERT tokenizer...')\n",
        "tokenizer = BertTokenizer.from_pretrained('bert-base-uncased', do_lower_case=True)"
      ],
      "execution_count": null,
      "outputs": [
        {
          "output_type": "stream",
          "text": [
            "Loading BERT tokenizer...\n"
          ],
          "name": "stdout"
        }
      ]
    },
    {
      "cell_type": "code",
      "metadata": {
        "colab": {
          "base_uri": "https://localhost:8080/"
        },
        "id": "BCb3TX1GmC3m",
        "outputId": "dda55182-8ecd-4d5d-a74a-4c8bf16be67b"
      },
      "source": [
        "tokenizer"
      ],
      "execution_count": null,
      "outputs": [
        {
          "output_type": "execute_result",
          "data": {
            "text/plain": [
              "PreTrainedTokenizer(name_or_path='bert-base-uncased', vocab_size=30522, model_max_len=512, is_fast=False, padding_side='right', special_tokens={'unk_token': '[UNK]', 'sep_token': '[SEP]', 'pad_token': '[PAD]', 'cls_token': '[CLS]', 'mask_token': '[MASK]'})"
            ]
          },
          "metadata": {
            "tags": []
          },
          "execution_count": 51
        }
      ]
    },
    {
      "cell_type": "code",
      "metadata": {
        "colab": {
          "base_uri": "https://localhost:8080/"
        },
        "id": "FfPLIq4ImC3n",
        "outputId": "49e523a0-d061-41d2-a0bf-2c41449121f4"
      },
      "source": [
        "## para probar \n",
        "print(\"original: \", X[1])\n",
        "print(\"tokenized\", tokenizer.tokenize(X[1]))\n",
        "print('Token IDs: ', tokenizer.convert_tokens_to_ids(tokenizer.tokenize(X[1])))"
      ],
      "execution_count": null,
      "outputs": [
        {
          "output_type": "stream",
          "text": [
            "original:  the cabinet dot were all detached from backing... got me\n",
            "tokenized ['the', 'cabinet', 'dot', 'were', 'all', 'detached', 'from', 'backing', '.', '.', '.', 'got', 'me']\n",
            "Token IDs:  [1996, 5239, 11089, 2020, 2035, 12230, 2013, 5150, 1012, 1012, 1012, 2288, 2033]\n"
          ],
          "name": "stdout"
        }
      ]
    },
    {
      "cell_type": "markdown",
      "metadata": {
        "id": "QAytm8T0mC3n"
      },
      "source": [
        "tenemos que añadir tokens especiales para que los entienda BERT"
      ]
    },
    {
      "cell_type": "code",
      "metadata": {
        "colab": {
          "base_uri": "https://localhost:8080/"
        },
        "id": "bFkfSj01mC3o",
        "outputId": "2cf8a7fc-1bb1-4784-802b-479d4a2210ac"
      },
      "source": [
        "%%capture\n",
        "input_ids = []\n",
        "\n",
        "for rev in X_train:\n",
        "    enconde_rev = tokenizer.encode(rev,add_special_tokens = True)\n",
        "    input_ids.append(enconde_rev)"
      ],
      "execution_count": null,
      "outputs": [
        {
          "output_type": "stream",
          "text": [
            "Token indices sequence length is longer than the specified maximum sequence length for this model (576 > 512). Running this sequence through the model will result in indexing errors\n"
          ],
          "name": "stderr"
        }
      ]
    },
    {
      "cell_type": "code",
      "metadata": {
        "id": "y_dtZKc5mC3o"
      },
      "source": [
        "%%capture\n",
        "input_ids_test = []\n",
        "\n",
        "for rev in X_test:\n",
        "    enconde_rev = tokenizer.encode(rev,add_special_tokens = True)\n",
        "    input_ids_test.append(enconde_rev)"
      ],
      "execution_count": null,
      "outputs": []
    },
    {
      "cell_type": "code",
      "metadata": {
        "id": "dqLdkaVrmC3p"
      },
      "source": [
        "#tokenizer.encode??"
      ],
      "execution_count": null,
      "outputs": []
    },
    {
      "cell_type": "code",
      "metadata": {
        "colab": {
          "base_uri": "https://localhost:8080/"
        },
        "id": "YGIJl4rbmC3p",
        "outputId": "83ff3404-d16c-43b1-a8bb-eaee60118b64"
      },
      "source": [
        "print('Original: ', X_train[1])\n",
        "print('Token IDs:', input_ids[1])"
      ],
      "execution_count": null,
      "outputs": [
        {
          "output_type": "stream",
          "text": [
            "Original:  This dress is nice and light, flowy, and soft. Perfect for warm summer days. I only wish that this came in an x-small as my usual size, a small, fit a little more loose than I would like.\n",
            "Token IDs: [101, 2023, 4377, 2003, 3835, 1998, 2422, 1010, 4834, 2100, 1010, 1998, 3730, 1012, 3819, 2005, 4010, 2621, 2420, 1012, 1045, 2069, 4299, 2008, 2023, 2234, 1999, 2019, 1060, 1011, 2235, 2004, 2026, 5156, 2946, 1010, 1037, 2235, 1010, 4906, 1037, 2210, 2062, 6065, 2084, 1045, 2052, 2066, 1012, 102]\n"
          ],
          "name": "stdout"
        }
      ]
    },
    {
      "cell_type": "code",
      "metadata": {
        "colab": {
          "base_uri": "https://localhost:8080/"
        },
        "id": "zFwvK2fNmC3p",
        "outputId": "479d9a83-8e5d-4d66-91a5-dd34ba2e53d8"
      },
      "source": [
        "print('Original: ', X_test[1])\n",
        "print('Token IDs:', input_ids_test[1])"
      ],
      "execution_count": null,
      "outputs": [
        {
          "output_type": "stream",
          "text": [
            "Original:  Smaller than I thought but cute.\n",
            "Token IDs: [101, 3760, 2084, 1045, 2245, 2021, 10140, 1012, 102]\n"
          ],
          "name": "stdout"
        }
      ]
    },
    {
      "cell_type": "markdown",
      "metadata": {
        "id": "MxRFQd9VmC3q"
      },
      "source": [
        "## padding and truncating"
      ]
    },
    {
      "cell_type": "code",
      "metadata": {
        "colab": {
          "base_uri": "https://localhost:8080/"
        },
        "id": "c2ldwKIJmC3q",
        "outputId": "198dd5f2-e7bc-4561-eb2b-21565085871c"
      },
      "source": [
        "print('Max review length: ', max([len(rev) for sen in input_ids]))\n",
        "print('Max review length: ', max([len(rev) for sen in input_ids_test]))"
      ],
      "execution_count": null,
      "outputs": [
        {
          "output_type": "stream",
          "text": [
            "Max review length:  201\n",
            "Max review length:  201\n"
          ],
          "name": "stdout"
        }
      ]
    },
    {
      "cell_type": "code",
      "metadata": {
        "id": "Adhk9eammC3q"
      },
      "source": [
        "%%capture\n",
        "!pip install tensorflow\n",
        "!pip install Keras\n",
        "import tensorflow as tf\n",
        "import tensorflow \n",
        "\n",
        "from tensorflow import keras\n",
        "\n",
        "from keras.layers import Dense\n",
        "\n",
        "from keras.preprocessing.sequence import pad_sequences\n"
      ],
      "execution_count": null,
      "outputs": []
    },
    {
      "cell_type": "code",
      "metadata": {
        "colab": {
          "base_uri": "https://localhost:8080/"
        },
        "id": "HO8VLshimC3r",
        "outputId": "df850ca3-7a0f-453d-9ca0-6f248b631c3b"
      },
      "source": [
        "MAX_LEN = 256\n",
        "\n",
        "print('\\nPadding/truncating all sentences to %d values...' % MAX_LEN)\n",
        "print('\\nPadding token: \"{:}\", ID: {:}'.format(tokenizer.pad_token, tokenizer.pad_token_id))\n",
        "\n",
        "input_ids = pad_sequences(input_ids, maxlen=MAX_LEN, dtype=\"long\", \n",
        "                          value=0, truncating=\"post\", padding=\"post\")\n",
        "\n",
        "input_ids_test = pad_sequences(input_ids_test, maxlen=MAX_LEN, dtype=\"long\", \n",
        "                          value=0, truncating=\"post\", padding=\"post\")\n",
        "\n",
        "\n",
        "print('\\nDone.')"
      ],
      "execution_count": null,
      "outputs": [
        {
          "output_type": "stream",
          "text": [
            "\n",
            "Padding/truncating all sentences to 256 values...\n",
            "\n",
            "Padding token: \"[PAD]\", ID: 0\n",
            "\n",
            "Done.\n"
          ],
          "name": "stdout"
        }
      ]
    },
    {
      "cell_type": "markdown",
      "metadata": {
        "id": "jWGtR24UmC3r"
      },
      "source": [
        "## attention masks"
      ]
    },
    {
      "cell_type": "markdown",
      "metadata": {
        "id": "6jyFKQiOmC3r"
      },
      "source": [
        "define que tokens son palabras reales y las distingue del padding,\n",
        "el vocab de bert no usa ID 0 entonces si el ID es 0 es padding."
      ]
    },
    {
      "cell_type": "code",
      "metadata": {
        "id": "EoTcqa4fmC3s"
      },
      "source": [
        "att_masks = []\n",
        "\n",
        "att_masks_test = []\n",
        "\n",
        "for review in input_ids:\n",
        "    attention_mask = [int(token_id > 0) for token_id in review]\n",
        "    att_masks.append(attention_mask)\n",
        "    \n",
        "for review in input_ids_test:\n",
        "    attention_mask = [int(token_id > 0) for token_id in review]\n",
        "    att_masks_test.append(attention_mask)"
      ],
      "execution_count": null,
      "outputs": []
    },
    {
      "cell_type": "markdown",
      "metadata": {
        "id": "QXdOSiDnmC3s"
      },
      "source": [
        "## convert to pytorch datatypes"
      ]
    },
    {
      "cell_type": "code",
      "metadata": {
        "id": "NOg3Jsr8mC3s"
      },
      "source": [
        "input_ids = torch.tensor(input_ids)\n",
        "input_ids_test = torch.tensor(input_ids_test)"
      ],
      "execution_count": null,
      "outputs": []
    },
    {
      "cell_type": "code",
      "metadata": {
        "id": "MfArar-imC3t"
      },
      "source": [
        "y_train= torch.tensor(y_train)\n",
        "y_test = torch.tensor(y_test)"
      ],
      "execution_count": null,
      "outputs": []
    },
    {
      "cell_type": "code",
      "metadata": {
        "id": "48m1uFyWmC3t"
      },
      "source": [
        "att_masks = torch.tensor(att_masks)\n",
        "att_masks_test = torch.tensor(att_masks_test)"
      ],
      "execution_count": null,
      "outputs": []
    },
    {
      "cell_type": "markdown",
      "metadata": {
        "id": "pPEKUJYOmC3t"
      },
      "source": [
        "## creamos DataLoaders"
      ]
    },
    {
      "cell_type": "code",
      "metadata": {
        "id": "7O0m-X9bmC3u"
      },
      "source": [
        "from torch.utils.data import TensorDataset, DataLoader, RandomSampler, SequentialSampler"
      ],
      "execution_count": null,
      "outputs": []
    },
    {
      "cell_type": "code",
      "metadata": {
        "id": "0ws41_ZfmC3u"
      },
      "source": [
        "batch_size = 32 # recomendado\n",
        "\n",
        "# DATALOADER para el train data\n",
        "train_data = TensorDataset(input_ids,att_masks,y_train)\n",
        "train_sampler= RandomSampler(train_data)\n",
        "train_dataloader= DataLoader(train_data,sampler=train_sampler,batch_size=batch_size)\n"
      ],
      "execution_count": null,
      "outputs": []
    },
    {
      "cell_type": "code",
      "metadata": {
        "id": "-OYlhED2mC3u"
      },
      "source": [
        "#DATALOADER para el test data\n",
        "test_data = TensorDataset(input_ids_test,att_masks_test,y_test)\n",
        "test_sampler= RandomSampler(test_data)\n",
        "test_dataloader= DataLoader(test_data,sampler=test_sampler,batch_size=batch_size)\n",
        "\n",
        "\n"
      ],
      "execution_count": null,
      "outputs": []
    },
    {
      "cell_type": "markdown",
      "metadata": {
        "id": "ICXIY72SmC3u"
      },
      "source": [
        "# Train el Modelo de Clasificacion "
      ]
    },
    {
      "cell_type": "markdown",
      "metadata": {
        "id": "CgK6LiGvmC3v"
      },
      "source": [
        "## BertForSequenceClassification"
      ]
    },
    {
      "cell_type": "code",
      "metadata": {
        "id": "ePffnyx8mC3v"
      },
      "source": [
        "from transformers import BertForSequenceClassification, AdamW, BertConfig"
      ],
      "execution_count": null,
      "outputs": []
    },
    {
      "cell_type": "code",
      "metadata": {
        "colab": {
          "base_uri": "https://localhost:8080/"
        },
        "id": "yrzgaiCYmC3v",
        "outputId": "d0f47824-ec55-49e7-ea6e-6e88338f05f2"
      },
      "source": [
        "model = BertForSequenceClassification.from_pretrained(\"bert-base-uncased\",\n",
        "                                                        num_labels= 31,\n",
        "                                                        output_attentions = False,\n",
        "                                                        output_hidden_states= False)\n",
        "model.cuda()"
      ],
      "execution_count": null,
      "outputs": [
        {
          "output_type": "stream",
          "text": [
            "Some weights of the model checkpoint at bert-base-uncased were not used when initializing BertForSequenceClassification: ['cls.predictions.bias', 'cls.predictions.transform.dense.weight', 'cls.predictions.transform.dense.bias', 'cls.predictions.decoder.weight', 'cls.seq_relationship.weight', 'cls.seq_relationship.bias', 'cls.predictions.transform.LayerNorm.weight', 'cls.predictions.transform.LayerNorm.bias']\n",
            "- This IS expected if you are initializing BertForSequenceClassification from the checkpoint of a model trained on another task or with another architecture (e.g. initializing a BertForSequenceClassification model from a BertForPreTraining model).\n",
            "- This IS NOT expected if you are initializing BertForSequenceClassification from the checkpoint of a model that you expect to be exactly identical (initializing a BertForSequenceClassification model from a BertForSequenceClassification model).\n",
            "Some weights of BertForSequenceClassification were not initialized from the model checkpoint at bert-base-uncased and are newly initialized: ['classifier.weight', 'classifier.bias']\n",
            "You should probably TRAIN this model on a down-stream task to be able to use it for predictions and inference.\n"
          ],
          "name": "stderr"
        },
        {
          "output_type": "execute_result",
          "data": {
            "text/plain": [
              "BertForSequenceClassification(\n",
              "  (bert): BertModel(\n",
              "    (embeddings): BertEmbeddings(\n",
              "      (word_embeddings): Embedding(30522, 768, padding_idx=0)\n",
              "      (position_embeddings): Embedding(512, 768)\n",
              "      (token_type_embeddings): Embedding(2, 768)\n",
              "      (LayerNorm): LayerNorm((768,), eps=1e-12, elementwise_affine=True)\n",
              "      (dropout): Dropout(p=0.1, inplace=False)\n",
              "    )\n",
              "    (encoder): BertEncoder(\n",
              "      (layer): ModuleList(\n",
              "        (0): BertLayer(\n",
              "          (attention): BertAttention(\n",
              "            (self): BertSelfAttention(\n",
              "              (query): Linear(in_features=768, out_features=768, bias=True)\n",
              "              (key): Linear(in_features=768, out_features=768, bias=True)\n",
              "              (value): Linear(in_features=768, out_features=768, bias=True)\n",
              "              (dropout): Dropout(p=0.1, inplace=False)\n",
              "            )\n",
              "            (output): BertSelfOutput(\n",
              "              (dense): Linear(in_features=768, out_features=768, bias=True)\n",
              "              (LayerNorm): LayerNorm((768,), eps=1e-12, elementwise_affine=True)\n",
              "              (dropout): Dropout(p=0.1, inplace=False)\n",
              "            )\n",
              "          )\n",
              "          (intermediate): BertIntermediate(\n",
              "            (dense): Linear(in_features=768, out_features=3072, bias=True)\n",
              "          )\n",
              "          (output): BertOutput(\n",
              "            (dense): Linear(in_features=3072, out_features=768, bias=True)\n",
              "            (LayerNorm): LayerNorm((768,), eps=1e-12, elementwise_affine=True)\n",
              "            (dropout): Dropout(p=0.1, inplace=False)\n",
              "          )\n",
              "        )\n",
              "        (1): BertLayer(\n",
              "          (attention): BertAttention(\n",
              "            (self): BertSelfAttention(\n",
              "              (query): Linear(in_features=768, out_features=768, bias=True)\n",
              "              (key): Linear(in_features=768, out_features=768, bias=True)\n",
              "              (value): Linear(in_features=768, out_features=768, bias=True)\n",
              "              (dropout): Dropout(p=0.1, inplace=False)\n",
              "            )\n",
              "            (output): BertSelfOutput(\n",
              "              (dense): Linear(in_features=768, out_features=768, bias=True)\n",
              "              (LayerNorm): LayerNorm((768,), eps=1e-12, elementwise_affine=True)\n",
              "              (dropout): Dropout(p=0.1, inplace=False)\n",
              "            )\n",
              "          )\n",
              "          (intermediate): BertIntermediate(\n",
              "            (dense): Linear(in_features=768, out_features=3072, bias=True)\n",
              "          )\n",
              "          (output): BertOutput(\n",
              "            (dense): Linear(in_features=3072, out_features=768, bias=True)\n",
              "            (LayerNorm): LayerNorm((768,), eps=1e-12, elementwise_affine=True)\n",
              "            (dropout): Dropout(p=0.1, inplace=False)\n",
              "          )\n",
              "        )\n",
              "        (2): BertLayer(\n",
              "          (attention): BertAttention(\n",
              "            (self): BertSelfAttention(\n",
              "              (query): Linear(in_features=768, out_features=768, bias=True)\n",
              "              (key): Linear(in_features=768, out_features=768, bias=True)\n",
              "              (value): Linear(in_features=768, out_features=768, bias=True)\n",
              "              (dropout): Dropout(p=0.1, inplace=False)\n",
              "            )\n",
              "            (output): BertSelfOutput(\n",
              "              (dense): Linear(in_features=768, out_features=768, bias=True)\n",
              "              (LayerNorm): LayerNorm((768,), eps=1e-12, elementwise_affine=True)\n",
              "              (dropout): Dropout(p=0.1, inplace=False)\n",
              "            )\n",
              "          )\n",
              "          (intermediate): BertIntermediate(\n",
              "            (dense): Linear(in_features=768, out_features=3072, bias=True)\n",
              "          )\n",
              "          (output): BertOutput(\n",
              "            (dense): Linear(in_features=3072, out_features=768, bias=True)\n",
              "            (LayerNorm): LayerNorm((768,), eps=1e-12, elementwise_affine=True)\n",
              "            (dropout): Dropout(p=0.1, inplace=False)\n",
              "          )\n",
              "        )\n",
              "        (3): BertLayer(\n",
              "          (attention): BertAttention(\n",
              "            (self): BertSelfAttention(\n",
              "              (query): Linear(in_features=768, out_features=768, bias=True)\n",
              "              (key): Linear(in_features=768, out_features=768, bias=True)\n",
              "              (value): Linear(in_features=768, out_features=768, bias=True)\n",
              "              (dropout): Dropout(p=0.1, inplace=False)\n",
              "            )\n",
              "            (output): BertSelfOutput(\n",
              "              (dense): Linear(in_features=768, out_features=768, bias=True)\n",
              "              (LayerNorm): LayerNorm((768,), eps=1e-12, elementwise_affine=True)\n",
              "              (dropout): Dropout(p=0.1, inplace=False)\n",
              "            )\n",
              "          )\n",
              "          (intermediate): BertIntermediate(\n",
              "            (dense): Linear(in_features=768, out_features=3072, bias=True)\n",
              "          )\n",
              "          (output): BertOutput(\n",
              "            (dense): Linear(in_features=3072, out_features=768, bias=True)\n",
              "            (LayerNorm): LayerNorm((768,), eps=1e-12, elementwise_affine=True)\n",
              "            (dropout): Dropout(p=0.1, inplace=False)\n",
              "          )\n",
              "        )\n",
              "        (4): BertLayer(\n",
              "          (attention): BertAttention(\n",
              "            (self): BertSelfAttention(\n",
              "              (query): Linear(in_features=768, out_features=768, bias=True)\n",
              "              (key): Linear(in_features=768, out_features=768, bias=True)\n",
              "              (value): Linear(in_features=768, out_features=768, bias=True)\n",
              "              (dropout): Dropout(p=0.1, inplace=False)\n",
              "            )\n",
              "            (output): BertSelfOutput(\n",
              "              (dense): Linear(in_features=768, out_features=768, bias=True)\n",
              "              (LayerNorm): LayerNorm((768,), eps=1e-12, elementwise_affine=True)\n",
              "              (dropout): Dropout(p=0.1, inplace=False)\n",
              "            )\n",
              "          )\n",
              "          (intermediate): BertIntermediate(\n",
              "            (dense): Linear(in_features=768, out_features=3072, bias=True)\n",
              "          )\n",
              "          (output): BertOutput(\n",
              "            (dense): Linear(in_features=3072, out_features=768, bias=True)\n",
              "            (LayerNorm): LayerNorm((768,), eps=1e-12, elementwise_affine=True)\n",
              "            (dropout): Dropout(p=0.1, inplace=False)\n",
              "          )\n",
              "        )\n",
              "        (5): BertLayer(\n",
              "          (attention): BertAttention(\n",
              "            (self): BertSelfAttention(\n",
              "              (query): Linear(in_features=768, out_features=768, bias=True)\n",
              "              (key): Linear(in_features=768, out_features=768, bias=True)\n",
              "              (value): Linear(in_features=768, out_features=768, bias=True)\n",
              "              (dropout): Dropout(p=0.1, inplace=False)\n",
              "            )\n",
              "            (output): BertSelfOutput(\n",
              "              (dense): Linear(in_features=768, out_features=768, bias=True)\n",
              "              (LayerNorm): LayerNorm((768,), eps=1e-12, elementwise_affine=True)\n",
              "              (dropout): Dropout(p=0.1, inplace=False)\n",
              "            )\n",
              "          )\n",
              "          (intermediate): BertIntermediate(\n",
              "            (dense): Linear(in_features=768, out_features=3072, bias=True)\n",
              "          )\n",
              "          (output): BertOutput(\n",
              "            (dense): Linear(in_features=3072, out_features=768, bias=True)\n",
              "            (LayerNorm): LayerNorm((768,), eps=1e-12, elementwise_affine=True)\n",
              "            (dropout): Dropout(p=0.1, inplace=False)\n",
              "          )\n",
              "        )\n",
              "        (6): BertLayer(\n",
              "          (attention): BertAttention(\n",
              "            (self): BertSelfAttention(\n",
              "              (query): Linear(in_features=768, out_features=768, bias=True)\n",
              "              (key): Linear(in_features=768, out_features=768, bias=True)\n",
              "              (value): Linear(in_features=768, out_features=768, bias=True)\n",
              "              (dropout): Dropout(p=0.1, inplace=False)\n",
              "            )\n",
              "            (output): BertSelfOutput(\n",
              "              (dense): Linear(in_features=768, out_features=768, bias=True)\n",
              "              (LayerNorm): LayerNorm((768,), eps=1e-12, elementwise_affine=True)\n",
              "              (dropout): Dropout(p=0.1, inplace=False)\n",
              "            )\n",
              "          )\n",
              "          (intermediate): BertIntermediate(\n",
              "            (dense): Linear(in_features=768, out_features=3072, bias=True)\n",
              "          )\n",
              "          (output): BertOutput(\n",
              "            (dense): Linear(in_features=3072, out_features=768, bias=True)\n",
              "            (LayerNorm): LayerNorm((768,), eps=1e-12, elementwise_affine=True)\n",
              "            (dropout): Dropout(p=0.1, inplace=False)\n",
              "          )\n",
              "        )\n",
              "        (7): BertLayer(\n",
              "          (attention): BertAttention(\n",
              "            (self): BertSelfAttention(\n",
              "              (query): Linear(in_features=768, out_features=768, bias=True)\n",
              "              (key): Linear(in_features=768, out_features=768, bias=True)\n",
              "              (value): Linear(in_features=768, out_features=768, bias=True)\n",
              "              (dropout): Dropout(p=0.1, inplace=False)\n",
              "            )\n",
              "            (output): BertSelfOutput(\n",
              "              (dense): Linear(in_features=768, out_features=768, bias=True)\n",
              "              (LayerNorm): LayerNorm((768,), eps=1e-12, elementwise_affine=True)\n",
              "              (dropout): Dropout(p=0.1, inplace=False)\n",
              "            )\n",
              "          )\n",
              "          (intermediate): BertIntermediate(\n",
              "            (dense): Linear(in_features=768, out_features=3072, bias=True)\n",
              "          )\n",
              "          (output): BertOutput(\n",
              "            (dense): Linear(in_features=3072, out_features=768, bias=True)\n",
              "            (LayerNorm): LayerNorm((768,), eps=1e-12, elementwise_affine=True)\n",
              "            (dropout): Dropout(p=0.1, inplace=False)\n",
              "          )\n",
              "        )\n",
              "        (8): BertLayer(\n",
              "          (attention): BertAttention(\n",
              "            (self): BertSelfAttention(\n",
              "              (query): Linear(in_features=768, out_features=768, bias=True)\n",
              "              (key): Linear(in_features=768, out_features=768, bias=True)\n",
              "              (value): Linear(in_features=768, out_features=768, bias=True)\n",
              "              (dropout): Dropout(p=0.1, inplace=False)\n",
              "            )\n",
              "            (output): BertSelfOutput(\n",
              "              (dense): Linear(in_features=768, out_features=768, bias=True)\n",
              "              (LayerNorm): LayerNorm((768,), eps=1e-12, elementwise_affine=True)\n",
              "              (dropout): Dropout(p=0.1, inplace=False)\n",
              "            )\n",
              "          )\n",
              "          (intermediate): BertIntermediate(\n",
              "            (dense): Linear(in_features=768, out_features=3072, bias=True)\n",
              "          )\n",
              "          (output): BertOutput(\n",
              "            (dense): Linear(in_features=3072, out_features=768, bias=True)\n",
              "            (LayerNorm): LayerNorm((768,), eps=1e-12, elementwise_affine=True)\n",
              "            (dropout): Dropout(p=0.1, inplace=False)\n",
              "          )\n",
              "        )\n",
              "        (9): BertLayer(\n",
              "          (attention): BertAttention(\n",
              "            (self): BertSelfAttention(\n",
              "              (query): Linear(in_features=768, out_features=768, bias=True)\n",
              "              (key): Linear(in_features=768, out_features=768, bias=True)\n",
              "              (value): Linear(in_features=768, out_features=768, bias=True)\n",
              "              (dropout): Dropout(p=0.1, inplace=False)\n",
              "            )\n",
              "            (output): BertSelfOutput(\n",
              "              (dense): Linear(in_features=768, out_features=768, bias=True)\n",
              "              (LayerNorm): LayerNorm((768,), eps=1e-12, elementwise_affine=True)\n",
              "              (dropout): Dropout(p=0.1, inplace=False)\n",
              "            )\n",
              "          )\n",
              "          (intermediate): BertIntermediate(\n",
              "            (dense): Linear(in_features=768, out_features=3072, bias=True)\n",
              "          )\n",
              "          (output): BertOutput(\n",
              "            (dense): Linear(in_features=3072, out_features=768, bias=True)\n",
              "            (LayerNorm): LayerNorm((768,), eps=1e-12, elementwise_affine=True)\n",
              "            (dropout): Dropout(p=0.1, inplace=False)\n",
              "          )\n",
              "        )\n",
              "        (10): BertLayer(\n",
              "          (attention): BertAttention(\n",
              "            (self): BertSelfAttention(\n",
              "              (query): Linear(in_features=768, out_features=768, bias=True)\n",
              "              (key): Linear(in_features=768, out_features=768, bias=True)\n",
              "              (value): Linear(in_features=768, out_features=768, bias=True)\n",
              "              (dropout): Dropout(p=0.1, inplace=False)\n",
              "            )\n",
              "            (output): BertSelfOutput(\n",
              "              (dense): Linear(in_features=768, out_features=768, bias=True)\n",
              "              (LayerNorm): LayerNorm((768,), eps=1e-12, elementwise_affine=True)\n",
              "              (dropout): Dropout(p=0.1, inplace=False)\n",
              "            )\n",
              "          )\n",
              "          (intermediate): BertIntermediate(\n",
              "            (dense): Linear(in_features=768, out_features=3072, bias=True)\n",
              "          )\n",
              "          (output): BertOutput(\n",
              "            (dense): Linear(in_features=3072, out_features=768, bias=True)\n",
              "            (LayerNorm): LayerNorm((768,), eps=1e-12, elementwise_affine=True)\n",
              "            (dropout): Dropout(p=0.1, inplace=False)\n",
              "          )\n",
              "        )\n",
              "        (11): BertLayer(\n",
              "          (attention): BertAttention(\n",
              "            (self): BertSelfAttention(\n",
              "              (query): Linear(in_features=768, out_features=768, bias=True)\n",
              "              (key): Linear(in_features=768, out_features=768, bias=True)\n",
              "              (value): Linear(in_features=768, out_features=768, bias=True)\n",
              "              (dropout): Dropout(p=0.1, inplace=False)\n",
              "            )\n",
              "            (output): BertSelfOutput(\n",
              "              (dense): Linear(in_features=768, out_features=768, bias=True)\n",
              "              (LayerNorm): LayerNorm((768,), eps=1e-12, elementwise_affine=True)\n",
              "              (dropout): Dropout(p=0.1, inplace=False)\n",
              "            )\n",
              "          )\n",
              "          (intermediate): BertIntermediate(\n",
              "            (dense): Linear(in_features=768, out_features=3072, bias=True)\n",
              "          )\n",
              "          (output): BertOutput(\n",
              "            (dense): Linear(in_features=3072, out_features=768, bias=True)\n",
              "            (LayerNorm): LayerNorm((768,), eps=1e-12, elementwise_affine=True)\n",
              "            (dropout): Dropout(p=0.1, inplace=False)\n",
              "          )\n",
              "        )\n",
              "      )\n",
              "    )\n",
              "    (pooler): BertPooler(\n",
              "      (dense): Linear(in_features=768, out_features=768, bias=True)\n",
              "      (activation): Tanh()\n",
              "    )\n",
              "  )\n",
              "  (dropout): Dropout(p=0.1, inplace=False)\n",
              "  (classifier): Linear(in_features=768, out_features=31, bias=True)\n",
              ")"
            ]
          },
          "metadata": {
            "tags": []
          },
          "execution_count": 69
        }
      ]
    },
    {
      "cell_type": "code",
      "metadata": {
        "colab": {
          "base_uri": "https://localhost:8080/"
        },
        "id": "c3eRzQwZmC3w",
        "outputId": "9b7f6397-b835-45ca-f785-d31633912f0c"
      },
      "source": [
        " ## ponemos todos los parametros como lista\n",
        "    \n",
        "params = list(model.named_parameters())\n",
        "print('The BERT model has {:} different named parameters.\\n'.format(len(params)))\n",
        "\n",
        "print('==== Embedding Layer ====\\n')\n",
        "\n",
        "for p in params[0:5]:\n",
        "    print(\"{:<55} {:>12}\".format(p[0], str(tuple(p[1].size()))))\n",
        "\n",
        "print('\\n==== First Transformer ====\\n')\n",
        "\n",
        "for p in params[5:21]:\n",
        "    print(\"{:<55} {:>12}\".format(p[0], str(tuple(p[1].size()))))\n",
        "\n",
        "print('\\n==== Output Layer ====\\n')\n",
        "\n",
        "for p in params[-4:]:\n",
        "    print(\"{:<55} {:>12}\".format(p[0], str(tuple(p[1].size()))))"
      ],
      "execution_count": null,
      "outputs": [
        {
          "output_type": "stream",
          "text": [
            "The BERT model has 201 different named parameters.\n",
            "\n",
            "==== Embedding Layer ====\n",
            "\n",
            "bert.embeddings.word_embeddings.weight                  (30522, 768)\n",
            "bert.embeddings.position_embeddings.weight                (512, 768)\n",
            "bert.embeddings.token_type_embeddings.weight                (2, 768)\n",
            "bert.embeddings.LayerNorm.weight                              (768,)\n",
            "bert.embeddings.LayerNorm.bias                                (768,)\n",
            "\n",
            "==== First Transformer ====\n",
            "\n",
            "bert.encoder.layer.0.attention.self.query.weight          (768, 768)\n",
            "bert.encoder.layer.0.attention.self.query.bias                (768,)\n",
            "bert.encoder.layer.0.attention.self.key.weight            (768, 768)\n",
            "bert.encoder.layer.0.attention.self.key.bias                  (768,)\n",
            "bert.encoder.layer.0.attention.self.value.weight          (768, 768)\n",
            "bert.encoder.layer.0.attention.self.value.bias                (768,)\n",
            "bert.encoder.layer.0.attention.output.dense.weight        (768, 768)\n",
            "bert.encoder.layer.0.attention.output.dense.bias              (768,)\n",
            "bert.encoder.layer.0.attention.output.LayerNorm.weight        (768,)\n",
            "bert.encoder.layer.0.attention.output.LayerNorm.bias          (768,)\n",
            "bert.encoder.layer.0.intermediate.dense.weight           (3072, 768)\n",
            "bert.encoder.layer.0.intermediate.dense.bias                 (3072,)\n",
            "bert.encoder.layer.0.output.dense.weight                 (768, 3072)\n",
            "bert.encoder.layer.0.output.dense.bias                        (768,)\n",
            "bert.encoder.layer.0.output.LayerNorm.weight                  (768,)\n",
            "bert.encoder.layer.0.output.LayerNorm.bias                    (768,)\n",
            "\n",
            "==== Output Layer ====\n",
            "\n",
            "bert.pooler.dense.weight                                  (768, 768)\n",
            "bert.pooler.dense.bias                                        (768,)\n",
            "classifier.weight                                          (31, 768)\n",
            "classifier.bias                                                (31,)\n"
          ],
          "name": "stdout"
        }
      ]
    },
    {
      "cell_type": "markdown",
      "metadata": {
        "id": "1WxPgBI_mC3w"
      },
      "source": [
        "## optimizer y leaning rate"
      ]
    },
    {
      "cell_type": "code",
      "metadata": {
        "id": "ZCP1UliymC3w"
      },
      "source": [
        "optimizer = AdamW(model.parameters(),lr = 2e-5,eps= 1e-8)"
      ],
      "execution_count": null,
      "outputs": []
    },
    {
      "cell_type": "code",
      "metadata": {
        "colab": {
          "base_uri": "https://localhost:8080/"
        },
        "id": "fPWCbbgamC3x",
        "outputId": "8743120f-cf26-49f0-c329-04bbd53f1ab4"
      },
      "source": [
        "from transformers import get_linear_schedule_with_warmup\n",
        "\n",
        "## de la documentacion :\n",
        "\n",
        "#Create a schedule with a constant learning rate \n",
        "#preceded by a warmup period during which the learning rate \n",
        "#increases linearly between 0 and the initial lr set \n",
        "#in the optimizer.\n",
        "\n",
        "epochs= 4\n",
        "total_steps= len(train_dataloader) * epochs\n",
        "scheduler = get_linear_schedule_with_warmup(optimizer,num_warmup_steps = 0, num_training_steps = total_steps)\n",
        "scheduler"
      ],
      "execution_count": null,
      "outputs": [
        {
          "output_type": "execute_result",
          "data": {
            "text/plain": [
              "<torch.optim.lr_scheduler.LambdaLR at 0x7f19ae519518>"
            ]
          },
          "metadata": {
            "tags": []
          },
          "execution_count": 72
        }
      ]
    },
    {
      "cell_type": "markdown",
      "metadata": {
        "id": "PFMEkWTOmC3x"
      },
      "source": [
        "## training loop"
      ]
    },
    {
      "cell_type": "code",
      "metadata": {
        "id": "Cq1BtYY5mC3y"
      },
      "source": [
        "import numpy as np\n",
        "\n",
        "# Funcion para calcular la accuracy (pred-labels)\n",
        "def flat_accuracy(preds, labels):\n",
        "    pred_flat = np.argmax(preds, axis=1).flatten()\n",
        "    labels_flat = labels.flatten()\n",
        "    return np.sum(pred_flat == labels_flat) / len(labels_flat)"
      ],
      "execution_count": null,
      "outputs": []
    },
    {
      "cell_type": "code",
      "metadata": {
        "id": "HwW9atDpmC3y"
      },
      "source": [
        "## para medir los tiempos\n",
        "import time\n",
        "import datetime\n",
        "\n",
        "def format_time(elapsed):\n",
        "    '''\n",
        "    Takes a time in seconds and returns a string hh:mm:ss\n",
        "    '''\n",
        "    # Round to the nearest second.\n",
        "    elapsed_rounded = int(round((elapsed)))\n",
        "    \n",
        "    # Format as hh:mm:ss\n",
        "    return str(datetime.timedelta(seconds=elapsed_rounded))\n"
      ],
      "execution_count": null,
      "outputs": []
    },
    {
      "cell_type": "markdown",
      "metadata": {
        "id": "zuxe3TcemC3z"
      },
      "source": [
        "Training"
      ]
    },
    {
      "cell_type": "code",
      "metadata": {
        "colab": {
          "base_uri": "https://localhost:8080/"
        },
        "id": "Aj4vGi9XmC3z",
        "outputId": "4ed0d78f-d74e-4f86-98a3-83cf6e80928c"
      },
      "source": [
        "import random\n",
        "\n",
        "seed_val = 42\n",
        "\n",
        "random.seed(seed_val)\n",
        "np.random.seed(seed_val)\n",
        "torch.manual_seed(seed_val)\n",
        "torch.cuda.manual_seed_all(seed_val)\n",
        "\n",
        "# Guarda las perdidas (Average) después de cada epoch para poder plotear despues\n",
        "loss_values = []\n",
        "\n",
        "# para cada epoch:\n",
        "for epoch_i in range(0, epochs):\n",
        "    \n",
        "    \n",
        "    #Training\n",
        "    \n",
        "    # Perform one full pass over the training set.\n",
        "\n",
        "    print(\"\")\n",
        "    print('======== Epoch {:} / {:} ========'.format(epoch_i + 1, epochs))\n",
        "    print('Training...')\n",
        "\n",
        "    t0 = time.time()\n",
        "    total_loss = 0\n",
        "\n",
        "    model.train()\n",
        "\n",
        "    # For each batch of training data...\n",
        "    for step, batch in enumerate(train_dataloader):\n",
        "\n",
        "        if step % 40 == 0 and not step == 0:\n",
        "            elapsed = format_time(time.time() - t0)\n",
        "            print('  Batch {:>5,}  of  {:>5,}.    Elapsed: {:}.'.format(step, len(train_dataloader), elapsed))\n",
        "\n",
        "        # As we unpack the batch, we'll also copy each tensor to the GPU using the \n",
        "        # `to` method.\n",
        "        # `batch` contains three pytorch tensors:\n",
        "        #   [0]: input ids \n",
        "        #   [1]: attention masks\n",
        "        #   [2]: labels \n",
        "        b_input_ids = batch[0].to(device)\n",
        "        b_input_mask = batch[1].to(device)\n",
        "        b_labels = batch[2].to(device)\n",
        "\n",
        "        # Always clear any previously calculated gradients before performing a backward pass.\n",
        "        model.zero_grad()        \n",
        "\n",
        "    \n",
        "        outputs = model(b_input_ids, \n",
        "                    token_type_ids=None, \n",
        "                    attention_mask=b_input_mask, \n",
        "                    labels=b_labels)\n",
        "        \n",
        "        loss = outputs[0]\n",
        "        total_loss += loss.item()\n",
        "\n",
        "        # Perform a backward pass to calculate the gradients.\n",
        "        loss.backward()\n",
        "\n",
        "        # Clip the norm of the gradients to 1.0.\n",
        "        # This is to help prevent the \"exploding gradients\" problem.\n",
        "        torch.nn.utils.clip_grad_norm_(model.parameters(), 1.0)\n",
        "\n",
        "        optimizer.step()\n",
        "\n",
        "        # Update the learning rate.\n",
        "        scheduler.step()\n",
        "\n",
        "    # Calculate the average loss over the training data.\n",
        "    avg_train_loss = total_loss / len(train_dataloader)            \n",
        "    \n",
        "    # Store the loss value for plotting the learning curve.\n",
        "    loss_values.append(avg_train_loss)\n",
        "\n",
        "    print(\"\")\n",
        "    print(\"  Average training loss: {0:.2f}\".format(avg_train_loss))\n",
        "    print(\"  Training epcoh took: {:}\".format(format_time(time.time() - t0)))\n",
        "  \n",
        "\n",
        "\n",
        "    ## Validation\n",
        "   \n",
        "    # After the completion of each training epoch, measure our performance on\n",
        "    # our validation set.\n",
        "\n",
        "    print(\"\")\n",
        "    print(\"Running Validation...\")\n",
        "\n",
        "    t0 = time.time()\n",
        "\n",
        "    # Put the model in evaluation mode--the dropout layers behave differently\n",
        "    # during evaluation.\n",
        "    model.eval()\n",
        "\n",
        "    # Tracking variables \n",
        "    eval_loss, eval_accuracy = 0, 0\n",
        "    nb_eval_steps, nb_eval_examples = 0, 0\n",
        "\n",
        "    # Evaluate data for one epoch\n",
        "    for batch in test_dataloader:\n",
        "        \n",
        "        # Add batch to GPU\n",
        "        batch = tuple(t.to(device) for t in batch)\n",
        "        \n",
        "        # Unpack the inputs from our dataloader\n",
        "        b_input_ids, b_input_mask, b_labels = batch\n",
        "        \n",
        "        with torch.no_grad():        \n",
        "\n",
        "            outputs = model(b_input_ids, \n",
        "                            token_type_ids=None, \n",
        "                            attention_mask=b_input_mask)\n",
        "        \n",
        "        logits = outputs[0]\n",
        "\n",
        "        # Move logits and labels to CPU\n",
        "        logits = logits.detach().cpu().numpy()\n",
        "        label_ids = b_labels.to('cpu').numpy()\n",
        "        \n",
        "        # Calculate the accuracy for this batch of test sentences.\n",
        "        tmp_eval_accuracy = flat_accuracy(logits, label_ids)\n",
        "        \n",
        "        # Accumulate the total accuracy.\n",
        "        eval_accuracy += tmp_eval_accuracy\n",
        "\n",
        "        # Track the number of batches\n",
        "        nb_eval_steps += 1\n",
        "\n",
        "    # Report the final accuracy for this validation run.\n",
        "    print(\"  Accuracy: {0:.2f}\".format(eval_accuracy/nb_eval_steps))\n",
        "    print(\"  Validation took: {:}\".format(format_time(time.time() - t0)))\n",
        "\n",
        "print(\"\")\n",
        "print(\"Training complete!\")\n",
        "\n",
        "   "
      ],
      "execution_count": null,
      "outputs": [
        {
          "output_type": "stream",
          "text": [
            "\n",
            "======== Epoch 1 / 4 ========\n",
            "Training...\n",
            "  Batch    40  of  4,516.    Elapsed: 0:00:59.\n",
            "  Batch    80  of  4,516.    Elapsed: 0:01:57.\n",
            "  Batch   120  of  4,516.    Elapsed: 0:02:55.\n",
            "  Batch   160  of  4,516.    Elapsed: 0:03:53.\n",
            "  Batch   200  of  4,516.    Elapsed: 0:04:51.\n",
            "  Batch   240  of  4,516.    Elapsed: 0:05:50.\n",
            "  Batch   280  of  4,516.    Elapsed: 0:06:48.\n",
            "  Batch   320  of  4,516.    Elapsed: 0:07:46.\n",
            "  Batch   360  of  4,516.    Elapsed: 0:08:44.\n",
            "  Batch   400  of  4,516.    Elapsed: 0:09:42.\n",
            "  Batch   440  of  4,516.    Elapsed: 0:10:40.\n",
            "  Batch   480  of  4,516.    Elapsed: 0:11:39.\n",
            "  Batch   520  of  4,516.    Elapsed: 0:12:37.\n",
            "  Batch   560  of  4,516.    Elapsed: 0:13:35.\n",
            "  Batch   600  of  4,516.    Elapsed: 0:14:33.\n",
            "  Batch   640  of  4,516.    Elapsed: 0:15:31.\n",
            "  Batch   680  of  4,516.    Elapsed: 0:16:30.\n",
            "  Batch   720  of  4,516.    Elapsed: 0:17:28.\n",
            "  Batch   760  of  4,516.    Elapsed: 0:18:26.\n",
            "  Batch   800  of  4,516.    Elapsed: 0:19:25.\n",
            "  Batch   840  of  4,516.    Elapsed: 0:20:23.\n",
            "  Batch   880  of  4,516.    Elapsed: 0:21:21.\n",
            "  Batch   920  of  4,516.    Elapsed: 0:22:20.\n",
            "  Batch   960  of  4,516.    Elapsed: 0:23:18.\n",
            "  Batch 1,000  of  4,516.    Elapsed: 0:24:16.\n",
            "  Batch 1,040  of  4,516.    Elapsed: 0:25:14.\n",
            "  Batch 1,080  of  4,516.    Elapsed: 0:26:12.\n",
            "  Batch 1,120  of  4,516.    Elapsed: 0:27:11.\n",
            "  Batch 1,160  of  4,516.    Elapsed: 0:28:09.\n",
            "  Batch 1,200  of  4,516.    Elapsed: 0:29:07.\n",
            "  Batch 1,240  of  4,516.    Elapsed: 0:30:05.\n",
            "  Batch 1,280  of  4,516.    Elapsed: 0:31:04.\n",
            "  Batch 1,320  of  4,516.    Elapsed: 0:32:02.\n",
            "  Batch 1,360  of  4,516.    Elapsed: 0:33:00.\n",
            "  Batch 1,400  of  4,516.    Elapsed: 0:33:58.\n",
            "  Batch 1,440  of  4,516.    Elapsed: 0:34:56.\n",
            "  Batch 1,480  of  4,516.    Elapsed: 0:35:55.\n",
            "  Batch 1,520  of  4,516.    Elapsed: 0:36:53.\n",
            "  Batch 1,560  of  4,516.    Elapsed: 0:37:51.\n",
            "  Batch 1,600  of  4,516.    Elapsed: 0:38:49.\n",
            "  Batch 1,640  of  4,516.    Elapsed: 0:39:47.\n",
            "  Batch 1,680  of  4,516.    Elapsed: 0:40:45.\n",
            "  Batch 1,720  of  4,516.    Elapsed: 0:41:43.\n",
            "  Batch 1,760  of  4,516.    Elapsed: 0:42:41.\n",
            "  Batch 1,800  of  4,516.    Elapsed: 0:43:39.\n",
            "  Batch 1,840  of  4,516.    Elapsed: 0:44:37.\n",
            "  Batch 1,880  of  4,516.    Elapsed: 0:45:35.\n",
            "  Batch 1,920  of  4,516.    Elapsed: 0:46:33.\n",
            "  Batch 1,960  of  4,516.    Elapsed: 0:47:31.\n",
            "  Batch 2,000  of  4,516.    Elapsed: 0:48:29.\n",
            "  Batch 2,040  of  4,516.    Elapsed: 0:49:28.\n",
            "  Batch 2,080  of  4,516.    Elapsed: 0:50:26.\n",
            "  Batch 2,120  of  4,516.    Elapsed: 0:51:24.\n",
            "  Batch 2,160  of  4,516.    Elapsed: 0:52:22.\n",
            "  Batch 2,200  of  4,516.    Elapsed: 0:53:20.\n",
            "  Batch 2,240  of  4,516.    Elapsed: 0:54:18.\n",
            "  Batch 2,280  of  4,516.    Elapsed: 0:55:16.\n",
            "  Batch 2,320  of  4,516.    Elapsed: 0:56:14.\n",
            "  Batch 2,360  of  4,516.    Elapsed: 0:57:12.\n",
            "  Batch 2,400  of  4,516.    Elapsed: 0:58:10.\n",
            "  Batch 2,440  of  4,516.    Elapsed: 0:59:08.\n",
            "  Batch 2,480  of  4,516.    Elapsed: 1:00:06.\n",
            "  Batch 2,520  of  4,516.    Elapsed: 1:01:04.\n",
            "  Batch 2,560  of  4,516.    Elapsed: 1:02:03.\n",
            "  Batch 2,600  of  4,516.    Elapsed: 1:03:00.\n",
            "  Batch 2,640  of  4,516.    Elapsed: 1:03:59.\n",
            "  Batch 2,680  of  4,516.    Elapsed: 1:04:57.\n",
            "  Batch 2,720  of  4,516.    Elapsed: 1:05:55.\n",
            "  Batch 2,760  of  4,516.    Elapsed: 1:06:53.\n",
            "  Batch 2,800  of  4,516.    Elapsed: 1:07:51.\n",
            "  Batch 2,840  of  4,516.    Elapsed: 1:08:50.\n",
            "  Batch 2,880  of  4,516.    Elapsed: 1:09:48.\n",
            "  Batch 2,920  of  4,516.    Elapsed: 1:10:46.\n",
            "  Batch 2,960  of  4,516.    Elapsed: 1:11:44.\n",
            "  Batch 3,000  of  4,516.    Elapsed: 1:12:42.\n",
            "  Batch 3,040  of  4,516.    Elapsed: 1:13:40.\n",
            "  Batch 3,080  of  4,516.    Elapsed: 1:14:38.\n",
            "  Batch 3,120  of  4,516.    Elapsed: 1:15:36.\n",
            "  Batch 3,160  of  4,516.    Elapsed: 1:16:34.\n",
            "  Batch 3,200  of  4,516.    Elapsed: 1:17:32.\n",
            "  Batch 3,240  of  4,516.    Elapsed: 1:18:30.\n",
            "  Batch 3,280  of  4,516.    Elapsed: 1:19:28.\n",
            "  Batch 3,320  of  4,516.    Elapsed: 1:20:27.\n",
            "  Batch 3,360  of  4,516.    Elapsed: 1:21:25.\n",
            "  Batch 3,400  of  4,516.    Elapsed: 1:22:23.\n",
            "  Batch 3,440  of  4,516.    Elapsed: 1:23:21.\n",
            "  Batch 3,480  of  4,516.    Elapsed: 1:24:20.\n",
            "  Batch 3,520  of  4,516.    Elapsed: 1:25:18.\n",
            "  Batch 3,560  of  4,516.    Elapsed: 1:26:16.\n",
            "  Batch 3,600  of  4,516.    Elapsed: 1:27:14.\n",
            "  Batch 3,640  of  4,516.    Elapsed: 1:28:12.\n",
            "  Batch 3,680  of  4,516.    Elapsed: 1:29:11.\n",
            "  Batch 3,720  of  4,516.    Elapsed: 1:30:09.\n",
            "  Batch 3,760  of  4,516.    Elapsed: 1:31:07.\n",
            "  Batch 3,800  of  4,516.    Elapsed: 1:32:05.\n",
            "  Batch 3,840  of  4,516.    Elapsed: 1:33:03.\n",
            "  Batch 3,880  of  4,516.    Elapsed: 1:34:01.\n",
            "  Batch 3,920  of  4,516.    Elapsed: 1:34:59.\n",
            "  Batch 3,960  of  4,516.    Elapsed: 1:35:57.\n",
            "  Batch 4,000  of  4,516.    Elapsed: 1:36:55.\n",
            "  Batch 4,040  of  4,516.    Elapsed: 1:37:53.\n",
            "  Batch 4,080  of  4,516.    Elapsed: 1:38:51.\n",
            "  Batch 4,120  of  4,516.    Elapsed: 1:39:50.\n",
            "  Batch 4,160  of  4,516.    Elapsed: 1:40:48.\n",
            "  Batch 4,200  of  4,516.    Elapsed: 1:41:45.\n",
            "  Batch 4,240  of  4,516.    Elapsed: 1:42:44.\n",
            "  Batch 4,280  of  4,516.    Elapsed: 1:43:42.\n",
            "  Batch 4,320  of  4,516.    Elapsed: 1:44:40.\n",
            "  Batch 4,360  of  4,516.    Elapsed: 1:45:38.\n",
            "  Batch 4,400  of  4,516.    Elapsed: 1:46:36.\n",
            "  Batch 4,440  of  4,516.    Elapsed: 1:47:35.\n",
            "  Batch 4,480  of  4,516.    Elapsed: 1:48:33.\n",
            "\n",
            "  Average training loss: 1.92\n",
            "  Training epcoh took: 1:49:25\n",
            "\n",
            "Running Validation...\n",
            "  Accuracy: 0.51\n",
            "  Validation took: 0:08:33\n",
            "\n",
            "======== Epoch 2 / 4 ========\n",
            "Training...\n",
            "  Batch    40  of  4,516.    Elapsed: 0:00:58.\n",
            "  Batch    80  of  4,516.    Elapsed: 0:01:56.\n",
            "  Batch   120  of  4,516.    Elapsed: 0:02:55.\n",
            "  Batch   160  of  4,516.    Elapsed: 0:03:53.\n",
            "  Batch   200  of  4,516.    Elapsed: 0:04:51.\n",
            "  Batch   240  of  4,516.    Elapsed: 0:05:50.\n",
            "  Batch   280  of  4,516.    Elapsed: 0:06:48.\n",
            "  Batch   320  of  4,516.    Elapsed: 0:07:46.\n",
            "  Batch   360  of  4,516.    Elapsed: 0:08:44.\n",
            "  Batch   400  of  4,516.    Elapsed: 0:09:42.\n",
            "  Batch   440  of  4,516.    Elapsed: 0:10:40.\n",
            "  Batch   480  of  4,516.    Elapsed: 0:11:39.\n",
            "  Batch   520  of  4,516.    Elapsed: 0:12:37.\n",
            "  Batch   560  of  4,516.    Elapsed: 0:13:35.\n",
            "  Batch   600  of  4,516.    Elapsed: 0:14:33.\n",
            "  Batch   640  of  4,516.    Elapsed: 0:15:32.\n",
            "  Batch   680  of  4,516.    Elapsed: 0:16:30.\n",
            "  Batch   720  of  4,516.    Elapsed: 0:17:28.\n",
            "  Batch   760  of  4,516.    Elapsed: 0:18:26.\n",
            "  Batch   800  of  4,516.    Elapsed: 0:19:25.\n",
            "  Batch   840  of  4,516.    Elapsed: 0:20:23.\n",
            "  Batch   880  of  4,516.    Elapsed: 0:21:21.\n",
            "  Batch   920  of  4,516.    Elapsed: 0:22:20.\n",
            "  Batch   960  of  4,516.    Elapsed: 0:23:18.\n",
            "  Batch 1,000  of  4,516.    Elapsed: 0:24:16.\n",
            "  Batch 1,040  of  4,516.    Elapsed: 0:25:14.\n",
            "  Batch 1,080  of  4,516.    Elapsed: 0:26:12.\n",
            "  Batch 1,120  of  4,516.    Elapsed: 0:27:10.\n",
            "  Batch 1,160  of  4,516.    Elapsed: 0:28:09.\n",
            "  Batch 1,200  of  4,516.    Elapsed: 0:29:07.\n",
            "  Batch 1,240  of  4,516.    Elapsed: 0:30:05.\n",
            "  Batch 1,280  of  4,516.    Elapsed: 0:31:03.\n",
            "  Batch 1,320  of  4,516.    Elapsed: 0:32:01.\n",
            "  Batch 1,360  of  4,516.    Elapsed: 0:32:59.\n",
            "  Batch 1,400  of  4,516.    Elapsed: 0:33:58.\n",
            "  Batch 1,440  of  4,516.    Elapsed: 0:34:56.\n",
            "  Batch 1,480  of  4,516.    Elapsed: 0:35:54.\n",
            "  Batch 1,520  of  4,516.    Elapsed: 0:36:53.\n",
            "  Batch 1,560  of  4,516.    Elapsed: 0:37:51.\n",
            "  Batch 1,600  of  4,516.    Elapsed: 0:38:49.\n",
            "  Batch 1,640  of  4,516.    Elapsed: 0:39:48.\n",
            "  Batch 1,680  of  4,516.    Elapsed: 0:40:46.\n",
            "  Batch 1,720  of  4,516.    Elapsed: 0:41:44.\n",
            "  Batch 1,760  of  4,516.    Elapsed: 0:42:43.\n",
            "  Batch 1,800  of  4,516.    Elapsed: 0:43:41.\n",
            "  Batch 1,840  of  4,516.    Elapsed: 0:44:39.\n",
            "  Batch 1,880  of  4,516.    Elapsed: 0:45:37.\n",
            "  Batch 1,920  of  4,516.    Elapsed: 0:46:36.\n",
            "  Batch 1,960  of  4,516.    Elapsed: 0:47:34.\n",
            "  Batch 2,000  of  4,516.    Elapsed: 0:48:32.\n",
            "  Batch 2,040  of  4,516.    Elapsed: 0:49:31.\n",
            "  Batch 2,080  of  4,516.    Elapsed: 0:50:29.\n",
            "  Batch 2,120  of  4,516.    Elapsed: 0:51:27.\n",
            "  Batch 2,160  of  4,516.    Elapsed: 0:52:26.\n",
            "  Batch 2,200  of  4,516.    Elapsed: 0:53:24.\n",
            "  Batch 2,240  of  4,516.    Elapsed: 0:54:22.\n",
            "  Batch 2,280  of  4,516.    Elapsed: 0:55:20.\n",
            "  Batch 2,320  of  4,516.    Elapsed: 0:56:18.\n",
            "  Batch 2,360  of  4,516.    Elapsed: 0:57:17.\n",
            "  Batch 2,400  of  4,516.    Elapsed: 0:58:15.\n",
            "  Batch 2,440  of  4,516.    Elapsed: 0:59:13.\n",
            "  Batch 2,480  of  4,516.    Elapsed: 1:00:12.\n",
            "  Batch 2,520  of  4,516.    Elapsed: 1:01:10.\n",
            "  Batch 2,560  of  4,516.    Elapsed: 1:02:09.\n",
            "  Batch 2,600  of  4,516.    Elapsed: 1:03:07.\n",
            "  Batch 2,640  of  4,516.    Elapsed: 1:04:06.\n",
            "  Batch 2,680  of  4,516.    Elapsed: 1:05:04.\n",
            "  Batch 2,720  of  4,516.    Elapsed: 1:06:02.\n",
            "  Batch 2,760  of  4,516.    Elapsed: 1:07:00.\n",
            "  Batch 2,800  of  4,516.    Elapsed: 1:07:58.\n",
            "  Batch 2,840  of  4,516.    Elapsed: 1:08:57.\n",
            "  Batch 2,880  of  4,516.    Elapsed: 1:09:55.\n",
            "  Batch 2,920  of  4,516.    Elapsed: 1:10:53.\n",
            "  Batch 2,960  of  4,516.    Elapsed: 1:11:51.\n",
            "  Batch 3,000  of  4,516.    Elapsed: 1:12:49.\n",
            "  Batch 3,040  of  4,516.    Elapsed: 1:13:48.\n",
            "  Batch 3,080  of  4,516.    Elapsed: 1:14:46.\n",
            "  Batch 3,120  of  4,516.    Elapsed: 1:15:44.\n",
            "  Batch 3,160  of  4,516.    Elapsed: 1:16:42.\n",
            "  Batch 3,200  of  4,516.    Elapsed: 1:17:40.\n",
            "  Batch 3,240  of  4,516.    Elapsed: 1:18:38.\n",
            "  Batch 3,280  of  4,516.    Elapsed: 1:19:36.\n",
            "  Batch 3,320  of  4,516.    Elapsed: 1:20:34.\n",
            "  Batch 3,360  of  4,516.    Elapsed: 1:21:32.\n",
            "  Batch 3,400  of  4,516.    Elapsed: 1:22:30.\n",
            "  Batch 3,440  of  4,516.    Elapsed: 1:23:29.\n",
            "  Batch 3,480  of  4,516.    Elapsed: 1:24:27.\n",
            "  Batch 3,520  of  4,516.    Elapsed: 1:25:25.\n",
            "  Batch 3,560  of  4,516.    Elapsed: 1:26:23.\n",
            "  Batch 3,600  of  4,516.    Elapsed: 1:27:21.\n",
            "  Batch 3,640  of  4,516.    Elapsed: 1:28:19.\n",
            "  Batch 3,680  of  4,516.    Elapsed: 1:29:17.\n",
            "  Batch 3,720  of  4,516.    Elapsed: 1:30:15.\n",
            "  Batch 3,760  of  4,516.    Elapsed: 1:31:13.\n",
            "  Batch 3,800  of  4,516.    Elapsed: 1:32:11.\n",
            "  Batch 3,840  of  4,516.    Elapsed: 1:33:10.\n",
            "  Batch 3,880  of  4,516.    Elapsed: 1:34:08.\n",
            "  Batch 3,920  of  4,516.    Elapsed: 1:35:06.\n",
            "  Batch 3,960  of  4,516.    Elapsed: 1:36:04.\n",
            "  Batch 4,000  of  4,516.    Elapsed: 1:37:02.\n",
            "  Batch 4,040  of  4,516.    Elapsed: 1:38:00.\n",
            "  Batch 4,080  of  4,516.    Elapsed: 1:38:58.\n",
            "  Batch 4,120  of  4,516.    Elapsed: 1:39:56.\n",
            "  Batch 4,160  of  4,516.    Elapsed: 1:40:54.\n",
            "  Batch 4,200  of  4,516.    Elapsed: 1:41:53.\n",
            "  Batch 4,240  of  4,516.    Elapsed: 1:42:51.\n",
            "  Batch 4,280  of  4,516.    Elapsed: 1:43:49.\n",
            "  Batch 4,320  of  4,516.    Elapsed: 1:44:47.\n",
            "  Batch 4,360  of  4,516.    Elapsed: 1:45:45.\n",
            "  Batch 4,400  of  4,516.    Elapsed: 1:46:43.\n",
            "  Batch 4,440  of  4,516.    Elapsed: 1:47:41.\n",
            "  Batch 4,480  of  4,516.    Elapsed: 1:48:40.\n",
            "\n",
            "  Average training loss: 1.56\n",
            "  Training epcoh took: 1:49:32\n",
            "\n",
            "Running Validation...\n",
            "  Accuracy: 0.53\n",
            "  Validation took: 0:08:33\n",
            "\n",
            "======== Epoch 3 / 4 ========\n",
            "Training...\n",
            "  Batch    40  of  4,516.    Elapsed: 0:00:58.\n",
            "  Batch    80  of  4,516.    Elapsed: 0:01:56.\n",
            "  Batch   120  of  4,516.    Elapsed: 0:02:54.\n",
            "  Batch   160  of  4,516.    Elapsed: 0:03:52.\n",
            "  Batch   200  of  4,516.    Elapsed: 0:04:51.\n",
            "  Batch   240  of  4,516.    Elapsed: 0:05:49.\n",
            "  Batch   280  of  4,516.    Elapsed: 0:06:47.\n",
            "  Batch   320  of  4,516.    Elapsed: 0:07:45.\n",
            "  Batch   360  of  4,516.    Elapsed: 0:08:43.\n",
            "  Batch   400  of  4,516.    Elapsed: 0:09:41.\n",
            "  Batch   440  of  4,516.    Elapsed: 0:10:39.\n",
            "  Batch   480  of  4,516.    Elapsed: 0:11:37.\n",
            "  Batch   520  of  4,516.    Elapsed: 0:12:35.\n",
            "  Batch   560  of  4,516.    Elapsed: 0:13:33.\n",
            "  Batch   600  of  4,516.    Elapsed: 0:14:31.\n",
            "  Batch   640  of  4,516.    Elapsed: 0:15:29.\n",
            "  Batch   680  of  4,516.    Elapsed: 0:16:27.\n",
            "  Batch   720  of  4,516.    Elapsed: 0:17:25.\n",
            "  Batch   760  of  4,516.    Elapsed: 0:18:23.\n",
            "  Batch   800  of  4,516.    Elapsed: 0:19:21.\n",
            "  Batch   840  of  4,516.    Elapsed: 0:20:19.\n",
            "  Batch   880  of  4,516.    Elapsed: 0:21:17.\n",
            "  Batch   920  of  4,516.    Elapsed: 0:22:15.\n",
            "  Batch   960  of  4,516.    Elapsed: 0:23:13.\n",
            "  Batch 1,000  of  4,516.    Elapsed: 0:24:11.\n",
            "  Batch 1,040  of  4,516.    Elapsed: 0:25:09.\n",
            "  Batch 1,080  of  4,516.    Elapsed: 0:26:08.\n",
            "  Batch 1,120  of  4,516.    Elapsed: 0:27:06.\n",
            "  Batch 1,160  of  4,516.    Elapsed: 0:28:04.\n",
            "  Batch 1,200  of  4,516.    Elapsed: 0:29:02.\n",
            "  Batch 1,240  of  4,516.    Elapsed: 0:30:00.\n",
            "  Batch 1,280  of  4,516.    Elapsed: 0:30:58.\n",
            "  Batch 1,320  of  4,516.    Elapsed: 0:31:56.\n",
            "  Batch 1,360  of  4,516.    Elapsed: 0:32:54.\n",
            "  Batch 1,400  of  4,516.    Elapsed: 0:33:52.\n",
            "  Batch 1,440  of  4,516.    Elapsed: 0:34:50.\n",
            "  Batch 1,480  of  4,516.    Elapsed: 0:35:47.\n",
            "  Batch 1,520  of  4,516.    Elapsed: 0:36:46.\n",
            "  Batch 1,560  of  4,516.    Elapsed: 0:37:44.\n",
            "  Batch 1,600  of  4,516.    Elapsed: 0:38:41.\n",
            "  Batch 1,640  of  4,516.    Elapsed: 0:39:39.\n",
            "  Batch 1,680  of  4,516.    Elapsed: 0:40:37.\n",
            "  Batch 1,720  of  4,516.    Elapsed: 0:41:36.\n",
            "  Batch 1,760  of  4,516.    Elapsed: 0:42:34.\n",
            "  Batch 1,800  of  4,516.    Elapsed: 0:43:32.\n",
            "  Batch 1,840  of  4,516.    Elapsed: 0:44:30.\n",
            "  Batch 1,880  of  4,516.    Elapsed: 0:45:28.\n",
            "  Batch 1,920  of  4,516.    Elapsed: 0:46:26.\n",
            "  Batch 1,960  of  4,516.    Elapsed: 0:47:24.\n",
            "  Batch 2,000  of  4,516.    Elapsed: 0:48:22.\n",
            "  Batch 2,040  of  4,516.    Elapsed: 0:49:20.\n",
            "  Batch 2,080  of  4,516.    Elapsed: 0:50:18.\n",
            "  Batch 2,120  of  4,516.    Elapsed: 0:51:16.\n",
            "  Batch 2,160  of  4,516.    Elapsed: 0:52:15.\n",
            "  Batch 2,200  of  4,516.    Elapsed: 0:53:13.\n",
            "  Batch 2,240  of  4,516.    Elapsed: 0:54:11.\n",
            "  Batch 2,280  of  4,516.    Elapsed: 0:55:09.\n",
            "  Batch 2,320  of  4,516.    Elapsed: 0:56:07.\n",
            "  Batch 2,360  of  4,516.    Elapsed: 0:57:05.\n",
            "  Batch 2,400  of  4,516.    Elapsed: 0:58:03.\n",
            "  Batch 2,440  of  4,516.    Elapsed: 0:59:01.\n",
            "  Batch 2,480  of  4,516.    Elapsed: 0:59:59.\n",
            "  Batch 2,520  of  4,516.    Elapsed: 1:00:58.\n",
            "  Batch 2,560  of  4,516.    Elapsed: 1:01:56.\n",
            "  Batch 2,600  of  4,516.    Elapsed: 1:02:54.\n",
            "  Batch 2,640  of  4,516.    Elapsed: 1:03:52.\n",
            "  Batch 2,680  of  4,516.    Elapsed: 1:04:50.\n",
            "  Batch 2,720  of  4,516.    Elapsed: 1:05:48.\n",
            "  Batch 2,760  of  4,516.    Elapsed: 1:06:47.\n",
            "  Batch 2,800  of  4,516.    Elapsed: 1:07:45.\n",
            "  Batch 2,840  of  4,516.    Elapsed: 1:08:43.\n",
            "  Batch 2,880  of  4,516.    Elapsed: 1:09:41.\n",
            "  Batch 2,920  of  4,516.    Elapsed: 1:10:39.\n",
            "  Batch 2,960  of  4,516.    Elapsed: 1:11:37.\n",
            "  Batch 3,000  of  4,516.    Elapsed: 1:12:35.\n",
            "  Batch 3,040  of  4,516.    Elapsed: 1:13:33.\n",
            "  Batch 3,080  of  4,516.    Elapsed: 1:14:31.\n",
            "  Batch 3,120  of  4,516.    Elapsed: 1:15:29.\n",
            "  Batch 3,160  of  4,516.    Elapsed: 1:16:27.\n",
            "  Batch 3,200  of  4,516.    Elapsed: 1:17:25.\n",
            "  Batch 3,240  of  4,516.    Elapsed: 1:18:23.\n",
            "  Batch 3,280  of  4,516.    Elapsed: 1:19:21.\n",
            "  Batch 3,320  of  4,516.    Elapsed: 1:20:19.\n",
            "  Batch 3,360  of  4,516.    Elapsed: 1:21:17.\n",
            "  Batch 3,400  of  4,516.    Elapsed: 1:22:15.\n",
            "  Batch 3,440  of  4,516.    Elapsed: 1:23:13.\n",
            "  Batch 3,480  of  4,516.    Elapsed: 1:24:12.\n",
            "  Batch 3,520  of  4,516.    Elapsed: 1:25:09.\n",
            "  Batch 3,560  of  4,516.    Elapsed: 1:26:08.\n",
            "  Batch 3,600  of  4,516.    Elapsed: 1:27:06.\n",
            "  Batch 3,640  of  4,516.    Elapsed: 1:28:04.\n",
            "  Batch 3,680  of  4,516.    Elapsed: 1:29:02.\n",
            "  Batch 3,720  of  4,516.    Elapsed: 1:30:00.\n",
            "  Batch 3,760  of  4,516.    Elapsed: 1:30:58.\n",
            "  Batch 3,800  of  4,516.    Elapsed: 1:31:56.\n",
            "  Batch 3,840  of  4,516.    Elapsed: 1:32:54.\n",
            "  Batch 3,880  of  4,516.    Elapsed: 1:33:52.\n",
            "  Batch 3,920  of  4,516.    Elapsed: 1:34:50.\n",
            "  Batch 3,960  of  4,516.    Elapsed: 1:35:48.\n",
            "  Batch 4,000  of  4,516.    Elapsed: 1:36:46.\n",
            "  Batch 4,040  of  4,516.    Elapsed: 1:37:44.\n",
            "  Batch 4,080  of  4,516.    Elapsed: 1:38:42.\n",
            "  Batch 4,120  of  4,516.    Elapsed: 1:39:40.\n",
            "  Batch 4,160  of  4,516.    Elapsed: 1:40:38.\n",
            "  Batch 4,200  of  4,516.    Elapsed: 1:41:36.\n",
            "  Batch 4,240  of  4,516.    Elapsed: 1:42:34.\n",
            "  Batch 4,280  of  4,516.    Elapsed: 1:43:32.\n",
            "  Batch 4,320  of  4,516.    Elapsed: 1:44:30.\n",
            "  Batch 4,360  of  4,516.    Elapsed: 1:45:28.\n",
            "  Batch 4,400  of  4,516.    Elapsed: 1:46:26.\n",
            "  Batch 4,440  of  4,516.    Elapsed: 1:47:25.\n",
            "  Batch 4,480  of  4,516.    Elapsed: 1:48:23.\n",
            "\n",
            "  Average training loss: 1.37\n",
            "  Training epcoh took: 1:49:15\n",
            "\n",
            "Running Validation...\n",
            "  Accuracy: 0.53\n",
            "  Validation took: 0:08:33\n",
            "\n",
            "======== Epoch 4 / 4 ========\n",
            "Training...\n",
            "  Batch    40  of  4,516.    Elapsed: 0:00:58.\n",
            "  Batch    80  of  4,516.    Elapsed: 0:01:56.\n",
            "  Batch   120  of  4,516.    Elapsed: 0:02:54.\n",
            "  Batch   160  of  4,516.    Elapsed: 0:03:52.\n",
            "  Batch   200  of  4,516.    Elapsed: 0:04:50.\n",
            "  Batch   240  of  4,516.    Elapsed: 0:05:48.\n",
            "  Batch   280  of  4,516.    Elapsed: 0:06:46.\n",
            "  Batch   320  of  4,516.    Elapsed: 0:07:44.\n",
            "  Batch   360  of  4,516.    Elapsed: 0:08:43.\n",
            "  Batch   400  of  4,516.    Elapsed: 0:09:41.\n",
            "  Batch   440  of  4,516.    Elapsed: 0:10:39.\n",
            "  Batch   480  of  4,516.    Elapsed: 0:11:38.\n",
            "  Batch   520  of  4,516.    Elapsed: 0:12:36.\n",
            "  Batch   560  of  4,516.    Elapsed: 0:13:34.\n",
            "  Batch   600  of  4,516.    Elapsed: 0:14:32.\n",
            "  Batch   640  of  4,516.    Elapsed: 0:15:30.\n",
            "  Batch   680  of  4,516.    Elapsed: 0:16:28.\n",
            "  Batch   720  of  4,516.    Elapsed: 0:17:26.\n",
            "  Batch   760  of  4,516.    Elapsed: 0:18:24.\n",
            "  Batch   800  of  4,516.    Elapsed: 0:19:23.\n",
            "  Batch   840  of  4,516.    Elapsed: 0:20:21.\n",
            "  Batch   880  of  4,516.    Elapsed: 0:21:19.\n",
            "  Batch   920  of  4,516.    Elapsed: 0:22:17.\n",
            "  Batch   960  of  4,516.    Elapsed: 0:23:15.\n",
            "  Batch 1,000  of  4,516.    Elapsed: 0:24:13.\n",
            "  Batch 1,040  of  4,516.    Elapsed: 0:25:11.\n",
            "  Batch 1,080  of  4,516.    Elapsed: 0:26:09.\n",
            "  Batch 1,120  of  4,516.    Elapsed: 0:27:07.\n",
            "  Batch 1,160  of  4,516.    Elapsed: 0:28:06.\n",
            "  Batch 1,200  of  4,516.    Elapsed: 0:29:04.\n",
            "  Batch 1,240  of  4,516.    Elapsed: 0:30:02.\n",
            "  Batch 1,280  of  4,516.    Elapsed: 0:31:00.\n",
            "  Batch 1,320  of  4,516.    Elapsed: 0:31:58.\n",
            "  Batch 1,360  of  4,516.    Elapsed: 0:32:57.\n",
            "  Batch 1,400  of  4,516.    Elapsed: 0:33:55.\n",
            "  Batch 1,440  of  4,516.    Elapsed: 0:34:53.\n",
            "  Batch 1,480  of  4,516.    Elapsed: 0:35:51.\n",
            "  Batch 1,520  of  4,516.    Elapsed: 0:36:49.\n",
            "  Batch 1,560  of  4,516.    Elapsed: 0:37:48.\n",
            "  Batch 1,600  of  4,516.    Elapsed: 0:38:46.\n",
            "  Batch 1,640  of  4,516.    Elapsed: 0:39:44.\n",
            "  Batch 1,680  of  4,516.    Elapsed: 0:40:42.\n",
            "  Batch 1,720  of  4,516.    Elapsed: 0:41:40.\n",
            "  Batch 1,760  of  4,516.    Elapsed: 0:42:38.\n",
            "  Batch 1,800  of  4,516.    Elapsed: 0:43:36.\n",
            "  Batch 1,840  of  4,516.    Elapsed: 0:44:35.\n",
            "  Batch 1,880  of  4,516.    Elapsed: 0:45:33.\n",
            "  Batch 1,920  of  4,516.    Elapsed: 0:46:31.\n",
            "  Batch 1,960  of  4,516.    Elapsed: 0:47:30.\n",
            "  Batch 2,000  of  4,516.    Elapsed: 0:48:28.\n",
            "  Batch 2,040  of  4,516.    Elapsed: 0:49:26.\n",
            "  Batch 2,080  of  4,516.    Elapsed: 0:50:24.\n",
            "  Batch 2,120  of  4,516.    Elapsed: 0:51:22.\n",
            "  Batch 2,160  of  4,516.    Elapsed: 0:52:20.\n",
            "  Batch 2,200  of  4,516.    Elapsed: 0:53:19.\n",
            "  Batch 2,240  of  4,516.    Elapsed: 0:54:17.\n",
            "  Batch 2,280  of  4,516.    Elapsed: 0:55:15.\n",
            "  Batch 2,320  of  4,516.    Elapsed: 0:56:13.\n",
            "  Batch 2,360  of  4,516.    Elapsed: 0:57:11.\n",
            "  Batch 2,400  of  4,516.    Elapsed: 0:58:10.\n",
            "  Batch 2,440  of  4,516.    Elapsed: 0:59:08.\n",
            "  Batch 2,480  of  4,516.    Elapsed: 1:00:07.\n",
            "  Batch 2,520  of  4,516.    Elapsed: 1:01:05.\n",
            "  Batch 2,560  of  4,516.    Elapsed: 1:02:03.\n",
            "  Batch 2,600  of  4,516.    Elapsed: 1:03:01.\n",
            "  Batch 2,640  of  4,516.    Elapsed: 1:03:59.\n",
            "  Batch 2,680  of  4,516.    Elapsed: 1:04:57.\n",
            "  Batch 2,720  of  4,516.    Elapsed: 1:05:56.\n",
            "  Batch 2,760  of  4,516.    Elapsed: 1:06:54.\n",
            "  Batch 2,800  of  4,516.    Elapsed: 1:07:52.\n",
            "  Batch 2,840  of  4,516.    Elapsed: 1:08:50.\n",
            "  Batch 2,880  of  4,516.    Elapsed: 1:09:48.\n",
            "  Batch 2,920  of  4,516.    Elapsed: 1:10:47.\n",
            "  Batch 2,960  of  4,516.    Elapsed: 1:11:45.\n",
            "  Batch 3,000  of  4,516.    Elapsed: 1:12:43.\n",
            "  Batch 3,040  of  4,516.    Elapsed: 1:13:41.\n",
            "  Batch 3,080  of  4,516.    Elapsed: 1:14:39.\n",
            "  Batch 3,120  of  4,516.    Elapsed: 1:15:37.\n",
            "  Batch 3,160  of  4,516.    Elapsed: 1:16:35.\n",
            "  Batch 3,200  of  4,516.    Elapsed: 1:17:33.\n",
            "  Batch 3,240  of  4,516.    Elapsed: 1:18:31.\n",
            "  Batch 3,280  of  4,516.    Elapsed: 1:19:29.\n",
            "  Batch 3,320  of  4,516.    Elapsed: 1:20:27.\n",
            "  Batch 3,360  of  4,516.    Elapsed: 1:21:25.\n",
            "  Batch 3,400  of  4,516.    Elapsed: 1:22:23.\n",
            "  Batch 3,440  of  4,516.    Elapsed: 1:23:21.\n",
            "  Batch 3,480  of  4,516.    Elapsed: 1:24:19.\n",
            "  Batch 3,520  of  4,516.    Elapsed: 1:25:17.\n",
            "  Batch 3,560  of  4,516.    Elapsed: 1:26:15.\n",
            "  Batch 3,600  of  4,516.    Elapsed: 1:27:14.\n",
            "  Batch 3,640  of  4,516.    Elapsed: 1:28:12.\n",
            "  Batch 3,680  of  4,516.    Elapsed: 1:29:10.\n",
            "  Batch 3,720  of  4,516.    Elapsed: 1:30:08.\n",
            "  Batch 3,760  of  4,516.    Elapsed: 1:31:06.\n",
            "  Batch 3,800  of  4,516.    Elapsed: 1:32:04.\n",
            "  Batch 3,840  of  4,516.    Elapsed: 1:33:03.\n",
            "  Batch 3,880  of  4,516.    Elapsed: 1:34:01.\n",
            "  Batch 3,920  of  4,516.    Elapsed: 1:34:59.\n",
            "  Batch 3,960  of  4,516.    Elapsed: 1:35:57.\n",
            "  Batch 4,000  of  4,516.    Elapsed: 1:36:55.\n",
            "  Batch 4,040  of  4,516.    Elapsed: 1:37:53.\n",
            "  Batch 4,080  of  4,516.    Elapsed: 1:38:52.\n",
            "  Batch 4,120  of  4,516.    Elapsed: 1:39:50.\n",
            "  Batch 4,160  of  4,516.    Elapsed: 1:40:48.\n",
            "  Batch 4,200  of  4,516.    Elapsed: 1:41:46.\n",
            "  Batch 4,240  of  4,516.    Elapsed: 1:42:44.\n",
            "  Batch 4,280  of  4,516.    Elapsed: 1:43:42.\n",
            "  Batch 4,320  of  4,516.    Elapsed: 1:44:40.\n",
            "  Batch 4,360  of  4,516.    Elapsed: 1:45:38.\n",
            "  Batch 4,400  of  4,516.    Elapsed: 1:46:36.\n",
            "  Batch 4,440  of  4,516.    Elapsed: 1:47:34.\n",
            "  Batch 4,480  of  4,516.    Elapsed: 1:48:32.\n",
            "\n",
            "  Average training loss: 1.23\n",
            "  Training epcoh took: 1:49:24\n",
            "\n",
            "Running Validation...\n",
            "  Accuracy: 0.53\n",
            "  Validation took: 0:08:33\n",
            "\n",
            "Training complete!\n"
          ],
          "name": "stdout"
        }
      ]
    },
    {
      "cell_type": "markdown",
      "metadata": {
        "id": "tiNnQEzrmC30"
      },
      "source": [
        "## graficos"
      ]
    },
    {
      "cell_type": "code",
      "metadata": {
        "colab": {
          "base_uri": "https://localhost:8080/",
          "height": 427
        },
        "id": "XarDZeXWmC30",
        "outputId": "0c5f310d-87ba-46c1-e542-fa961ad4860b"
      },
      "source": [
        "### GRAFICO PRIMER RUN CON 10k entradas \n",
        "\n",
        "import matplotlib.pyplot as plt\n",
        "#% matplotlib inline\n",
        "\n",
        "import seaborn as sns\n",
        "\n",
        "sns.set(style='darkgrid')\n",
        "sns.set(font_scale=1.5)\n",
        "plt.rcParams[\"figure.figsize\"] = (12,6)\n",
        "\n",
        "# Plot the learning curve.\n",
        "plt.plot(loss_values, 'b-o')\n",
        "\n",
        "# Label the plot.\n",
        "plt.title(\"Training loss\")\n",
        "plt.xlabel(\"Epoch\")\n",
        "plt.ylabel(\"Loss\")\n",
        "\n",
        "plt.show()"
      ],
      "execution_count": null,
      "outputs": [
        {
          "output_type": "display_data",
          "data": {
            "image/png": "[encoded data removed]",
            "text/plain": [
              "<Figure size 864x432 with 1 Axes>"
            ]
          },
          "metadata": {
            "tags": []
          }
        }
      ]
    },
    {
      "cell_type": "code",
      "metadata": {
        "colab": {
          "base_uri": "https://localhost:8080/",
          "height": 427
        },
        "id": "o2qgWAqtmC30",
        "outputId": "af38d4ba-6f36-42f8-97f8-359e92379d22"
      },
      "source": [
        "### con 200k entradas\n",
        "\n",
        "\n",
        "import matplotlib.pyplot as plt\n",
        "#% matplotlib inline\n",
        "\n",
        "import seaborn as sns\n",
        "\n",
        "sns.set(style='darkgrid')\n",
        "sns.set(font_scale=1.5)\n",
        "plt.rcParams[\"figure.figsize\"] = (12,6)\n",
        "\n",
        "# Plot the learning curve.\n",
        "plt.plot(loss_values, 'b-o')\n",
        "\n",
        "# Label the plot.\n",
        "plt.title(\"Training loss\")\n",
        "plt.xlabel(\"Epoch\")\n",
        "plt.ylabel(\"Loss\")\n",
        "\n",
        "plt.show()"
      ],
      "execution_count": null,
      "outputs": [
        {
          "output_type": "display_data",
          "data": {
            "image/png": "[encoded data removed]",
            "text/plain": [
              "<Figure size 864x432 with 1 Axes>"
            ]
          },
          "metadata": {
            "tags": []
          }
        }
      ]
    }
  ]
}